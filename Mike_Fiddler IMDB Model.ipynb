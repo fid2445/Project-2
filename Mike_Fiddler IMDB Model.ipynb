{
  "cells": [
    {
      "cell_type": "markdown",
      "metadata": {
        "id": "view-in-github",
        "colab_type": "text"
      },
      "source": [
        "<a href=\"https://colab.research.google.com/github/fid2445/Project-2/blob/main/Mike_Fiddler%20IMDB%20Model.ipynb\" target=\"_parent\"><img src=\"https://colab.research.google.com/assets/colab-badge.svg\" alt=\"Open In Colab\"/></a>"
      ]
    },
    {
      "cell_type": "markdown",
      "metadata": {
        "id": "WtF42FKKMfle"
      },
      "source": [
        "##Mike Fiddler "
      ]
    },
    {
      "cell_type": "code",
      "execution_count": 1026,
      "metadata": {
        "id": "y1Y0eG6HS1KC"
      },
      "outputs": [],
      "source": [
        "import pandas as pd\n",
        "import numpy as np\n",
        "import seaborn as sns\n",
        "import matplotlib.pyplot as plt\n",
        "from sklearn.model_selection import train_test_split\n",
        "from sklearn.compose import make_column_selector,make_column_transformer\n",
        "from sklearn.preprocessing import OneHotEncoder, StandardScaler\n",
        "from sklearn.impute import SimpleImputer\n",
        "from sklearn.pipeline import make_pipeline\n",
        "from sklearn.ensemble import BaggingRegressor\n",
        "from sklearn.ensemble import RandomForestRegressor\n",
        "from sklearn.decomposition import PCA\n",
        "from sklearn.cluster import KMeans\n",
        "from sklearn.metrics import silhouette_score\n",
        "from sklearn.metrics import mean_absolute_error, mean_squared_error, r2_score\n",
        "from sklearn import set_config\n",
        "set_config(display='diagram')"
      ]
    },
    {
      "cell_type": "code",
      "execution_count": 1027,
      "metadata": {
        "colab": {
          "base_uri": "https://localhost:8080/",
          "height": 337
        },
        "id": "BHK-rt0zS6mH",
        "outputId": "d8b37b30-860a-47f4-f926-f1d855398871"
      },
      "outputs": [
        {
          "output_type": "execute_result",
          "data": {
            "text/plain": [
              "         id                                title   type  \\\n",
              "0  ts300399  Five Came Back: The Reference Films   SHOW   \n",
              "1   tm84618                          Taxi Driver  MOVIE   \n",
              "2  tm127384      Monty Python and the Holy Grail  MOVIE   \n",
              "3   tm70993                        Life of Brian  MOVIE   \n",
              "4  tm190788                         The Exorcist  MOVIE   \n",
              "\n",
              "                                         description  release_year  \\\n",
              "0  This collection includes 12 World War II-era p...          1945   \n",
              "1  A mentally unstable Vietnam War veteran works ...          1976   \n",
              "2  King Arthur, accompanied by his squire, recrui...          1975   \n",
              "3  Brian Cohen is an average young Jewish man, bu...          1979   \n",
              "4  12-year-old Regan MacNeil begins to adapt an e...          1973   \n",
              "\n",
              "  age_certification  runtime                 genres production_countries  \\\n",
              "0             TV-MA       48      ['documentation']               ['US']   \n",
              "1                 R      113     ['crime', 'drama']               ['US']   \n",
              "2                PG       91  ['comedy', 'fantasy']               ['GB']   \n",
              "3                 R       94             ['comedy']               ['GB']   \n",
              "4                 R      133             ['horror']               ['US']   \n",
              "\n",
              "   seasons    imdb_id  imdb_score  imdb_votes  tmdb_popularity  tmdb_score  \n",
              "0      1.0        NaN         NaN         NaN            0.600         NaN  \n",
              "1      NaN  tt0075314         8.3    795222.0           27.612         8.2  \n",
              "2      NaN  tt0071853         8.2    530877.0           18.216         7.8  \n",
              "3      NaN  tt0079470         8.0    392419.0           17.505         7.8  \n",
              "4      NaN  tt0070047         8.1    391942.0           95.337         7.7  "
            ],
            "text/html": [
              "\n",
              "  <div id=\"df-47d69887-e332-4bcb-a086-bd064894f24e\">\n",
              "    <div class=\"colab-df-container\">\n",
              "      <div>\n",
              "<style scoped>\n",
              "    .dataframe tbody tr th:only-of-type {\n",
              "        vertical-align: middle;\n",
              "    }\n",
              "\n",
              "    .dataframe tbody tr th {\n",
              "        vertical-align: top;\n",
              "    }\n",
              "\n",
              "    .dataframe thead th {\n",
              "        text-align: right;\n",
              "    }\n",
              "</style>\n",
              "<table border=\"1\" class=\"dataframe\">\n",
              "  <thead>\n",
              "    <tr style=\"text-align: right;\">\n",
              "      <th></th>\n",
              "      <th>id</th>\n",
              "      <th>title</th>\n",
              "      <th>type</th>\n",
              "      <th>description</th>\n",
              "      <th>release_year</th>\n",
              "      <th>age_certification</th>\n",
              "      <th>runtime</th>\n",
              "      <th>genres</th>\n",
              "      <th>production_countries</th>\n",
              "      <th>seasons</th>\n",
              "      <th>imdb_id</th>\n",
              "      <th>imdb_score</th>\n",
              "      <th>imdb_votes</th>\n",
              "      <th>tmdb_popularity</th>\n",
              "      <th>tmdb_score</th>\n",
              "    </tr>\n",
              "  </thead>\n",
              "  <tbody>\n",
              "    <tr>\n",
              "      <th>0</th>\n",
              "      <td>ts300399</td>\n",
              "      <td>Five Came Back: The Reference Films</td>\n",
              "      <td>SHOW</td>\n",
              "      <td>This collection includes 12 World War II-era p...</td>\n",
              "      <td>1945</td>\n",
              "      <td>TV-MA</td>\n",
              "      <td>48</td>\n",
              "      <td>['documentation']</td>\n",
              "      <td>['US']</td>\n",
              "      <td>1.0</td>\n",
              "      <td>NaN</td>\n",
              "      <td>NaN</td>\n",
              "      <td>NaN</td>\n",
              "      <td>0.600</td>\n",
              "      <td>NaN</td>\n",
              "    </tr>\n",
              "    <tr>\n",
              "      <th>1</th>\n",
              "      <td>tm84618</td>\n",
              "      <td>Taxi Driver</td>\n",
              "      <td>MOVIE</td>\n",
              "      <td>A mentally unstable Vietnam War veteran works ...</td>\n",
              "      <td>1976</td>\n",
              "      <td>R</td>\n",
              "      <td>113</td>\n",
              "      <td>['crime', 'drama']</td>\n",
              "      <td>['US']</td>\n",
              "      <td>NaN</td>\n",
              "      <td>tt0075314</td>\n",
              "      <td>8.3</td>\n",
              "      <td>795222.0</td>\n",
              "      <td>27.612</td>\n",
              "      <td>8.2</td>\n",
              "    </tr>\n",
              "    <tr>\n",
              "      <th>2</th>\n",
              "      <td>tm127384</td>\n",
              "      <td>Monty Python and the Holy Grail</td>\n",
              "      <td>MOVIE</td>\n",
              "      <td>King Arthur, accompanied by his squire, recrui...</td>\n",
              "      <td>1975</td>\n",
              "      <td>PG</td>\n",
              "      <td>91</td>\n",
              "      <td>['comedy', 'fantasy']</td>\n",
              "      <td>['GB']</td>\n",
              "      <td>NaN</td>\n",
              "      <td>tt0071853</td>\n",
              "      <td>8.2</td>\n",
              "      <td>530877.0</td>\n",
              "      <td>18.216</td>\n",
              "      <td>7.8</td>\n",
              "    </tr>\n",
              "    <tr>\n",
              "      <th>3</th>\n",
              "      <td>tm70993</td>\n",
              "      <td>Life of Brian</td>\n",
              "      <td>MOVIE</td>\n",
              "      <td>Brian Cohen is an average young Jewish man, bu...</td>\n",
              "      <td>1979</td>\n",
              "      <td>R</td>\n",
              "      <td>94</td>\n",
              "      <td>['comedy']</td>\n",
              "      <td>['GB']</td>\n",
              "      <td>NaN</td>\n",
              "      <td>tt0079470</td>\n",
              "      <td>8.0</td>\n",
              "      <td>392419.0</td>\n",
              "      <td>17.505</td>\n",
              "      <td>7.8</td>\n",
              "    </tr>\n",
              "    <tr>\n",
              "      <th>4</th>\n",
              "      <td>tm190788</td>\n",
              "      <td>The Exorcist</td>\n",
              "      <td>MOVIE</td>\n",
              "      <td>12-year-old Regan MacNeil begins to adapt an e...</td>\n",
              "      <td>1973</td>\n",
              "      <td>R</td>\n",
              "      <td>133</td>\n",
              "      <td>['horror']</td>\n",
              "      <td>['US']</td>\n",
              "      <td>NaN</td>\n",
              "      <td>tt0070047</td>\n",
              "      <td>8.1</td>\n",
              "      <td>391942.0</td>\n",
              "      <td>95.337</td>\n",
              "      <td>7.7</td>\n",
              "    </tr>\n",
              "  </tbody>\n",
              "</table>\n",
              "</div>\n",
              "      <button class=\"colab-df-convert\" onclick=\"convertToInteractive('df-47d69887-e332-4bcb-a086-bd064894f24e')\"\n",
              "              title=\"Convert this dataframe to an interactive table.\"\n",
              "              style=\"display:none;\">\n",
              "        \n",
              "  <svg xmlns=\"http://www.w3.org/2000/svg\" height=\"24px\"viewBox=\"0 0 24 24\"\n",
              "       width=\"24px\">\n",
              "    <path d=\"M0 0h24v24H0V0z\" fill=\"none\"/>\n",
              "    <path d=\"M18.56 5.44l.94 2.06.94-2.06 2.06-.94-2.06-.94-.94-2.06-.94 2.06-2.06.94zm-11 1L8.5 8.5l.94-2.06 2.06-.94-2.06-.94L8.5 2.5l-.94 2.06-2.06.94zm10 10l.94 2.06.94-2.06 2.06-.94-2.06-.94-.94-2.06-.94 2.06-2.06.94z\"/><path d=\"M17.41 7.96l-1.37-1.37c-.4-.4-.92-.59-1.43-.59-.52 0-1.04.2-1.43.59L10.3 9.45l-7.72 7.72c-.78.78-.78 2.05 0 2.83L4 21.41c.39.39.9.59 1.41.59.51 0 1.02-.2 1.41-.59l7.78-7.78 2.81-2.81c.8-.78.8-2.07 0-2.86zM5.41 20L4 18.59l7.72-7.72 1.47 1.35L5.41 20z\"/>\n",
              "  </svg>\n",
              "      </button>\n",
              "      \n",
              "  <style>\n",
              "    .colab-df-container {\n",
              "      display:flex;\n",
              "      flex-wrap:wrap;\n",
              "      gap: 12px;\n",
              "    }\n",
              "\n",
              "    .colab-df-convert {\n",
              "      background-color: #E8F0FE;\n",
              "      border: none;\n",
              "      border-radius: 50%;\n",
              "      cursor: pointer;\n",
              "      display: none;\n",
              "      fill: #1967D2;\n",
              "      height: 32px;\n",
              "      padding: 0 0 0 0;\n",
              "      width: 32px;\n",
              "    }\n",
              "\n",
              "    .colab-df-convert:hover {\n",
              "      background-color: #E2EBFA;\n",
              "      box-shadow: 0px 1px 2px rgba(60, 64, 67, 0.3), 0px 1px 3px 1px rgba(60, 64, 67, 0.15);\n",
              "      fill: #174EA6;\n",
              "    }\n",
              "\n",
              "    [theme=dark] .colab-df-convert {\n",
              "      background-color: #3B4455;\n",
              "      fill: #D2E3FC;\n",
              "    }\n",
              "\n",
              "    [theme=dark] .colab-df-convert:hover {\n",
              "      background-color: #434B5C;\n",
              "      box-shadow: 0px 1px 3px 1px rgba(0, 0, 0, 0.15);\n",
              "      filter: drop-shadow(0px 1px 2px rgba(0, 0, 0, 0.3));\n",
              "      fill: #FFFFFF;\n",
              "    }\n",
              "  </style>\n",
              "\n",
              "      <script>\n",
              "        const buttonEl =\n",
              "          document.querySelector('#df-47d69887-e332-4bcb-a086-bd064894f24e button.colab-df-convert');\n",
              "        buttonEl.style.display =\n",
              "          google.colab.kernel.accessAllowed ? 'block' : 'none';\n",
              "\n",
              "        async function convertToInteractive(key) {\n",
              "          const element = document.querySelector('#df-47d69887-e332-4bcb-a086-bd064894f24e');\n",
              "          const dataTable =\n",
              "            await google.colab.kernel.invokeFunction('convertToInteractive',\n",
              "                                                     [key], {});\n",
              "          if (!dataTable) return;\n",
              "\n",
              "          const docLinkHtml = 'Like what you see? Visit the ' +\n",
              "            '<a target=\"_blank\" href=https://colab.research.google.com/notebooks/data_table.ipynb>data table notebook</a>'\n",
              "            + ' to learn more about interactive tables.';\n",
              "          element.innerHTML = '';\n",
              "          dataTable['output_type'] = 'display_data';\n",
              "          await google.colab.output.renderOutput(dataTable, element);\n",
              "          const docLink = document.createElement('div');\n",
              "          docLink.innerHTML = docLinkHtml;\n",
              "          element.appendChild(docLink);\n",
              "        }\n",
              "      </script>\n",
              "    </div>\n",
              "  </div>\n",
              "  "
            ]
          },
          "metadata": {},
          "execution_count": 1027
        }
      ],
      "source": [
        "df = pd.read_excel('/content/drive/MyDrive/Netflix Project.xlsx')\n",
        "df.head()"
      ]
    },
    {
      "cell_type": "markdown",
      "metadata": {
        "id": "27UWtRCwUbNd"
      },
      "source": [
        "Data source https://www.kaggle.com/datasets/victorsoeiro/netflix-tv-shows-and-movies\n",
        "\n",
        "This data set shows us all the different movies and shows available on the app Netflix.  We have imdb ratings, runtime, genre, release year.  \n",
        "The goal here is to use our features to try see what gets a good imdb score.  This is a regression problem."
      ]
    },
    {
      "cell_type": "markdown",
      "metadata": {
        "id": "0a5i3RCmmBz3"
      },
      "source": [
        "###Cleaning"
      ]
    },
    {
      "cell_type": "code",
      "execution_count": 1028,
      "metadata": {
        "colab": {
          "base_uri": "https://localhost:8080/"
        },
        "id": "-KEucdIyTWNV",
        "outputId": "a2bbd0bd-be26-40e6-90c0-d8b120e49335"
      },
      "outputs": [
        {
          "output_type": "execute_result",
          "data": {
            "text/plain": [
              "(5806, 15)"
            ]
          },
          "metadata": {},
          "execution_count": 1028
        }
      ],
      "source": [
        "df.shape"
      ]
    },
    {
      "cell_type": "code",
      "execution_count": 1029,
      "metadata": {
        "colab": {
          "base_uri": "https://localhost:8080/"
        },
        "id": "2J_RVh1kFUPV",
        "outputId": "f7b713d5-2abc-44bd-96cb-146cbd13a00f"
      },
      "outputs": [
        {
          "output_type": "execute_result",
          "data": {
            "text/plain": [
              "object      8\n",
              "float64    13\n",
              "int64      15\n",
              "dtype: int64"
            ]
          },
          "metadata": {},
          "execution_count": 1029
        }
      ],
      "source": [
        "df.dtypes.value_counts().cumsum()"
      ]
    },
    {
      "cell_type": "markdown",
      "metadata": {
        "id": "JIyiagn3WD5j"
      },
      "source": [
        "Here we can see we have 15 features and 5806 rows."
      ]
    },
    {
      "cell_type": "markdown",
      "metadata": {
        "id": "-OPzPC-OWLMa"
      },
      "source": [
        "With almost 6000 rows I suspect there will alot of cleaning needed before any predictions can be made.  Just in the header i can see missing values that will need addressing."
      ]
    },
    {
      "cell_type": "code",
      "source": [
        "type(df.loc[0,'genres'])"
      ],
      "metadata": {
        "colab": {
          "base_uri": "https://localhost:8080/"
        },
        "id": "Rlm2mlD5CfXO",
        "outputId": "e731893a-8cad-4278-890f-5fc03243bef7"
      },
      "execution_count": 1030,
      "outputs": [
        {
          "output_type": "execute_result",
          "data": {
            "text/plain": [
              "str"
            ]
          },
          "metadata": {},
          "execution_count": 1030
        }
      ]
    },
    {
      "cell_type": "code",
      "execution_count": 1031,
      "metadata": {
        "colab": {
          "base_uri": "https://localhost:8080/"
        },
        "id": "WK6Lbn9VXvnW",
        "outputId": "4590c564-157b-42d5-e3c5-f3aeb514100c"
      },
      "outputs": [
        {
          "output_type": "stream",
          "name": "stdout",
          "text": [
            "<class 'pandas.core.frame.DataFrame'>\n",
            "RangeIndex: 5806 entries, 0 to 5805\n",
            "Data columns (total 15 columns):\n",
            " #   Column                Non-Null Count  Dtype  \n",
            "---  ------                --------------  -----  \n",
            " 0   id                    5806 non-null   object \n",
            " 1   title                 5805 non-null   object \n",
            " 2   type                  5806 non-null   object \n",
            " 3   description           5788 non-null   object \n",
            " 4   release_year          5806 non-null   int64  \n",
            " 5   age_certification     3196 non-null   object \n",
            " 6   runtime               5806 non-null   int64  \n",
            " 7   genres                5806 non-null   object \n",
            " 8   production_countries  5806 non-null   object \n",
            " 9   seasons               2047 non-null   float64\n",
            " 10  imdb_id               5362 non-null   object \n",
            " 11  imdb_score            5283 non-null   float64\n",
            " 12  imdb_votes            5267 non-null   float64\n",
            " 13  tmdb_popularity       5712 non-null   float64\n",
            " 14  tmdb_score            5488 non-null   float64\n",
            "dtypes: float64(5), int64(2), object(8)\n",
            "memory usage: 680.5+ KB\n"
          ]
        }
      ],
      "source": [
        "df.info()"
      ]
    },
    {
      "cell_type": "code",
      "execution_count": 1032,
      "metadata": {
        "colab": {
          "base_uri": "https://localhost:8080/"
        },
        "id": "H-ItiQoHNf1P",
        "outputId": "fcbe47f0-ec24-41c8-d7fb-f288915ac74e"
      },
      "outputs": [
        {
          "output_type": "execute_result",
          "data": {
            "text/plain": [
              "0"
            ]
          },
          "metadata": {},
          "execution_count": 1032
        }
      ],
      "source": [
        "df.duplicated().sum()"
      ]
    },
    {
      "cell_type": "code",
      "execution_count": 1033,
      "metadata": {
        "colab": {
          "base_uri": "https://localhost:8080/"
        },
        "id": "oXcUv_VfNO2A",
        "outputId": "5523379d-cb2a-41e8-ffcb-42ce696d288b"
      },
      "outputs": [
        {
          "output_type": "execute_result",
          "data": {
            "text/plain": [
              "id                         0\n",
              "title                      1\n",
              "type                       0\n",
              "description               18\n",
              "release_year               0\n",
              "age_certification       2610\n",
              "runtime                    0\n",
              "genres                     0\n",
              "production_countries       0\n",
              "seasons                 3759\n",
              "imdb_id                  444\n",
              "imdb_score               523\n",
              "imdb_votes               539\n",
              "tmdb_popularity           94\n",
              "tmdb_score               318\n",
              "dtype: int64"
            ]
          },
          "metadata": {},
          "execution_count": 1033
        }
      ],
      "source": [
        "df.isna().sum()"
      ]
    },
    {
      "cell_type": "markdown",
      "metadata": {
        "id": "ct5vvR0VN-Fg"
      },
      "source": [
        "Alot of missing values need addressing."
      ]
    },
    {
      "cell_type": "markdown",
      "metadata": {
        "id": "m0K8IaqoOEEP"
      },
      "source": [
        "I am going to drop the columns age_certificaion (the target audience does not effect our goal and almost half of that column is missing) and seasons (we dont care how long it ran for.)"
      ]
    },
    {
      "cell_type": "code",
      "execution_count": 1034,
      "metadata": {
        "id": "q9y94BoTOs0l"
      },
      "outputs": [],
      "source": [
        "df.drop(columns='age_certification',inplace=True)"
      ]
    },
    {
      "cell_type": "code",
      "execution_count": 1035,
      "metadata": {
        "colab": {
          "base_uri": "https://localhost:8080/"
        },
        "id": "yamPJ6aKPFCL",
        "outputId": "9420d155-674b-4929-817d-bc62746e840d"
      },
      "outputs": [
        {
          "output_type": "execute_result",
          "data": {
            "text/plain": [
              "id                        0\n",
              "title                     1\n",
              "type                      0\n",
              "description              18\n",
              "release_year              0\n",
              "runtime                   0\n",
              "genres                    0\n",
              "production_countries      0\n",
              "imdb_id                 444\n",
              "imdb_score              523\n",
              "imdb_votes              539\n",
              "tmdb_popularity          94\n",
              "tmdb_score              318\n",
              "dtype: int64"
            ]
          },
          "metadata": {},
          "execution_count": 1035
        }
      ],
      "source": [
        "df.drop(columns='seasons',inplace=True)\n",
        "df.isna().sum()"
      ]
    },
    {
      "cell_type": "markdown",
      "metadata": {
        "id": "bSMbRNwuPxAX"
      },
      "source": [
        "I am also going to drop the id, title, description, production_countries, and imdb_id columns. None of these have information that relate to our goal. "
      ]
    },
    {
      "cell_type": "code",
      "execution_count": 1036,
      "metadata": {
        "colab": {
          "base_uri": "https://localhost:8080/"
        },
        "id": "odSJojbGPwmG",
        "outputId": "876e5c09-0258-41fd-ec42-cfc4cb31b683"
      },
      "outputs": [
        {
          "output_type": "execute_result",
          "data": {
            "text/plain": [
              "type                 0\n",
              "release_year         0\n",
              "runtime              0\n",
              "genres               0\n",
              "imdb_score         523\n",
              "imdb_votes         539\n",
              "tmdb_popularity     94\n",
              "tmdb_score         318\n",
              "dtype: int64"
            ]
          },
          "metadata": {},
          "execution_count": 1036
        }
      ],
      "source": [
        "df.drop(columns='id',inplace=True)\n",
        "df.drop(columns='imdb_id',inplace=True)\n",
        "df.drop(columns='title',inplace=True)\n",
        "df.drop(columns='description',inplace=True)\n",
        "df.drop(columns='production_countries',inplace=True)\n",
        "df.isna().sum()"
      ]
    },
    {
      "cell_type": "code",
      "execution_count": 1037,
      "metadata": {
        "colab": {
          "base_uri": "https://localhost:8080/",
          "height": 206
        },
        "id": "4AGQ2FLUPe0U",
        "outputId": "713852fd-0a49-4045-a018-28badb54a179"
      },
      "outputs": [
        {
          "output_type": "execute_result",
          "data": {
            "text/plain": [
              "    type  release_year  runtime                 genres  imdb_score  \\\n",
              "0   SHOW          1945       48      ['documentation']         NaN   \n",
              "1  MOVIE          1976      113     ['crime', 'drama']         8.3   \n",
              "2  MOVIE          1975       91  ['comedy', 'fantasy']         8.2   \n",
              "3  MOVIE          1979       94             ['comedy']         8.0   \n",
              "4  MOVIE          1973      133             ['horror']         8.1   \n",
              "\n",
              "   imdb_votes  tmdb_popularity  tmdb_score  \n",
              "0         NaN            0.600         NaN  \n",
              "1    795222.0           27.612         8.2  \n",
              "2    530877.0           18.216         7.8  \n",
              "3    392419.0           17.505         7.8  \n",
              "4    391942.0           95.337         7.7  "
            ],
            "text/html": [
              "\n",
              "  <div id=\"df-034d7ebf-c98a-4acb-a132-2531c55e8651\">\n",
              "    <div class=\"colab-df-container\">\n",
              "      <div>\n",
              "<style scoped>\n",
              "    .dataframe tbody tr th:only-of-type {\n",
              "        vertical-align: middle;\n",
              "    }\n",
              "\n",
              "    .dataframe tbody tr th {\n",
              "        vertical-align: top;\n",
              "    }\n",
              "\n",
              "    .dataframe thead th {\n",
              "        text-align: right;\n",
              "    }\n",
              "</style>\n",
              "<table border=\"1\" class=\"dataframe\">\n",
              "  <thead>\n",
              "    <tr style=\"text-align: right;\">\n",
              "      <th></th>\n",
              "      <th>type</th>\n",
              "      <th>release_year</th>\n",
              "      <th>runtime</th>\n",
              "      <th>genres</th>\n",
              "      <th>imdb_score</th>\n",
              "      <th>imdb_votes</th>\n",
              "      <th>tmdb_popularity</th>\n",
              "      <th>tmdb_score</th>\n",
              "    </tr>\n",
              "  </thead>\n",
              "  <tbody>\n",
              "    <tr>\n",
              "      <th>0</th>\n",
              "      <td>SHOW</td>\n",
              "      <td>1945</td>\n",
              "      <td>48</td>\n",
              "      <td>['documentation']</td>\n",
              "      <td>NaN</td>\n",
              "      <td>NaN</td>\n",
              "      <td>0.600</td>\n",
              "      <td>NaN</td>\n",
              "    </tr>\n",
              "    <tr>\n",
              "      <th>1</th>\n",
              "      <td>MOVIE</td>\n",
              "      <td>1976</td>\n",
              "      <td>113</td>\n",
              "      <td>['crime', 'drama']</td>\n",
              "      <td>8.3</td>\n",
              "      <td>795222.0</td>\n",
              "      <td>27.612</td>\n",
              "      <td>8.2</td>\n",
              "    </tr>\n",
              "    <tr>\n",
              "      <th>2</th>\n",
              "      <td>MOVIE</td>\n",
              "      <td>1975</td>\n",
              "      <td>91</td>\n",
              "      <td>['comedy', 'fantasy']</td>\n",
              "      <td>8.2</td>\n",
              "      <td>530877.0</td>\n",
              "      <td>18.216</td>\n",
              "      <td>7.8</td>\n",
              "    </tr>\n",
              "    <tr>\n",
              "      <th>3</th>\n",
              "      <td>MOVIE</td>\n",
              "      <td>1979</td>\n",
              "      <td>94</td>\n",
              "      <td>['comedy']</td>\n",
              "      <td>8.0</td>\n",
              "      <td>392419.0</td>\n",
              "      <td>17.505</td>\n",
              "      <td>7.8</td>\n",
              "    </tr>\n",
              "    <tr>\n",
              "      <th>4</th>\n",
              "      <td>MOVIE</td>\n",
              "      <td>1973</td>\n",
              "      <td>133</td>\n",
              "      <td>['horror']</td>\n",
              "      <td>8.1</td>\n",
              "      <td>391942.0</td>\n",
              "      <td>95.337</td>\n",
              "      <td>7.7</td>\n",
              "    </tr>\n",
              "  </tbody>\n",
              "</table>\n",
              "</div>\n",
              "      <button class=\"colab-df-convert\" onclick=\"convertToInteractive('df-034d7ebf-c98a-4acb-a132-2531c55e8651')\"\n",
              "              title=\"Convert this dataframe to an interactive table.\"\n",
              "              style=\"display:none;\">\n",
              "        \n",
              "  <svg xmlns=\"http://www.w3.org/2000/svg\" height=\"24px\"viewBox=\"0 0 24 24\"\n",
              "       width=\"24px\">\n",
              "    <path d=\"M0 0h24v24H0V0z\" fill=\"none\"/>\n",
              "    <path d=\"M18.56 5.44l.94 2.06.94-2.06 2.06-.94-2.06-.94-.94-2.06-.94 2.06-2.06.94zm-11 1L8.5 8.5l.94-2.06 2.06-.94-2.06-.94L8.5 2.5l-.94 2.06-2.06.94zm10 10l.94 2.06.94-2.06 2.06-.94-2.06-.94-.94-2.06-.94 2.06-2.06.94z\"/><path d=\"M17.41 7.96l-1.37-1.37c-.4-.4-.92-.59-1.43-.59-.52 0-1.04.2-1.43.59L10.3 9.45l-7.72 7.72c-.78.78-.78 2.05 0 2.83L4 21.41c.39.39.9.59 1.41.59.51 0 1.02-.2 1.41-.59l7.78-7.78 2.81-2.81c.8-.78.8-2.07 0-2.86zM5.41 20L4 18.59l7.72-7.72 1.47 1.35L5.41 20z\"/>\n",
              "  </svg>\n",
              "      </button>\n",
              "      \n",
              "  <style>\n",
              "    .colab-df-container {\n",
              "      display:flex;\n",
              "      flex-wrap:wrap;\n",
              "      gap: 12px;\n",
              "    }\n",
              "\n",
              "    .colab-df-convert {\n",
              "      background-color: #E8F0FE;\n",
              "      border: none;\n",
              "      border-radius: 50%;\n",
              "      cursor: pointer;\n",
              "      display: none;\n",
              "      fill: #1967D2;\n",
              "      height: 32px;\n",
              "      padding: 0 0 0 0;\n",
              "      width: 32px;\n",
              "    }\n",
              "\n",
              "    .colab-df-convert:hover {\n",
              "      background-color: #E2EBFA;\n",
              "      box-shadow: 0px 1px 2px rgba(60, 64, 67, 0.3), 0px 1px 3px 1px rgba(60, 64, 67, 0.15);\n",
              "      fill: #174EA6;\n",
              "    }\n",
              "\n",
              "    [theme=dark] .colab-df-convert {\n",
              "      background-color: #3B4455;\n",
              "      fill: #D2E3FC;\n",
              "    }\n",
              "\n",
              "    [theme=dark] .colab-df-convert:hover {\n",
              "      background-color: #434B5C;\n",
              "      box-shadow: 0px 1px 3px 1px rgba(0, 0, 0, 0.15);\n",
              "      filter: drop-shadow(0px 1px 2px rgba(0, 0, 0, 0.3));\n",
              "      fill: #FFFFFF;\n",
              "    }\n",
              "  </style>\n",
              "\n",
              "      <script>\n",
              "        const buttonEl =\n",
              "          document.querySelector('#df-034d7ebf-c98a-4acb-a132-2531c55e8651 button.colab-df-convert');\n",
              "        buttonEl.style.display =\n",
              "          google.colab.kernel.accessAllowed ? 'block' : 'none';\n",
              "\n",
              "        async function convertToInteractive(key) {\n",
              "          const element = document.querySelector('#df-034d7ebf-c98a-4acb-a132-2531c55e8651');\n",
              "          const dataTable =\n",
              "            await google.colab.kernel.invokeFunction('convertToInteractive',\n",
              "                                                     [key], {});\n",
              "          if (!dataTable) return;\n",
              "\n",
              "          const docLinkHtml = 'Like what you see? Visit the ' +\n",
              "            '<a target=\"_blank\" href=https://colab.research.google.com/notebooks/data_table.ipynb>data table notebook</a>'\n",
              "            + ' to learn more about interactive tables.';\n",
              "          element.innerHTML = '';\n",
              "          dataTable['output_type'] = 'display_data';\n",
              "          await google.colab.output.renderOutput(dataTable, element);\n",
              "          const docLink = document.createElement('div');\n",
              "          docLink.innerHTML = docLinkHtml;\n",
              "          element.appendChild(docLink);\n",
              "        }\n",
              "      </script>\n",
              "    </div>\n",
              "  </div>\n",
              "  "
            ]
          },
          "metadata": {},
          "execution_count": 1037
        }
      ],
      "source": [
        "df.head()"
      ]
    },
    {
      "cell_type": "markdown",
      "metadata": {
        "id": "zTdu4-P1Q0Wq"
      },
      "source": [
        "Now im going to make sure our cat and num values are correct."
      ]
    },
    {
      "cell_type": "code",
      "execution_count": 1038,
      "metadata": {
        "colab": {
          "base_uri": "https://localhost:8080/",
          "height": 300
        },
        "id": "ahazaEDFmyNI",
        "outputId": "b4d54507-6139-48c4-da02-cdf0135d8048"
      },
      "outputs": [
        {
          "output_type": "execute_result",
          "data": {
            "text/plain": [
              "       release_year  runtime  imdb_score  imdb_votes  tmdb_popularity  \\\n",
              "count       5806.00  5806.00     5283.00     5267.00          5712.00   \n",
              "mean        2016.01    77.64        6.53    23407.19            22.53   \n",
              "std            7.32    39.47        1.16    87134.32            68.85   \n",
              "min         1945.00     0.00        1.50        5.00             0.01   \n",
              "25%         2015.00    44.00        5.80      521.00             3.16   \n",
              "50%         2018.00    84.00        6.60     2279.00             7.48   \n",
              "75%         2020.00   105.00        7.40    10144.00            17.78   \n",
              "max         2022.00   251.00        9.60  2268288.00          1823.37   \n",
              "\n",
              "       tmdb_score  \n",
              "count     5488.00  \n",
              "mean         6.82  \n",
              "std          1.17  \n",
              "min          0.50  \n",
              "25%          6.10  \n",
              "50%          6.90  \n",
              "75%          7.50  \n",
              "max         10.00  "
            ],
            "text/html": [
              "\n",
              "  <div id=\"df-d6fe38fd-e041-47d2-a6fc-7908d7ff4cde\">\n",
              "    <div class=\"colab-df-container\">\n",
              "      <div>\n",
              "<style scoped>\n",
              "    .dataframe tbody tr th:only-of-type {\n",
              "        vertical-align: middle;\n",
              "    }\n",
              "\n",
              "    .dataframe tbody tr th {\n",
              "        vertical-align: top;\n",
              "    }\n",
              "\n",
              "    .dataframe thead th {\n",
              "        text-align: right;\n",
              "    }\n",
              "</style>\n",
              "<table border=\"1\" class=\"dataframe\">\n",
              "  <thead>\n",
              "    <tr style=\"text-align: right;\">\n",
              "      <th></th>\n",
              "      <th>release_year</th>\n",
              "      <th>runtime</th>\n",
              "      <th>imdb_score</th>\n",
              "      <th>imdb_votes</th>\n",
              "      <th>tmdb_popularity</th>\n",
              "      <th>tmdb_score</th>\n",
              "    </tr>\n",
              "  </thead>\n",
              "  <tbody>\n",
              "    <tr>\n",
              "      <th>count</th>\n",
              "      <td>5806.00</td>\n",
              "      <td>5806.00</td>\n",
              "      <td>5283.00</td>\n",
              "      <td>5267.00</td>\n",
              "      <td>5712.00</td>\n",
              "      <td>5488.00</td>\n",
              "    </tr>\n",
              "    <tr>\n",
              "      <th>mean</th>\n",
              "      <td>2016.01</td>\n",
              "      <td>77.64</td>\n",
              "      <td>6.53</td>\n",
              "      <td>23407.19</td>\n",
              "      <td>22.53</td>\n",
              "      <td>6.82</td>\n",
              "    </tr>\n",
              "    <tr>\n",
              "      <th>std</th>\n",
              "      <td>7.32</td>\n",
              "      <td>39.47</td>\n",
              "      <td>1.16</td>\n",
              "      <td>87134.32</td>\n",
              "      <td>68.85</td>\n",
              "      <td>1.17</td>\n",
              "    </tr>\n",
              "    <tr>\n",
              "      <th>min</th>\n",
              "      <td>1945.00</td>\n",
              "      <td>0.00</td>\n",
              "      <td>1.50</td>\n",
              "      <td>5.00</td>\n",
              "      <td>0.01</td>\n",
              "      <td>0.50</td>\n",
              "    </tr>\n",
              "    <tr>\n",
              "      <th>25%</th>\n",
              "      <td>2015.00</td>\n",
              "      <td>44.00</td>\n",
              "      <td>5.80</td>\n",
              "      <td>521.00</td>\n",
              "      <td>3.16</td>\n",
              "      <td>6.10</td>\n",
              "    </tr>\n",
              "    <tr>\n",
              "      <th>50%</th>\n",
              "      <td>2018.00</td>\n",
              "      <td>84.00</td>\n",
              "      <td>6.60</td>\n",
              "      <td>2279.00</td>\n",
              "      <td>7.48</td>\n",
              "      <td>6.90</td>\n",
              "    </tr>\n",
              "    <tr>\n",
              "      <th>75%</th>\n",
              "      <td>2020.00</td>\n",
              "      <td>105.00</td>\n",
              "      <td>7.40</td>\n",
              "      <td>10144.00</td>\n",
              "      <td>17.78</td>\n",
              "      <td>7.50</td>\n",
              "    </tr>\n",
              "    <tr>\n",
              "      <th>max</th>\n",
              "      <td>2022.00</td>\n",
              "      <td>251.00</td>\n",
              "      <td>9.60</td>\n",
              "      <td>2268288.00</td>\n",
              "      <td>1823.37</td>\n",
              "      <td>10.00</td>\n",
              "    </tr>\n",
              "  </tbody>\n",
              "</table>\n",
              "</div>\n",
              "      <button class=\"colab-df-convert\" onclick=\"convertToInteractive('df-d6fe38fd-e041-47d2-a6fc-7908d7ff4cde')\"\n",
              "              title=\"Convert this dataframe to an interactive table.\"\n",
              "              style=\"display:none;\">\n",
              "        \n",
              "  <svg xmlns=\"http://www.w3.org/2000/svg\" height=\"24px\"viewBox=\"0 0 24 24\"\n",
              "       width=\"24px\">\n",
              "    <path d=\"M0 0h24v24H0V0z\" fill=\"none\"/>\n",
              "    <path d=\"M18.56 5.44l.94 2.06.94-2.06 2.06-.94-2.06-.94-.94-2.06-.94 2.06-2.06.94zm-11 1L8.5 8.5l.94-2.06 2.06-.94-2.06-.94L8.5 2.5l-.94 2.06-2.06.94zm10 10l.94 2.06.94-2.06 2.06-.94-2.06-.94-.94-2.06-.94 2.06-2.06.94z\"/><path d=\"M17.41 7.96l-1.37-1.37c-.4-.4-.92-.59-1.43-.59-.52 0-1.04.2-1.43.59L10.3 9.45l-7.72 7.72c-.78.78-.78 2.05 0 2.83L4 21.41c.39.39.9.59 1.41.59.51 0 1.02-.2 1.41-.59l7.78-7.78 2.81-2.81c.8-.78.8-2.07 0-2.86zM5.41 20L4 18.59l7.72-7.72 1.47 1.35L5.41 20z\"/>\n",
              "  </svg>\n",
              "      </button>\n",
              "      \n",
              "  <style>\n",
              "    .colab-df-container {\n",
              "      display:flex;\n",
              "      flex-wrap:wrap;\n",
              "      gap: 12px;\n",
              "    }\n",
              "\n",
              "    .colab-df-convert {\n",
              "      background-color: #E8F0FE;\n",
              "      border: none;\n",
              "      border-radius: 50%;\n",
              "      cursor: pointer;\n",
              "      display: none;\n",
              "      fill: #1967D2;\n",
              "      height: 32px;\n",
              "      padding: 0 0 0 0;\n",
              "      width: 32px;\n",
              "    }\n",
              "\n",
              "    .colab-df-convert:hover {\n",
              "      background-color: #E2EBFA;\n",
              "      box-shadow: 0px 1px 2px rgba(60, 64, 67, 0.3), 0px 1px 3px 1px rgba(60, 64, 67, 0.15);\n",
              "      fill: #174EA6;\n",
              "    }\n",
              "\n",
              "    [theme=dark] .colab-df-convert {\n",
              "      background-color: #3B4455;\n",
              "      fill: #D2E3FC;\n",
              "    }\n",
              "\n",
              "    [theme=dark] .colab-df-convert:hover {\n",
              "      background-color: #434B5C;\n",
              "      box-shadow: 0px 1px 3px 1px rgba(0, 0, 0, 0.15);\n",
              "      filter: drop-shadow(0px 1px 2px rgba(0, 0, 0, 0.3));\n",
              "      fill: #FFFFFF;\n",
              "    }\n",
              "  </style>\n",
              "\n",
              "      <script>\n",
              "        const buttonEl =\n",
              "          document.querySelector('#df-d6fe38fd-e041-47d2-a6fc-7908d7ff4cde button.colab-df-convert');\n",
              "        buttonEl.style.display =\n",
              "          google.colab.kernel.accessAllowed ? 'block' : 'none';\n",
              "\n",
              "        async function convertToInteractive(key) {\n",
              "          const element = document.querySelector('#df-d6fe38fd-e041-47d2-a6fc-7908d7ff4cde');\n",
              "          const dataTable =\n",
              "            await google.colab.kernel.invokeFunction('convertToInteractive',\n",
              "                                                     [key], {});\n",
              "          if (!dataTable) return;\n",
              "\n",
              "          const docLinkHtml = 'Like what you see? Visit the ' +\n",
              "            '<a target=\"_blank\" href=https://colab.research.google.com/notebooks/data_table.ipynb>data table notebook</a>'\n",
              "            + ' to learn more about interactive tables.';\n",
              "          element.innerHTML = '';\n",
              "          dataTable['output_type'] = 'display_data';\n",
              "          await google.colab.output.renderOutput(dataTable, element);\n",
              "          const docLink = document.createElement('div');\n",
              "          docLink.innerHTML = docLinkHtml;\n",
              "          element.appendChild(docLink);\n",
              "        }\n",
              "      </script>\n",
              "    </div>\n",
              "  </div>\n",
              "  "
            ]
          },
          "metadata": {},
          "execution_count": 1038
        }
      ],
      "source": [
        "df.describe().round(2)"
      ]
    },
    {
      "cell_type": "code",
      "execution_count": 1039,
      "metadata": {
        "colab": {
          "base_uri": "https://localhost:8080/",
          "height": 280
        },
        "id": "Cze-JWXhp9JV",
        "outputId": "4d468091-f94e-4b55-dc62-d117bdd57ddf"
      },
      "outputs": [
        {
          "output_type": "display_data",
          "data": {
            "text/plain": [
              "<Figure size 432x288 with 1 Axes>"
            ],
            "image/png": "[encoded data removed]"
          },
          "metadata": {
            "needs_background": "light"
          }
        }
      ],
      "source": [
        "sns.boxplot(x='imdb_votes', data=df);"
      ]
    },
    {
      "cell_type": "markdown",
      "metadata": {
        "id": "9epp1bXoge_w"
      },
      "source": [
        "Imdb_votes has alot of outliers and a very large range from five to over two milloion. The amount of votes a show or movie gets on imdb doesnt always translate into a better imdb score.  I will check and see if this feature correlates with any of my others. "
      ]
    },
    {
      "cell_type": "code",
      "execution_count": 1040,
      "metadata": {
        "colab": {
          "base_uri": "https://localhost:8080/",
          "height": 280
        },
        "id": "5INNuokcp4iR",
        "outputId": "3ca2ad20-0991-46ae-d450-23c25d034bf3"
      },
      "outputs": [
        {
          "output_type": "display_data",
          "data": {
            "text/plain": [
              "<Figure size 432x288 with 1 Axes>"
            ],
            "image/png": "[encoded data removed]"
          },
          "metadata": {
            "needs_background": "light"
          }
        }
      ],
      "source": [
        "sns.boxplot(x='tmdb_score', data=df);"
      ]
    },
    {
      "cell_type": "code",
      "execution_count": 1041,
      "metadata": {
        "colab": {
          "base_uri": "https://localhost:8080/",
          "height": 280
        },
        "id": "lHBXBP0qp0gl",
        "outputId": "9ae93c5c-75c0-44cb-adc8-f7b21250a273"
      },
      "outputs": [
        {
          "output_type": "display_data",
          "data": {
            "text/plain": [
              "<Figure size 432x288 with 1 Axes>"
            ],
            "image/png": "[encoded data removed]"
          },
          "metadata": {
            "needs_background": "light"
          }
        }
      ],
      "source": [
        "sns.boxplot(x='imdb_score', data=df);"
      ]
    },
    {
      "cell_type": "code",
      "execution_count": 1042,
      "metadata": {
        "colab": {
          "base_uri": "https://localhost:8080/",
          "height": 280
        },
        "id": "_rQcIGNEop5d",
        "outputId": "560b3d4c-7248-4fb1-ddad-da83c78a653e"
      },
      "outputs": [
        {
          "output_type": "display_data",
          "data": {
            "text/plain": [
              "<Figure size 432x288 with 1 Axes>"
            ],
            "image/png": "[encoded data removed]"
          },
          "metadata": {
            "needs_background": "light"
          }
        }
      ],
      "source": [
        "sns.boxplot(x='tmdb_popularity', data=df);"
      ]
    },
    {
      "cell_type": "markdown",
      "metadata": {
        "id": "BdJJN9EarQJN"
      },
      "source": [
        "Just as we saw with imdb_score, we have a ton of outliers here, once again all on the high side. "
      ]
    },
    {
      "cell_type": "code",
      "execution_count": 1043,
      "metadata": {
        "colab": {
          "base_uri": "https://localhost:8080/",
          "height": 279
        },
        "id": "zR4jvydD0UEx",
        "outputId": "9a5446ba-fd81-4365-bc7b-2b9bbf7801ee"
      },
      "outputs": [
        {
          "output_type": "display_data",
          "data": {
            "text/plain": [
              "<Figure size 432x288 with 1 Axes>"
            ],
            "image/png": "[encoded data removed]"
          },
          "metadata": {
            "needs_background": "light"
          }
        }
      ],
      "source": [
        "sns.boxplot(x='runtime', data=df);"
      ]
    },
    {
      "cell_type": "markdown",
      "metadata": {
        "id": "ELT3MRvP0YGJ"
      },
      "source": [
        "This is not that bad, we have a few outliers but we can see that most of our programming is in the 45-110 minute time."
      ]
    },
    {
      "cell_type": "code",
      "execution_count": 1044,
      "metadata": {
        "colab": {
          "base_uri": "https://localhost:8080/"
        },
        "id": "B5tWlYFAQbN3",
        "outputId": "98eaa90a-453b-41a9-d17f-a903b0872155"
      },
      "outputs": [
        {
          "output_type": "execute_result",
          "data": {
            "text/plain": [
              "MOVIE    3759\n",
              "SHOW     2047\n",
              "Name: type, dtype: int64"
            ]
          },
          "metadata": {},
          "execution_count": 1044
        }
      ],
      "source": [
        "df['type'].value_counts()"
      ]
    },
    {
      "cell_type": "code",
      "execution_count": 1045,
      "metadata": {
        "colab": {
          "base_uri": "https://localhost:8080/"
        },
        "id": "N2RryL4UQ80d",
        "outputId": "609fe656-39ef-44e7-910b-b9c3b2c9c394"
      },
      "outputs": [
        {
          "output_type": "execute_result",
          "data": {
            "text/plain": [
              "['comedy']                                            510\n",
              "['drama']                                             350\n",
              "['documentation']                                     320\n",
              "['comedy', 'drama']                                   141\n",
              "['drama', 'comedy']                                   128\n",
              "                                                     ... \n",
              "['drama', 'family', 'comedy', 'music']                  1\n",
              "['drama', 'thriller', 'western']                        1\n",
              "['comedy', 'thriller', 'drama', 'action', 'crime']      1\n",
              "['romance', 'drama', 'history', 'european']             1\n",
              "['family', 'comedy', 'animation']                       1\n",
              "Name: genres, Length: 1626, dtype: int64"
            ]
          },
          "metadata": {},
          "execution_count": 1045
        }
      ],
      "source": [
        "df['genres'].value_counts()  "
      ]
    },
    {
      "cell_type": "markdown",
      "metadata": {
        "id": "4MlXw3omhzkr"
      },
      "source": [
        "1626 values, I want to break this down into fewer values so I am going to extract just the first genre of each row. "
      ]
    },
    {
      "cell_type": "markdown",
      "source": [
        "First I remove the unwanted text from my columns."
      ],
      "metadata": {
        "id": "4edAS_wyKfbo"
      }
    },
    {
      "cell_type": "code",
      "source": [
        "df['genres'] = df['genres'].str.replace('[','')\n",
        "df['genres'] = df['genres'].str.replace(']','')\n",
        "df['genres'] = df['genres'].str.replace(\"'\",'')\n",
        "df.head()"
      ],
      "metadata": {
        "colab": {
          "base_uri": "https://localhost:8080/",
          "height": 296
        },
        "id": "cW23BRi3Dqhr",
        "outputId": "32d647c3-f5b1-4f1d-fc16-ea9aa6c837bd"
      },
      "execution_count": 1046,
      "outputs": [
        {
          "output_type": "stream",
          "name": "stderr",
          "text": [
            "/usr/local/lib/python3.7/dist-packages/ipykernel_launcher.py:1: FutureWarning: The default value of regex will change from True to False in a future version. In addition, single character regular expressions will *not* be treated as literal strings when regex=True.\n",
            "  \"\"\"Entry point for launching an IPython kernel.\n",
            "/usr/local/lib/python3.7/dist-packages/ipykernel_launcher.py:2: FutureWarning: The default value of regex will change from True to False in a future version. In addition, single character regular expressions will *not* be treated as literal strings when regex=True.\n",
            "  \n"
          ]
        },
        {
          "output_type": "execute_result",
          "data": {
            "text/plain": [
              "    type  release_year  runtime           genres  imdb_score  imdb_votes  \\\n",
              "0   SHOW          1945       48    documentation         NaN         NaN   \n",
              "1  MOVIE          1976      113     crime, drama         8.3    795222.0   \n",
              "2  MOVIE          1975       91  comedy, fantasy         8.2    530877.0   \n",
              "3  MOVIE          1979       94           comedy         8.0    392419.0   \n",
              "4  MOVIE          1973      133           horror         8.1    391942.0   \n",
              "\n",
              "   tmdb_popularity  tmdb_score  \n",
              "0            0.600         NaN  \n",
              "1           27.612         8.2  \n",
              "2           18.216         7.8  \n",
              "3           17.505         7.8  \n",
              "4           95.337         7.7  "
            ],
            "text/html": [
              "\n",
              "  <div id=\"df-c430819c-ad65-4c42-a3fb-f4aebb3ff98e\">\n",
              "    <div class=\"colab-df-container\">\n",
              "      <div>\n",
              "<style scoped>\n",
              "    .dataframe tbody tr th:only-of-type {\n",
              "        vertical-align: middle;\n",
              "    }\n",
              "\n",
              "    .dataframe tbody tr th {\n",
              "        vertical-align: top;\n",
              "    }\n",
              "\n",
              "    .dataframe thead th {\n",
              "        text-align: right;\n",
              "    }\n",
              "</style>\n",
              "<table border=\"1\" class=\"dataframe\">\n",
              "  <thead>\n",
              "    <tr style=\"text-align: right;\">\n",
              "      <th></th>\n",
              "      <th>type</th>\n",
              "      <th>release_year</th>\n",
              "      <th>runtime</th>\n",
              "      <th>genres</th>\n",
              "      <th>imdb_score</th>\n",
              "      <th>imdb_votes</th>\n",
              "      <th>tmdb_popularity</th>\n",
              "      <th>tmdb_score</th>\n",
              "    </tr>\n",
              "  </thead>\n",
              "  <tbody>\n",
              "    <tr>\n",
              "      <th>0</th>\n",
              "      <td>SHOW</td>\n",
              "      <td>1945</td>\n",
              "      <td>48</td>\n",
              "      <td>documentation</td>\n",
              "      <td>NaN</td>\n",
              "      <td>NaN</td>\n",
              "      <td>0.600</td>\n",
              "      <td>NaN</td>\n",
              "    </tr>\n",
              "    <tr>\n",
              "      <th>1</th>\n",
              "      <td>MOVIE</td>\n",
              "      <td>1976</td>\n",
              "      <td>113</td>\n",
              "      <td>crime, drama</td>\n",
              "      <td>8.3</td>\n",
              "      <td>795222.0</td>\n",
              "      <td>27.612</td>\n",
              "      <td>8.2</td>\n",
              "    </tr>\n",
              "    <tr>\n",
              "      <th>2</th>\n",
              "      <td>MOVIE</td>\n",
              "      <td>1975</td>\n",
              "      <td>91</td>\n",
              "      <td>comedy, fantasy</td>\n",
              "      <td>8.2</td>\n",
              "      <td>530877.0</td>\n",
              "      <td>18.216</td>\n",
              "      <td>7.8</td>\n",
              "    </tr>\n",
              "    <tr>\n",
              "      <th>3</th>\n",
              "      <td>MOVIE</td>\n",
              "      <td>1979</td>\n",
              "      <td>94</td>\n",
              "      <td>comedy</td>\n",
              "      <td>8.0</td>\n",
              "      <td>392419.0</td>\n",
              "      <td>17.505</td>\n",
              "      <td>7.8</td>\n",
              "    </tr>\n",
              "    <tr>\n",
              "      <th>4</th>\n",
              "      <td>MOVIE</td>\n",
              "      <td>1973</td>\n",
              "      <td>133</td>\n",
              "      <td>horror</td>\n",
              "      <td>8.1</td>\n",
              "      <td>391942.0</td>\n",
              "      <td>95.337</td>\n",
              "      <td>7.7</td>\n",
              "    </tr>\n",
              "  </tbody>\n",
              "</table>\n",
              "</div>\n",
              "      <button class=\"colab-df-convert\" onclick=\"convertToInteractive('df-c430819c-ad65-4c42-a3fb-f4aebb3ff98e')\"\n",
              "              title=\"Convert this dataframe to an interactive table.\"\n",
              "              style=\"display:none;\">\n",
              "        \n",
              "  <svg xmlns=\"http://www.w3.org/2000/svg\" height=\"24px\"viewBox=\"0 0 24 24\"\n",
              "       width=\"24px\">\n",
              "    <path d=\"M0 0h24v24H0V0z\" fill=\"none\"/>\n",
              "    <path d=\"M18.56 5.44l.94 2.06.94-2.06 2.06-.94-2.06-.94-.94-2.06-.94 2.06-2.06.94zm-11 1L8.5 8.5l.94-2.06 2.06-.94-2.06-.94L8.5 2.5l-.94 2.06-2.06.94zm10 10l.94 2.06.94-2.06 2.06-.94-2.06-.94-.94-2.06-.94 2.06-2.06.94z\"/><path d=\"M17.41 7.96l-1.37-1.37c-.4-.4-.92-.59-1.43-.59-.52 0-1.04.2-1.43.59L10.3 9.45l-7.72 7.72c-.78.78-.78 2.05 0 2.83L4 21.41c.39.39.9.59 1.41.59.51 0 1.02-.2 1.41-.59l7.78-7.78 2.81-2.81c.8-.78.8-2.07 0-2.86zM5.41 20L4 18.59l7.72-7.72 1.47 1.35L5.41 20z\"/>\n",
              "  </svg>\n",
              "      </button>\n",
              "      \n",
              "  <style>\n",
              "    .colab-df-container {\n",
              "      display:flex;\n",
              "      flex-wrap:wrap;\n",
              "      gap: 12px;\n",
              "    }\n",
              "\n",
              "    .colab-df-convert {\n",
              "      background-color: #E8F0FE;\n",
              "      border: none;\n",
              "      border-radius: 50%;\n",
              "      cursor: pointer;\n",
              "      display: none;\n",
              "      fill: #1967D2;\n",
              "      height: 32px;\n",
              "      padding: 0 0 0 0;\n",
              "      width: 32px;\n",
              "    }\n",
              "\n",
              "    .colab-df-convert:hover {\n",
              "      background-color: #E2EBFA;\n",
              "      box-shadow: 0px 1px 2px rgba(60, 64, 67, 0.3), 0px 1px 3px 1px rgba(60, 64, 67, 0.15);\n",
              "      fill: #174EA6;\n",
              "    }\n",
              "\n",
              "    [theme=dark] .colab-df-convert {\n",
              "      background-color: #3B4455;\n",
              "      fill: #D2E3FC;\n",
              "    }\n",
              "\n",
              "    [theme=dark] .colab-df-convert:hover {\n",
              "      background-color: #434B5C;\n",
              "      box-shadow: 0px 1px 3px 1px rgba(0, 0, 0, 0.15);\n",
              "      filter: drop-shadow(0px 1px 2px rgba(0, 0, 0, 0.3));\n",
              "      fill: #FFFFFF;\n",
              "    }\n",
              "  </style>\n",
              "\n",
              "      <script>\n",
              "        const buttonEl =\n",
              "          document.querySelector('#df-c430819c-ad65-4c42-a3fb-f4aebb3ff98e button.colab-df-convert');\n",
              "        buttonEl.style.display =\n",
              "          google.colab.kernel.accessAllowed ? 'block' : 'none';\n",
              "\n",
              "        async function convertToInteractive(key) {\n",
              "          const element = document.querySelector('#df-c430819c-ad65-4c42-a3fb-f4aebb3ff98e');\n",
              "          const dataTable =\n",
              "            await google.colab.kernel.invokeFunction('convertToInteractive',\n",
              "                                                     [key], {});\n",
              "          if (!dataTable) return;\n",
              "\n",
              "          const docLinkHtml = 'Like what you see? Visit the ' +\n",
              "            '<a target=\"_blank\" href=https://colab.research.google.com/notebooks/data_table.ipynb>data table notebook</a>'\n",
              "            + ' to learn more about interactive tables.';\n",
              "          element.innerHTML = '';\n",
              "          dataTable['output_type'] = 'display_data';\n",
              "          await google.colab.output.renderOutput(dataTable, element);\n",
              "          const docLink = document.createElement('div');\n",
              "          docLink.innerHTML = docLinkHtml;\n",
              "          element.appendChild(docLink);\n",
              "        }\n",
              "      </script>\n",
              "    </div>\n",
              "  </div>\n",
              "  "
            ]
          },
          "metadata": {},
          "execution_count": 1046
        }
      ]
    },
    {
      "cell_type": "markdown",
      "source": [
        "Now I split the target column into the data i want to keep."
      ],
      "metadata": {
        "id": "NZmcYYFvKlZG"
      }
    },
    {
      "cell_type": "code",
      "execution_count": 1047,
      "metadata": {
        "colab": {
          "base_uri": "https://localhost:8080/",
          "height": 206
        },
        "id": "yIpL_Dxchyod",
        "outputId": "8b4b65d2-b76d-4a0d-a753-dd7d5910d5ad"
      },
      "outputs": [
        {
          "output_type": "execute_result",
          "data": {
            "text/plain": [
              "    type  release_year  runtime           genres  imdb_score  imdb_votes  \\\n",
              "0   SHOW          1945       48    documentation         NaN         NaN   \n",
              "1  MOVIE          1976      113     crime, drama         8.3    795222.0   \n",
              "2  MOVIE          1975       91  comedy, fantasy         8.2    530877.0   \n",
              "3  MOVIE          1979       94           comedy         8.0    392419.0   \n",
              "4  MOVIE          1973      133           horror         8.1    391942.0   \n",
              "\n",
              "   tmdb_popularity  tmdb_score          genre        2     3     4     5  \\\n",
              "0            0.600         NaN  documentation     None  None  None  None   \n",
              "1           27.612         8.2          crime    drama  None  None  None   \n",
              "2           18.216         7.8         comedy  fantasy  None  None  None   \n",
              "3           17.505         7.8         comedy     None  None  None  None   \n",
              "4           95.337         7.7         horror     None  None  None  None   \n",
              "\n",
              "      6     7     8     9  \n",
              "0  None  None  None  None  \n",
              "1  None  None  None  None  \n",
              "2  None  None  None  None  \n",
              "3  None  None  None  None  \n",
              "4  None  None  None  None  "
            ],
            "text/html": [
              "\n",
              "  <div id=\"df-269937c8-7217-420d-babe-adf18438539c\">\n",
              "    <div class=\"colab-df-container\">\n",
              "      <div>\n",
              "<style scoped>\n",
              "    .dataframe tbody tr th:only-of-type {\n",
              "        vertical-align: middle;\n",
              "    }\n",
              "\n",
              "    .dataframe tbody tr th {\n",
              "        vertical-align: top;\n",
              "    }\n",
              "\n",
              "    .dataframe thead th {\n",
              "        text-align: right;\n",
              "    }\n",
              "</style>\n",
              "<table border=\"1\" class=\"dataframe\">\n",
              "  <thead>\n",
              "    <tr style=\"text-align: right;\">\n",
              "      <th></th>\n",
              "      <th>type</th>\n",
              "      <th>release_year</th>\n",
              "      <th>runtime</th>\n",
              "      <th>genres</th>\n",
              "      <th>imdb_score</th>\n",
              "      <th>imdb_votes</th>\n",
              "      <th>tmdb_popularity</th>\n",
              "      <th>tmdb_score</th>\n",
              "      <th>genre</th>\n",
              "      <th>2</th>\n",
              "      <th>3</th>\n",
              "      <th>4</th>\n",
              "      <th>5</th>\n",
              "      <th>6</th>\n",
              "      <th>7</th>\n",
              "      <th>8</th>\n",
              "      <th>9</th>\n",
              "    </tr>\n",
              "  </thead>\n",
              "  <tbody>\n",
              "    <tr>\n",
              "      <th>0</th>\n",
              "      <td>SHOW</td>\n",
              "      <td>1945</td>\n",
              "      <td>48</td>\n",
              "      <td>documentation</td>\n",
              "      <td>NaN</td>\n",
              "      <td>NaN</td>\n",
              "      <td>0.600</td>\n",
              "      <td>NaN</td>\n",
              "      <td>documentation</td>\n",
              "      <td>None</td>\n",
              "      <td>None</td>\n",
              "      <td>None</td>\n",
              "      <td>None</td>\n",
              "      <td>None</td>\n",
              "      <td>None</td>\n",
              "      <td>None</td>\n",
              "      <td>None</td>\n",
              "    </tr>\n",
              "    <tr>\n",
              "      <th>1</th>\n",
              "      <td>MOVIE</td>\n",
              "      <td>1976</td>\n",
              "      <td>113</td>\n",
              "      <td>crime, drama</td>\n",
              "      <td>8.3</td>\n",
              "      <td>795222.0</td>\n",
              "      <td>27.612</td>\n",
              "      <td>8.2</td>\n",
              "      <td>crime</td>\n",
              "      <td>drama</td>\n",
              "      <td>None</td>\n",
              "      <td>None</td>\n",
              "      <td>None</td>\n",
              "      <td>None</td>\n",
              "      <td>None</td>\n",
              "      <td>None</td>\n",
              "      <td>None</td>\n",
              "    </tr>\n",
              "    <tr>\n",
              "      <th>2</th>\n",
              "      <td>MOVIE</td>\n",
              "      <td>1975</td>\n",
              "      <td>91</td>\n",
              "      <td>comedy, fantasy</td>\n",
              "      <td>8.2</td>\n",
              "      <td>530877.0</td>\n",
              "      <td>18.216</td>\n",
              "      <td>7.8</td>\n",
              "      <td>comedy</td>\n",
              "      <td>fantasy</td>\n",
              "      <td>None</td>\n",
              "      <td>None</td>\n",
              "      <td>None</td>\n",
              "      <td>None</td>\n",
              "      <td>None</td>\n",
              "      <td>None</td>\n",
              "      <td>None</td>\n",
              "    </tr>\n",
              "    <tr>\n",
              "      <th>3</th>\n",
              "      <td>MOVIE</td>\n",
              "      <td>1979</td>\n",
              "      <td>94</td>\n",
              "      <td>comedy</td>\n",
              "      <td>8.0</td>\n",
              "      <td>392419.0</td>\n",
              "      <td>17.505</td>\n",
              "      <td>7.8</td>\n",
              "      <td>comedy</td>\n",
              "      <td>None</td>\n",
              "      <td>None</td>\n",
              "      <td>None</td>\n",
              "      <td>None</td>\n",
              "      <td>None</td>\n",
              "      <td>None</td>\n",
              "      <td>None</td>\n",
              "      <td>None</td>\n",
              "    </tr>\n",
              "    <tr>\n",
              "      <th>4</th>\n",
              "      <td>MOVIE</td>\n",
              "      <td>1973</td>\n",
              "      <td>133</td>\n",
              "      <td>horror</td>\n",
              "      <td>8.1</td>\n",
              "      <td>391942.0</td>\n",
              "      <td>95.337</td>\n",
              "      <td>7.7</td>\n",
              "      <td>horror</td>\n",
              "      <td>None</td>\n",
              "      <td>None</td>\n",
              "      <td>None</td>\n",
              "      <td>None</td>\n",
              "      <td>None</td>\n",
              "      <td>None</td>\n",
              "      <td>None</td>\n",
              "      <td>None</td>\n",
              "    </tr>\n",
              "  </tbody>\n",
              "</table>\n",
              "</div>\n",
              "      <button class=\"colab-df-convert\" onclick=\"convertToInteractive('df-269937c8-7217-420d-babe-adf18438539c')\"\n",
              "              title=\"Convert this dataframe to an interactive table.\"\n",
              "              style=\"display:none;\">\n",
              "        \n",
              "  <svg xmlns=\"http://www.w3.org/2000/svg\" height=\"24px\"viewBox=\"0 0 24 24\"\n",
              "       width=\"24px\">\n",
              "    <path d=\"M0 0h24v24H0V0z\" fill=\"none\"/>\n",
              "    <path d=\"M18.56 5.44l.94 2.06.94-2.06 2.06-.94-2.06-.94-.94-2.06-.94 2.06-2.06.94zm-11 1L8.5 8.5l.94-2.06 2.06-.94-2.06-.94L8.5 2.5l-.94 2.06-2.06.94zm10 10l.94 2.06.94-2.06 2.06-.94-2.06-.94-.94-2.06-.94 2.06-2.06.94z\"/><path d=\"M17.41 7.96l-1.37-1.37c-.4-.4-.92-.59-1.43-.59-.52 0-1.04.2-1.43.59L10.3 9.45l-7.72 7.72c-.78.78-.78 2.05 0 2.83L4 21.41c.39.39.9.59 1.41.59.51 0 1.02-.2 1.41-.59l7.78-7.78 2.81-2.81c.8-.78.8-2.07 0-2.86zM5.41 20L4 18.59l7.72-7.72 1.47 1.35L5.41 20z\"/>\n",
              "  </svg>\n",
              "      </button>\n",
              "      \n",
              "  <style>\n",
              "    .colab-df-container {\n",
              "      display:flex;\n",
              "      flex-wrap:wrap;\n",
              "      gap: 12px;\n",
              "    }\n",
              "\n",
              "    .colab-df-convert {\n",
              "      background-color: #E8F0FE;\n",
              "      border: none;\n",
              "      border-radius: 50%;\n",
              "      cursor: pointer;\n",
              "      display: none;\n",
              "      fill: #1967D2;\n",
              "      height: 32px;\n",
              "      padding: 0 0 0 0;\n",
              "      width: 32px;\n",
              "    }\n",
              "\n",
              "    .colab-df-convert:hover {\n",
              "      background-color: #E2EBFA;\n",
              "      box-shadow: 0px 1px 2px rgba(60, 64, 67, 0.3), 0px 1px 3px 1px rgba(60, 64, 67, 0.15);\n",
              "      fill: #174EA6;\n",
              "    }\n",
              "\n",
              "    [theme=dark] .colab-df-convert {\n",
              "      background-color: #3B4455;\n",
              "      fill: #D2E3FC;\n",
              "    }\n",
              "\n",
              "    [theme=dark] .colab-df-convert:hover {\n",
              "      background-color: #434B5C;\n",
              "      box-shadow: 0px 1px 3px 1px rgba(0, 0, 0, 0.15);\n",
              "      filter: drop-shadow(0px 1px 2px rgba(0, 0, 0, 0.3));\n",
              "      fill: #FFFFFF;\n",
              "    }\n",
              "  </style>\n",
              "\n",
              "      <script>\n",
              "        const buttonEl =\n",
              "          document.querySelector('#df-269937c8-7217-420d-babe-adf18438539c button.colab-df-convert');\n",
              "        buttonEl.style.display =\n",
              "          google.colab.kernel.accessAllowed ? 'block' : 'none';\n",
              "\n",
              "        async function convertToInteractive(key) {\n",
              "          const element = document.querySelector('#df-269937c8-7217-420d-babe-adf18438539c');\n",
              "          const dataTable =\n",
              "            await google.colab.kernel.invokeFunction('convertToInteractive',\n",
              "                                                     [key], {});\n",
              "          if (!dataTable) return;\n",
              "\n",
              "          const docLinkHtml = 'Like what you see? Visit the ' +\n",
              "            '<a target=\"_blank\" href=https://colab.research.google.com/notebooks/data_table.ipynb>data table notebook</a>'\n",
              "            + ' to learn more about interactive tables.';\n",
              "          element.innerHTML = '';\n",
              "          dataTable['output_type'] = 'display_data';\n",
              "          await google.colab.output.renderOutput(dataTable, element);\n",
              "          const docLink = document.createElement('div');\n",
              "          docLink.innerHTML = docLinkHtml;\n",
              "          element.appendChild(docLink);\n",
              "        }\n",
              "      </script>\n",
              "    </div>\n",
              "  </div>\n",
              "  "
            ]
          },
          "metadata": {},
          "execution_count": 1047
        }
      ],
      "source": [
        "df[['genre','2','3','4','5','6','7','8','9']]= df['genres'].str.split(', ',expand=True)\n",
        "df.head()"
      ]
    },
    {
      "cell_type": "markdown",
      "source": [
        "Finally I remove the old column and the excess columns."
      ],
      "metadata": {
        "id": "CZtywPtAKpyw"
      }
    },
    {
      "cell_type": "code",
      "source": [
        "df = df.drop(columns= ['genres','2','3','4','5','6','7','8','9'])\n",
        "df.head()"
      ],
      "metadata": {
        "colab": {
          "base_uri": "https://localhost:8080/",
          "height": 206
        },
        "id": "X8oIyHk-4CsE",
        "outputId": "d7108bb1-36ee-41c2-9437-1ab92ae0997f"
      },
      "execution_count": 1048,
      "outputs": [
        {
          "output_type": "execute_result",
          "data": {
            "text/plain": [
              "    type  release_year  runtime  imdb_score  imdb_votes  tmdb_popularity  \\\n",
              "0   SHOW          1945       48         NaN         NaN            0.600   \n",
              "1  MOVIE          1976      113         8.3    795222.0           27.612   \n",
              "2  MOVIE          1975       91         8.2    530877.0           18.216   \n",
              "3  MOVIE          1979       94         8.0    392419.0           17.505   \n",
              "4  MOVIE          1973      133         8.1    391942.0           95.337   \n",
              "\n",
              "   tmdb_score          genre  \n",
              "0         NaN  documentation  \n",
              "1         8.2          crime  \n",
              "2         7.8         comedy  \n",
              "3         7.8         comedy  \n",
              "4         7.7         horror  "
            ],
            "text/html": [
              "\n",
              "  <div id=\"df-f72c452a-1fa5-42af-99b6-03a91d329f34\">\n",
              "    <div class=\"colab-df-container\">\n",
              "      <div>\n",
              "<style scoped>\n",
              "    .dataframe tbody tr th:only-of-type {\n",
              "        vertical-align: middle;\n",
              "    }\n",
              "\n",
              "    .dataframe tbody tr th {\n",
              "        vertical-align: top;\n",
              "    }\n",
              "\n",
              "    .dataframe thead th {\n",
              "        text-align: right;\n",
              "    }\n",
              "</style>\n",
              "<table border=\"1\" class=\"dataframe\">\n",
              "  <thead>\n",
              "    <tr style=\"text-align: right;\">\n",
              "      <th></th>\n",
              "      <th>type</th>\n",
              "      <th>release_year</th>\n",
              "      <th>runtime</th>\n",
              "      <th>imdb_score</th>\n",
              "      <th>imdb_votes</th>\n",
              "      <th>tmdb_popularity</th>\n",
              "      <th>tmdb_score</th>\n",
              "      <th>genre</th>\n",
              "    </tr>\n",
              "  </thead>\n",
              "  <tbody>\n",
              "    <tr>\n",
              "      <th>0</th>\n",
              "      <td>SHOW</td>\n",
              "      <td>1945</td>\n",
              "      <td>48</td>\n",
              "      <td>NaN</td>\n",
              "      <td>NaN</td>\n",
              "      <td>0.600</td>\n",
              "      <td>NaN</td>\n",
              "      <td>documentation</td>\n",
              "    </tr>\n",
              "    <tr>\n",
              "      <th>1</th>\n",
              "      <td>MOVIE</td>\n",
              "      <td>1976</td>\n",
              "      <td>113</td>\n",
              "      <td>8.3</td>\n",
              "      <td>795222.0</td>\n",
              "      <td>27.612</td>\n",
              "      <td>8.2</td>\n",
              "      <td>crime</td>\n",
              "    </tr>\n",
              "    <tr>\n",
              "      <th>2</th>\n",
              "      <td>MOVIE</td>\n",
              "      <td>1975</td>\n",
              "      <td>91</td>\n",
              "      <td>8.2</td>\n",
              "      <td>530877.0</td>\n",
              "      <td>18.216</td>\n",
              "      <td>7.8</td>\n",
              "      <td>comedy</td>\n",
              "    </tr>\n",
              "    <tr>\n",
              "      <th>3</th>\n",
              "      <td>MOVIE</td>\n",
              "      <td>1979</td>\n",
              "      <td>94</td>\n",
              "      <td>8.0</td>\n",
              "      <td>392419.0</td>\n",
              "      <td>17.505</td>\n",
              "      <td>7.8</td>\n",
              "      <td>comedy</td>\n",
              "    </tr>\n",
              "    <tr>\n",
              "      <th>4</th>\n",
              "      <td>MOVIE</td>\n",
              "      <td>1973</td>\n",
              "      <td>133</td>\n",
              "      <td>8.1</td>\n",
              "      <td>391942.0</td>\n",
              "      <td>95.337</td>\n",
              "      <td>7.7</td>\n",
              "      <td>horror</td>\n",
              "    </tr>\n",
              "  </tbody>\n",
              "</table>\n",
              "</div>\n",
              "      <button class=\"colab-df-convert\" onclick=\"convertToInteractive('df-f72c452a-1fa5-42af-99b6-03a91d329f34')\"\n",
              "              title=\"Convert this dataframe to an interactive table.\"\n",
              "              style=\"display:none;\">\n",
              "        \n",
              "  <svg xmlns=\"http://www.w3.org/2000/svg\" height=\"24px\"viewBox=\"0 0 24 24\"\n",
              "       width=\"24px\">\n",
              "    <path d=\"M0 0h24v24H0V0z\" fill=\"none\"/>\n",
              "    <path d=\"M18.56 5.44l.94 2.06.94-2.06 2.06-.94-2.06-.94-.94-2.06-.94 2.06-2.06.94zm-11 1L8.5 8.5l.94-2.06 2.06-.94-2.06-.94L8.5 2.5l-.94 2.06-2.06.94zm10 10l.94 2.06.94-2.06 2.06-.94-2.06-.94-.94-2.06-.94 2.06-2.06.94z\"/><path d=\"M17.41 7.96l-1.37-1.37c-.4-.4-.92-.59-1.43-.59-.52 0-1.04.2-1.43.59L10.3 9.45l-7.72 7.72c-.78.78-.78 2.05 0 2.83L4 21.41c.39.39.9.59 1.41.59.51 0 1.02-.2 1.41-.59l7.78-7.78 2.81-2.81c.8-.78.8-2.07 0-2.86zM5.41 20L4 18.59l7.72-7.72 1.47 1.35L5.41 20z\"/>\n",
              "  </svg>\n",
              "      </button>\n",
              "      \n",
              "  <style>\n",
              "    .colab-df-container {\n",
              "      display:flex;\n",
              "      flex-wrap:wrap;\n",
              "      gap: 12px;\n",
              "    }\n",
              "\n",
              "    .colab-df-convert {\n",
              "      background-color: #E8F0FE;\n",
              "      border: none;\n",
              "      border-radius: 50%;\n",
              "      cursor: pointer;\n",
              "      display: none;\n",
              "      fill: #1967D2;\n",
              "      height: 32px;\n",
              "      padding: 0 0 0 0;\n",
              "      width: 32px;\n",
              "    }\n",
              "\n",
              "    .colab-df-convert:hover {\n",
              "      background-color: #E2EBFA;\n",
              "      box-shadow: 0px 1px 2px rgba(60, 64, 67, 0.3), 0px 1px 3px 1px rgba(60, 64, 67, 0.15);\n",
              "      fill: #174EA6;\n",
              "    }\n",
              "\n",
              "    [theme=dark] .colab-df-convert {\n",
              "      background-color: #3B4455;\n",
              "      fill: #D2E3FC;\n",
              "    }\n",
              "\n",
              "    [theme=dark] .colab-df-convert:hover {\n",
              "      background-color: #434B5C;\n",
              "      box-shadow: 0px 1px 3px 1px rgba(0, 0, 0, 0.15);\n",
              "      filter: drop-shadow(0px 1px 2px rgba(0, 0, 0, 0.3));\n",
              "      fill: #FFFFFF;\n",
              "    }\n",
              "  </style>\n",
              "\n",
              "      <script>\n",
              "        const buttonEl =\n",
              "          document.querySelector('#df-f72c452a-1fa5-42af-99b6-03a91d329f34 button.colab-df-convert');\n",
              "        buttonEl.style.display =\n",
              "          google.colab.kernel.accessAllowed ? 'block' : 'none';\n",
              "\n",
              "        async function convertToInteractive(key) {\n",
              "          const element = document.querySelector('#df-f72c452a-1fa5-42af-99b6-03a91d329f34');\n",
              "          const dataTable =\n",
              "            await google.colab.kernel.invokeFunction('convertToInteractive',\n",
              "                                                     [key], {});\n",
              "          if (!dataTable) return;\n",
              "\n",
              "          const docLinkHtml = 'Like what you see? Visit the ' +\n",
              "            '<a target=\"_blank\" href=https://colab.research.google.com/notebooks/data_table.ipynb>data table notebook</a>'\n",
              "            + ' to learn more about interactive tables.';\n",
              "          element.innerHTML = '';\n",
              "          dataTable['output_type'] = 'display_data';\n",
              "          await google.colab.output.renderOutput(dataTable, element);\n",
              "          const docLink = document.createElement('div');\n",
              "          docLink.innerHTML = docLinkHtml;\n",
              "          element.appendChild(docLink);\n",
              "        }\n",
              "      </script>\n",
              "    </div>\n",
              "  </div>\n",
              "  "
            ]
          },
          "metadata": {},
          "execution_count": 1048
        }
      ]
    },
    {
      "cell_type": "code",
      "source": [
        "df['genre'].value_counts()"
      ],
      "metadata": {
        "colab": {
          "base_uri": "https://localhost:8080/"
        },
        "id": "qsQPasUV2Zyi",
        "outputId": "ed540d7c-4902-4bd3-9195-f07133b2784c"
      },
      "execution_count": 1049,
      "outputs": [
        {
          "output_type": "execute_result",
          "data": {
            "text/plain": [
              "drama            1432\n",
              "comedy           1310\n",
              "documentation     588\n",
              "thriller          442\n",
              "action            292\n",
              "scifi             289\n",
              "romance           265\n",
              "crime             254\n",
              "animation         232\n",
              "reality           176\n",
              "fantasy           143\n",
              "horror            121\n",
              "                   68\n",
              "family             66\n",
              "music              50\n",
              "war                43\n",
              "western            22\n",
              "history             9\n",
              "sport               4\n",
              "Name: genre, dtype: int64"
            ]
          },
          "metadata": {},
          "execution_count": 1049
        }
      ]
    },
    {
      "cell_type": "markdown",
      "source": [
        "Almost perfect, got it down to just one genre for each row.  Now I'm going to impute my missing info with the mode of our set which is drama. "
      ],
      "metadata": {
        "id": "D7UQ-F28K0CW"
      }
    },
    {
      "cell_type": "code",
      "source": [
        "df['genre'] = df['genre'].replace('1','drama')\n",
        "df['genre'].value_counts()"
      ],
      "metadata": {
        "colab": {
          "base_uri": "https://localhost:8080/"
        },
        "id": "LVNuwhTDLlmD",
        "outputId": "47d742b2-64c1-4f02-9d32-46d02bb1e16d"
      },
      "execution_count": 1050,
      "outputs": [
        {
          "output_type": "execute_result",
          "data": {
            "text/plain": [
              "drama            1432\n",
              "comedy           1310\n",
              "documentation     588\n",
              "thriller          442\n",
              "action            292\n",
              "scifi             289\n",
              "romance           265\n",
              "crime             254\n",
              "animation         232\n",
              "reality           176\n",
              "fantasy           143\n",
              "horror            121\n",
              "                   68\n",
              "family             66\n",
              "music              50\n",
              "war                43\n",
              "western            22\n",
              "history             9\n",
              "sport               4\n",
              "Name: genre, dtype: int64"
            ]
          },
          "metadata": {},
          "execution_count": 1050
        }
      ]
    },
    {
      "cell_type": "code",
      "source": [
        "df['genre'].nunique()"
      ],
      "metadata": {
        "colab": {
          "base_uri": "https://localhost:8080/"
        },
        "id": "F60LAL6rPbG4",
        "outputId": "81655718-54e8-4ff6-de0c-17f2af6d043e"
      },
      "execution_count": 1051,
      "outputs": [
        {
          "output_type": "execute_result",
          "data": {
            "text/plain": [
              "19"
            ]
          },
          "metadata": {},
          "execution_count": 1051
        }
      ]
    },
    {
      "cell_type": "markdown",
      "source": [
        "Perfect, from 1626 unique values down to 18"
      ],
      "metadata": {
        "id": "QDwMcZPiPODZ"
      }
    },
    {
      "cell_type": "code",
      "source": [
        "df.info()"
      ],
      "metadata": {
        "colab": {
          "base_uri": "https://localhost:8080/"
        },
        "id": "gK6EnGIRLxVS",
        "outputId": "c6a3083b-6917-434a-9408-3ba29baa4826"
      },
      "execution_count": 1052,
      "outputs": [
        {
          "output_type": "stream",
          "name": "stdout",
          "text": [
            "<class 'pandas.core.frame.DataFrame'>\n",
            "RangeIndex: 5806 entries, 0 to 5805\n",
            "Data columns (total 8 columns):\n",
            " #   Column           Non-Null Count  Dtype  \n",
            "---  ------           --------------  -----  \n",
            " 0   type             5806 non-null   object \n",
            " 1   release_year     5806 non-null   int64  \n",
            " 2   runtime          5806 non-null   int64  \n",
            " 3   imdb_score       5283 non-null   float64\n",
            " 4   imdb_votes       5267 non-null   float64\n",
            " 5   tmdb_popularity  5712 non-null   float64\n",
            " 6   tmdb_score       5488 non-null   float64\n",
            " 7   genre            5806 non-null   object \n",
            "dtypes: float64(4), int64(2), object(2)\n",
            "memory usage: 363.0+ KB\n"
          ]
        }
      ]
    },
    {
      "cell_type": "code",
      "execution_count": 1053,
      "metadata": {
        "colab": {
          "base_uri": "https://localhost:8080/"
        },
        "id": "gNkt_FC8RID3",
        "outputId": "43686c68-9952-449a-dbdd-11655bc67c6b"
      },
      "outputs": [
        {
          "output_type": "execute_result",
          "data": {
            "text/plain": [
              "6.6    201\n",
              "6.8    199\n",
              "6.5    193\n",
              "6.2    192\n",
              "7.4    190\n",
              "      ... \n",
              "2.0      1\n",
              "1.9      1\n",
              "2.4      1\n",
              "1.6      1\n",
              "1.8      1\n",
              "Name: imdb_score, Length: 81, dtype: int64"
            ]
          },
          "metadata": {},
          "execution_count": 1053
        }
      ],
      "source": [
        "df['imdb_score'].value_counts()"
      ]
    },
    {
      "cell_type": "code",
      "execution_count": 1054,
      "metadata": {
        "colab": {
          "base_uri": "https://localhost:8080/"
        },
        "id": "6Qey6Ot6RjCw",
        "outputId": "18b822bc-26db-4572-bb1e-92034cd4a1bf"
      },
      "outputs": [
        {
          "output_type": "execute_result",
          "data": {
            "text/plain": [
              "count    5283.000000\n",
              "mean        6.533447\n",
              "std         1.160932\n",
              "min         1.500000\n",
              "25%         5.800000\n",
              "50%         6.600000\n",
              "75%         7.400000\n",
              "max         9.600000\n",
              "Name: imdb_score, dtype: float64"
            ]
          },
          "metadata": {},
          "execution_count": 1054
        }
      ],
      "source": [
        "df['imdb_score'].describe()"
      ]
    },
    {
      "cell_type": "markdown",
      "metadata": {
        "id": "1WyYXf4sRrzx"
      },
      "source": [
        "That looks good."
      ]
    },
    {
      "cell_type": "code",
      "execution_count": 1055,
      "metadata": {
        "colab": {
          "base_uri": "https://localhost:8080/"
        },
        "id": "8Et15PklRpw3",
        "outputId": "60a4bf2f-505a-4fa5-8a25-9e58254ab518"
      },
      "outputs": [
        {
          "output_type": "execute_result",
          "data": {
            "text/plain": [
              "43.0        11\n",
              "25.0        11\n",
              "30.0         9\n",
              "14.0         9\n",
              "74.0         9\n",
              "            ..\n",
              "103.0        1\n",
              "399.0        1\n",
              "278223.0     1\n",
              "28718.0      1\n",
              "10418.0      1\n",
              "Name: imdb_votes, Length: 3831, dtype: int64"
            ]
          },
          "metadata": {},
          "execution_count": 1055
        }
      ],
      "source": [
        "df['imdb_votes'].value_counts()"
      ]
    },
    {
      "cell_type": "code",
      "execution_count": 1056,
      "metadata": {
        "colab": {
          "base_uri": "https://localhost:8080/"
        },
        "id": "A9yZUgVjRwnH",
        "outputId": "f87f6a14-368e-4185-91ba-ea2eb5eebf8f"
      },
      "outputs": [
        {
          "output_type": "execute_result",
          "data": {
            "text/plain": [
              "count    5.267000e+03\n",
              "mean     2.340719e+04\n",
              "std      8.713432e+04\n",
              "min      5.000000e+00\n",
              "25%      5.210000e+02\n",
              "50%      2.279000e+03\n",
              "75%      1.014400e+04\n",
              "max      2.268288e+06\n",
              "Name: imdb_votes, dtype: float64"
            ]
          },
          "metadata": {},
          "execution_count": 1056
        }
      ],
      "source": [
        "df['imdb_votes'].describe()"
      ]
    },
    {
      "cell_type": "code",
      "execution_count": 1057,
      "metadata": {
        "colab": {
          "base_uri": "https://localhost:8080/"
        },
        "id": "qmLRr-CeR2K4",
        "outputId": "6b885439-6db6-40b8-9bcf-648b5ed22670"
      },
      "outputs": [
        {
          "output_type": "execute_result",
          "data": {
            "text/plain": [
              "1.400     66\n",
              "0.600     57\n",
              "1.960      8\n",
              "2.744      7\n",
              "0.840      7\n",
              "          ..\n",
              "70.563     1\n",
              "7.434      1\n",
              "33.558     1\n",
              "60.496     1\n",
              "0.979      1\n",
              "Name: tmdb_popularity, Length: 4943, dtype: int64"
            ]
          },
          "metadata": {},
          "execution_count": 1057
        }
      ],
      "source": [
        "df['tmdb_popularity'].value_counts()"
      ]
    },
    {
      "cell_type": "code",
      "execution_count": 1058,
      "metadata": {
        "colab": {
          "base_uri": "https://localhost:8080/"
        },
        "id": "wHnKXKa9SFYe",
        "outputId": "17264102-322e-4a28-a06d-10ba7851882a"
      },
      "outputs": [
        {
          "output_type": "execute_result",
          "data": {
            "text/plain": [
              "count    5712.000000\n",
              "mean       22.525660\n",
              "std        68.849177\n",
              "min         0.009442\n",
              "25%         3.155250\n",
              "50%         7.478000\n",
              "75%        17.775750\n",
              "max      1823.374000\n",
              "Name: tmdb_popularity, dtype: float64"
            ]
          },
          "metadata": {},
          "execution_count": 1058
        }
      ],
      "source": [
        "df['tmdb_popularity'].describe()"
      ]
    },
    {
      "cell_type": "code",
      "execution_count": 1059,
      "metadata": {
        "colab": {
          "base_uri": "https://localhost:8080/"
        },
        "id": "I3_oyU99x0sa",
        "outputId": "6eefb231-fd50-4049-e749-e3881d78b1d8"
      },
      "outputs": [
        {
          "output_type": "execute_result",
          "data": {
            "text/plain": [
              "2019    848\n",
              "2020    805\n",
              "2018    774\n",
              "2021    758\n",
              "2017    580\n",
              "       ... \n",
              "1974      1\n",
              "1959      1\n",
              "1962      1\n",
              "1978      1\n",
              "1945      1\n",
              "Name: release_year, Length: 67, dtype: int64"
            ]
          },
          "metadata": {},
          "execution_count": 1059
        }
      ],
      "source": [
        "df['release_year'].value_counts()"
      ]
    },
    {
      "cell_type": "code",
      "execution_count": 1060,
      "metadata": {
        "colab": {
          "base_uri": "https://localhost:8080/"
        },
        "id": "Cmy2jRtZxt8c",
        "outputId": "23ebe9f8-1e2d-40c9-98f8-51871c7ec7ab"
      },
      "outputs": [
        {
          "output_type": "execute_result",
          "data": {
            "text/plain": [
              "count    5806.000000\n",
              "mean     2016.013434\n",
              "std         7.324883\n",
              "min      1945.000000\n",
              "25%      2015.000000\n",
              "50%      2018.000000\n",
              "75%      2020.000000\n",
              "max      2022.000000\n",
              "Name: release_year, dtype: float64"
            ]
          },
          "metadata": {},
          "execution_count": 1060
        }
      ],
      "source": [
        "df['release_year'].describe()"
      ]
    },
    {
      "cell_type": "code",
      "execution_count": 1061,
      "metadata": {
        "colab": {
          "base_uri": "https://localhost:8080/"
        },
        "id": "j5ZVpeSOSV44",
        "outputId": "361e580c-a976-407d-8eb5-08af2fff5f51"
      },
      "outputs": [
        {
          "output_type": "execute_result",
          "data": {
            "text/plain": [
              "7.0    285\n",
              "7.3    208\n",
              "6.8    207\n",
              "6.5    204\n",
              "7.4    201\n",
              "      ... \n",
              "2.3      1\n",
              "3.1      1\n",
              "0.5      1\n",
              "3.4      1\n",
              "2.5      1\n",
              "Name: tmdb_score, Length: 78, dtype: int64"
            ]
          },
          "metadata": {},
          "execution_count": 1061
        }
      ],
      "source": [
        "df['tmdb_score'].value_counts()"
      ]
    },
    {
      "cell_type": "code",
      "execution_count": 1062,
      "metadata": {
        "colab": {
          "base_uri": "https://localhost:8080/"
        },
        "id": "VXO2bUo6SMHY",
        "outputId": "d0422af8-cc09-413f-a284-91125b046a6d"
      },
      "outputs": [
        {
          "output_type": "execute_result",
          "data": {
            "text/plain": [
              "count    5488.000000\n",
              "mean        6.818039\n",
              "std         1.171560\n",
              "min         0.500000\n",
              "25%         6.100000\n",
              "50%         6.900000\n",
              "75%         7.500000\n",
              "max        10.000000\n",
              "Name: tmdb_score, dtype: float64"
            ]
          },
          "metadata": {},
          "execution_count": 1062
        }
      ],
      "source": [
        "df['tmdb_score'].describe()"
      ]
    },
    {
      "cell_type": "code",
      "source": [
        "df_ml = df.copy() # we need a copy before any imputation to prevent data leakage\n",
        "df_km = df.copy()"
      ],
      "metadata": {
        "id": "caVzaYHu9Lhb"
      },
      "execution_count": 1063,
      "outputs": []
    },
    {
      "cell_type": "code",
      "execution_count": 1064,
      "metadata": {
        "colab": {
          "base_uri": "https://localhost:8080/"
        },
        "id": "9bVvw2NtToCW",
        "outputId": "9ae94f5e-c046-472f-f98a-07dacea0b104"
      },
      "outputs": [
        {
          "output_type": "stream",
          "name": "stdout",
          "text": [
            "<class 'pandas.core.frame.DataFrame'>\n",
            "RangeIndex: 5806 entries, 0 to 5805\n",
            "Data columns (total 8 columns):\n",
            " #   Column           Non-Null Count  Dtype  \n",
            "---  ------           --------------  -----  \n",
            " 0   type             5806 non-null   object \n",
            " 1   release_year     5806 non-null   int64  \n",
            " 2   runtime          5806 non-null   int64  \n",
            " 3   imdb_score       5283 non-null   float64\n",
            " 4   imdb_votes       5267 non-null   float64\n",
            " 5   tmdb_popularity  5712 non-null   float64\n",
            " 6   tmdb_score       5488 non-null   float64\n",
            " 7   genre            5806 non-null   object \n",
            "dtypes: float64(4), int64(2), object(2)\n",
            "memory usage: 363.0+ KB\n"
          ]
        }
      ],
      "source": [
        "df.info()"
      ]
    },
    {
      "cell_type": "markdown",
      "metadata": {
        "id": "fYc70YH_TrG4"
      },
      "source": [
        "Data types are correct, we have 4 columns missing data.  As i dont want to skew the data too much i am going to use the mean of imdb_score and tmdb_score to impute for those columns.  For tmdb_popularity and imdb_votes I am going to use the median of those columns because I dont want the outliers skewing my imputation."
      ]
    },
    {
      "cell_type": "code",
      "execution_count": 1065,
      "metadata": {
        "colab": {
          "base_uri": "https://localhost:8080/",
          "height": 265
        },
        "id": "HmQSA5wCcnle",
        "outputId": "9cb8a11c-8315-4385-f444-1e4146219de3"
      },
      "outputs": [
        {
          "output_type": "display_data",
          "data": {
            "text/plain": [
              "<Figure size 432x288 with 1 Axes>"
            ],
            "image/png": "[encoded data removed]"
          },
          "metadata": {
            "needs_background": "light"
          }
        }
      ],
      "source": [
        "df['imdb_score'].hist(bins=50);"
      ]
    },
    {
      "cell_type": "markdown",
      "metadata": {
        "id": "xC5TmJQ1csEv"
      },
      "source": [
        "Before we impute i wanted to get a visual of how our scores are allocated. We see most shows/movies score between a rating of 6 to 8."
      ]
    },
    {
      "cell_type": "code",
      "execution_count": 1066,
      "metadata": {
        "colab": {
          "base_uri": "https://localhost:8080/",
          "height": 265
        },
        "id": "e3ogMRFyc-Wn",
        "outputId": "33b7af7d-9f12-4572-e71b-7c35d955caae"
      },
      "outputs": [
        {
          "output_type": "display_data",
          "data": {
            "text/plain": [
              "<Figure size 432x288 with 1 Axes>"
            ],
            "image/png": "[encoded data removed]"
          },
          "metadata": {
            "needs_background": "light"
          }
        }
      ],
      "source": [
        "df['tmdb_score'].hist(bins=50);"
      ]
    },
    {
      "cell_type": "markdown",
      "metadata": {
        "id": "WGBCR8aqdIp1"
      },
      "source": [
        "The tmbd movie scores follow in a similar pattern."
      ]
    },
    {
      "cell_type": "code",
      "execution_count": 1067,
      "metadata": {
        "colab": {
          "base_uri": "https://localhost:8080/",
          "height": 341
        },
        "id": "lGm-W9EJde2V",
        "outputId": "5fd09be0-20a8-4b62-9e7b-37ccd8942b57"
      },
      "outputs": [
        {
          "output_type": "display_data",
          "data": {
            "text/plain": [
              "<Figure size 432x288 with 2 Axes>"
            ],
            "image/png": "[encoded data removed]"
          },
          "metadata": {
            "needs_background": "light"
          }
        }
      ],
      "source": [
        "corr = df.corr()\n",
        "sns.heatmap(corr, cmap = 'Blues', annot = True);"
      ]
    },
    {
      "cell_type": "markdown",
      "metadata": {
        "id": "IVwTpkC6dpfw"
      },
      "source": [
        "Okay so we can see the moderate correlation between imdb and tmdb scores, nothing else has a strong correlation."
      ]
    },
    {
      "cell_type": "code",
      "execution_count": 1068,
      "metadata": {
        "colab": {
          "base_uri": "https://localhost:8080/"
        },
        "id": "nj2JJ5nHTop-",
        "outputId": "058d9460-f17c-4948-87d8-45bb34fe54ed"
      },
      "outputs": [
        {
          "output_type": "execute_result",
          "data": {
            "text/plain": [
              "0"
            ]
          },
          "metadata": {},
          "execution_count": 1068
        }
      ],
      "source": [
        "imdb_score_mean = df['imdb_score'].mean()\n",
        "df['imdb_score'].fillna(imdb_score_mean, inplace=True)\n",
        "df['imdb_score'].isna().sum()"
      ]
    },
    {
      "cell_type": "code",
      "execution_count": 1069,
      "metadata": {
        "colab": {
          "base_uri": "https://localhost:8080/"
        },
        "id": "e-u31YqcULCK",
        "outputId": "56113d44-8f90-4c93-de50-b838c59b8bad"
      },
      "outputs": [
        {
          "output_type": "execute_result",
          "data": {
            "text/plain": [
              "0"
            ]
          },
          "metadata": {},
          "execution_count": 1069
        }
      ],
      "source": [
        "imdb_votes_median = df['imdb_votes'].median()\n",
        "df['imdb_votes'].fillna(imdb_votes_median, inplace=True)\n",
        "df['imdb_votes'].isna().sum()"
      ]
    },
    {
      "cell_type": "code",
      "execution_count": 1070,
      "metadata": {
        "colab": {
          "base_uri": "https://localhost:8080/"
        },
        "id": "eVD1Rc4hUR3o",
        "outputId": "65568380-5e80-4fe2-d15f-a472a465d796"
      },
      "outputs": [
        {
          "output_type": "execute_result",
          "data": {
            "text/plain": [
              "0"
            ]
          },
          "metadata": {},
          "execution_count": 1070
        }
      ],
      "source": [
        "tmdb_pop_median = df['tmdb_popularity'].median()\n",
        "df['tmdb_popularity'].fillna(tmdb_pop_median, inplace=True)\n",
        "df['tmdb_popularity'].isna().sum()"
      ]
    },
    {
      "cell_type": "code",
      "execution_count": 1071,
      "metadata": {
        "colab": {
          "base_uri": "https://localhost:8080/"
        },
        "id": "Q7WXnTLMUajw",
        "outputId": "dc17aa4d-478b-466c-bd18-bc78501f0297"
      },
      "outputs": [
        {
          "output_type": "execute_result",
          "data": {
            "text/plain": [
              "type               0\n",
              "release_year       0\n",
              "runtime            0\n",
              "imdb_score         0\n",
              "imdb_votes         0\n",
              "tmdb_popularity    0\n",
              "tmdb_score         0\n",
              "genre              0\n",
              "dtype: int64"
            ]
          },
          "metadata": {},
          "execution_count": 1071
        }
      ],
      "source": [
        "tmdb_score_mean = df['tmdb_score'].mean()\n",
        "df['tmdb_score'].fillna(tmdb_score_mean, inplace=True)\n",
        "df.isna().sum()"
      ]
    },
    {
      "cell_type": "markdown",
      "metadata": {
        "id": "9tupMsk1UjJN"
      },
      "source": [
        "Perfect, no missing data!"
      ]
    },
    {
      "cell_type": "code",
      "execution_count": 1072,
      "metadata": {
        "colab": {
          "base_uri": "https://localhost:8080/",
          "height": 341
        },
        "id": "RT1dAkSlUiF_",
        "outputId": "c754c10f-6f2a-46ec-9abb-f65055c38771"
      },
      "outputs": [
        {
          "output_type": "display_data",
          "data": {
            "text/plain": [
              "<Figure size 432x288 with 2 Axes>"
            ],
            "image/png": "[encoded data removed]"
          },
          "metadata": {
            "needs_background": "light"
          }
        }
      ],
      "source": [
        "corr = df.corr()\n",
        "sns.heatmap(corr, cmap = 'Blues', annot = True);"
      ]
    },
    {
      "cell_type": "markdown",
      "metadata": {
        "id": "ed-TUealVbxg"
      },
      "source": [
        "After imputing we notice that our correlation between imdb_score and tmdb_score has gone down by a few percentage points, shouldnt be a big deal. Nothing else has changed. "
      ]
    },
    {
      "cell_type": "markdown",
      "metadata": {
        "id": "v6yAQ66E7usT"
      },
      "source": [
        "## Visuals"
      ]
    },
    {
      "cell_type": "markdown",
      "metadata": {
        "id": "maJhFdUgBoaN"
      },
      "source": [
        "Our only noticable correlation thus far is between IMDB_Score and TMDB_Score. \n",
        "\n",
        "There is a slight correlation between 'runtime' and 'tmdb_score' at .28.\n",
        "\n",
        "We do have a very weak correlation between imdb_votes and imdb_score. Also just as weak we have a correlation between imdb_votes and tmdb_popularity. "
      ]
    },
    {
      "cell_type": "code",
      "execution_count": 1073,
      "metadata": {
        "id": "AOIYW_Tt7ttY"
      },
      "outputs": [],
      "source": [
        "tmdb_score = df['tmdb_score'].values\n",
        "runtime = df['runtime'].values"
      ]
    },
    {
      "cell_type": "code",
      "execution_count": 1074,
      "metadata": {
        "colab": {
          "base_uri": "https://localhost:8080/",
          "height": 295
        },
        "id": "d8IF64Px_zv5",
        "outputId": "87f7eecc-518f-4000-fa4a-8c7b2437d6ed"
      },
      "outputs": [
        {
          "output_type": "display_data",
          "data": {
            "text/plain": [
              "<Figure size 432x288 with 1 Axes>"
            ],
            "image/png": "[encoded data removed]"
          },
          "metadata": {
            "needs_background": "light"
          }
        }
      ],
      "source": [
        "plt.scatter(tmdb_score, runtime, c = 'red', alpha= .3);\n",
        "plt.ylabel('Runtime in minutes');\n",
        "plt.xlabel('TMDB Score')\n",
        "plt.title('Runtime vs TMDB Score')\n",
        "plt.show;"
      ]
    },
    {
      "cell_type": "markdown",
      "metadata": {
        "id": "jnY8FykGC99u"
      },
      "source": [
        "The darker the red, the more points there are in one spot.  This shows us our relationship between TMDB_score and runtime. The bottom right of our plot shows us that shorter shows/movies (we dont know which type they fall into) have a slightly higher TMDB_Score."
      ]
    },
    {
      "cell_type": "code",
      "source": [
        "sns.barplot(data = df, x = 'type', y = 'imdb_score', order = ['SHOW','MOVIE']);\n",
        "plt.title('IMDB Score by Type', fontsize=16)\n",
        "plt.xlabel('Type',fontsize = 12)\n",
        "plt.ylabel('IMDB Score', fontsize =12 );\n",
        "plt.grid()"
      ],
      "metadata": {
        "colab": {
          "base_uri": "https://localhost:8080/",
          "height": 300
        },
        "id": "jn-EVmXsveYa",
        "outputId": "2b237afe-9afa-4d78-9e57-8ffec8ed2937"
      },
      "execution_count": 1075,
      "outputs": [
        {
          "output_type": "display_data",
          "data": {
            "text/plain": [
              "<Figure size 432x288 with 1 Axes>"
            ],
            "image/png": "[encoded data removed]"
          },
          "metadata": {
            "needs_background": "light"
          }
        }
      ]
    },
    {
      "cell_type": "markdown",
      "metadata": {
        "id": "q5XWL0ACeaar"
      },
      "source": [
        "## ML prep"
      ]
    },
    {
      "cell_type": "code",
      "execution_count": 1076,
      "metadata": {
        "colab": {
          "base_uri": "https://localhost:8080/"
        },
        "id": "wHFxeBWPegH5",
        "outputId": "b92a93fc-1dec-4cf6-ada2-791f36f6e91d"
      },
      "outputs": [
        {
          "output_type": "stream",
          "name": "stdout",
          "text": [
            "<class 'pandas.core.frame.DataFrame'>\n",
            "RangeIndex: 5806 entries, 0 to 5805\n",
            "Data columns (total 8 columns):\n",
            " #   Column           Non-Null Count  Dtype  \n",
            "---  ------           --------------  -----  \n",
            " 0   type             5806 non-null   object \n",
            " 1   release_year     5806 non-null   int64  \n",
            " 2   runtime          5806 non-null   int64  \n",
            " 3   imdb_score       5283 non-null   float64\n",
            " 4   imdb_votes       5267 non-null   float64\n",
            " 5   tmdb_popularity  5712 non-null   float64\n",
            " 6   tmdb_score       5488 non-null   float64\n",
            " 7   genre            5806 non-null   object \n",
            "dtypes: float64(4), int64(2), object(2)\n",
            "memory usage: 363.0+ KB\n"
          ]
        }
      ],
      "source": [
        "df_ml.info()"
      ]
    },
    {
      "cell_type": "markdown",
      "metadata": {
        "id": "9EsjLM40uqWF"
      },
      "source": [
        "I am missing data in my target column (imdb_score).  Because I cant model with missing values I am going to drop all the rows that are missing the imdb_score."
      ]
    },
    {
      "cell_type": "code",
      "execution_count": 1077,
      "metadata": {
        "colab": {
          "base_uri": "https://localhost:8080/"
        },
        "id": "TR3psP6rvDTb",
        "outputId": "755c1841-d192-492f-d7ce-496ed74d3978"
      },
      "outputs": [
        {
          "output_type": "execute_result",
          "data": {
            "text/plain": [
              "type                 0\n",
              "release_year         0\n",
              "runtime              0\n",
              "imdb_score           0\n",
              "imdb_votes          16\n",
              "tmdb_popularity     84\n",
              "tmdb_score         228\n",
              "genre                0\n",
              "dtype: int64"
            ]
          },
          "metadata": {},
          "execution_count": 1077
        }
      ],
      "source": [
        "df_ml.dropna(subset=['imdb_score'], inplace=True)\n",
        "df_ml.isna().sum()"
      ]
    },
    {
      "cell_type": "markdown",
      "metadata": {
        "id": "KennnNaYewGd"
      },
      "source": [
        "Time to split, then setup selectors and pipelines, then we can impute."
      ]
    },
    {
      "cell_type": "code",
      "execution_count": 1078,
      "metadata": {
        "id": "y92C6Z2Neoh9"
      },
      "outputs": [],
      "source": [
        "#Validation split\n",
        "X = df_ml.drop(columns=['imdb_score'])\n",
        "y = df_ml['imdb_score']\n",
        "X_train, X_test, y_train, y_test = train_test_split(X, y, random_state=42)"
      ]
    },
    {
      "cell_type": "code",
      "execution_count": 1079,
      "metadata": {
        "id": "RaWO5scue6JV"
      },
      "outputs": [],
      "source": [
        "#making our ohe pipeline, selector(s) first\n",
        "num_selector = make_column_selector(dtype_include='number')\n",
        "cat_selector = make_column_selector(dtype_include='object')"
      ]
    },
    {
      "cell_type": "markdown",
      "metadata": {
        "id": "7JbVqooufcTF"
      },
      "source": [
        "As I did for EDA im going to use the median of each column to impute our missing values. We want to use median because we do not want the outliers skewing the imputation."
      ]
    },
    {
      "cell_type": "code",
      "execution_count": 1080,
      "metadata": {
        "id": "d5x3PJgNfaWy"
      },
      "outputs": [],
      "source": [
        "# Imputers\n",
        "median_imputer = SimpleImputer(strategy='median')\n",
        "scaler = StandardScaler()\n",
        "ohe = OneHotEncoder(handle_unknown='ignore', sparse=False)"
      ]
    },
    {
      "cell_type": "markdown",
      "metadata": {
        "id": "9VPct1yVzovJ"
      },
      "source": [
        "i had originally wanted to use mean to impute my data but with so many outliers skewed on the high side of both imdb_score and tmdb_popularity im going to use median so i dont skew my data any more"
      ]
    },
    {
      "cell_type": "code",
      "execution_count": 1081,
      "metadata": {
        "colab": {
          "base_uri": "https://localhost:8080/",
          "height": 126
        },
        "id": "OF0JbkW_fkJP",
        "outputId": "e2e10555-c027-4a75-8363-1e623f7d70ee"
      },
      "outputs": [
        {
          "output_type": "execute_result",
          "data": {
            "text/plain": [
              "Pipeline(steps=[('simpleimputer', SimpleImputer(strategy='median')),\n",
              "                ('standardscaler', StandardScaler())])"
            ],
            "text/html": [
              "<style>#sk-85e1d267-8612-4dc8-9ea4-3badd570c901 {color: black;background-color: white;}#sk-85e1d267-8612-4dc8-9ea4-3badd570c901 pre{padding: 0;}#sk-85e1d267-8612-4dc8-9ea4-3badd570c901 div.sk-toggleable {background-color: white;}#sk-85e1d267-8612-4dc8-9ea4-3badd570c901 label.sk-toggleable__label {cursor: pointer;display: block;width: 100%;margin-bottom: 0;padding: 0.3em;box-sizing: border-box;text-align: center;}#sk-85e1d267-8612-4dc8-9ea4-3badd570c901 label.sk-toggleable__label-arrow:before {content: \"▸\";float: left;margin-right: 0.25em;color: #696969;}#sk-85e1d267-8612-4dc8-9ea4-3badd570c901 label.sk-toggleable__label-arrow:hover:before {color: black;}#sk-85e1d267-8612-4dc8-9ea4-3badd570c901 div.sk-estimator:hover label.sk-toggleable__label-arrow:before {color: black;}#sk-85e1d267-8612-4dc8-9ea4-3badd570c901 div.sk-toggleable__content {max-height: 0;max-width: 0;overflow: hidden;text-align: left;background-color: #f0f8ff;}#sk-85e1d267-8612-4dc8-9ea4-3badd570c901 div.sk-toggleable__content pre {margin: 0.2em;color: black;border-radius: 0.25em;background-color: #f0f8ff;}#sk-85e1d267-8612-4dc8-9ea4-3badd570c901 input.sk-toggleable__control:checked~div.sk-toggleable__content {max-height: 200px;max-width: 100%;overflow: auto;}#sk-85e1d267-8612-4dc8-9ea4-3badd570c901 input.sk-toggleable__control:checked~label.sk-toggleable__label-arrow:before {content: \"▾\";}#sk-85e1d267-8612-4dc8-9ea4-3badd570c901 div.sk-estimator input.sk-toggleable__control:checked~label.sk-toggleable__label {background-color: #d4ebff;}#sk-85e1d267-8612-4dc8-9ea4-3badd570c901 div.sk-label input.sk-toggleable__control:checked~label.sk-toggleable__label {background-color: #d4ebff;}#sk-85e1d267-8612-4dc8-9ea4-3badd570c901 input.sk-hidden--visually {border: 0;clip: rect(1px 1px 1px 1px);clip: rect(1px, 1px, 1px, 1px);height: 1px;margin: -1px;overflow: hidden;padding: 0;position: absolute;width: 1px;}#sk-85e1d267-8612-4dc8-9ea4-3badd570c901 div.sk-estimator {font-family: monospace;background-color: #f0f8ff;border: 1px dotted black;border-radius: 0.25em;box-sizing: border-box;margin-bottom: 0.5em;}#sk-85e1d267-8612-4dc8-9ea4-3badd570c901 div.sk-estimator:hover {background-color: #d4ebff;}#sk-85e1d267-8612-4dc8-9ea4-3badd570c901 div.sk-parallel-item::after {content: \"\";width: 100%;border-bottom: 1px solid gray;flex-grow: 1;}#sk-85e1d267-8612-4dc8-9ea4-3badd570c901 div.sk-label:hover label.sk-toggleable__label {background-color: #d4ebff;}#sk-85e1d267-8612-4dc8-9ea4-3badd570c901 div.sk-serial::before {content: \"\";position: absolute;border-left: 1px solid gray;box-sizing: border-box;top: 2em;bottom: 0;left: 50%;}#sk-85e1d267-8612-4dc8-9ea4-3badd570c901 div.sk-serial {display: flex;flex-direction: column;align-items: center;background-color: white;padding-right: 0.2em;padding-left: 0.2em;}#sk-85e1d267-8612-4dc8-9ea4-3badd570c901 div.sk-item {z-index: 1;}#sk-85e1d267-8612-4dc8-9ea4-3badd570c901 div.sk-parallel {display: flex;align-items: stretch;justify-content: center;background-color: white;}#sk-85e1d267-8612-4dc8-9ea4-3badd570c901 div.sk-parallel::before {content: \"\";position: absolute;border-left: 1px solid gray;box-sizing: border-box;top: 2em;bottom: 0;left: 50%;}#sk-85e1d267-8612-4dc8-9ea4-3badd570c901 div.sk-parallel-item {display: flex;flex-direction: column;position: relative;background-color: white;}#sk-85e1d267-8612-4dc8-9ea4-3badd570c901 div.sk-parallel-item:first-child::after {align-self: flex-end;width: 50%;}#sk-85e1d267-8612-4dc8-9ea4-3badd570c901 div.sk-parallel-item:last-child::after {align-self: flex-start;width: 50%;}#sk-85e1d267-8612-4dc8-9ea4-3badd570c901 div.sk-parallel-item:only-child::after {width: 0;}#sk-85e1d267-8612-4dc8-9ea4-3badd570c901 div.sk-dashed-wrapped {border: 1px dashed gray;margin: 0 0.4em 0.5em 0.4em;box-sizing: border-box;padding-bottom: 0.4em;background-color: white;position: relative;}#sk-85e1d267-8612-4dc8-9ea4-3badd570c901 div.sk-label label {font-family: monospace;font-weight: bold;background-color: white;display: inline-block;line-height: 1.2em;}#sk-85e1d267-8612-4dc8-9ea4-3badd570c901 div.sk-label-container {position: relative;z-index: 2;text-align: center;}#sk-85e1d267-8612-4dc8-9ea4-3badd570c901 div.sk-container {/* jupyter's `normalize.less` sets `[hidden] { display: none; }` but bootstrap.min.css set `[hidden] { display: none !important; }` so we also need the `!important` here to be able to override the default hidden behavior on the sphinx rendered scikit-learn.org. See: https://github.com/scikit-learn/scikit-learn/issues/21755 */display: inline-block !important;position: relative;}#sk-85e1d267-8612-4dc8-9ea4-3badd570c901 div.sk-text-repr-fallback {display: none;}</style><div id=\"sk-85e1d267-8612-4dc8-9ea4-3badd570c901\" class=\"sk-top-container\"><div class=\"sk-text-repr-fallback\"><pre>Pipeline(steps=[(&#x27;simpleimputer&#x27;, SimpleImputer(strategy=&#x27;median&#x27;)),\n",
              "                (&#x27;standardscaler&#x27;, StandardScaler())])</pre><b>Please rerun this cell to show the HTML repr or trust the notebook.</b></div><div class=\"sk-container\" hidden><div class=\"sk-item sk-dashed-wrapped\"><div class=\"sk-label-container\"><div class=\"sk-label sk-toggleable\"><input class=\"sk-toggleable__control sk-hidden--visually\" id=\"7c39c1dc-4f1f-46b1-ab0f-d6f4684e0dfc\" type=\"checkbox\" ><label for=\"7c39c1dc-4f1f-46b1-ab0f-d6f4684e0dfc\" class=\"sk-toggleable__label sk-toggleable__label-arrow\">Pipeline</label><div class=\"sk-toggleable__content\"><pre>Pipeline(steps=[(&#x27;simpleimputer&#x27;, SimpleImputer(strategy=&#x27;median&#x27;)),\n",
              "                (&#x27;standardscaler&#x27;, StandardScaler())])</pre></div></div></div><div class=\"sk-serial\"><div class=\"sk-item\"><div class=\"sk-estimator sk-toggleable\"><input class=\"sk-toggleable__control sk-hidden--visually\" id=\"6d936c03-2edc-4a0e-a967-a7ccf75a07c4\" type=\"checkbox\" ><label for=\"6d936c03-2edc-4a0e-a967-a7ccf75a07c4\" class=\"sk-toggleable__label sk-toggleable__label-arrow\">SimpleImputer</label><div class=\"sk-toggleable__content\"><pre>SimpleImputer(strategy=&#x27;median&#x27;)</pre></div></div></div><div class=\"sk-item\"><div class=\"sk-estimator sk-toggleable\"><input class=\"sk-toggleable__control sk-hidden--visually\" id=\"7674210c-70e1-4508-9d40-b1dfc8de15f0\" type=\"checkbox\" ><label for=\"7674210c-70e1-4508-9d40-b1dfc8de15f0\" class=\"sk-toggleable__label sk-toggleable__label-arrow\">StandardScaler</label><div class=\"sk-toggleable__content\"><pre>StandardScaler()</pre></div></div></div></div></div></div></div>"
            ]
          },
          "metadata": {},
          "execution_count": 1081
        }
      ],
      "source": [
        "numb_pipe = make_pipeline(median_imputer, scaler)\n",
        "numb_pipe"
      ]
    },
    {
      "cell_type": "code",
      "execution_count": 1082,
      "metadata": {
        "colab": {
          "base_uri": "https://localhost:8080/",
          "height": 92
        },
        "id": "33UdKVlUhIxk",
        "outputId": "4dcdca94-4451-4769-a040-8ca69d952b8c"
      },
      "outputs": [
        {
          "output_type": "execute_result",
          "data": {
            "text/plain": [
              "Pipeline(steps=[('onehotencoder',\n",
              "                 OneHotEncoder(handle_unknown='ignore', sparse=False))])"
            ],
            "text/html": [
              "<style>#sk-489650ce-03c5-40d1-9a8e-24b61db6e87c {color: black;background-color: white;}#sk-489650ce-03c5-40d1-9a8e-24b61db6e87c pre{padding: 0;}#sk-489650ce-03c5-40d1-9a8e-24b61db6e87c div.sk-toggleable {background-color: white;}#sk-489650ce-03c5-40d1-9a8e-24b61db6e87c label.sk-toggleable__label {cursor: pointer;display: block;width: 100%;margin-bottom: 0;padding: 0.3em;box-sizing: border-box;text-align: center;}#sk-489650ce-03c5-40d1-9a8e-24b61db6e87c label.sk-toggleable__label-arrow:before {content: \"▸\";float: left;margin-right: 0.25em;color: #696969;}#sk-489650ce-03c5-40d1-9a8e-24b61db6e87c label.sk-toggleable__label-arrow:hover:before {color: black;}#sk-489650ce-03c5-40d1-9a8e-24b61db6e87c div.sk-estimator:hover label.sk-toggleable__label-arrow:before {color: black;}#sk-489650ce-03c5-40d1-9a8e-24b61db6e87c div.sk-toggleable__content {max-height: 0;max-width: 0;overflow: hidden;text-align: left;background-color: #f0f8ff;}#sk-489650ce-03c5-40d1-9a8e-24b61db6e87c div.sk-toggleable__content pre {margin: 0.2em;color: black;border-radius: 0.25em;background-color: #f0f8ff;}#sk-489650ce-03c5-40d1-9a8e-24b61db6e87c input.sk-toggleable__control:checked~div.sk-toggleable__content {max-height: 200px;max-width: 100%;overflow: auto;}#sk-489650ce-03c5-40d1-9a8e-24b61db6e87c input.sk-toggleable__control:checked~label.sk-toggleable__label-arrow:before {content: \"▾\";}#sk-489650ce-03c5-40d1-9a8e-24b61db6e87c div.sk-estimator input.sk-toggleable__control:checked~label.sk-toggleable__label {background-color: #d4ebff;}#sk-489650ce-03c5-40d1-9a8e-24b61db6e87c div.sk-label input.sk-toggleable__control:checked~label.sk-toggleable__label {background-color: #d4ebff;}#sk-489650ce-03c5-40d1-9a8e-24b61db6e87c input.sk-hidden--visually {border: 0;clip: rect(1px 1px 1px 1px);clip: rect(1px, 1px, 1px, 1px);height: 1px;margin: -1px;overflow: hidden;padding: 0;position: absolute;width: 1px;}#sk-489650ce-03c5-40d1-9a8e-24b61db6e87c div.sk-estimator {font-family: monospace;background-color: #f0f8ff;border: 1px dotted black;border-radius: 0.25em;box-sizing: border-box;margin-bottom: 0.5em;}#sk-489650ce-03c5-40d1-9a8e-24b61db6e87c div.sk-estimator:hover {background-color: #d4ebff;}#sk-489650ce-03c5-40d1-9a8e-24b61db6e87c div.sk-parallel-item::after {content: \"\";width: 100%;border-bottom: 1px solid gray;flex-grow: 1;}#sk-489650ce-03c5-40d1-9a8e-24b61db6e87c div.sk-label:hover label.sk-toggleable__label {background-color: #d4ebff;}#sk-489650ce-03c5-40d1-9a8e-24b61db6e87c div.sk-serial::before {content: \"\";position: absolute;border-left: 1px solid gray;box-sizing: border-box;top: 2em;bottom: 0;left: 50%;}#sk-489650ce-03c5-40d1-9a8e-24b61db6e87c div.sk-serial {display: flex;flex-direction: column;align-items: center;background-color: white;padding-right: 0.2em;padding-left: 0.2em;}#sk-489650ce-03c5-40d1-9a8e-24b61db6e87c div.sk-item {z-index: 1;}#sk-489650ce-03c5-40d1-9a8e-24b61db6e87c div.sk-parallel {display: flex;align-items: stretch;justify-content: center;background-color: white;}#sk-489650ce-03c5-40d1-9a8e-24b61db6e87c div.sk-parallel::before {content: \"\";position: absolute;border-left: 1px solid gray;box-sizing: border-box;top: 2em;bottom: 0;left: 50%;}#sk-489650ce-03c5-40d1-9a8e-24b61db6e87c div.sk-parallel-item {display: flex;flex-direction: column;position: relative;background-color: white;}#sk-489650ce-03c5-40d1-9a8e-24b61db6e87c div.sk-parallel-item:first-child::after {align-self: flex-end;width: 50%;}#sk-489650ce-03c5-40d1-9a8e-24b61db6e87c div.sk-parallel-item:last-child::after {align-self: flex-start;width: 50%;}#sk-489650ce-03c5-40d1-9a8e-24b61db6e87c div.sk-parallel-item:only-child::after {width: 0;}#sk-489650ce-03c5-40d1-9a8e-24b61db6e87c div.sk-dashed-wrapped {border: 1px dashed gray;margin: 0 0.4em 0.5em 0.4em;box-sizing: border-box;padding-bottom: 0.4em;background-color: white;position: relative;}#sk-489650ce-03c5-40d1-9a8e-24b61db6e87c div.sk-label label {font-family: monospace;font-weight: bold;background-color: white;display: inline-block;line-height: 1.2em;}#sk-489650ce-03c5-40d1-9a8e-24b61db6e87c div.sk-label-container {position: relative;z-index: 2;text-align: center;}#sk-489650ce-03c5-40d1-9a8e-24b61db6e87c div.sk-container {/* jupyter's `normalize.less` sets `[hidden] { display: none; }` but bootstrap.min.css set `[hidden] { display: none !important; }` so we also need the `!important` here to be able to override the default hidden behavior on the sphinx rendered scikit-learn.org. See: https://github.com/scikit-learn/scikit-learn/issues/21755 */display: inline-block !important;position: relative;}#sk-489650ce-03c5-40d1-9a8e-24b61db6e87c div.sk-text-repr-fallback {display: none;}</style><div id=\"sk-489650ce-03c5-40d1-9a8e-24b61db6e87c\" class=\"sk-top-container\"><div class=\"sk-text-repr-fallback\"><pre>Pipeline(steps=[(&#x27;onehotencoder&#x27;,\n",
              "                 OneHotEncoder(handle_unknown=&#x27;ignore&#x27;, sparse=False))])</pre><b>Please rerun this cell to show the HTML repr or trust the notebook.</b></div><div class=\"sk-container\" hidden><div class=\"sk-item sk-dashed-wrapped\"><div class=\"sk-label-container\"><div class=\"sk-label sk-toggleable\"><input class=\"sk-toggleable__control sk-hidden--visually\" id=\"255ac8ab-329a-49a5-8643-437f1aa53737\" type=\"checkbox\" ><label for=\"255ac8ab-329a-49a5-8643-437f1aa53737\" class=\"sk-toggleable__label sk-toggleable__label-arrow\">Pipeline</label><div class=\"sk-toggleable__content\"><pre>Pipeline(steps=[(&#x27;onehotencoder&#x27;,\n",
              "                 OneHotEncoder(handle_unknown=&#x27;ignore&#x27;, sparse=False))])</pre></div></div></div><div class=\"sk-serial\"><div class=\"sk-item\"><div class=\"sk-estimator sk-toggleable\"><input class=\"sk-toggleable__control sk-hidden--visually\" id=\"5d5c9f6d-5574-4ecf-82b0-2ae3a8b816f7\" type=\"checkbox\" ><label for=\"5d5c9f6d-5574-4ecf-82b0-2ae3a8b816f7\" class=\"sk-toggleable__label sk-toggleable__label-arrow\">OneHotEncoder</label><div class=\"sk-toggleable__content\"><pre>OneHotEncoder(handle_unknown=&#x27;ignore&#x27;, sparse=False)</pre></div></div></div></div></div></div></div>"
            ]
          },
          "metadata": {},
          "execution_count": 1082
        }
      ],
      "source": [
        "cat_pipe = make_pipeline(ohe)\n",
        "cat_pipe"
      ]
    },
    {
      "cell_type": "markdown",
      "metadata": {
        "id": "LcQsy-GihOLE"
      },
      "source": [
        "Both my object columns have all values accounted for so we wont need to impute anything for the categorical columns. "
      ]
    },
    {
      "cell_type": "code",
      "execution_count": 1083,
      "metadata": {
        "colab": {
          "base_uri": "https://localhost:8080/",
          "height": 152
        },
        "id": "qeGtIHXRfkcV",
        "outputId": "ebf82abf-fc74-43fa-a0c8-dfd1d997ee70"
      },
      "outputs": [
        {
          "output_type": "execute_result",
          "data": {
            "text/plain": [
              "ColumnTransformer(transformers=[('pipeline-1',\n",
              "                                 Pipeline(steps=[('simpleimputer',\n",
              "                                                  SimpleImputer(strategy='median')),\n",
              "                                                 ('standardscaler',\n",
              "                                                  StandardScaler())]),\n",
              "                                 <sklearn.compose._column_transformer.make_column_selector object at 0x7f95708c6850>),\n",
              "                                ('pipeline-2',\n",
              "                                 Pipeline(steps=[('onehotencoder',\n",
              "                                                  OneHotEncoder(handle_unknown='ignore',\n",
              "                                                                sparse=False))]),\n",
              "                                 <sklearn.compose._column_transformer.make_column_selector object at 0x7f95708c65d0>)])"
            ],
            "text/html": [
              "<style>#sk-d336eb83-7ef8-40ab-bb66-1105413f1456 {color: black;background-color: white;}#sk-d336eb83-7ef8-40ab-bb66-1105413f1456 pre{padding: 0;}#sk-d336eb83-7ef8-40ab-bb66-1105413f1456 div.sk-toggleable {background-color: white;}#sk-d336eb83-7ef8-40ab-bb66-1105413f1456 label.sk-toggleable__label {cursor: pointer;display: block;width: 100%;margin-bottom: 0;padding: 0.3em;box-sizing: border-box;text-align: center;}#sk-d336eb83-7ef8-40ab-bb66-1105413f1456 label.sk-toggleable__label-arrow:before {content: \"▸\";float: left;margin-right: 0.25em;color: #696969;}#sk-d336eb83-7ef8-40ab-bb66-1105413f1456 label.sk-toggleable__label-arrow:hover:before {color: black;}#sk-d336eb83-7ef8-40ab-bb66-1105413f1456 div.sk-estimator:hover label.sk-toggleable__label-arrow:before {color: black;}#sk-d336eb83-7ef8-40ab-bb66-1105413f1456 div.sk-toggleable__content {max-height: 0;max-width: 0;overflow: hidden;text-align: left;background-color: #f0f8ff;}#sk-d336eb83-7ef8-40ab-bb66-1105413f1456 div.sk-toggleable__content pre {margin: 0.2em;color: black;border-radius: 0.25em;background-color: #f0f8ff;}#sk-d336eb83-7ef8-40ab-bb66-1105413f1456 input.sk-toggleable__control:checked~div.sk-toggleable__content {max-height: 200px;max-width: 100%;overflow: auto;}#sk-d336eb83-7ef8-40ab-bb66-1105413f1456 input.sk-toggleable__control:checked~label.sk-toggleable__label-arrow:before {content: \"▾\";}#sk-d336eb83-7ef8-40ab-bb66-1105413f1456 div.sk-estimator input.sk-toggleable__control:checked~label.sk-toggleable__label {background-color: #d4ebff;}#sk-d336eb83-7ef8-40ab-bb66-1105413f1456 div.sk-label input.sk-toggleable__control:checked~label.sk-toggleable__label {background-color: #d4ebff;}#sk-d336eb83-7ef8-40ab-bb66-1105413f1456 input.sk-hidden--visually {border: 0;clip: rect(1px 1px 1px 1px);clip: rect(1px, 1px, 1px, 1px);height: 1px;margin: -1px;overflow: hidden;padding: 0;position: absolute;width: 1px;}#sk-d336eb83-7ef8-40ab-bb66-1105413f1456 div.sk-estimator {font-family: monospace;background-color: #f0f8ff;border: 1px dotted black;border-radius: 0.25em;box-sizing: border-box;margin-bottom: 0.5em;}#sk-d336eb83-7ef8-40ab-bb66-1105413f1456 div.sk-estimator:hover {background-color: #d4ebff;}#sk-d336eb83-7ef8-40ab-bb66-1105413f1456 div.sk-parallel-item::after {content: \"\";width: 100%;border-bottom: 1px solid gray;flex-grow: 1;}#sk-d336eb83-7ef8-40ab-bb66-1105413f1456 div.sk-label:hover label.sk-toggleable__label {background-color: #d4ebff;}#sk-d336eb83-7ef8-40ab-bb66-1105413f1456 div.sk-serial::before {content: \"\";position: absolute;border-left: 1px solid gray;box-sizing: border-box;top: 2em;bottom: 0;left: 50%;}#sk-d336eb83-7ef8-40ab-bb66-1105413f1456 div.sk-serial {display: flex;flex-direction: column;align-items: center;background-color: white;padding-right: 0.2em;padding-left: 0.2em;}#sk-d336eb83-7ef8-40ab-bb66-1105413f1456 div.sk-item {z-index: 1;}#sk-d336eb83-7ef8-40ab-bb66-1105413f1456 div.sk-parallel {display: flex;align-items: stretch;justify-content: center;background-color: white;}#sk-d336eb83-7ef8-40ab-bb66-1105413f1456 div.sk-parallel::before {content: \"\";position: absolute;border-left: 1px solid gray;box-sizing: border-box;top: 2em;bottom: 0;left: 50%;}#sk-d336eb83-7ef8-40ab-bb66-1105413f1456 div.sk-parallel-item {display: flex;flex-direction: column;position: relative;background-color: white;}#sk-d336eb83-7ef8-40ab-bb66-1105413f1456 div.sk-parallel-item:first-child::after {align-self: flex-end;width: 50%;}#sk-d336eb83-7ef8-40ab-bb66-1105413f1456 div.sk-parallel-item:last-child::after {align-self: flex-start;width: 50%;}#sk-d336eb83-7ef8-40ab-bb66-1105413f1456 div.sk-parallel-item:only-child::after {width: 0;}#sk-d336eb83-7ef8-40ab-bb66-1105413f1456 div.sk-dashed-wrapped {border: 1px dashed gray;margin: 0 0.4em 0.5em 0.4em;box-sizing: border-box;padding-bottom: 0.4em;background-color: white;position: relative;}#sk-d336eb83-7ef8-40ab-bb66-1105413f1456 div.sk-label label {font-family: monospace;font-weight: bold;background-color: white;display: inline-block;line-height: 1.2em;}#sk-d336eb83-7ef8-40ab-bb66-1105413f1456 div.sk-label-container {position: relative;z-index: 2;text-align: center;}#sk-d336eb83-7ef8-40ab-bb66-1105413f1456 div.sk-container {/* jupyter's `normalize.less` sets `[hidden] { display: none; }` but bootstrap.min.css set `[hidden] { display: none !important; }` so we also need the `!important` here to be able to override the default hidden behavior on the sphinx rendered scikit-learn.org. See: https://github.com/scikit-learn/scikit-learn/issues/21755 */display: inline-block !important;position: relative;}#sk-d336eb83-7ef8-40ab-bb66-1105413f1456 div.sk-text-repr-fallback {display: none;}</style><div id=\"sk-d336eb83-7ef8-40ab-bb66-1105413f1456\" class=\"sk-top-container\"><div class=\"sk-text-repr-fallback\"><pre>ColumnTransformer(transformers=[(&#x27;pipeline-1&#x27;,\n",
              "                                 Pipeline(steps=[(&#x27;simpleimputer&#x27;,\n",
              "                                                  SimpleImputer(strategy=&#x27;median&#x27;)),\n",
              "                                                 (&#x27;standardscaler&#x27;,\n",
              "                                                  StandardScaler())]),\n",
              "                                 &lt;sklearn.compose._column_transformer.make_column_selector object at 0x7f95708c6850&gt;),\n",
              "                                (&#x27;pipeline-2&#x27;,\n",
              "                                 Pipeline(steps=[(&#x27;onehotencoder&#x27;,\n",
              "                                                  OneHotEncoder(handle_unknown=&#x27;ignore&#x27;,\n",
              "                                                                sparse=False))]),\n",
              "                                 &lt;sklearn.compose._column_transformer.make_column_selector object at 0x7f95708c65d0&gt;)])</pre><b>Please rerun this cell to show the HTML repr or trust the notebook.</b></div><div class=\"sk-container\" hidden><div class=\"sk-item sk-dashed-wrapped\"><div class=\"sk-label-container\"><div class=\"sk-label sk-toggleable\"><input class=\"sk-toggleable__control sk-hidden--visually\" id=\"259195a2-c1df-477b-9457-7e47db2e5261\" type=\"checkbox\" ><label for=\"259195a2-c1df-477b-9457-7e47db2e5261\" class=\"sk-toggleable__label sk-toggleable__label-arrow\">ColumnTransformer</label><div class=\"sk-toggleable__content\"><pre>ColumnTransformer(transformers=[(&#x27;pipeline-1&#x27;,\n",
              "                                 Pipeline(steps=[(&#x27;simpleimputer&#x27;,\n",
              "                                                  SimpleImputer(strategy=&#x27;median&#x27;)),\n",
              "                                                 (&#x27;standardscaler&#x27;,\n",
              "                                                  StandardScaler())]),\n",
              "                                 &lt;sklearn.compose._column_transformer.make_column_selector object at 0x7f95708c6850&gt;),\n",
              "                                (&#x27;pipeline-2&#x27;,\n",
              "                                 Pipeline(steps=[(&#x27;onehotencoder&#x27;,\n",
              "                                                  OneHotEncoder(handle_unknown=&#x27;ignore&#x27;,\n",
              "                                                                sparse=False))]),\n",
              "                                 &lt;sklearn.compose._column_transformer.make_column_selector object at 0x7f95708c65d0&gt;)])</pre></div></div></div><div class=\"sk-parallel\"><div class=\"sk-parallel-item\"><div class=\"sk-item\"><div class=\"sk-label-container\"><div class=\"sk-label sk-toggleable\"><input class=\"sk-toggleable__control sk-hidden--visually\" id=\"4abf629c-578f-4a9d-be17-618350e41e9e\" type=\"checkbox\" ><label for=\"4abf629c-578f-4a9d-be17-618350e41e9e\" class=\"sk-toggleable__label sk-toggleable__label-arrow\">pipeline-1</label><div class=\"sk-toggleable__content\"><pre>&lt;sklearn.compose._column_transformer.make_column_selector object at 0x7f95708c6850&gt;</pre></div></div></div><div class=\"sk-serial\"><div class=\"sk-item\"><div class=\"sk-serial\"><div class=\"sk-item\"><div class=\"sk-estimator sk-toggleable\"><input class=\"sk-toggleable__control sk-hidden--visually\" id=\"608615d6-0d5c-4ed3-bc12-5d4678d54256\" type=\"checkbox\" ><label for=\"608615d6-0d5c-4ed3-bc12-5d4678d54256\" class=\"sk-toggleable__label sk-toggleable__label-arrow\">SimpleImputer</label><div class=\"sk-toggleable__content\"><pre>SimpleImputer(strategy=&#x27;median&#x27;)</pre></div></div></div><div class=\"sk-item\"><div class=\"sk-estimator sk-toggleable\"><input class=\"sk-toggleable__control sk-hidden--visually\" id=\"1f2d0678-6b4c-47ee-aada-72f468af2bf9\" type=\"checkbox\" ><label for=\"1f2d0678-6b4c-47ee-aada-72f468af2bf9\" class=\"sk-toggleable__label sk-toggleable__label-arrow\">StandardScaler</label><div class=\"sk-toggleable__content\"><pre>StandardScaler()</pre></div></div></div></div></div></div></div></div><div class=\"sk-parallel-item\"><div class=\"sk-item\"><div class=\"sk-label-container\"><div class=\"sk-label sk-toggleable\"><input class=\"sk-toggleable__control sk-hidden--visually\" id=\"cecc174d-5c56-44f7-b201-25d83771c57f\" type=\"checkbox\" ><label for=\"cecc174d-5c56-44f7-b201-25d83771c57f\" class=\"sk-toggleable__label sk-toggleable__label-arrow\">pipeline-2</label><div class=\"sk-toggleable__content\"><pre>&lt;sklearn.compose._column_transformer.make_column_selector object at 0x7f95708c65d0&gt;</pre></div></div></div><div class=\"sk-serial\"><div class=\"sk-item\"><div class=\"sk-serial\"><div class=\"sk-item\"><div class=\"sk-estimator sk-toggleable\"><input class=\"sk-toggleable__control sk-hidden--visually\" id=\"a3082cf4-2b26-4341-8edb-6044c15919d8\" type=\"checkbox\" ><label for=\"a3082cf4-2b26-4341-8edb-6044c15919d8\" class=\"sk-toggleable__label sk-toggleable__label-arrow\">OneHotEncoder</label><div class=\"sk-toggleable__content\"><pre>OneHotEncoder(handle_unknown=&#x27;ignore&#x27;, sparse=False)</pre></div></div></div></div></div></div></div></div></div></div></div></div>"
            ]
          },
          "metadata": {},
          "execution_count": 1083
        }
      ],
      "source": [
        "numb_tup = (numb_pipe, num_selector)\n",
        "cat_tup = (cat_pipe, cat_selector)\n",
        "preprocessor = make_column_transformer(numb_tup, cat_tup)\n",
        "preprocessor"
      ]
    },
    {
      "cell_type": "code",
      "execution_count": 1084,
      "metadata": {
        "colab": {
          "base_uri": "https://localhost:8080/",
          "height": 152
        },
        "id": "qR1NIdpCgP6J",
        "outputId": "add6d0ee-1ae5-4479-9b9d-483e4426eca3"
      },
      "outputs": [
        {
          "output_type": "execute_result",
          "data": {
            "text/plain": [
              "ColumnTransformer(transformers=[('pipeline-1',\n",
              "                                 Pipeline(steps=[('simpleimputer',\n",
              "                                                  SimpleImputer(strategy='median')),\n",
              "                                                 ('standardscaler',\n",
              "                                                  StandardScaler())]),\n",
              "                                 <sklearn.compose._column_transformer.make_column_selector object at 0x7f95708c6850>),\n",
              "                                ('pipeline-2',\n",
              "                                 Pipeline(steps=[('onehotencoder',\n",
              "                                                  OneHotEncoder(handle_unknown='ignore',\n",
              "                                                                sparse=False))]),\n",
              "                                 <sklearn.compose._column_transformer.make_column_selector object at 0x7f95708c65d0>)])"
            ],
            "text/html": [
              "<style>#sk-29b308c9-7026-469b-b068-caddde2920b7 {color: black;background-color: white;}#sk-29b308c9-7026-469b-b068-caddde2920b7 pre{padding: 0;}#sk-29b308c9-7026-469b-b068-caddde2920b7 div.sk-toggleable {background-color: white;}#sk-29b308c9-7026-469b-b068-caddde2920b7 label.sk-toggleable__label {cursor: pointer;display: block;width: 100%;margin-bottom: 0;padding: 0.3em;box-sizing: border-box;text-align: center;}#sk-29b308c9-7026-469b-b068-caddde2920b7 label.sk-toggleable__label-arrow:before {content: \"▸\";float: left;margin-right: 0.25em;color: #696969;}#sk-29b308c9-7026-469b-b068-caddde2920b7 label.sk-toggleable__label-arrow:hover:before {color: black;}#sk-29b308c9-7026-469b-b068-caddde2920b7 div.sk-estimator:hover label.sk-toggleable__label-arrow:before {color: black;}#sk-29b308c9-7026-469b-b068-caddde2920b7 div.sk-toggleable__content {max-height: 0;max-width: 0;overflow: hidden;text-align: left;background-color: #f0f8ff;}#sk-29b308c9-7026-469b-b068-caddde2920b7 div.sk-toggleable__content pre {margin: 0.2em;color: black;border-radius: 0.25em;background-color: #f0f8ff;}#sk-29b308c9-7026-469b-b068-caddde2920b7 input.sk-toggleable__control:checked~div.sk-toggleable__content {max-height: 200px;max-width: 100%;overflow: auto;}#sk-29b308c9-7026-469b-b068-caddde2920b7 input.sk-toggleable__control:checked~label.sk-toggleable__label-arrow:before {content: \"▾\";}#sk-29b308c9-7026-469b-b068-caddde2920b7 div.sk-estimator input.sk-toggleable__control:checked~label.sk-toggleable__label {background-color: #d4ebff;}#sk-29b308c9-7026-469b-b068-caddde2920b7 div.sk-label input.sk-toggleable__control:checked~label.sk-toggleable__label {background-color: #d4ebff;}#sk-29b308c9-7026-469b-b068-caddde2920b7 input.sk-hidden--visually {border: 0;clip: rect(1px 1px 1px 1px);clip: rect(1px, 1px, 1px, 1px);height: 1px;margin: -1px;overflow: hidden;padding: 0;position: absolute;width: 1px;}#sk-29b308c9-7026-469b-b068-caddde2920b7 div.sk-estimator {font-family: monospace;background-color: #f0f8ff;border: 1px dotted black;border-radius: 0.25em;box-sizing: border-box;margin-bottom: 0.5em;}#sk-29b308c9-7026-469b-b068-caddde2920b7 div.sk-estimator:hover {background-color: #d4ebff;}#sk-29b308c9-7026-469b-b068-caddde2920b7 div.sk-parallel-item::after {content: \"\";width: 100%;border-bottom: 1px solid gray;flex-grow: 1;}#sk-29b308c9-7026-469b-b068-caddde2920b7 div.sk-label:hover label.sk-toggleable__label {background-color: #d4ebff;}#sk-29b308c9-7026-469b-b068-caddde2920b7 div.sk-serial::before {content: \"\";position: absolute;border-left: 1px solid gray;box-sizing: border-box;top: 2em;bottom: 0;left: 50%;}#sk-29b308c9-7026-469b-b068-caddde2920b7 div.sk-serial {display: flex;flex-direction: column;align-items: center;background-color: white;padding-right: 0.2em;padding-left: 0.2em;}#sk-29b308c9-7026-469b-b068-caddde2920b7 div.sk-item {z-index: 1;}#sk-29b308c9-7026-469b-b068-caddde2920b7 div.sk-parallel {display: flex;align-items: stretch;justify-content: center;background-color: white;}#sk-29b308c9-7026-469b-b068-caddde2920b7 div.sk-parallel::before {content: \"\";position: absolute;border-left: 1px solid gray;box-sizing: border-box;top: 2em;bottom: 0;left: 50%;}#sk-29b308c9-7026-469b-b068-caddde2920b7 div.sk-parallel-item {display: flex;flex-direction: column;position: relative;background-color: white;}#sk-29b308c9-7026-469b-b068-caddde2920b7 div.sk-parallel-item:first-child::after {align-self: flex-end;width: 50%;}#sk-29b308c9-7026-469b-b068-caddde2920b7 div.sk-parallel-item:last-child::after {align-self: flex-start;width: 50%;}#sk-29b308c9-7026-469b-b068-caddde2920b7 div.sk-parallel-item:only-child::after {width: 0;}#sk-29b308c9-7026-469b-b068-caddde2920b7 div.sk-dashed-wrapped {border: 1px dashed gray;margin: 0 0.4em 0.5em 0.4em;box-sizing: border-box;padding-bottom: 0.4em;background-color: white;position: relative;}#sk-29b308c9-7026-469b-b068-caddde2920b7 div.sk-label label {font-family: monospace;font-weight: bold;background-color: white;display: inline-block;line-height: 1.2em;}#sk-29b308c9-7026-469b-b068-caddde2920b7 div.sk-label-container {position: relative;z-index: 2;text-align: center;}#sk-29b308c9-7026-469b-b068-caddde2920b7 div.sk-container {/* jupyter's `normalize.less` sets `[hidden] { display: none; }` but bootstrap.min.css set `[hidden] { display: none !important; }` so we also need the `!important` here to be able to override the default hidden behavior on the sphinx rendered scikit-learn.org. See: https://github.com/scikit-learn/scikit-learn/issues/21755 */display: inline-block !important;position: relative;}#sk-29b308c9-7026-469b-b068-caddde2920b7 div.sk-text-repr-fallback {display: none;}</style><div id=\"sk-29b308c9-7026-469b-b068-caddde2920b7\" class=\"sk-top-container\"><div class=\"sk-text-repr-fallback\"><pre>ColumnTransformer(transformers=[(&#x27;pipeline-1&#x27;,\n",
              "                                 Pipeline(steps=[(&#x27;simpleimputer&#x27;,\n",
              "                                                  SimpleImputer(strategy=&#x27;median&#x27;)),\n",
              "                                                 (&#x27;standardscaler&#x27;,\n",
              "                                                  StandardScaler())]),\n",
              "                                 &lt;sklearn.compose._column_transformer.make_column_selector object at 0x7f95708c6850&gt;),\n",
              "                                (&#x27;pipeline-2&#x27;,\n",
              "                                 Pipeline(steps=[(&#x27;onehotencoder&#x27;,\n",
              "                                                  OneHotEncoder(handle_unknown=&#x27;ignore&#x27;,\n",
              "                                                                sparse=False))]),\n",
              "                                 &lt;sklearn.compose._column_transformer.make_column_selector object at 0x7f95708c65d0&gt;)])</pre><b>Please rerun this cell to show the HTML repr or trust the notebook.</b></div><div class=\"sk-container\" hidden><div class=\"sk-item sk-dashed-wrapped\"><div class=\"sk-label-container\"><div class=\"sk-label sk-toggleable\"><input class=\"sk-toggleable__control sk-hidden--visually\" id=\"543b0fde-f58d-41a6-98cc-20ceb5510545\" type=\"checkbox\" ><label for=\"543b0fde-f58d-41a6-98cc-20ceb5510545\" class=\"sk-toggleable__label sk-toggleable__label-arrow\">ColumnTransformer</label><div class=\"sk-toggleable__content\"><pre>ColumnTransformer(transformers=[(&#x27;pipeline-1&#x27;,\n",
              "                                 Pipeline(steps=[(&#x27;simpleimputer&#x27;,\n",
              "                                                  SimpleImputer(strategy=&#x27;median&#x27;)),\n",
              "                                                 (&#x27;standardscaler&#x27;,\n",
              "                                                  StandardScaler())]),\n",
              "                                 &lt;sklearn.compose._column_transformer.make_column_selector object at 0x7f95708c6850&gt;),\n",
              "                                (&#x27;pipeline-2&#x27;,\n",
              "                                 Pipeline(steps=[(&#x27;onehotencoder&#x27;,\n",
              "                                                  OneHotEncoder(handle_unknown=&#x27;ignore&#x27;,\n",
              "                                                                sparse=False))]),\n",
              "                                 &lt;sklearn.compose._column_transformer.make_column_selector object at 0x7f95708c65d0&gt;)])</pre></div></div></div><div class=\"sk-parallel\"><div class=\"sk-parallel-item\"><div class=\"sk-item\"><div class=\"sk-label-container\"><div class=\"sk-label sk-toggleable\"><input class=\"sk-toggleable__control sk-hidden--visually\" id=\"a1dbc22f-904c-467d-bcc9-eefd71be905f\" type=\"checkbox\" ><label for=\"a1dbc22f-904c-467d-bcc9-eefd71be905f\" class=\"sk-toggleable__label sk-toggleable__label-arrow\">pipeline-1</label><div class=\"sk-toggleable__content\"><pre>&lt;sklearn.compose._column_transformer.make_column_selector object at 0x7f95708c6850&gt;</pre></div></div></div><div class=\"sk-serial\"><div class=\"sk-item\"><div class=\"sk-serial\"><div class=\"sk-item\"><div class=\"sk-estimator sk-toggleable\"><input class=\"sk-toggleable__control sk-hidden--visually\" id=\"0652718e-5101-431b-b2c1-e2be0f96d09f\" type=\"checkbox\" ><label for=\"0652718e-5101-431b-b2c1-e2be0f96d09f\" class=\"sk-toggleable__label sk-toggleable__label-arrow\">SimpleImputer</label><div class=\"sk-toggleable__content\"><pre>SimpleImputer(strategy=&#x27;median&#x27;)</pre></div></div></div><div class=\"sk-item\"><div class=\"sk-estimator sk-toggleable\"><input class=\"sk-toggleable__control sk-hidden--visually\" id=\"658e1d59-b7ec-4082-92ea-2d1009663c53\" type=\"checkbox\" ><label for=\"658e1d59-b7ec-4082-92ea-2d1009663c53\" class=\"sk-toggleable__label sk-toggleable__label-arrow\">StandardScaler</label><div class=\"sk-toggleable__content\"><pre>StandardScaler()</pre></div></div></div></div></div></div></div></div><div class=\"sk-parallel-item\"><div class=\"sk-item\"><div class=\"sk-label-container\"><div class=\"sk-label sk-toggleable\"><input class=\"sk-toggleable__control sk-hidden--visually\" id=\"5366b42b-1664-4ce5-b93d-f1c1ce0cf9ba\" type=\"checkbox\" ><label for=\"5366b42b-1664-4ce5-b93d-f1c1ce0cf9ba\" class=\"sk-toggleable__label sk-toggleable__label-arrow\">pipeline-2</label><div class=\"sk-toggleable__content\"><pre>&lt;sklearn.compose._column_transformer.make_column_selector object at 0x7f95708c65d0&gt;</pre></div></div></div><div class=\"sk-serial\"><div class=\"sk-item\"><div class=\"sk-serial\"><div class=\"sk-item\"><div class=\"sk-estimator sk-toggleable\"><input class=\"sk-toggleable__control sk-hidden--visually\" id=\"e4f6d957-5fdb-4a7e-b994-b6b2ea491aad\" type=\"checkbox\" ><label for=\"e4f6d957-5fdb-4a7e-b994-b6b2ea491aad\" class=\"sk-toggleable__label sk-toggleable__label-arrow\">OneHotEncoder</label><div class=\"sk-toggleable__content\"><pre>OneHotEncoder(handle_unknown=&#x27;ignore&#x27;, sparse=False)</pre></div></div></div></div></div></div></div></div></div></div></div></div>"
            ]
          },
          "metadata": {},
          "execution_count": 1084
        }
      ],
      "source": [
        "#fit on the train\n",
        "preprocessor.fit(X_train)"
      ]
    },
    {
      "cell_type": "code",
      "execution_count": 1085,
      "metadata": {
        "colab": {
          "base_uri": "https://localhost:8080/"
        },
        "id": "hRXgACpBgDv5",
        "outputId": "957a2487-f7e2-4b82-a271-c01bd4d7b096"
      },
      "outputs": [
        {
          "output_type": "execute_result",
          "data": {
            "text/plain": [
              "array([[ 0.55607805, -1.31323184, -0.25282152, ...,  0.        ,\n",
              "         0.        ,  0.        ],\n",
              "       [-0.69422974,  0.98776736,  2.33045163, ...,  0.        ,\n",
              "         0.        ,  0.        ],\n",
              "       [-3.4726915 , -1.26152399, -0.25456164, ...,  0.        ,\n",
              "         0.        ,  0.        ],\n",
              "       ...,\n",
              "       [ 0.69500114,  0.39312711, -0.18447061, ...,  0.        ,\n",
              "         0.        ,  0.        ],\n",
              "       [ 0.69500114,  0.54825066, -0.25429143, ...,  0.        ,\n",
              "         0.        ,  0.        ],\n",
              "       [-0.41638356, -1.41664754,  3.26010615, ...,  0.        ,\n",
              "         0.        ,  0.        ]])"
            ]
          },
          "metadata": {},
          "execution_count": 1085
        }
      ],
      "source": [
        "#transform and test\n",
        "X_train_pro = preprocessor.transform(X_train)\n",
        "X_test_pro = preprocessor.transform(X_test)\n",
        "X_train_pro"
      ]
    },
    {
      "cell_type": "code",
      "execution_count": 1086,
      "metadata": {
        "colab": {
          "base_uri": "https://localhost:8080/"
        },
        "id": "msgvO5UAgN1d",
        "outputId": "a5adfa87-7558-472c-f887-ef5124fcac30"
      },
      "outputs": [
        {
          "output_type": "execute_result",
          "data": {
            "text/plain": [
              "0"
            ]
          },
          "metadata": {},
          "execution_count": 1086
        }
      ],
      "source": [
        "np.isnan(X_train_pro).sum().sum()"
      ]
    },
    {
      "cell_type": "code",
      "execution_count": 1087,
      "metadata": {
        "colab": {
          "base_uri": "https://localhost:8080/"
        },
        "id": "JHqAI27WgY-l",
        "outputId": "57653d14-0f1a-4ce7-a1e7-519f07e22185"
      },
      "outputs": [
        {
          "output_type": "execute_result",
          "data": {
            "text/plain": [
              "0"
            ]
          },
          "metadata": {},
          "execution_count": 1087
        }
      ],
      "source": [
        "np.isnan(X_test_pro).sum().sum()"
      ]
    },
    {
      "cell_type": "markdown",
      "metadata": {
        "id": "fNEFOVbCgq0m"
      },
      "source": [
        "We are not missing any data in our X_sets so we are ready for modeling."
      ]
    },
    {
      "cell_type": "markdown",
      "source": [
        "##KMeans  \n",
        "Well start with an unsupervised model."
      ],
      "metadata": {
        "id": "eF04XHFdSTub"
      }
    },
    {
      "cell_type": "markdown",
      "metadata": {
        "id": "2jA1uNb-AcKU"
      },
      "source": [
        "For KMeans there is no train split so I'm going to rerun my preprocessor to impute my data so I can model it again."
      ]
    },
    {
      "cell_type": "code",
      "execution_count": 1088,
      "metadata": {
        "colab": {
          "base_uri": "https://localhost:8080/"
        },
        "id": "2hH9V3py_iFq",
        "outputId": "34910913-6dd4-4daf-9cb2-331c52cb5ee8"
      },
      "outputs": [
        {
          "output_type": "stream",
          "name": "stdout",
          "text": [
            "<class 'pandas.core.frame.DataFrame'>\n",
            "RangeIndex: 5806 entries, 0 to 5805\n",
            "Data columns (total 8 columns):\n",
            " #   Column           Non-Null Count  Dtype  \n",
            "---  ------           --------------  -----  \n",
            " 0   type             5806 non-null   object \n",
            " 1   release_year     5806 non-null   int64  \n",
            " 2   runtime          5806 non-null   int64  \n",
            " 3   imdb_score       5283 non-null   float64\n",
            " 4   imdb_votes       5267 non-null   float64\n",
            " 5   tmdb_popularity  5712 non-null   float64\n",
            " 6   tmdb_score       5488 non-null   float64\n",
            " 7   genre            5806 non-null   object \n",
            "dtypes: float64(4), int64(2), object(2)\n",
            "memory usage: 363.0+ KB\n"
          ]
        }
      ],
      "source": [
        "df_km.info() #using the copy we made earlier with no yet imputed data and no train test split."
      ]
    },
    {
      "cell_type": "markdown",
      "metadata": {
        "id": "918kG_GzJtD7"
      },
      "source": [
        "So here we have our unimputed data, for supervised ML we will have to drop our target column but here we do not."
      ]
    },
    {
      "cell_type": "code",
      "execution_count": 1089,
      "metadata": {
        "id": "Bh0KbXmnAa5K"
      },
      "outputs": [],
      "source": [
        "x_scaled = preprocessor.fit_transform(df_km)"
      ]
    },
    {
      "cell_type": "code",
      "execution_count": 1090,
      "metadata": {
        "colab": {
          "base_uri": "https://localhost:8080/",
          "height": 513
        },
        "id": "5xSjqwAP6uu3",
        "outputId": "fc78c58e-0e21-4054-b407-20f3277ad061"
      },
      "outputs": [
        {
          "output_type": "display_data",
          "data": {
            "text/plain": [
              "<Figure size 432x288 with 1 Axes>"
            ],
            "image/png": "[encoded data removed]"
          },
          "metadata": {
            "needs_background": "light"
          }
        },
        {
          "output_type": "display_data",
          "data": {
            "text/plain": [
              "<Figure size 432x288 with 1 Axes>"
            ],
            "image/png": "[encoded data removed]"
          },
          "metadata": {
            "needs_background": "light"
          }
        }
      ],
      "source": [
        "ks = range(2, 11)\n",
        "\n",
        "inertias = []\n",
        "sils = []\n",
        "\n",
        "for k in ks:\n",
        "  model = KMeans(n_clusters=k)\n",
        "  model.fit(x_scaled)\n",
        "  inertias.append(model.inertia_)\n",
        "  sils.append(silhouette_score(x_scaled, model.labels_))\n",
        "\n",
        "plt.plot(ks, inertias)\n",
        "\n",
        "plt.show()\n",
        "\n",
        "plt.plot(ks, sils);"
      ]
    },
    {
      "cell_type": "markdown",
      "metadata": {
        "id": "XN2V5fwy-Erl"
      },
      "source": [
        "Our inertia graph doesnt have clear elbow but our silhouette score gives us a very defined number of clusters with 3."
      ]
    },
    {
      "cell_type": "code",
      "execution_count": 1091,
      "metadata": {
        "colab": {
          "base_uri": "https://localhost:8080/",
          "height": 75
        },
        "id": "JlZXWjEC-SHO",
        "outputId": "5b97dd73-279e-4c10-8944-618ad7d5f9c3"
      },
      "outputs": [
        {
          "output_type": "execute_result",
          "data": {
            "text/plain": [
              "KMeans(n_clusters=3, random_state=42)"
            ],
            "text/html": [
              "<style>#sk-63a1627b-95d4-4930-a177-6e9970393c83 {color: black;background-color: white;}#sk-63a1627b-95d4-4930-a177-6e9970393c83 pre{padding: 0;}#sk-63a1627b-95d4-4930-a177-6e9970393c83 div.sk-toggleable {background-color: white;}#sk-63a1627b-95d4-4930-a177-6e9970393c83 label.sk-toggleable__label {cursor: pointer;display: block;width: 100%;margin-bottom: 0;padding: 0.3em;box-sizing: border-box;text-align: center;}#sk-63a1627b-95d4-4930-a177-6e9970393c83 label.sk-toggleable__label-arrow:before {content: \"▸\";float: left;margin-right: 0.25em;color: #696969;}#sk-63a1627b-95d4-4930-a177-6e9970393c83 label.sk-toggleable__label-arrow:hover:before {color: black;}#sk-63a1627b-95d4-4930-a177-6e9970393c83 div.sk-estimator:hover label.sk-toggleable__label-arrow:before {color: black;}#sk-63a1627b-95d4-4930-a177-6e9970393c83 div.sk-toggleable__content {max-height: 0;max-width: 0;overflow: hidden;text-align: left;background-color: #f0f8ff;}#sk-63a1627b-95d4-4930-a177-6e9970393c83 div.sk-toggleable__content pre {margin: 0.2em;color: black;border-radius: 0.25em;background-color: #f0f8ff;}#sk-63a1627b-95d4-4930-a177-6e9970393c83 input.sk-toggleable__control:checked~div.sk-toggleable__content {max-height: 200px;max-width: 100%;overflow: auto;}#sk-63a1627b-95d4-4930-a177-6e9970393c83 input.sk-toggleable__control:checked~label.sk-toggleable__label-arrow:before {content: \"▾\";}#sk-63a1627b-95d4-4930-a177-6e9970393c83 div.sk-estimator input.sk-toggleable__control:checked~label.sk-toggleable__label {background-color: #d4ebff;}#sk-63a1627b-95d4-4930-a177-6e9970393c83 div.sk-label input.sk-toggleable__control:checked~label.sk-toggleable__label {background-color: #d4ebff;}#sk-63a1627b-95d4-4930-a177-6e9970393c83 input.sk-hidden--visually {border: 0;clip: rect(1px 1px 1px 1px);clip: rect(1px, 1px, 1px, 1px);height: 1px;margin: -1px;overflow: hidden;padding: 0;position: absolute;width: 1px;}#sk-63a1627b-95d4-4930-a177-6e9970393c83 div.sk-estimator {font-family: monospace;background-color: #f0f8ff;border: 1px dotted black;border-radius: 0.25em;box-sizing: border-box;margin-bottom: 0.5em;}#sk-63a1627b-95d4-4930-a177-6e9970393c83 div.sk-estimator:hover {background-color: #d4ebff;}#sk-63a1627b-95d4-4930-a177-6e9970393c83 div.sk-parallel-item::after {content: \"\";width: 100%;border-bottom: 1px solid gray;flex-grow: 1;}#sk-63a1627b-95d4-4930-a177-6e9970393c83 div.sk-label:hover label.sk-toggleable__label {background-color: #d4ebff;}#sk-63a1627b-95d4-4930-a177-6e9970393c83 div.sk-serial::before {content: \"\";position: absolute;border-left: 1px solid gray;box-sizing: border-box;top: 2em;bottom: 0;left: 50%;}#sk-63a1627b-95d4-4930-a177-6e9970393c83 div.sk-serial {display: flex;flex-direction: column;align-items: center;background-color: white;padding-right: 0.2em;padding-left: 0.2em;}#sk-63a1627b-95d4-4930-a177-6e9970393c83 div.sk-item {z-index: 1;}#sk-63a1627b-95d4-4930-a177-6e9970393c83 div.sk-parallel {display: flex;align-items: stretch;justify-content: center;background-color: white;}#sk-63a1627b-95d4-4930-a177-6e9970393c83 div.sk-parallel::before {content: \"\";position: absolute;border-left: 1px solid gray;box-sizing: border-box;top: 2em;bottom: 0;left: 50%;}#sk-63a1627b-95d4-4930-a177-6e9970393c83 div.sk-parallel-item {display: flex;flex-direction: column;position: relative;background-color: white;}#sk-63a1627b-95d4-4930-a177-6e9970393c83 div.sk-parallel-item:first-child::after {align-self: flex-end;width: 50%;}#sk-63a1627b-95d4-4930-a177-6e9970393c83 div.sk-parallel-item:last-child::after {align-self: flex-start;width: 50%;}#sk-63a1627b-95d4-4930-a177-6e9970393c83 div.sk-parallel-item:only-child::after {width: 0;}#sk-63a1627b-95d4-4930-a177-6e9970393c83 div.sk-dashed-wrapped {border: 1px dashed gray;margin: 0 0.4em 0.5em 0.4em;box-sizing: border-box;padding-bottom: 0.4em;background-color: white;position: relative;}#sk-63a1627b-95d4-4930-a177-6e9970393c83 div.sk-label label {font-family: monospace;font-weight: bold;background-color: white;display: inline-block;line-height: 1.2em;}#sk-63a1627b-95d4-4930-a177-6e9970393c83 div.sk-label-container {position: relative;z-index: 2;text-align: center;}#sk-63a1627b-95d4-4930-a177-6e9970393c83 div.sk-container {/* jupyter's `normalize.less` sets `[hidden] { display: none; }` but bootstrap.min.css set `[hidden] { display: none !important; }` so we also need the `!important` here to be able to override the default hidden behavior on the sphinx rendered scikit-learn.org. See: https://github.com/scikit-learn/scikit-learn/issues/21755 */display: inline-block !important;position: relative;}#sk-63a1627b-95d4-4930-a177-6e9970393c83 div.sk-text-repr-fallback {display: none;}</style><div id=\"sk-63a1627b-95d4-4930-a177-6e9970393c83\" class=\"sk-top-container\"><div class=\"sk-text-repr-fallback\"><pre>KMeans(n_clusters=3, random_state=42)</pre><b>Please rerun this cell to show the HTML repr or trust the notebook.</b></div><div class=\"sk-container\" hidden><div class=\"sk-item\"><div class=\"sk-estimator sk-toggleable\"><input class=\"sk-toggleable__control sk-hidden--visually\" id=\"1169abb6-fd4e-4bd8-b0c5-860179c9d053\" type=\"checkbox\" checked><label for=\"1169abb6-fd4e-4bd8-b0c5-860179c9d053\" class=\"sk-toggleable__label sk-toggleable__label-arrow\">KMeans</label><div class=\"sk-toggleable__content\"><pre>KMeans(n_clusters=3, random_state=42)</pre></div></div></div></div></div>"
            ]
          },
          "metadata": {},
          "execution_count": 1091
        }
      ],
      "source": [
        "kmeans_model = KMeans(n_clusters=3, random_state=42)\n",
        "\n",
        "kmeans_model.fit(x_scaled)"
      ]
    },
    {
      "cell_type": "markdown",
      "metadata": {
        "id": "UMU5MGMWK-ex"
      },
      "source": [
        "Before going forward I just want to plot our clusters and see if we can learn anything about our features relationships."
      ]
    },
    {
      "cell_type": "code",
      "execution_count": 1092,
      "metadata": {
        "colab": {
          "base_uri": "https://localhost:8080/",
          "height": 143
        },
        "id": "pDVjXDjGLMjC",
        "outputId": "7c31ccb1-3710-442e-83ed-0159f3dca489"
      },
      "outputs": [
        {
          "output_type": "execute_result",
          "data": {
            "text/plain": [
              "   cluster  release_year     runtime  imdb_score     imdb_votes  \\\n",
              "0        0   1997.512376  111.178218    7.040763  172981.819307   \n",
              "1        1   2017.661380   41.623232    7.036076    8793.608658   \n",
              "2        2   2017.196155  100.611926    6.084574   11115.651026   \n",
              "\n",
              "   tmdb_popularity  tmdb_score  \n",
              "0        66.841097    6.936654  \n",
              "1        20.713539    7.531689  \n",
              "2        17.608671    6.259921  "
            ],
            "text/html": [
              "\n",
              "  <div id=\"df-367aa46d-2912-4abd-972a-4107c09611dd\">\n",
              "    <div class=\"colab-df-container\">\n",
              "      <div>\n",
              "<style scoped>\n",
              "    .dataframe tbody tr th:only-of-type {\n",
              "        vertical-align: middle;\n",
              "    }\n",
              "\n",
              "    .dataframe tbody tr th {\n",
              "        vertical-align: top;\n",
              "    }\n",
              "\n",
              "    .dataframe thead th {\n",
              "        text-align: right;\n",
              "    }\n",
              "</style>\n",
              "<table border=\"1\" class=\"dataframe\">\n",
              "  <thead>\n",
              "    <tr style=\"text-align: right;\">\n",
              "      <th></th>\n",
              "      <th>cluster</th>\n",
              "      <th>release_year</th>\n",
              "      <th>runtime</th>\n",
              "      <th>imdb_score</th>\n",
              "      <th>imdb_votes</th>\n",
              "      <th>tmdb_popularity</th>\n",
              "      <th>tmdb_score</th>\n",
              "    </tr>\n",
              "  </thead>\n",
              "  <tbody>\n",
              "    <tr>\n",
              "      <th>0</th>\n",
              "      <td>0</td>\n",
              "      <td>1997.512376</td>\n",
              "      <td>111.178218</td>\n",
              "      <td>7.040763</td>\n",
              "      <td>172981.819307</td>\n",
              "      <td>66.841097</td>\n",
              "      <td>6.936654</td>\n",
              "    </tr>\n",
              "    <tr>\n",
              "      <th>1</th>\n",
              "      <td>1</td>\n",
              "      <td>2017.661380</td>\n",
              "      <td>41.623232</td>\n",
              "      <td>7.036076</td>\n",
              "      <td>8793.608658</td>\n",
              "      <td>20.713539</td>\n",
              "      <td>7.531689</td>\n",
              "    </tr>\n",
              "    <tr>\n",
              "      <th>2</th>\n",
              "      <td>2</td>\n",
              "      <td>2017.196155</td>\n",
              "      <td>100.611926</td>\n",
              "      <td>6.084574</td>\n",
              "      <td>11115.651026</td>\n",
              "      <td>17.608671</td>\n",
              "      <td>6.259921</td>\n",
              "    </tr>\n",
              "  </tbody>\n",
              "</table>\n",
              "</div>\n",
              "      <button class=\"colab-df-convert\" onclick=\"convertToInteractive('df-367aa46d-2912-4abd-972a-4107c09611dd')\"\n",
              "              title=\"Convert this dataframe to an interactive table.\"\n",
              "              style=\"display:none;\">\n",
              "        \n",
              "  <svg xmlns=\"http://www.w3.org/2000/svg\" height=\"24px\"viewBox=\"0 0 24 24\"\n",
              "       width=\"24px\">\n",
              "    <path d=\"M0 0h24v24H0V0z\" fill=\"none\"/>\n",
              "    <path d=\"M18.56 5.44l.94 2.06.94-2.06 2.06-.94-2.06-.94-.94-2.06-.94 2.06-2.06.94zm-11 1L8.5 8.5l.94-2.06 2.06-.94-2.06-.94L8.5 2.5l-.94 2.06-2.06.94zm10 10l.94 2.06.94-2.06 2.06-.94-2.06-.94-.94-2.06-.94 2.06-2.06.94z\"/><path d=\"M17.41 7.96l-1.37-1.37c-.4-.4-.92-.59-1.43-.59-.52 0-1.04.2-1.43.59L10.3 9.45l-7.72 7.72c-.78.78-.78 2.05 0 2.83L4 21.41c.39.39.9.59 1.41.59.51 0 1.02-.2 1.41-.59l7.78-7.78 2.81-2.81c.8-.78.8-2.07 0-2.86zM5.41 20L4 18.59l7.72-7.72 1.47 1.35L5.41 20z\"/>\n",
              "  </svg>\n",
              "      </button>\n",
              "      \n",
              "  <style>\n",
              "    .colab-df-container {\n",
              "      display:flex;\n",
              "      flex-wrap:wrap;\n",
              "      gap: 12px;\n",
              "    }\n",
              "\n",
              "    .colab-df-convert {\n",
              "      background-color: #E8F0FE;\n",
              "      border: none;\n",
              "      border-radius: 50%;\n",
              "      cursor: pointer;\n",
              "      display: none;\n",
              "      fill: #1967D2;\n",
              "      height: 32px;\n",
              "      padding: 0 0 0 0;\n",
              "      width: 32px;\n",
              "    }\n",
              "\n",
              "    .colab-df-convert:hover {\n",
              "      background-color: #E2EBFA;\n",
              "      box-shadow: 0px 1px 2px rgba(60, 64, 67, 0.3), 0px 1px 3px 1px rgba(60, 64, 67, 0.15);\n",
              "      fill: #174EA6;\n",
              "    }\n",
              "\n",
              "    [theme=dark] .colab-df-convert {\n",
              "      background-color: #3B4455;\n",
              "      fill: #D2E3FC;\n",
              "    }\n",
              "\n",
              "    [theme=dark] .colab-df-convert:hover {\n",
              "      background-color: #434B5C;\n",
              "      box-shadow: 0px 1px 3px 1px rgba(0, 0, 0, 0.15);\n",
              "      filter: drop-shadow(0px 1px 2px rgba(0, 0, 0, 0.3));\n",
              "      fill: #FFFFFF;\n",
              "    }\n",
              "  </style>\n",
              "\n",
              "      <script>\n",
              "        const buttonEl =\n",
              "          document.querySelector('#df-367aa46d-2912-4abd-972a-4107c09611dd button.colab-df-convert');\n",
              "        buttonEl.style.display =\n",
              "          google.colab.kernel.accessAllowed ? 'block' : 'none';\n",
              "\n",
              "        async function convertToInteractive(key) {\n",
              "          const element = document.querySelector('#df-367aa46d-2912-4abd-972a-4107c09611dd');\n",
              "          const dataTable =\n",
              "            await google.colab.kernel.invokeFunction('convertToInteractive',\n",
              "                                                     [key], {});\n",
              "          if (!dataTable) return;\n",
              "\n",
              "          const docLinkHtml = 'Like what you see? Visit the ' +\n",
              "            '<a target=\"_blank\" href=https://colab.research.google.com/notebooks/data_table.ipynb>data table notebook</a>'\n",
              "            + ' to learn more about interactive tables.';\n",
              "          element.innerHTML = '';\n",
              "          dataTable['output_type'] = 'display_data';\n",
              "          await google.colab.output.renderOutput(dataTable, element);\n",
              "          const docLink = document.createElement('div');\n",
              "          docLink.innerHTML = docLinkHtml;\n",
              "          element.appendChild(docLink);\n",
              "        }\n",
              "      </script>\n",
              "    </div>\n",
              "  </div>\n",
              "  "
            ]
          },
          "metadata": {},
          "execution_count": 1092
        }
      ],
      "source": [
        "df['cluster'] = kmeans_model.labels_\n",
        "cluster_groups = df.groupby('cluster', as_index=False).mean()\n",
        "cluster_groups"
      ]
    },
    {
      "cell_type": "code",
      "execution_count": 1093,
      "metadata": {
        "colab": {
          "base_uri": "https://localhost:8080/",
          "height": 607
        },
        "id": "mbYpmezKLIAK",
        "outputId": "6bec8bdf-0f73-4a4b-cb8e-8c42f98bdb39"
      },
      "outputs": [
        {
          "output_type": "display_data",
          "data": {
            "text/plain": [
              "<Figure size 1440x720 with 6 Axes>"
            ],
            "image/png": "[encoded data removed]"
          },
          "metadata": {
            "needs_background": "light"
          }
        }
      ],
      "source": [
        "fig, axes = plt.subplots(2,3, figsize = (20, 10))\n",
        "axes = axes.ravel()\n",
        "for i, col in enumerate(cluster_groups.columns[1:]):\n",
        "  axes[i].bar(cluster_groups['cluster'], cluster_groups[col])\n",
        "  axes[i].set_title(f'Mean {col}')"
      ]
    },
    {
      "cell_type": "code",
      "execution_count": 1094,
      "metadata": {
        "colab": {
          "base_uri": "https://localhost:8080/",
          "height": 175
        },
        "id": "4ceBbez6Mj8S",
        "outputId": "74ecd520-b93e-4437-e72d-ab620636b9e3"
      },
      "outputs": [
        {
          "output_type": "execute_result",
          "data": {
            "text/plain": [
              "          count        mean        std   min   25%    50%    75%    max\n",
              "cluster                                                                \n",
              "0         404.0  111.178218  43.332381  10.0  91.0  111.0  136.0  251.0\n",
              "1        2333.0   41.623232  20.747810   0.0  25.0   42.0   53.0  131.0\n",
              "2        3069.0  100.611926  26.683748  10.0  89.0  100.0  115.0  240.0"
            ],
            "text/html": [
              "\n",
              "  <div id=\"df-172440f6-1ee0-4312-83f6-24cec00aa473\">\n",
              "    <div class=\"colab-df-container\">\n",
              "      <div>\n",
              "<style scoped>\n",
              "    .dataframe tbody tr th:only-of-type {\n",
              "        vertical-align: middle;\n",
              "    }\n",
              "\n",
              "    .dataframe tbody tr th {\n",
              "        vertical-align: top;\n",
              "    }\n",
              "\n",
              "    .dataframe thead th {\n",
              "        text-align: right;\n",
              "    }\n",
              "</style>\n",
              "<table border=\"1\" class=\"dataframe\">\n",
              "  <thead>\n",
              "    <tr style=\"text-align: right;\">\n",
              "      <th></th>\n",
              "      <th>count</th>\n",
              "      <th>mean</th>\n",
              "      <th>std</th>\n",
              "      <th>min</th>\n",
              "      <th>25%</th>\n",
              "      <th>50%</th>\n",
              "      <th>75%</th>\n",
              "      <th>max</th>\n",
              "    </tr>\n",
              "    <tr>\n",
              "      <th>cluster</th>\n",
              "      <th></th>\n",
              "      <th></th>\n",
              "      <th></th>\n",
              "      <th></th>\n",
              "      <th></th>\n",
              "      <th></th>\n",
              "      <th></th>\n",
              "      <th></th>\n",
              "    </tr>\n",
              "  </thead>\n",
              "  <tbody>\n",
              "    <tr>\n",
              "      <th>0</th>\n",
              "      <td>404.0</td>\n",
              "      <td>111.178218</td>\n",
              "      <td>43.332381</td>\n",
              "      <td>10.0</td>\n",
              "      <td>91.0</td>\n",
              "      <td>111.0</td>\n",
              "      <td>136.0</td>\n",
              "      <td>251.0</td>\n",
              "    </tr>\n",
              "    <tr>\n",
              "      <th>1</th>\n",
              "      <td>2333.0</td>\n",
              "      <td>41.623232</td>\n",
              "      <td>20.747810</td>\n",
              "      <td>0.0</td>\n",
              "      <td>25.0</td>\n",
              "      <td>42.0</td>\n",
              "      <td>53.0</td>\n",
              "      <td>131.0</td>\n",
              "    </tr>\n",
              "    <tr>\n",
              "      <th>2</th>\n",
              "      <td>3069.0</td>\n",
              "      <td>100.611926</td>\n",
              "      <td>26.683748</td>\n",
              "      <td>10.0</td>\n",
              "      <td>89.0</td>\n",
              "      <td>100.0</td>\n",
              "      <td>115.0</td>\n",
              "      <td>240.0</td>\n",
              "    </tr>\n",
              "  </tbody>\n",
              "</table>\n",
              "</div>\n",
              "      <button class=\"colab-df-convert\" onclick=\"convertToInteractive('df-172440f6-1ee0-4312-83f6-24cec00aa473')\"\n",
              "              title=\"Convert this dataframe to an interactive table.\"\n",
              "              style=\"display:none;\">\n",
              "        \n",
              "  <svg xmlns=\"http://www.w3.org/2000/svg\" height=\"24px\"viewBox=\"0 0 24 24\"\n",
              "       width=\"24px\">\n",
              "    <path d=\"M0 0h24v24H0V0z\" fill=\"none\"/>\n",
              "    <path d=\"M18.56 5.44l.94 2.06.94-2.06 2.06-.94-2.06-.94-.94-2.06-.94 2.06-2.06.94zm-11 1L8.5 8.5l.94-2.06 2.06-.94-2.06-.94L8.5 2.5l-.94 2.06-2.06.94zm10 10l.94 2.06.94-2.06 2.06-.94-2.06-.94-.94-2.06-.94 2.06-2.06.94z\"/><path d=\"M17.41 7.96l-1.37-1.37c-.4-.4-.92-.59-1.43-.59-.52 0-1.04.2-1.43.59L10.3 9.45l-7.72 7.72c-.78.78-.78 2.05 0 2.83L4 21.41c.39.39.9.59 1.41.59.51 0 1.02-.2 1.41-.59l7.78-7.78 2.81-2.81c.8-.78.8-2.07 0-2.86zM5.41 20L4 18.59l7.72-7.72 1.47 1.35L5.41 20z\"/>\n",
              "  </svg>\n",
              "      </button>\n",
              "      \n",
              "  <style>\n",
              "    .colab-df-container {\n",
              "      display:flex;\n",
              "      flex-wrap:wrap;\n",
              "      gap: 12px;\n",
              "    }\n",
              "\n",
              "    .colab-df-convert {\n",
              "      background-color: #E8F0FE;\n",
              "      border: none;\n",
              "      border-radius: 50%;\n",
              "      cursor: pointer;\n",
              "      display: none;\n",
              "      fill: #1967D2;\n",
              "      height: 32px;\n",
              "      padding: 0 0 0 0;\n",
              "      width: 32px;\n",
              "    }\n",
              "\n",
              "    .colab-df-convert:hover {\n",
              "      background-color: #E2EBFA;\n",
              "      box-shadow: 0px 1px 2px rgba(60, 64, 67, 0.3), 0px 1px 3px 1px rgba(60, 64, 67, 0.15);\n",
              "      fill: #174EA6;\n",
              "    }\n",
              "\n",
              "    [theme=dark] .colab-df-convert {\n",
              "      background-color: #3B4455;\n",
              "      fill: #D2E3FC;\n",
              "    }\n",
              "\n",
              "    [theme=dark] .colab-df-convert:hover {\n",
              "      background-color: #434B5C;\n",
              "      box-shadow: 0px 1px 3px 1px rgba(0, 0, 0, 0.15);\n",
              "      filter: drop-shadow(0px 1px 2px rgba(0, 0, 0, 0.3));\n",
              "      fill: #FFFFFF;\n",
              "    }\n",
              "  </style>\n",
              "\n",
              "      <script>\n",
              "        const buttonEl =\n",
              "          document.querySelector('#df-172440f6-1ee0-4312-83f6-24cec00aa473 button.colab-df-convert');\n",
              "        buttonEl.style.display =\n",
              "          google.colab.kernel.accessAllowed ? 'block' : 'none';\n",
              "\n",
              "        async function convertToInteractive(key) {\n",
              "          const element = document.querySelector('#df-172440f6-1ee0-4312-83f6-24cec00aa473');\n",
              "          const dataTable =\n",
              "            await google.colab.kernel.invokeFunction('convertToInteractive',\n",
              "                                                     [key], {});\n",
              "          if (!dataTable) return;\n",
              "\n",
              "          const docLinkHtml = 'Like what you see? Visit the ' +\n",
              "            '<a target=\"_blank\" href=https://colab.research.google.com/notebooks/data_table.ipynb>data table notebook</a>'\n",
              "            + ' to learn more about interactive tables.';\n",
              "          element.innerHTML = '';\n",
              "          dataTable['output_type'] = 'display_data';\n",
              "          await google.colab.output.renderOutput(dataTable, element);\n",
              "          const docLink = document.createElement('div');\n",
              "          docLink.innerHTML = docLinkHtml;\n",
              "          element.appendChild(docLink);\n",
              "        }\n",
              "      </script>\n",
              "    </div>\n",
              "  </div>\n",
              "  "
            ]
          },
          "metadata": {},
          "execution_count": 1094
        }
      ],
      "source": [
        "df.groupby('cluster')['runtime'].describe()"
      ]
    },
    {
      "cell_type": "markdown",
      "metadata": {
        "id": "VA7FWLO4M16g"
      },
      "source": [
        " So our 3 clusters are not evenly split by the number of points present in each cluster.  It look like cluster 1 is mostly shows based on the average runtime with cluster 0 and 2 being mostly movies or long shows. The average imdb score between cluster 0 and cluster 1 are very close.\n",
        "Cluster 1 also has the highest mean score from tmdb as well. "
      ]
    },
    {
      "cell_type": "markdown",
      "metadata": {
        "id": "ZXXcqYmWnyWc"
      },
      "source": [
        "##Supervised Modeling\n",
        "## Bagging Regressor"
      ]
    },
    {
      "cell_type": "code",
      "execution_count": 1095,
      "metadata": {
        "id": "3-fpZ6IKs4Iy"
      },
      "outputs": [],
      "source": [
        "bagreg = BaggingRegressor(random_state = 42)"
      ]
    },
    {
      "cell_type": "code",
      "execution_count": 1096,
      "metadata": {
        "colab": {
          "base_uri": "https://localhost:8080/",
          "height": 75
        },
        "id": "J-E-MBIrt-dk",
        "outputId": "43d95f09-cbc2-47a9-8c68-ba1f2665d40f"
      },
      "outputs": [
        {
          "output_type": "execute_result",
          "data": {
            "text/plain": [
              "BaggingRegressor(random_state=42)"
            ],
            "text/html": [
              "<style>#sk-581f2390-1904-4752-ad61-dd48bb22f2c0 {color: black;background-color: white;}#sk-581f2390-1904-4752-ad61-dd48bb22f2c0 pre{padding: 0;}#sk-581f2390-1904-4752-ad61-dd48bb22f2c0 div.sk-toggleable {background-color: white;}#sk-581f2390-1904-4752-ad61-dd48bb22f2c0 label.sk-toggleable__label {cursor: pointer;display: block;width: 100%;margin-bottom: 0;padding: 0.3em;box-sizing: border-box;text-align: center;}#sk-581f2390-1904-4752-ad61-dd48bb22f2c0 label.sk-toggleable__label-arrow:before {content: \"▸\";float: left;margin-right: 0.25em;color: #696969;}#sk-581f2390-1904-4752-ad61-dd48bb22f2c0 label.sk-toggleable__label-arrow:hover:before {color: black;}#sk-581f2390-1904-4752-ad61-dd48bb22f2c0 div.sk-estimator:hover label.sk-toggleable__label-arrow:before {color: black;}#sk-581f2390-1904-4752-ad61-dd48bb22f2c0 div.sk-toggleable__content {max-height: 0;max-width: 0;overflow: hidden;text-align: left;background-color: #f0f8ff;}#sk-581f2390-1904-4752-ad61-dd48bb22f2c0 div.sk-toggleable__content pre {margin: 0.2em;color: black;border-radius: 0.25em;background-color: #f0f8ff;}#sk-581f2390-1904-4752-ad61-dd48bb22f2c0 input.sk-toggleable__control:checked~div.sk-toggleable__content {max-height: 200px;max-width: 100%;overflow: auto;}#sk-581f2390-1904-4752-ad61-dd48bb22f2c0 input.sk-toggleable__control:checked~label.sk-toggleable__label-arrow:before {content: \"▾\";}#sk-581f2390-1904-4752-ad61-dd48bb22f2c0 div.sk-estimator input.sk-toggleable__control:checked~label.sk-toggleable__label {background-color: #d4ebff;}#sk-581f2390-1904-4752-ad61-dd48bb22f2c0 div.sk-label input.sk-toggleable__control:checked~label.sk-toggleable__label {background-color: #d4ebff;}#sk-581f2390-1904-4752-ad61-dd48bb22f2c0 input.sk-hidden--visually {border: 0;clip: rect(1px 1px 1px 1px);clip: rect(1px, 1px, 1px, 1px);height: 1px;margin: -1px;overflow: hidden;padding: 0;position: absolute;width: 1px;}#sk-581f2390-1904-4752-ad61-dd48bb22f2c0 div.sk-estimator {font-family: monospace;background-color: #f0f8ff;border: 1px dotted black;border-radius: 0.25em;box-sizing: border-box;margin-bottom: 0.5em;}#sk-581f2390-1904-4752-ad61-dd48bb22f2c0 div.sk-estimator:hover {background-color: #d4ebff;}#sk-581f2390-1904-4752-ad61-dd48bb22f2c0 div.sk-parallel-item::after {content: \"\";width: 100%;border-bottom: 1px solid gray;flex-grow: 1;}#sk-581f2390-1904-4752-ad61-dd48bb22f2c0 div.sk-label:hover label.sk-toggleable__label {background-color: #d4ebff;}#sk-581f2390-1904-4752-ad61-dd48bb22f2c0 div.sk-serial::before {content: \"\";position: absolute;border-left: 1px solid gray;box-sizing: border-box;top: 2em;bottom: 0;left: 50%;}#sk-581f2390-1904-4752-ad61-dd48bb22f2c0 div.sk-serial {display: flex;flex-direction: column;align-items: center;background-color: white;padding-right: 0.2em;padding-left: 0.2em;}#sk-581f2390-1904-4752-ad61-dd48bb22f2c0 div.sk-item {z-index: 1;}#sk-581f2390-1904-4752-ad61-dd48bb22f2c0 div.sk-parallel {display: flex;align-items: stretch;justify-content: center;background-color: white;}#sk-581f2390-1904-4752-ad61-dd48bb22f2c0 div.sk-parallel::before {content: \"\";position: absolute;border-left: 1px solid gray;box-sizing: border-box;top: 2em;bottom: 0;left: 50%;}#sk-581f2390-1904-4752-ad61-dd48bb22f2c0 div.sk-parallel-item {display: flex;flex-direction: column;position: relative;background-color: white;}#sk-581f2390-1904-4752-ad61-dd48bb22f2c0 div.sk-parallel-item:first-child::after {align-self: flex-end;width: 50%;}#sk-581f2390-1904-4752-ad61-dd48bb22f2c0 div.sk-parallel-item:last-child::after {align-self: flex-start;width: 50%;}#sk-581f2390-1904-4752-ad61-dd48bb22f2c0 div.sk-parallel-item:only-child::after {width: 0;}#sk-581f2390-1904-4752-ad61-dd48bb22f2c0 div.sk-dashed-wrapped {border: 1px dashed gray;margin: 0 0.4em 0.5em 0.4em;box-sizing: border-box;padding-bottom: 0.4em;background-color: white;position: relative;}#sk-581f2390-1904-4752-ad61-dd48bb22f2c0 div.sk-label label {font-family: monospace;font-weight: bold;background-color: white;display: inline-block;line-height: 1.2em;}#sk-581f2390-1904-4752-ad61-dd48bb22f2c0 div.sk-label-container {position: relative;z-index: 2;text-align: center;}#sk-581f2390-1904-4752-ad61-dd48bb22f2c0 div.sk-container {/* jupyter's `normalize.less` sets `[hidden] { display: none; }` but bootstrap.min.css set `[hidden] { display: none !important; }` so we also need the `!important` here to be able to override the default hidden behavior on the sphinx rendered scikit-learn.org. See: https://github.com/scikit-learn/scikit-learn/issues/21755 */display: inline-block !important;position: relative;}#sk-581f2390-1904-4752-ad61-dd48bb22f2c0 div.sk-text-repr-fallback {display: none;}</style><div id=\"sk-581f2390-1904-4752-ad61-dd48bb22f2c0\" class=\"sk-top-container\"><div class=\"sk-text-repr-fallback\"><pre>BaggingRegressor(random_state=42)</pre><b>Please rerun this cell to show the HTML repr or trust the notebook.</b></div><div class=\"sk-container\" hidden><div class=\"sk-item\"><div class=\"sk-estimator sk-toggleable\"><input class=\"sk-toggleable__control sk-hidden--visually\" id=\"ea99b6b9-b996-4b2f-a954-e0f6d08d06a5\" type=\"checkbox\" checked><label for=\"ea99b6b9-b996-4b2f-a954-e0f6d08d06a5\" class=\"sk-toggleable__label sk-toggleable__label-arrow\">BaggingRegressor</label><div class=\"sk-toggleable__content\"><pre>BaggingRegressor(random_state=42)</pre></div></div></div></div></div>"
            ]
          },
          "metadata": {},
          "execution_count": 1096
        }
      ],
      "source": [
        "bagreg.fit(X_train_pro, y_train)"
      ]
    },
    {
      "cell_type": "code",
      "execution_count": 1097,
      "metadata": {
        "colab": {
          "base_uri": "https://localhost:8080/"
        },
        "id": "Srfagt5ZuB0d",
        "outputId": "6035ecd4-65da-47ee-ee0e-8d11d2642b42"
      },
      "outputs": [
        {
          "output_type": "execute_result",
          "data": {
            "text/plain": [
              "array([6.34, 6.92, 6.3 , ..., 6.11, 7.42, 6.72])"
            ]
          },
          "metadata": {},
          "execution_count": 1097
        }
      ],
      "source": [
        "bagreg.predict(X_test_pro)"
      ]
    },
    {
      "cell_type": "code",
      "execution_count": 1098,
      "metadata": {
        "colab": {
          "base_uri": "https://localhost:8080/"
        },
        "id": "HFmtSJPD1A5S",
        "outputId": "ff157225-1299-410a-dce0-01d7fd38b1bc"
      },
      "outputs": [
        {
          "output_type": "stream",
          "name": "stdout",
          "text": [
            "0.9046865371590054\n",
            "0.49714588186038744\n"
          ]
        }
      ],
      "source": [
        "bagreg_train_score = bagreg.score(X_train_pro, y_train)\n",
        "bagreg_test_score = bagreg.score(X_test_pro, y_test)\n",
        "print(bagreg_train_score)\n",
        "print(bagreg_test_score)"
      ]
    },
    {
      "cell_type": "markdown",
      "metadata": {
        "id": "2JNW4vir1gsA"
      },
      "source": [
        "This model is extremly overfit, I'm going to tune it and see if I can get better results."
      ]
    },
    {
      "cell_type": "code",
      "execution_count": 1099,
      "metadata": {
        "id": "uhunCUQ-1eYZ"
      },
      "outputs": [],
      "source": [
        "# List of estimator values\n",
        "estimators = [10, 20, 30, 40, 50, 100]\n",
        "# Data frame to store the scores\n",
        "scores = pd.DataFrame(index=estimators, columns=['Train Score', 'Test Score'])\n",
        "# Iterate through the values to find the best number of estimators\n",
        "for num_estimators in estimators:\n",
        "   bag_reg = BaggingRegressor(n_estimators=num_estimators, random_state=42)\n",
        "   bag_reg.fit(X_train_pro, y_train)\n",
        "   train_score = bag_reg.score(X_train_pro, y_train)\n",
        "   test_score = bag_reg.score(X_test_pro, y_test)\n",
        "   scores.loc[num_estimators, 'Train Score'] = train_score\n",
        "   scores.loc[num_estimators, 'Test Score'] = test_score"
      ]
    },
    {
      "cell_type": "code",
      "execution_count": 1100,
      "metadata": {
        "colab": {
          "base_uri": "https://localhost:8080/",
          "height": 265
        },
        "id": "C7hMYAIu14Pu",
        "outputId": "6ee6bca8-3faf-41a8-fa9a-e6f6e4f5ad03"
      },
      "outputs": [
        {
          "output_type": "display_data",
          "data": {
            "text/plain": [
              "<Figure size 432x288 with 1 Axes>"
            ],
            "image/png": "[encoded data removed]"
          },
          "metadata": {
            "needs_background": "light"
          }
        }
      ],
      "source": [
        "# Plot the scores\n",
        "plt.plot(scores['Test Score'])\n",
        "plt.show()"
      ]
    },
    {
      "cell_type": "markdown",
      "metadata": {
        "id": "jiRBfjyu2Bj3"
      },
      "source": [
        "Sorting my scores next."
      ]
    },
    {
      "cell_type": "code",
      "execution_count": 1101,
      "metadata": {
        "colab": {
          "base_uri": "https://localhost:8080/",
          "height": 238
        },
        "id": "KWoS2MeH2Ays",
        "outputId": "61c9f5ed-43fc-4ab4-9d8b-a97831e220dd"
      },
      "outputs": [
        {
          "output_type": "execute_result",
          "data": {
            "text/plain": [
              "    Train Score Test Score\n",
              "100    0.932656   0.546939\n",
              "50     0.929549   0.538906\n",
              "40      0.92757   0.536211\n",
              "30     0.925164    0.53268\n",
              "20     0.919158   0.520957\n",
              "10     0.904687   0.497146"
            ],
            "text/html": [
              "\n",
              "  <div id=\"df-848e0127-6633-4af5-8ac3-26e3116a96d0\">\n",
              "    <div class=\"colab-df-container\">\n",
              "      <div>\n",
              "<style scoped>\n",
              "    .dataframe tbody tr th:only-of-type {\n",
              "        vertical-align: middle;\n",
              "    }\n",
              "\n",
              "    .dataframe tbody tr th {\n",
              "        vertical-align: top;\n",
              "    }\n",
              "\n",
              "    .dataframe thead th {\n",
              "        text-align: right;\n",
              "    }\n",
              "</style>\n",
              "<table border=\"1\" class=\"dataframe\">\n",
              "  <thead>\n",
              "    <tr style=\"text-align: right;\">\n",
              "      <th></th>\n",
              "      <th>Train Score</th>\n",
              "      <th>Test Score</th>\n",
              "    </tr>\n",
              "  </thead>\n",
              "  <tbody>\n",
              "    <tr>\n",
              "      <th>100</th>\n",
              "      <td>0.932656</td>\n",
              "      <td>0.546939</td>\n",
              "    </tr>\n",
              "    <tr>\n",
              "      <th>50</th>\n",
              "      <td>0.929549</td>\n",
              "      <td>0.538906</td>\n",
              "    </tr>\n",
              "    <tr>\n",
              "      <th>40</th>\n",
              "      <td>0.92757</td>\n",
              "      <td>0.536211</td>\n",
              "    </tr>\n",
              "    <tr>\n",
              "      <th>30</th>\n",
              "      <td>0.925164</td>\n",
              "      <td>0.53268</td>\n",
              "    </tr>\n",
              "    <tr>\n",
              "      <th>20</th>\n",
              "      <td>0.919158</td>\n",
              "      <td>0.520957</td>\n",
              "    </tr>\n",
              "    <tr>\n",
              "      <th>10</th>\n",
              "      <td>0.904687</td>\n",
              "      <td>0.497146</td>\n",
              "    </tr>\n",
              "  </tbody>\n",
              "</table>\n",
              "</div>\n",
              "      <button class=\"colab-df-convert\" onclick=\"convertToInteractive('df-848e0127-6633-4af5-8ac3-26e3116a96d0')\"\n",
              "              title=\"Convert this dataframe to an interactive table.\"\n",
              "              style=\"display:none;\">\n",
              "        \n",
              "  <svg xmlns=\"http://www.w3.org/2000/svg\" height=\"24px\"viewBox=\"0 0 24 24\"\n",
              "       width=\"24px\">\n",
              "    <path d=\"M0 0h24v24H0V0z\" fill=\"none\"/>\n",
              "    <path d=\"M18.56 5.44l.94 2.06.94-2.06 2.06-.94-2.06-.94-.94-2.06-.94 2.06-2.06.94zm-11 1L8.5 8.5l.94-2.06 2.06-.94-2.06-.94L8.5 2.5l-.94 2.06-2.06.94zm10 10l.94 2.06.94-2.06 2.06-.94-2.06-.94-.94-2.06-.94 2.06-2.06.94z\"/><path d=\"M17.41 7.96l-1.37-1.37c-.4-.4-.92-.59-1.43-.59-.52 0-1.04.2-1.43.59L10.3 9.45l-7.72 7.72c-.78.78-.78 2.05 0 2.83L4 21.41c.39.39.9.59 1.41.59.51 0 1.02-.2 1.41-.59l7.78-7.78 2.81-2.81c.8-.78.8-2.07 0-2.86zM5.41 20L4 18.59l7.72-7.72 1.47 1.35L5.41 20z\"/>\n",
              "  </svg>\n",
              "      </button>\n",
              "      \n",
              "  <style>\n",
              "    .colab-df-container {\n",
              "      display:flex;\n",
              "      flex-wrap:wrap;\n",
              "      gap: 12px;\n",
              "    }\n",
              "\n",
              "    .colab-df-convert {\n",
              "      background-color: #E8F0FE;\n",
              "      border: none;\n",
              "      border-radius: 50%;\n",
              "      cursor: pointer;\n",
              "      display: none;\n",
              "      fill: #1967D2;\n",
              "      height: 32px;\n",
              "      padding: 0 0 0 0;\n",
              "      width: 32px;\n",
              "    }\n",
              "\n",
              "    .colab-df-convert:hover {\n",
              "      background-color: #E2EBFA;\n",
              "      box-shadow: 0px 1px 2px rgba(60, 64, 67, 0.3), 0px 1px 3px 1px rgba(60, 64, 67, 0.15);\n",
              "      fill: #174EA6;\n",
              "    }\n",
              "\n",
              "    [theme=dark] .colab-df-convert {\n",
              "      background-color: #3B4455;\n",
              "      fill: #D2E3FC;\n",
              "    }\n",
              "\n",
              "    [theme=dark] .colab-df-convert:hover {\n",
              "      background-color: #434B5C;\n",
              "      box-shadow: 0px 1px 3px 1px rgba(0, 0, 0, 0.15);\n",
              "      filter: drop-shadow(0px 1px 2px rgba(0, 0, 0, 0.3));\n",
              "      fill: #FFFFFF;\n",
              "    }\n",
              "  </style>\n",
              "\n",
              "      <script>\n",
              "        const buttonEl =\n",
              "          document.querySelector('#df-848e0127-6633-4af5-8ac3-26e3116a96d0 button.colab-df-convert');\n",
              "        buttonEl.style.display =\n",
              "          google.colab.kernel.accessAllowed ? 'block' : 'none';\n",
              "\n",
              "        async function convertToInteractive(key) {\n",
              "          const element = document.querySelector('#df-848e0127-6633-4af5-8ac3-26e3116a96d0');\n",
              "          const dataTable =\n",
              "            await google.colab.kernel.invokeFunction('convertToInteractive',\n",
              "                                                     [key], {});\n",
              "          if (!dataTable) return;\n",
              "\n",
              "          const docLinkHtml = 'Like what you see? Visit the ' +\n",
              "            '<a target=\"_blank\" href=https://colab.research.google.com/notebooks/data_table.ipynb>data table notebook</a>'\n",
              "            + ' to learn more about interactive tables.';\n",
              "          element.innerHTML = '';\n",
              "          dataTable['output_type'] = 'display_data';\n",
              "          await google.colab.output.renderOutput(dataTable, element);\n",
              "          const docLink = document.createElement('div');\n",
              "          docLink.innerHTML = docLinkHtml;\n",
              "          element.appendChild(docLink);\n",
              "        }\n",
              "      </script>\n",
              "    </div>\n",
              "  </div>\n",
              "  "
            ]
          },
          "metadata": {},
          "execution_count": 1101
        }
      ],
      "source": [
        "scores = scores.sort_values(by='Test Score', ascending=False)\n",
        "scores"
      ]
    },
    {
      "cell_type": "markdown",
      "source": [
        "With 100 being the best I'm going to retest with similar numbers."
      ],
      "metadata": {
        "id": "AjjYrWFN-Lbx"
      }
    },
    {
      "cell_type": "code",
      "execution_count": 1102,
      "metadata": {
        "id": "FaUWO2582D0x"
      },
      "outputs": [],
      "source": [
        "# List of estimator values\n",
        "estimators = [100, 120, 130, 140, 150]\n",
        "# Data frame to store the scores\n",
        "scores = pd.DataFrame(index=estimators, columns=['Train Score', 'Test Score'])\n",
        "# Iterate through the values to find the best number of estimators\n",
        "for num_estimators in estimators:\n",
        "   bag_reg = BaggingRegressor(n_estimators=num_estimators, random_state=42)\n",
        "   bag_reg.fit(X_train_pro, y_train)\n",
        "   train_score = bag_reg.score(X_train_pro, y_train)\n",
        "   test_score = bag_reg.score(X_test_pro, y_test)\n",
        "   scores.loc[num_estimators, 'Train Score'] = train_score\n",
        "   scores.loc[num_estimators, 'Test Score'] = test_score"
      ]
    },
    {
      "cell_type": "code",
      "execution_count": 1103,
      "metadata": {
        "colab": {
          "base_uri": "https://localhost:8080/",
          "height": 206
        },
        "id": "qVUZFpX52NRH",
        "outputId": "16754b70-1788-486a-a38c-c24927ef5dd9"
      },
      "outputs": [
        {
          "output_type": "execute_result",
          "data": {
            "text/plain": [
              "    Train Score Test Score\n",
              "150    0.933984   0.548953\n",
              "140     0.93381   0.548769\n",
              "130    0.933611   0.548715\n",
              "120    0.933325    0.54793\n",
              "100    0.932656   0.546939"
            ],
            "text/html": [
              "\n",
              "  <div id=\"df-6071b1e7-e398-43a4-8728-86f21f29020e\">\n",
              "    <div class=\"colab-df-container\">\n",
              "      <div>\n",
              "<style scoped>\n",
              "    .dataframe tbody tr th:only-of-type {\n",
              "        vertical-align: middle;\n",
              "    }\n",
              "\n",
              "    .dataframe tbody tr th {\n",
              "        vertical-align: top;\n",
              "    }\n",
              "\n",
              "    .dataframe thead th {\n",
              "        text-align: right;\n",
              "    }\n",
              "</style>\n",
              "<table border=\"1\" class=\"dataframe\">\n",
              "  <thead>\n",
              "    <tr style=\"text-align: right;\">\n",
              "      <th></th>\n",
              "      <th>Train Score</th>\n",
              "      <th>Test Score</th>\n",
              "    </tr>\n",
              "  </thead>\n",
              "  <tbody>\n",
              "    <tr>\n",
              "      <th>150</th>\n",
              "      <td>0.933984</td>\n",
              "      <td>0.548953</td>\n",
              "    </tr>\n",
              "    <tr>\n",
              "      <th>140</th>\n",
              "      <td>0.93381</td>\n",
              "      <td>0.548769</td>\n",
              "    </tr>\n",
              "    <tr>\n",
              "      <th>130</th>\n",
              "      <td>0.933611</td>\n",
              "      <td>0.548715</td>\n",
              "    </tr>\n",
              "    <tr>\n",
              "      <th>120</th>\n",
              "      <td>0.933325</td>\n",
              "      <td>0.54793</td>\n",
              "    </tr>\n",
              "    <tr>\n",
              "      <th>100</th>\n",
              "      <td>0.932656</td>\n",
              "      <td>0.546939</td>\n",
              "    </tr>\n",
              "  </tbody>\n",
              "</table>\n",
              "</div>\n",
              "      <button class=\"colab-df-convert\" onclick=\"convertToInteractive('df-6071b1e7-e398-43a4-8728-86f21f29020e')\"\n",
              "              title=\"Convert this dataframe to an interactive table.\"\n",
              "              style=\"display:none;\">\n",
              "        \n",
              "  <svg xmlns=\"http://www.w3.org/2000/svg\" height=\"24px\"viewBox=\"0 0 24 24\"\n",
              "       width=\"24px\">\n",
              "    <path d=\"M0 0h24v24H0V0z\" fill=\"none\"/>\n",
              "    <path d=\"M18.56 5.44l.94 2.06.94-2.06 2.06-.94-2.06-.94-.94-2.06-.94 2.06-2.06.94zm-11 1L8.5 8.5l.94-2.06 2.06-.94-2.06-.94L8.5 2.5l-.94 2.06-2.06.94zm10 10l.94 2.06.94-2.06 2.06-.94-2.06-.94-.94-2.06-.94 2.06-2.06.94z\"/><path d=\"M17.41 7.96l-1.37-1.37c-.4-.4-.92-.59-1.43-.59-.52 0-1.04.2-1.43.59L10.3 9.45l-7.72 7.72c-.78.78-.78 2.05 0 2.83L4 21.41c.39.39.9.59 1.41.59.51 0 1.02-.2 1.41-.59l7.78-7.78 2.81-2.81c.8-.78.8-2.07 0-2.86zM5.41 20L4 18.59l7.72-7.72 1.47 1.35L5.41 20z\"/>\n",
              "  </svg>\n",
              "      </button>\n",
              "      \n",
              "  <style>\n",
              "    .colab-df-container {\n",
              "      display:flex;\n",
              "      flex-wrap:wrap;\n",
              "      gap: 12px;\n",
              "    }\n",
              "\n",
              "    .colab-df-convert {\n",
              "      background-color: #E8F0FE;\n",
              "      border: none;\n",
              "      border-radius: 50%;\n",
              "      cursor: pointer;\n",
              "      display: none;\n",
              "      fill: #1967D2;\n",
              "      height: 32px;\n",
              "      padding: 0 0 0 0;\n",
              "      width: 32px;\n",
              "    }\n",
              "\n",
              "    .colab-df-convert:hover {\n",
              "      background-color: #E2EBFA;\n",
              "      box-shadow: 0px 1px 2px rgba(60, 64, 67, 0.3), 0px 1px 3px 1px rgba(60, 64, 67, 0.15);\n",
              "      fill: #174EA6;\n",
              "    }\n",
              "\n",
              "    [theme=dark] .colab-df-convert {\n",
              "      background-color: #3B4455;\n",
              "      fill: #D2E3FC;\n",
              "    }\n",
              "\n",
              "    [theme=dark] .colab-df-convert:hover {\n",
              "      background-color: #434B5C;\n",
              "      box-shadow: 0px 1px 3px 1px rgba(0, 0, 0, 0.15);\n",
              "      filter: drop-shadow(0px 1px 2px rgba(0, 0, 0, 0.3));\n",
              "      fill: #FFFFFF;\n",
              "    }\n",
              "  </style>\n",
              "\n",
              "      <script>\n",
              "        const buttonEl =\n",
              "          document.querySelector('#df-6071b1e7-e398-43a4-8728-86f21f29020e button.colab-df-convert');\n",
              "        buttonEl.style.display =\n",
              "          google.colab.kernel.accessAllowed ? 'block' : 'none';\n",
              "\n",
              "        async function convertToInteractive(key) {\n",
              "          const element = document.querySelector('#df-6071b1e7-e398-43a4-8728-86f21f29020e');\n",
              "          const dataTable =\n",
              "            await google.colab.kernel.invokeFunction('convertToInteractive',\n",
              "                                                     [key], {});\n",
              "          if (!dataTable) return;\n",
              "\n",
              "          const docLinkHtml = 'Like what you see? Visit the ' +\n",
              "            '<a target=\"_blank\" href=https://colab.research.google.com/notebooks/data_table.ipynb>data table notebook</a>'\n",
              "            + ' to learn more about interactive tables.';\n",
              "          element.innerHTML = '';\n",
              "          dataTable['output_type'] = 'display_data';\n",
              "          await google.colab.output.renderOutput(dataTable, element);\n",
              "          const docLink = document.createElement('div');\n",
              "          docLink.innerHTML = docLinkHtml;\n",
              "          element.appendChild(docLink);\n",
              "        }\n",
              "      </script>\n",
              "    </div>\n",
              "  </div>\n",
              "  "
            ]
          },
          "metadata": {},
          "execution_count": 1103
        }
      ],
      "source": [
        "scores = scores.sort_values(by='Test Score', ascending=False)\n",
        "scores"
      ]
    },
    {
      "cell_type": "code",
      "source": [
        "bag_reg_final = BaggingRegressor(n_estimators=150, random_state=42)\n",
        "bag_reg_final.fit(X_train_pro, y_train)\n",
        "train_final = bag_reg_final.score(X_train_pro, y_train)\n",
        "test_final = bag_reg_final.score(X_test_pro, y_test)\n",
        "print(train_score)\n",
        "print(test_score)"
      ],
      "metadata": {
        "colab": {
          "base_uri": "https://localhost:8080/"
        },
        "id": "har3AsbLi_tl",
        "outputId": "0b90f1e1-97d4-4a46-aebc-e7f2857089ed"
      },
      "execution_count": 1104,
      "outputs": [
        {
          "output_type": "stream",
          "name": "stdout",
          "text": [
            "0.9339835733640224\n",
            "0.548953025223951\n"
          ]
        }
      ]
    },
    {
      "cell_type": "markdown",
      "metadata": {
        "id": "A0kWWVLM2yWD"
      },
      "source": [
        "So even with 150 estimators we are not getting very much in the way of return on our test data (only a .004% increase.)  Lets try a different model."
      ]
    },
    {
      "cell_type": "markdown",
      "metadata": {
        "id": "BjX87OwF2yPU"
      },
      "source": [
        "##Random Forest Regressor"
      ]
    },
    {
      "cell_type": "code",
      "execution_count": 1105,
      "metadata": {
        "id": "i0tBAUe92wfY"
      },
      "outputs": [],
      "source": [
        "rf = RandomForestRegressor(random_state = 42)"
      ]
    },
    {
      "cell_type": "code",
      "execution_count": 1106,
      "metadata": {
        "colab": {
          "base_uri": "https://localhost:8080/",
          "height": 75
        },
        "id": "WZjLhoJy4Eb3",
        "outputId": "fd8ee631-bbcb-4e07-ea84-6d0835c677b1"
      },
      "outputs": [
        {
          "output_type": "execute_result",
          "data": {
            "text/plain": [
              "RandomForestRegressor(random_state=42)"
            ],
            "text/html": [
              "<style>#sk-5df59eee-4896-4c5b-b841-d3e6ea7c9499 {color: black;background-color: white;}#sk-5df59eee-4896-4c5b-b841-d3e6ea7c9499 pre{padding: 0;}#sk-5df59eee-4896-4c5b-b841-d3e6ea7c9499 div.sk-toggleable {background-color: white;}#sk-5df59eee-4896-4c5b-b841-d3e6ea7c9499 label.sk-toggleable__label {cursor: pointer;display: block;width: 100%;margin-bottom: 0;padding: 0.3em;box-sizing: border-box;text-align: center;}#sk-5df59eee-4896-4c5b-b841-d3e6ea7c9499 label.sk-toggleable__label-arrow:before {content: \"▸\";float: left;margin-right: 0.25em;color: #696969;}#sk-5df59eee-4896-4c5b-b841-d3e6ea7c9499 label.sk-toggleable__label-arrow:hover:before {color: black;}#sk-5df59eee-4896-4c5b-b841-d3e6ea7c9499 div.sk-estimator:hover label.sk-toggleable__label-arrow:before {color: black;}#sk-5df59eee-4896-4c5b-b841-d3e6ea7c9499 div.sk-toggleable__content {max-height: 0;max-width: 0;overflow: hidden;text-align: left;background-color: #f0f8ff;}#sk-5df59eee-4896-4c5b-b841-d3e6ea7c9499 div.sk-toggleable__content pre {margin: 0.2em;color: black;border-radius: 0.25em;background-color: #f0f8ff;}#sk-5df59eee-4896-4c5b-b841-d3e6ea7c9499 input.sk-toggleable__control:checked~div.sk-toggleable__content {max-height: 200px;max-width: 100%;overflow: auto;}#sk-5df59eee-4896-4c5b-b841-d3e6ea7c9499 input.sk-toggleable__control:checked~label.sk-toggleable__label-arrow:before {content: \"▾\";}#sk-5df59eee-4896-4c5b-b841-d3e6ea7c9499 div.sk-estimator input.sk-toggleable__control:checked~label.sk-toggleable__label {background-color: #d4ebff;}#sk-5df59eee-4896-4c5b-b841-d3e6ea7c9499 div.sk-label input.sk-toggleable__control:checked~label.sk-toggleable__label {background-color: #d4ebff;}#sk-5df59eee-4896-4c5b-b841-d3e6ea7c9499 input.sk-hidden--visually {border: 0;clip: rect(1px 1px 1px 1px);clip: rect(1px, 1px, 1px, 1px);height: 1px;margin: -1px;overflow: hidden;padding: 0;position: absolute;width: 1px;}#sk-5df59eee-4896-4c5b-b841-d3e6ea7c9499 div.sk-estimator {font-family: monospace;background-color: #f0f8ff;border: 1px dotted black;border-radius: 0.25em;box-sizing: border-box;margin-bottom: 0.5em;}#sk-5df59eee-4896-4c5b-b841-d3e6ea7c9499 div.sk-estimator:hover {background-color: #d4ebff;}#sk-5df59eee-4896-4c5b-b841-d3e6ea7c9499 div.sk-parallel-item::after {content: \"\";width: 100%;border-bottom: 1px solid gray;flex-grow: 1;}#sk-5df59eee-4896-4c5b-b841-d3e6ea7c9499 div.sk-label:hover label.sk-toggleable__label {background-color: #d4ebff;}#sk-5df59eee-4896-4c5b-b841-d3e6ea7c9499 div.sk-serial::before {content: \"\";position: absolute;border-left: 1px solid gray;box-sizing: border-box;top: 2em;bottom: 0;left: 50%;}#sk-5df59eee-4896-4c5b-b841-d3e6ea7c9499 div.sk-serial {display: flex;flex-direction: column;align-items: center;background-color: white;padding-right: 0.2em;padding-left: 0.2em;}#sk-5df59eee-4896-4c5b-b841-d3e6ea7c9499 div.sk-item {z-index: 1;}#sk-5df59eee-4896-4c5b-b841-d3e6ea7c9499 div.sk-parallel {display: flex;align-items: stretch;justify-content: center;background-color: white;}#sk-5df59eee-4896-4c5b-b841-d3e6ea7c9499 div.sk-parallel::before {content: \"\";position: absolute;border-left: 1px solid gray;box-sizing: border-box;top: 2em;bottom: 0;left: 50%;}#sk-5df59eee-4896-4c5b-b841-d3e6ea7c9499 div.sk-parallel-item {display: flex;flex-direction: column;position: relative;background-color: white;}#sk-5df59eee-4896-4c5b-b841-d3e6ea7c9499 div.sk-parallel-item:first-child::after {align-self: flex-end;width: 50%;}#sk-5df59eee-4896-4c5b-b841-d3e6ea7c9499 div.sk-parallel-item:last-child::after {align-self: flex-start;width: 50%;}#sk-5df59eee-4896-4c5b-b841-d3e6ea7c9499 div.sk-parallel-item:only-child::after {width: 0;}#sk-5df59eee-4896-4c5b-b841-d3e6ea7c9499 div.sk-dashed-wrapped {border: 1px dashed gray;margin: 0 0.4em 0.5em 0.4em;box-sizing: border-box;padding-bottom: 0.4em;background-color: white;position: relative;}#sk-5df59eee-4896-4c5b-b841-d3e6ea7c9499 div.sk-label label {font-family: monospace;font-weight: bold;background-color: white;display: inline-block;line-height: 1.2em;}#sk-5df59eee-4896-4c5b-b841-d3e6ea7c9499 div.sk-label-container {position: relative;z-index: 2;text-align: center;}#sk-5df59eee-4896-4c5b-b841-d3e6ea7c9499 div.sk-container {/* jupyter's `normalize.less` sets `[hidden] { display: none; }` but bootstrap.min.css set `[hidden] { display: none !important; }` so we also need the `!important` here to be able to override the default hidden behavior on the sphinx rendered scikit-learn.org. See: https://github.com/scikit-learn/scikit-learn/issues/21755 */display: inline-block !important;position: relative;}#sk-5df59eee-4896-4c5b-b841-d3e6ea7c9499 div.sk-text-repr-fallback {display: none;}</style><div id=\"sk-5df59eee-4896-4c5b-b841-d3e6ea7c9499\" class=\"sk-top-container\"><div class=\"sk-text-repr-fallback\"><pre>RandomForestRegressor(random_state=42)</pre><b>Please rerun this cell to show the HTML repr or trust the notebook.</b></div><div class=\"sk-container\" hidden><div class=\"sk-item\"><div class=\"sk-estimator sk-toggleable\"><input class=\"sk-toggleable__control sk-hidden--visually\" id=\"113d2e7a-9315-4425-a424-c8cc5ad0e3fa\" type=\"checkbox\" checked><label for=\"113d2e7a-9315-4425-a424-c8cc5ad0e3fa\" class=\"sk-toggleable__label sk-toggleable__label-arrow\">RandomForestRegressor</label><div class=\"sk-toggleable__content\"><pre>RandomForestRegressor(random_state=42)</pre></div></div></div></div></div>"
            ]
          },
          "metadata": {},
          "execution_count": 1106
        }
      ],
      "source": [
        "rf.fit(X_train_pro, y_train)"
      ]
    },
    {
      "cell_type": "code",
      "execution_count": 1107,
      "metadata": {
        "colab": {
          "base_uri": "https://localhost:8080/"
        },
        "id": "_ir28MsQ4LNg",
        "outputId": "44c2e762-37bc-4360-bfe1-78b5c6d66646"
      },
      "outputs": [
        {
          "output_type": "execute_result",
          "data": {
            "text/plain": [
              "array([6.453, 6.881, 6.462, ..., 6.03 , 7.265, 6.598])"
            ]
          },
          "metadata": {},
          "execution_count": 1107
        }
      ],
      "source": [
        "rf.predict(X_test_pro)"
      ]
    },
    {
      "cell_type": "code",
      "execution_count": 1108,
      "metadata": {
        "colab": {
          "base_uri": "https://localhost:8080/"
        },
        "id": "UrCvR_wJ4P5R",
        "outputId": "b4951732-e47a-4ca2-86bb-eff02e46509f"
      },
      "outputs": [
        {
          "output_type": "stream",
          "name": "stdout",
          "text": [
            "0.9326314396392981\n",
            "0.5457741610922928\n"
          ]
        }
      ],
      "source": [
        "rf_train_score = rf.score(X_train_pro, y_train)\n",
        "rf_test_score = rf.score(X_test_pro, y_test)\n",
        "print(rf_train_score)\n",
        "print(rf_test_score)"
      ]
    },
    {
      "cell_type": "markdown",
      "metadata": {
        "id": "GT4CECn74XQU"
      },
      "source": [
        "We are still very overfit.  Lets try changing our depth."
      ]
    },
    {
      "cell_type": "code",
      "execution_count": 1109,
      "metadata": {
        "colab": {
          "base_uri": "https://localhost:8080/"
        },
        "id": "sj9seKJR4mGa",
        "outputId": "7afd6234-9572-40d0-9045-1def72f5cf6b"
      },
      "outputs": [
        {
          "output_type": "execute_result",
          "data": {
            "text/plain": [
              "32"
            ]
          },
          "metadata": {},
          "execution_count": 1109
        }
      ],
      "source": [
        "est_depths = [estimator.get_depth() for estimator in rf.estimators_]\n",
        "max(est_depths)"
      ]
    },
    {
      "cell_type": "code",
      "execution_count": 1110,
      "metadata": {
        "id": "fdLd3Gu94T4N"
      },
      "outputs": [],
      "source": [
        "depths = range(1, max(est_depths))\n",
        "scores = pd.DataFrame(index=depths, columns=['Test Score'])\n",
        "for depth in depths:    \n",
        "   model = RandomForestRegressor(max_depth=depth)\n",
        "   model.fit(X_train_pro, y_train)\n",
        "   scores.loc[depth, 'Train Score'] = model.score(X_train_pro, y_train)\n",
        "   scores.loc[depth, 'Test Score'] = model.score(X_test_pro, y_test)\n",
        "   scores.head()"
      ]
    },
    {
      "cell_type": "code",
      "execution_count": 1111,
      "metadata": {
        "colab": {
          "base_uri": "https://localhost:8080/",
          "height": 265
        },
        "id": "Pa00GCXk40N7",
        "outputId": "2ec3a8c2-a673-4f03-f53f-5409f65cb5f2"
      },
      "outputs": [
        {
          "output_type": "display_data",
          "data": {
            "text/plain": [
              "<Figure size 432x288 with 1 Axes>"
            ],
            "image/png": "[encoded data removed]"
          },
          "metadata": {
            "needs_background": "light"
          }
        }
      ],
      "source": [
        "plt.plot(scores['Test Score']);"
      ]
    },
    {
      "cell_type": "code",
      "execution_count": 1112,
      "metadata": {
        "colab": {
          "base_uri": "https://localhost:8080/",
          "height": 206
        },
        "id": "azmcC9PP42aR",
        "outputId": "b21bea5d-7d3b-45a5-972f-817db81a7e22"
      },
      "outputs": [
        {
          "output_type": "execute_result",
          "data": {
            "text/plain": [
              "   Test Score  Train Score\n",
              "28   0.551522     0.935219\n",
              "20   0.548269     0.931621\n",
              "23   0.548057     0.933415\n",
              "14   0.547943     0.902999\n",
              "16   0.547803     0.921014"
            ],
            "text/html": [
              "\n",
              "  <div id=\"df-bd486ea8-ed0c-4945-b198-a4ada0ca5419\">\n",
              "    <div class=\"colab-df-container\">\n",
              "      <div>\n",
              "<style scoped>\n",
              "    .dataframe tbody tr th:only-of-type {\n",
              "        vertical-align: middle;\n",
              "    }\n",
              "\n",
              "    .dataframe tbody tr th {\n",
              "        vertical-align: top;\n",
              "    }\n",
              "\n",
              "    .dataframe thead th {\n",
              "        text-align: right;\n",
              "    }\n",
              "</style>\n",
              "<table border=\"1\" class=\"dataframe\">\n",
              "  <thead>\n",
              "    <tr style=\"text-align: right;\">\n",
              "      <th></th>\n",
              "      <th>Test Score</th>\n",
              "      <th>Train Score</th>\n",
              "    </tr>\n",
              "  </thead>\n",
              "  <tbody>\n",
              "    <tr>\n",
              "      <th>28</th>\n",
              "      <td>0.551522</td>\n",
              "      <td>0.935219</td>\n",
              "    </tr>\n",
              "    <tr>\n",
              "      <th>20</th>\n",
              "      <td>0.548269</td>\n",
              "      <td>0.931621</td>\n",
              "    </tr>\n",
              "    <tr>\n",
              "      <th>23</th>\n",
              "      <td>0.548057</td>\n",
              "      <td>0.933415</td>\n",
              "    </tr>\n",
              "    <tr>\n",
              "      <th>14</th>\n",
              "      <td>0.547943</td>\n",
              "      <td>0.902999</td>\n",
              "    </tr>\n",
              "    <tr>\n",
              "      <th>16</th>\n",
              "      <td>0.547803</td>\n",
              "      <td>0.921014</td>\n",
              "    </tr>\n",
              "  </tbody>\n",
              "</table>\n",
              "</div>\n",
              "      <button class=\"colab-df-convert\" onclick=\"convertToInteractive('df-bd486ea8-ed0c-4945-b198-a4ada0ca5419')\"\n",
              "              title=\"Convert this dataframe to an interactive table.\"\n",
              "              style=\"display:none;\">\n",
              "        \n",
              "  <svg xmlns=\"http://www.w3.org/2000/svg\" height=\"24px\"viewBox=\"0 0 24 24\"\n",
              "       width=\"24px\">\n",
              "    <path d=\"M0 0h24v24H0V0z\" fill=\"none\"/>\n",
              "    <path d=\"M18.56 5.44l.94 2.06.94-2.06 2.06-.94-2.06-.94-.94-2.06-.94 2.06-2.06.94zm-11 1L8.5 8.5l.94-2.06 2.06-.94-2.06-.94L8.5 2.5l-.94 2.06-2.06.94zm10 10l.94 2.06.94-2.06 2.06-.94-2.06-.94-.94-2.06-.94 2.06-2.06.94z\"/><path d=\"M17.41 7.96l-1.37-1.37c-.4-.4-.92-.59-1.43-.59-.52 0-1.04.2-1.43.59L10.3 9.45l-7.72 7.72c-.78.78-.78 2.05 0 2.83L4 21.41c.39.39.9.59 1.41.59.51 0 1.02-.2 1.41-.59l7.78-7.78 2.81-2.81c.8-.78.8-2.07 0-2.86zM5.41 20L4 18.59l7.72-7.72 1.47 1.35L5.41 20z\"/>\n",
              "  </svg>\n",
              "      </button>\n",
              "      \n",
              "  <style>\n",
              "    .colab-df-container {\n",
              "      display:flex;\n",
              "      flex-wrap:wrap;\n",
              "      gap: 12px;\n",
              "    }\n",
              "\n",
              "    .colab-df-convert {\n",
              "      background-color: #E8F0FE;\n",
              "      border: none;\n",
              "      border-radius: 50%;\n",
              "      cursor: pointer;\n",
              "      display: none;\n",
              "      fill: #1967D2;\n",
              "      height: 32px;\n",
              "      padding: 0 0 0 0;\n",
              "      width: 32px;\n",
              "    }\n",
              "\n",
              "    .colab-df-convert:hover {\n",
              "      background-color: #E2EBFA;\n",
              "      box-shadow: 0px 1px 2px rgba(60, 64, 67, 0.3), 0px 1px 3px 1px rgba(60, 64, 67, 0.15);\n",
              "      fill: #174EA6;\n",
              "    }\n",
              "\n",
              "    [theme=dark] .colab-df-convert {\n",
              "      background-color: #3B4455;\n",
              "      fill: #D2E3FC;\n",
              "    }\n",
              "\n",
              "    [theme=dark] .colab-df-convert:hover {\n",
              "      background-color: #434B5C;\n",
              "      box-shadow: 0px 1px 3px 1px rgba(0, 0, 0, 0.15);\n",
              "      filter: drop-shadow(0px 1px 2px rgba(0, 0, 0, 0.3));\n",
              "      fill: #FFFFFF;\n",
              "    }\n",
              "  </style>\n",
              "\n",
              "      <script>\n",
              "        const buttonEl =\n",
              "          document.querySelector('#df-bd486ea8-ed0c-4945-b198-a4ada0ca5419 button.colab-df-convert');\n",
              "        buttonEl.style.display =\n",
              "          google.colab.kernel.accessAllowed ? 'block' : 'none';\n",
              "\n",
              "        async function convertToInteractive(key) {\n",
              "          const element = document.querySelector('#df-bd486ea8-ed0c-4945-b198-a4ada0ca5419');\n",
              "          const dataTable =\n",
              "            await google.colab.kernel.invokeFunction('convertToInteractive',\n",
              "                                                     [key], {});\n",
              "          if (!dataTable) return;\n",
              "\n",
              "          const docLinkHtml = 'Like what you see? Visit the ' +\n",
              "            '<a target=\"_blank\" href=https://colab.research.google.com/notebooks/data_table.ipynb>data table notebook</a>'\n",
              "            + ' to learn more about interactive tables.';\n",
              "          element.innerHTML = '';\n",
              "          dataTable['output_type'] = 'display_data';\n",
              "          await google.colab.output.renderOutput(dataTable, element);\n",
              "          const docLink = document.createElement('div');\n",
              "          docLink.innerHTML = docLinkHtml;\n",
              "          element.appendChild(docLink);\n",
              "        }\n",
              "      </script>\n",
              "    </div>\n",
              "  </div>\n",
              "  "
            ]
          },
          "metadata": {},
          "execution_count": 1112
        }
      ],
      "source": [
        "rf_scores = scores.sort_values(by='Test Score', ascending=False)\n",
        "rf_scores.head()"
      ]
    },
    {
      "cell_type": "markdown",
      "metadata": {
        "id": "iDJLPVGV7Jb3"
      },
      "source": [
        "30 is our best depth so lets start with that and move on to tuning our number of estimators."
      ]
    },
    {
      "cell_type": "code",
      "execution_count": 1113,
      "metadata": {
        "colab": {
          "base_uri": "https://localhost:8080/",
          "height": 206
        },
        "id": "9oaRaV3l5Hcc",
        "outputId": "0e867600-48df-4310-b778-fdb40de73c11"
      },
      "outputs": [
        {
          "output_type": "execute_result",
          "data": {
            "text/plain": [
              "    Test Score Train Score\n",
              "50    0.540067    0.930978\n",
              "100   0.544447    0.933161\n",
              "150   0.549226    0.933674\n",
              "200    0.54901    0.934866\n",
              "250   0.549256    0.935217"
            ],
            "text/html": [
              "\n",
              "  <div id=\"df-7f36cb90-adf3-4f13-b0f7-3b4663d00987\">\n",
              "    <div class=\"colab-df-container\">\n",
              "      <div>\n",
              "<style scoped>\n",
              "    .dataframe tbody tr th:only-of-type {\n",
              "        vertical-align: middle;\n",
              "    }\n",
              "\n",
              "    .dataframe tbody tr th {\n",
              "        vertical-align: top;\n",
              "    }\n",
              "\n",
              "    .dataframe thead th {\n",
              "        text-align: right;\n",
              "    }\n",
              "</style>\n",
              "<table border=\"1\" class=\"dataframe\">\n",
              "  <thead>\n",
              "    <tr style=\"text-align: right;\">\n",
              "      <th></th>\n",
              "      <th>Test Score</th>\n",
              "      <th>Train Score</th>\n",
              "    </tr>\n",
              "  </thead>\n",
              "  <tbody>\n",
              "    <tr>\n",
              "      <th>50</th>\n",
              "      <td>0.540067</td>\n",
              "      <td>0.930978</td>\n",
              "    </tr>\n",
              "    <tr>\n",
              "      <th>100</th>\n",
              "      <td>0.544447</td>\n",
              "      <td>0.933161</td>\n",
              "    </tr>\n",
              "    <tr>\n",
              "      <th>150</th>\n",
              "      <td>0.549226</td>\n",
              "      <td>0.933674</td>\n",
              "    </tr>\n",
              "    <tr>\n",
              "      <th>200</th>\n",
              "      <td>0.54901</td>\n",
              "      <td>0.934866</td>\n",
              "    </tr>\n",
              "    <tr>\n",
              "      <th>250</th>\n",
              "      <td>0.549256</td>\n",
              "      <td>0.935217</td>\n",
              "    </tr>\n",
              "  </tbody>\n",
              "</table>\n",
              "</div>\n",
              "      <button class=\"colab-df-convert\" onclick=\"convertToInteractive('df-7f36cb90-adf3-4f13-b0f7-3b4663d00987')\"\n",
              "              title=\"Convert this dataframe to an interactive table.\"\n",
              "              style=\"display:none;\">\n",
              "        \n",
              "  <svg xmlns=\"http://www.w3.org/2000/svg\" height=\"24px\"viewBox=\"0 0 24 24\"\n",
              "       width=\"24px\">\n",
              "    <path d=\"M0 0h24v24H0V0z\" fill=\"none\"/>\n",
              "    <path d=\"M18.56 5.44l.94 2.06.94-2.06 2.06-.94-2.06-.94-.94-2.06-.94 2.06-2.06.94zm-11 1L8.5 8.5l.94-2.06 2.06-.94-2.06-.94L8.5 2.5l-.94 2.06-2.06.94zm10 10l.94 2.06.94-2.06 2.06-.94-2.06-.94-.94-2.06-.94 2.06-2.06.94z\"/><path d=\"M17.41 7.96l-1.37-1.37c-.4-.4-.92-.59-1.43-.59-.52 0-1.04.2-1.43.59L10.3 9.45l-7.72 7.72c-.78.78-.78 2.05 0 2.83L4 21.41c.39.39.9.59 1.41.59.51 0 1.02-.2 1.41-.59l7.78-7.78 2.81-2.81c.8-.78.8-2.07 0-2.86zM5.41 20L4 18.59l7.72-7.72 1.47 1.35L5.41 20z\"/>\n",
              "  </svg>\n",
              "      </button>\n",
              "      \n",
              "  <style>\n",
              "    .colab-df-container {\n",
              "      display:flex;\n",
              "      flex-wrap:wrap;\n",
              "      gap: 12px;\n",
              "    }\n",
              "\n",
              "    .colab-df-convert {\n",
              "      background-color: #E8F0FE;\n",
              "      border: none;\n",
              "      border-radius: 50%;\n",
              "      cursor: pointer;\n",
              "      display: none;\n",
              "      fill: #1967D2;\n",
              "      height: 32px;\n",
              "      padding: 0 0 0 0;\n",
              "      width: 32px;\n",
              "    }\n",
              "\n",
              "    .colab-df-convert:hover {\n",
              "      background-color: #E2EBFA;\n",
              "      box-shadow: 0px 1px 2px rgba(60, 64, 67, 0.3), 0px 1px 3px 1px rgba(60, 64, 67, 0.15);\n",
              "      fill: #174EA6;\n",
              "    }\n",
              "\n",
              "    [theme=dark] .colab-df-convert {\n",
              "      background-color: #3B4455;\n",
              "      fill: #D2E3FC;\n",
              "    }\n",
              "\n",
              "    [theme=dark] .colab-df-convert:hover {\n",
              "      background-color: #434B5C;\n",
              "      box-shadow: 0px 1px 3px 1px rgba(0, 0, 0, 0.15);\n",
              "      filter: drop-shadow(0px 1px 2px rgba(0, 0, 0, 0.3));\n",
              "      fill: #FFFFFF;\n",
              "    }\n",
              "  </style>\n",
              "\n",
              "      <script>\n",
              "        const buttonEl =\n",
              "          document.querySelector('#df-7f36cb90-adf3-4f13-b0f7-3b4663d00987 button.colab-df-convert');\n",
              "        buttonEl.style.display =\n",
              "          google.colab.kernel.accessAllowed ? 'block' : 'none';\n",
              "\n",
              "        async function convertToInteractive(key) {\n",
              "          const element = document.querySelector('#df-7f36cb90-adf3-4f13-b0f7-3b4663d00987');\n",
              "          const dataTable =\n",
              "            await google.colab.kernel.invokeFunction('convertToInteractive',\n",
              "                                                     [key], {});\n",
              "          if (!dataTable) return;\n",
              "\n",
              "          const docLinkHtml = 'Like what you see? Visit the ' +\n",
              "            '<a target=\"_blank\" href=https://colab.research.google.com/notebooks/data_table.ipynb>data table notebook</a>'\n",
              "            + ' to learn more about interactive tables.';\n",
              "          element.innerHTML = '';\n",
              "          dataTable['output_type'] = 'display_data';\n",
              "          await google.colab.output.renderOutput(dataTable, element);\n",
              "          const docLink = document.createElement('div');\n",
              "          docLink.innerHTML = docLinkHtml;\n",
              "          element.appendChild(docLink);\n",
              "        }\n",
              "      </script>\n",
              "    </div>\n",
              "  </div>\n",
              "  "
            ]
          },
          "metadata": {},
          "execution_count": 1113
        }
      ],
      "source": [
        "n_ests = [50, 100, 150, 200, 250]\n",
        "scores2 = pd.DataFrame(index=n_ests, columns=['Test Score', 'Train Score'])\n",
        "for n in n_ests:\n",
        "   model = RandomForestRegressor(max_depth=30, n_estimators=n)\n",
        "   model.fit(X_train_pro, y_train)\n",
        "   scores2.loc[n, 'Train Score'] = model.score(X_train_pro, y_train)\n",
        "   scores2.loc[n, 'Test Score'] = model.score(X_test_pro, y_test)\n",
        "scores2.head()"
      ]
    },
    {
      "cell_type": "code",
      "execution_count": 1114,
      "metadata": {
        "id": "O6K5cgT85Y5I",
        "colab": {
          "base_uri": "https://localhost:8080/",
          "height": 265
        },
        "outputId": "38178b8e-39d1-4c6a-afe5-5550b9430617"
      },
      "outputs": [
        {
          "output_type": "display_data",
          "data": {
            "text/plain": [
              "<Figure size 432x288 with 1 Axes>"
            ],
            "image/png": "[encoded data removed]"
          },
          "metadata": {
            "needs_background": "light"
          }
        }
      ],
      "source": [
        "plt.plot(scores2['Test Score'])\n",
        "plt.xticks(n_ests);"
      ]
    },
    {
      "cell_type": "code",
      "execution_count": 1115,
      "metadata": {
        "id": "izEDOaPI5Zbh",
        "colab": {
          "base_uri": "https://localhost:8080/",
          "height": 206
        },
        "outputId": "0b6bfc92-ee41-42bc-e48a-a7058f6473d7"
      },
      "outputs": [
        {
          "output_type": "execute_result",
          "data": {
            "text/plain": [
              "    Test Score Train Score\n",
              "250   0.549256    0.935217\n",
              "150   0.549226    0.933674\n",
              "200    0.54901    0.934866\n",
              "100   0.544447    0.933161\n",
              "50    0.540067    0.930978"
            ],
            "text/html": [
              "\n",
              "  <div id=\"df-a59112fe-3c3a-4225-ad58-5be7c9e5911f\">\n",
              "    <div class=\"colab-df-container\">\n",
              "      <div>\n",
              "<style scoped>\n",
              "    .dataframe tbody tr th:only-of-type {\n",
              "        vertical-align: middle;\n",
              "    }\n",
              "\n",
              "    .dataframe tbody tr th {\n",
              "        vertical-align: top;\n",
              "    }\n",
              "\n",
              "    .dataframe thead th {\n",
              "        text-align: right;\n",
              "    }\n",
              "</style>\n",
              "<table border=\"1\" class=\"dataframe\">\n",
              "  <thead>\n",
              "    <tr style=\"text-align: right;\">\n",
              "      <th></th>\n",
              "      <th>Test Score</th>\n",
              "      <th>Train Score</th>\n",
              "    </tr>\n",
              "  </thead>\n",
              "  <tbody>\n",
              "    <tr>\n",
              "      <th>250</th>\n",
              "      <td>0.549256</td>\n",
              "      <td>0.935217</td>\n",
              "    </tr>\n",
              "    <tr>\n",
              "      <th>150</th>\n",
              "      <td>0.549226</td>\n",
              "      <td>0.933674</td>\n",
              "    </tr>\n",
              "    <tr>\n",
              "      <th>200</th>\n",
              "      <td>0.54901</td>\n",
              "      <td>0.934866</td>\n",
              "    </tr>\n",
              "    <tr>\n",
              "      <th>100</th>\n",
              "      <td>0.544447</td>\n",
              "      <td>0.933161</td>\n",
              "    </tr>\n",
              "    <tr>\n",
              "      <th>50</th>\n",
              "      <td>0.540067</td>\n",
              "      <td>0.930978</td>\n",
              "    </tr>\n",
              "  </tbody>\n",
              "</table>\n",
              "</div>\n",
              "      <button class=\"colab-df-convert\" onclick=\"convertToInteractive('df-a59112fe-3c3a-4225-ad58-5be7c9e5911f')\"\n",
              "              title=\"Convert this dataframe to an interactive table.\"\n",
              "              style=\"display:none;\">\n",
              "        \n",
              "  <svg xmlns=\"http://www.w3.org/2000/svg\" height=\"24px\"viewBox=\"0 0 24 24\"\n",
              "       width=\"24px\">\n",
              "    <path d=\"M0 0h24v24H0V0z\" fill=\"none\"/>\n",
              "    <path d=\"M18.56 5.44l.94 2.06.94-2.06 2.06-.94-2.06-.94-.94-2.06-.94 2.06-2.06.94zm-11 1L8.5 8.5l.94-2.06 2.06-.94-2.06-.94L8.5 2.5l-.94 2.06-2.06.94zm10 10l.94 2.06.94-2.06 2.06-.94-2.06-.94-.94-2.06-.94 2.06-2.06.94z\"/><path d=\"M17.41 7.96l-1.37-1.37c-.4-.4-.92-.59-1.43-.59-.52 0-1.04.2-1.43.59L10.3 9.45l-7.72 7.72c-.78.78-.78 2.05 0 2.83L4 21.41c.39.39.9.59 1.41.59.51 0 1.02-.2 1.41-.59l7.78-7.78 2.81-2.81c.8-.78.8-2.07 0-2.86zM5.41 20L4 18.59l7.72-7.72 1.47 1.35L5.41 20z\"/>\n",
              "  </svg>\n",
              "      </button>\n",
              "      \n",
              "  <style>\n",
              "    .colab-df-container {\n",
              "      display:flex;\n",
              "      flex-wrap:wrap;\n",
              "      gap: 12px;\n",
              "    }\n",
              "\n",
              "    .colab-df-convert {\n",
              "      background-color: #E8F0FE;\n",
              "      border: none;\n",
              "      border-radius: 50%;\n",
              "      cursor: pointer;\n",
              "      display: none;\n",
              "      fill: #1967D2;\n",
              "      height: 32px;\n",
              "      padding: 0 0 0 0;\n",
              "      width: 32px;\n",
              "    }\n",
              "\n",
              "    .colab-df-convert:hover {\n",
              "      background-color: #E2EBFA;\n",
              "      box-shadow: 0px 1px 2px rgba(60, 64, 67, 0.3), 0px 1px 3px 1px rgba(60, 64, 67, 0.15);\n",
              "      fill: #174EA6;\n",
              "    }\n",
              "\n",
              "    [theme=dark] .colab-df-convert {\n",
              "      background-color: #3B4455;\n",
              "      fill: #D2E3FC;\n",
              "    }\n",
              "\n",
              "    [theme=dark] .colab-df-convert:hover {\n",
              "      background-color: #434B5C;\n",
              "      box-shadow: 0px 1px 3px 1px rgba(0, 0, 0, 0.15);\n",
              "      filter: drop-shadow(0px 1px 2px rgba(0, 0, 0, 0.3));\n",
              "      fill: #FFFFFF;\n",
              "    }\n",
              "  </style>\n",
              "\n",
              "      <script>\n",
              "        const buttonEl =\n",
              "          document.querySelector('#df-a59112fe-3c3a-4225-ad58-5be7c9e5911f button.colab-df-convert');\n",
              "        buttonEl.style.display =\n",
              "          google.colab.kernel.accessAllowed ? 'block' : 'none';\n",
              "\n",
              "        async function convertToInteractive(key) {\n",
              "          const element = document.querySelector('#df-a59112fe-3c3a-4225-ad58-5be7c9e5911f');\n",
              "          const dataTable =\n",
              "            await google.colab.kernel.invokeFunction('convertToInteractive',\n",
              "                                                     [key], {});\n",
              "          if (!dataTable) return;\n",
              "\n",
              "          const docLinkHtml = 'Like what you see? Visit the ' +\n",
              "            '<a target=\"_blank\" href=https://colab.research.google.com/notebooks/data_table.ipynb>data table notebook</a>'\n",
              "            + ' to learn more about interactive tables.';\n",
              "          element.innerHTML = '';\n",
              "          dataTable['output_type'] = 'display_data';\n",
              "          await google.colab.output.renderOutput(dataTable, element);\n",
              "          const docLink = document.createElement('div');\n",
              "          docLink.innerHTML = docLinkHtml;\n",
              "          element.appendChild(docLink);\n",
              "        }\n",
              "      </script>\n",
              "    </div>\n",
              "  </div>\n",
              "  "
            ]
          },
          "metadata": {},
          "execution_count": 1115
        }
      ],
      "source": [
        "sorted_scores2 = scores2.sort_values(by='Test Score', ascending=False)\n",
        "sorted_scores2.head()"
      ]
    },
    {
      "cell_type": "code",
      "execution_count": 1116,
      "metadata": {
        "colab": {
          "base_uri": "https://localhost:8080/"
        },
        "id": "vQ0NygqN7oBR",
        "outputId": "1d16f2ed-54e0-486e-cac2-fd61471252c7"
      },
      "outputs": [
        {
          "output_type": "stream",
          "name": "stdout",
          "text": [
            "0.9332428598371255\n",
            "0.5480450871621396\n",
            "0.9326314396392981\n",
            "0.5457741610922928\n"
          ]
        }
      ],
      "source": [
        "rf_model = RandomForestRegressor(max_depth=21, n_estimators=200)\n",
        "rf_model.fit(X_train_pro, y_train)\n",
        "rf_train_final_score = rf_model.score(X_train_pro, y_train)\n",
        "rf_test_final_score = rf_model.score(X_test_pro, y_test)\n",
        "print(rf_train_final_score)\n",
        "print(rf_test_final_score)\n",
        "print(rf_train_score)\n",
        "print(rf_test_score)"
      ]
    },
    {
      "cell_type": "markdown",
      "metadata": {
        "id": "DsU23nOA5oeC"
      },
      "source": [
        "So here we can see that our basic model is very close to our tuned model in terms of prediction."
      ]
    },
    {
      "cell_type": "markdown",
      "metadata": {
        "id": "8PzDMkdQPmdB"
      },
      "source": [
        "Perhaps some PCA feature extraction can help us. The X_train_pro is already scaled so we can just run PCA and our model."
      ]
    },
    {
      "cell_type": "code",
      "execution_count": 1117,
      "metadata": {
        "id": "uPF3XJa8Pl8c"
      },
      "outputs": [],
      "source": [
        "pca = PCA(n_components=.80)"
      ]
    },
    {
      "cell_type": "code",
      "execution_count": 1118,
      "metadata": {
        "colab": {
          "base_uri": "https://localhost:8080/"
        },
        "id": "eR3eB8gtQ_8d",
        "outputId": "b8272e75-a10f-4001-d5e3-9352e6f505c1"
      },
      "outputs": [
        {
          "output_type": "stream",
          "name": "stdout",
          "text": [
            "CPU times: user 3.6 s, sys: 128 ms, total: 3.73 s\n",
            "Wall time: 3.6 s\n"
          ]
        }
      ],
      "source": [
        "%%time\n",
        "pca_pipe = make_pipeline(pca, rf_model)\n",
        "pca_pipe.fit(X_train_pro, y_train)"
      ]
    },
    {
      "cell_type": "code",
      "execution_count": 1119,
      "metadata": {
        "id": "EPUHuN3wQhW2"
      },
      "outputs": [],
      "source": [
        "pca_preds = pca_pipe.predict(X_test_pro)"
      ]
    },
    {
      "cell_type": "code",
      "source": [
        "print('Training accuracy:', pca_pipe.score(X_train_pro, y_train))\n",
        "print('Testing accuracy:', pca_pipe.score(X_test_pro, y_test))"
      ],
      "metadata": {
        "colab": {
          "base_uri": "https://localhost:8080/"
        },
        "id": "4yq-eczXdiIa",
        "outputId": "b436ec4a-cb34-439d-df2e-6c254eb496ec"
      },
      "execution_count": 1120,
      "outputs": [
        {
          "output_type": "stream",
          "name": "stdout",
          "text": [
            "Training accuracy: 0.9233182811416273\n",
            "Testing accuracy: 0.467776342902132\n"
          ]
        }
      ]
    },
    {
      "cell_type": "markdown",
      "source": [
        "So here we see that our model has done even worse now with the addition of PCA."
      ],
      "metadata": {
        "id": "Do6dmB_Tf7Nf"
      }
    },
    {
      "cell_type": "markdown",
      "source": [
        "## Metrics"
      ],
      "metadata": {
        "id": "Wqs7nxWqmoso"
      }
    },
    {
      "cell_type": "markdown",
      "source": [
        "### Bag metrics"
      ],
      "metadata": {
        "id": "yjLOFZ1pprXj"
      }
    },
    {
      "cell_type": "code",
      "source": [
        "bag_train_pred = bag_reg_final.predict(X_train_pro)\n",
        "bag_test_pred = bag_reg_final.predict(X_test_pro)"
      ],
      "metadata": {
        "id": "YPEFJo3endaE"
      },
      "execution_count": 1121,
      "outputs": []
    },
    {
      "cell_type": "code",
      "source": [
        "train_r2 = np.corrcoef(y_train, bag_train_pred)[0][1]**2\n",
        "test_r2 = np.corrcoef(y_test, bag_test_pred)[0][1]**2\n",
        "print(f'Model Trainging R2: {train_r2}')\n",
        "print(f'Model Testing R2: {test_r2}')"
      ],
      "metadata": {
        "colab": {
          "base_uri": "https://localhost:8080/"
        },
        "id": "uyXqZ96nnbMw",
        "outputId": "2bf8027d-040f-47ab-a467-5b0f7c089541"
      },
      "execution_count": 1122,
      "outputs": [
        {
          "output_type": "stream",
          "name": "stdout",
          "text": [
            "Model Trainging R2: 0.9476661663423006\n",
            "Model Testing R2: 0.5505274790247828\n"
          ]
        }
      ]
    },
    {
      "cell_type": "markdown",
      "source": [
        "So this is ok news the model can account for almost 95% of the variance in the y_test."
      ],
      "metadata": {
        "id": "bWaXUzHQo1mB"
      }
    },
    {
      "cell_type": "code",
      "source": [
        "bag_train_MSE = mean_squared_error(y_train, bag_train_pred)\n",
        "bag_test_MSE = mean_squared_error(y_test, bag_test_pred)\n",
        "print(f'Model Training MSE: {bag_train_MSE}')\n",
        "print(f'Model Testing MSE: {bag_test_MSE}')"
      ],
      "metadata": {
        "colab": {
          "base_uri": "https://localhost:8080/"
        },
        "id": "YOhyCTxfo973",
        "outputId": "9e08d6ee-e98a-4260-a4c3-47fd8ce88914"
      },
      "execution_count": 1123,
      "outputs": [
        {
          "output_type": "stream",
          "name": "stdout",
          "text": [
            "Model Training MSE: 0.08840538863649117\n",
            "Model Testing MSE: 0.6187501212885862\n"
          ]
        }
      ]
    },
    {
      "cell_type": "markdown",
      "source": [
        "So here we see that our predictions are off by over 60%, not close at all."
      ],
      "metadata": {
        "id": "b-i8sVdgpYGo"
      }
    },
    {
      "cell_type": "code",
      "source": [
        "bag_train_RMSE = np.sqrt(bag_train_MSE)\n",
        "bag_test_RMSE = np.sqrt(bag_test_MSE)\n",
        "print(f'Model Training RMSE: {bag_train_RMSE}')\n",
        "print(f'Model Testing RMSE: {bag_test_RMSE}')"
      ],
      "metadata": {
        "colab": {
          "base_uri": "https://localhost:8080/"
        },
        "id": "w5ukTcD6pJYP",
        "outputId": "34ad1333-2d17-4828-da84-5d6d3d609a85"
      },
      "execution_count": 1124,
      "outputs": [
        {
          "output_type": "stream",
          "name": "stdout",
          "text": [
            "Model Training RMSE: 0.29733043678118654\n",
            "Model Testing RMSE: 0.7866067132236961\n"
          ]
        }
      ]
    },
    {
      "cell_type": "markdown",
      "source": [
        "Same for root mean squared error while were only off by 29% roughly 3 points in our training set our predictions are off by nearly 80%."
      ],
      "metadata": {
        "id": "esLq18L2qRER"
      }
    },
    {
      "cell_type": "markdown",
      "source": [
        "## Conclusion\n",
        "After all this work and time I hate to admit it but I do not see any of these models as being real world ready.  I think I do not have enough relevant data to make accurate predictions.  If I had no choice but to choose a model I would endorse the Random Forest tuned model as it gave us the highest test results at 55%.  The metrics we just read from our bagging model (the one without pca) show how dismal a job that model does at predicting even having training data to work off of. \n"
      ],
      "metadata": {
        "id": "dIxCyH9AxoLY"
      }
    },
    {
      "cell_type": "code",
      "source": [
        ""
      ],
      "metadata": {
        "id": "2HKuGO3kyhAz"
      },
      "execution_count": null,
      "outputs": []
    }
  ],
  "metadata": {
    "colab": {
      "collapsed_sections": [],
      "name": "7/27/22 Project 2 Mike Fiddler.ipynb",
      "provenance": [],
      "mount_file_id": "1EZon17kUqWh1yHwFS0ZeHA-jn1A4Lw-h",
      "authorship_tag": "ABX9TyNB0hNYLXjX+zlGrgYBcU42",
      "include_colab_link": true
    },
    "kernelspec": {
      "display_name": "Python 3",
      "name": "python3"
    },
    "language_info": {
      "name": "python"
    }
  },
  "nbformat": 4,
  "nbformat_minor": 0
}