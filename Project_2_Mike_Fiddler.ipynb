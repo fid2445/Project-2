{
  "nbformat": 4,
  "nbformat_minor": 0,
  "metadata": {
    "colab": {
      "name": "Project 2 Mike Fiddler.ipynb",
      "provenance": []
    },
    "kernelspec": {
      "name": "python3",
      "display_name": "Python 3"
    },
    "language_info": {
      "name": "python"
    }
  },
  "cells": [
    {
      "cell_type": "markdown",
      "source": [
        "##Mike Fiddler 7/14/22\n",
        "### Do People Prefer Shows or Movies (Project 2)"
      ],
      "metadata": {
        "id": "WtF42FKKMfle"
      }
    },
    {
      "cell_type": "code",
      "execution_count": 336,
      "metadata": {
        "id": "y1Y0eG6HS1KC"
      },
      "outputs": [],
      "source": [
        "import pandas as pd\n",
        "import seaborn as sns\n",
        "import matplotlib.pyplot as plt\n",
        "from sklearn.model_selection import train_test_split\n",
        "from sklearn.compose import make_column_selector,make_column_transformer\n",
        "from sklearn.preprocessing import OneHotEncoder, StandardScaler\n",
        "from sklearn.impute import SimpleImputer\n",
        "from sklearn.pipeline import make_pipeline\n",
        "from sklearn import set_config\n",
        "set_config(display='diagram')"
      ]
    },
    {
      "cell_type": "code",
      "source": [
        "df = pd.read_excel('/content/drive/MyDrive/Netflix Project.xlsx')\n",
        "df.head()"
      ],
      "metadata": {
        "colab": {
          "base_uri": "https://localhost:8080/",
          "height": 337
        },
        "id": "BHK-rt0zS6mH",
        "outputId": "ef0792e2-ddfd-445a-d11e-8e457d056346"
      },
      "execution_count": 337,
      "outputs": [
        {
          "output_type": "execute_result",
          "data": {
            "text/plain": [
              "         id                                title   type  \\\n",
              "0  ts300399  Five Came Back: The Reference Films   SHOW   \n",
              "1   tm84618                          Taxi Driver  MOVIE   \n",
              "2  tm127384      Monty Python and the Holy Grail  MOVIE   \n",
              "3   tm70993                        Life of Brian  MOVIE   \n",
              "4  tm190788                         The Exorcist  MOVIE   \n",
              "\n",
              "                                         description  release_year  \\\n",
              "0  This collection includes 12 World War II-era p...          1945   \n",
              "1  A mentally unstable Vietnam War veteran works ...          1976   \n",
              "2  King Arthur, accompanied by his squire, recrui...          1975   \n",
              "3  Brian Cohen is an average young Jewish man, bu...          1979   \n",
              "4  12-year-old Regan MacNeil begins to adapt an e...          1973   \n",
              "\n",
              "  age_certification  runtime                 genres production_countries  \\\n",
              "0             TV-MA       48      ['documentation']               ['US']   \n",
              "1                 R      113     ['crime', 'drama']               ['US']   \n",
              "2                PG       91  ['comedy', 'fantasy']               ['GB']   \n",
              "3                 R       94             ['comedy']               ['GB']   \n",
              "4                 R      133             ['horror']               ['US']   \n",
              "\n",
              "   seasons    imdb_id  imdb_score  imdb_votes  tmdb_popularity  tmdb_score  \n",
              "0      1.0        NaN         NaN         NaN            0.600         NaN  \n",
              "1      NaN  tt0075314         8.3    795222.0           27.612         8.2  \n",
              "2      NaN  tt0071853         8.2    530877.0           18.216         7.8  \n",
              "3      NaN  tt0079470         8.0    392419.0           17.505         7.8  \n",
              "4      NaN  tt0070047         8.1    391942.0           95.337         7.7  "
            ],
            "text/html": [
              "\n",
              "  <div id=\"df-9343e93a-640a-4be9-bd54-e8b1b7ec7129\">\n",
              "    <div class=\"colab-df-container\">\n",
              "      <div>\n",
              "<style scoped>\n",
              "    .dataframe tbody tr th:only-of-type {\n",
              "        vertical-align: middle;\n",
              "    }\n",
              "\n",
              "    .dataframe tbody tr th {\n",
              "        vertical-align: top;\n",
              "    }\n",
              "\n",
              "    .dataframe thead th {\n",
              "        text-align: right;\n",
              "    }\n",
              "</style>\n",
              "<table border=\"1\" class=\"dataframe\">\n",
              "  <thead>\n",
              "    <tr style=\"text-align: right;\">\n",
              "      <th></th>\n",
              "      <th>id</th>\n",
              "      <th>title</th>\n",
              "      <th>type</th>\n",
              "      <th>description</th>\n",
              "      <th>release_year</th>\n",
              "      <th>age_certification</th>\n",
              "      <th>runtime</th>\n",
              "      <th>genres</th>\n",
              "      <th>production_countries</th>\n",
              "      <th>seasons</th>\n",
              "      <th>imdb_id</th>\n",
              "      <th>imdb_score</th>\n",
              "      <th>imdb_votes</th>\n",
              "      <th>tmdb_popularity</th>\n",
              "      <th>tmdb_score</th>\n",
              "    </tr>\n",
              "  </thead>\n",
              "  <tbody>\n",
              "    <tr>\n",
              "      <th>0</th>\n",
              "      <td>ts300399</td>\n",
              "      <td>Five Came Back: The Reference Films</td>\n",
              "      <td>SHOW</td>\n",
              "      <td>This collection includes 12 World War II-era p...</td>\n",
              "      <td>1945</td>\n",
              "      <td>TV-MA</td>\n",
              "      <td>48</td>\n",
              "      <td>['documentation']</td>\n",
              "      <td>['US']</td>\n",
              "      <td>1.0</td>\n",
              "      <td>NaN</td>\n",
              "      <td>NaN</td>\n",
              "      <td>NaN</td>\n",
              "      <td>0.600</td>\n",
              "      <td>NaN</td>\n",
              "    </tr>\n",
              "    <tr>\n",
              "      <th>1</th>\n",
              "      <td>tm84618</td>\n",
              "      <td>Taxi Driver</td>\n",
              "      <td>MOVIE</td>\n",
              "      <td>A mentally unstable Vietnam War veteran works ...</td>\n",
              "      <td>1976</td>\n",
              "      <td>R</td>\n",
              "      <td>113</td>\n",
              "      <td>['crime', 'drama']</td>\n",
              "      <td>['US']</td>\n",
              "      <td>NaN</td>\n",
              "      <td>tt0075314</td>\n",
              "      <td>8.3</td>\n",
              "      <td>795222.0</td>\n",
              "      <td>27.612</td>\n",
              "      <td>8.2</td>\n",
              "    </tr>\n",
              "    <tr>\n",
              "      <th>2</th>\n",
              "      <td>tm127384</td>\n",
              "      <td>Monty Python and the Holy Grail</td>\n",
              "      <td>MOVIE</td>\n",
              "      <td>King Arthur, accompanied by his squire, recrui...</td>\n",
              "      <td>1975</td>\n",
              "      <td>PG</td>\n",
              "      <td>91</td>\n",
              "      <td>['comedy', 'fantasy']</td>\n",
              "      <td>['GB']</td>\n",
              "      <td>NaN</td>\n",
              "      <td>tt0071853</td>\n",
              "      <td>8.2</td>\n",
              "      <td>530877.0</td>\n",
              "      <td>18.216</td>\n",
              "      <td>7.8</td>\n",
              "    </tr>\n",
              "    <tr>\n",
              "      <th>3</th>\n",
              "      <td>tm70993</td>\n",
              "      <td>Life of Brian</td>\n",
              "      <td>MOVIE</td>\n",
              "      <td>Brian Cohen is an average young Jewish man, bu...</td>\n",
              "      <td>1979</td>\n",
              "      <td>R</td>\n",
              "      <td>94</td>\n",
              "      <td>['comedy']</td>\n",
              "      <td>['GB']</td>\n",
              "      <td>NaN</td>\n",
              "      <td>tt0079470</td>\n",
              "      <td>8.0</td>\n",
              "      <td>392419.0</td>\n",
              "      <td>17.505</td>\n",
              "      <td>7.8</td>\n",
              "    </tr>\n",
              "    <tr>\n",
              "      <th>4</th>\n",
              "      <td>tm190788</td>\n",
              "      <td>The Exorcist</td>\n",
              "      <td>MOVIE</td>\n",
              "      <td>12-year-old Regan MacNeil begins to adapt an e...</td>\n",
              "      <td>1973</td>\n",
              "      <td>R</td>\n",
              "      <td>133</td>\n",
              "      <td>['horror']</td>\n",
              "      <td>['US']</td>\n",
              "      <td>NaN</td>\n",
              "      <td>tt0070047</td>\n",
              "      <td>8.1</td>\n",
              "      <td>391942.0</td>\n",
              "      <td>95.337</td>\n",
              "      <td>7.7</td>\n",
              "    </tr>\n",
              "  </tbody>\n",
              "</table>\n",
              "</div>\n",
              "      <button class=\"colab-df-convert\" onclick=\"convertToInteractive('df-9343e93a-640a-4be9-bd54-e8b1b7ec7129')\"\n",
              "              title=\"Convert this dataframe to an interactive table.\"\n",
              "              style=\"display:none;\">\n",
              "        \n",
              "  <svg xmlns=\"http://www.w3.org/2000/svg\" height=\"24px\"viewBox=\"0 0 24 24\"\n",
              "       width=\"24px\">\n",
              "    <path d=\"M0 0h24v24H0V0z\" fill=\"none\"/>\n",
              "    <path d=\"M18.56 5.44l.94 2.06.94-2.06 2.06-.94-2.06-.94-.94-2.06-.94 2.06-2.06.94zm-11 1L8.5 8.5l.94-2.06 2.06-.94-2.06-.94L8.5 2.5l-.94 2.06-2.06.94zm10 10l.94 2.06.94-2.06 2.06-.94-2.06-.94-.94-2.06-.94 2.06-2.06.94z\"/><path d=\"M17.41 7.96l-1.37-1.37c-.4-.4-.92-.59-1.43-.59-.52 0-1.04.2-1.43.59L10.3 9.45l-7.72 7.72c-.78.78-.78 2.05 0 2.83L4 21.41c.39.39.9.59 1.41.59.51 0 1.02-.2 1.41-.59l7.78-7.78 2.81-2.81c.8-.78.8-2.07 0-2.86zM5.41 20L4 18.59l7.72-7.72 1.47 1.35L5.41 20z\"/>\n",
              "  </svg>\n",
              "      </button>\n",
              "      \n",
              "  <style>\n",
              "    .colab-df-container {\n",
              "      display:flex;\n",
              "      flex-wrap:wrap;\n",
              "      gap: 12px;\n",
              "    }\n",
              "\n",
              "    .colab-df-convert {\n",
              "      background-color: #E8F0FE;\n",
              "      border: none;\n",
              "      border-radius: 50%;\n",
              "      cursor: pointer;\n",
              "      display: none;\n",
              "      fill: #1967D2;\n",
              "      height: 32px;\n",
              "      padding: 0 0 0 0;\n",
              "      width: 32px;\n",
              "    }\n",
              "\n",
              "    .colab-df-convert:hover {\n",
              "      background-color: #E2EBFA;\n",
              "      box-shadow: 0px 1px 2px rgba(60, 64, 67, 0.3), 0px 1px 3px 1px rgba(60, 64, 67, 0.15);\n",
              "      fill: #174EA6;\n",
              "    }\n",
              "\n",
              "    [theme=dark] .colab-df-convert {\n",
              "      background-color: #3B4455;\n",
              "      fill: #D2E3FC;\n",
              "    }\n",
              "\n",
              "    [theme=dark] .colab-df-convert:hover {\n",
              "      background-color: #434B5C;\n",
              "      box-shadow: 0px 1px 3px 1px rgba(0, 0, 0, 0.15);\n",
              "      filter: drop-shadow(0px 1px 2px rgba(0, 0, 0, 0.3));\n",
              "      fill: #FFFFFF;\n",
              "    }\n",
              "  </style>\n",
              "\n",
              "      <script>\n",
              "        const buttonEl =\n",
              "          document.querySelector('#df-9343e93a-640a-4be9-bd54-e8b1b7ec7129 button.colab-df-convert');\n",
              "        buttonEl.style.display =\n",
              "          google.colab.kernel.accessAllowed ? 'block' : 'none';\n",
              "\n",
              "        async function convertToInteractive(key) {\n",
              "          const element = document.querySelector('#df-9343e93a-640a-4be9-bd54-e8b1b7ec7129');\n",
              "          const dataTable =\n",
              "            await google.colab.kernel.invokeFunction('convertToInteractive',\n",
              "                                                     [key], {});\n",
              "          if (!dataTable) return;\n",
              "\n",
              "          const docLinkHtml = 'Like what you see? Visit the ' +\n",
              "            '<a target=\"_blank\" href=https://colab.research.google.com/notebooks/data_table.ipynb>data table notebook</a>'\n",
              "            + ' to learn more about interactive tables.';\n",
              "          element.innerHTML = '';\n",
              "          dataTable['output_type'] = 'display_data';\n",
              "          await google.colab.output.renderOutput(dataTable, element);\n",
              "          const docLink = document.createElement('div');\n",
              "          docLink.innerHTML = docLinkHtml;\n",
              "          element.appendChild(docLink);\n",
              "        }\n",
              "      </script>\n",
              "    </div>\n",
              "  </div>\n",
              "  "
            ]
          },
          "metadata": {},
          "execution_count": 337
        }
      ]
    },
    {
      "cell_type": "markdown",
      "source": [
        "Data source https://www.kaggle.com/datasets/victorsoeiro/netflix-tv-shows-and-movies\n",
        "\n",
        "This data set shows us all the different movies and shows available on the app Netflix.  We have imdb ratings, runtime, genre, release year.  \n",
        "I am looking into this data set as i want to see if people are favoring shows instead of movies these days meaning this is a classification problem."
      ],
      "metadata": {
        "id": "27UWtRCwUbNd"
      }
    },
    {
      "cell_type": "code",
      "source": [
        "df.shape"
      ],
      "metadata": {
        "colab": {
          "base_uri": "https://localhost:8080/"
        },
        "id": "-KEucdIyTWNV",
        "outputId": "d5938cd7-4cdd-4269-e97d-42f38a90ca9d"
      },
      "execution_count": 338,
      "outputs": [
        {
          "output_type": "execute_result",
          "data": {
            "text/plain": [
              "(5806, 15)"
            ]
          },
          "metadata": {},
          "execution_count": 338
        }
      ]
    },
    {
      "cell_type": "code",
      "source": [
        "df.dtypes.value_counts().cumsum()"
      ],
      "metadata": {
        "colab": {
          "base_uri": "https://localhost:8080/"
        },
        "id": "2J_RVh1kFUPV",
        "outputId": "a8fb34d3-ec27-4c16-c56b-bf26a1393b3d"
      },
      "execution_count": 339,
      "outputs": [
        {
          "output_type": "execute_result",
          "data": {
            "text/plain": [
              "object      8\n",
              "float64    13\n",
              "int64      15\n",
              "dtype: int64"
            ]
          },
          "metadata": {},
          "execution_count": 339
        }
      ]
    },
    {
      "cell_type": "markdown",
      "source": [
        "Here we can see we have 15 features and 5806 rows."
      ],
      "metadata": {
        "id": "JIyiagn3WD5j"
      }
    },
    {
      "cell_type": "markdown",
      "source": [
        "With almost 6000 rows I suspect there will alot of cleaning needed before any predictions can be made.  Just in the header i can see missing values that will need addressing."
      ],
      "metadata": {
        "id": "-OPzPC-OWLMa"
      }
    },
    {
      "cell_type": "markdown",
      "source": [
        "23 features by 10127 rows, with not alot of missing data. ill need to get clairification on some of the columns which may be problematic. "
      ],
      "metadata": {
        "id": "1HAKCvobZh-I"
      }
    },
    {
      "cell_type": "code",
      "source": [
        "df.info()"
      ],
      "metadata": {
        "id": "WK6Lbn9VXvnW",
        "colab": {
          "base_uri": "https://localhost:8080/"
        },
        "outputId": "e992b48d-86a2-4f96-b943-90ebc1985b7b"
      },
      "execution_count": 340,
      "outputs": [
        {
          "output_type": "stream",
          "name": "stdout",
          "text": [
            "<class 'pandas.core.frame.DataFrame'>\n",
            "RangeIndex: 5806 entries, 0 to 5805\n",
            "Data columns (total 15 columns):\n",
            " #   Column                Non-Null Count  Dtype  \n",
            "---  ------                --------------  -----  \n",
            " 0   id                    5806 non-null   object \n",
            " 1   title                 5805 non-null   object \n",
            " 2   type                  5806 non-null   object \n",
            " 3   description           5788 non-null   object \n",
            " 4   release_year          5806 non-null   int64  \n",
            " 5   age_certification     3196 non-null   object \n",
            " 6   runtime               5806 non-null   int64  \n",
            " 7   genres                5806 non-null   object \n",
            " 8   production_countries  5806 non-null   object \n",
            " 9   seasons               2047 non-null   float64\n",
            " 10  imdb_id               5362 non-null   object \n",
            " 11  imdb_score            5283 non-null   float64\n",
            " 12  imdb_votes            5267 non-null   float64\n",
            " 13  tmdb_popularity       5712 non-null   float64\n",
            " 14  tmdb_score            5488 non-null   float64\n",
            "dtypes: float64(5), int64(2), object(8)\n",
            "memory usage: 680.5+ KB\n"
          ]
        }
      ]
    },
    {
      "cell_type": "code",
      "source": [
        "df.duplicated().sum()"
      ],
      "metadata": {
        "colab": {
          "base_uri": "https://localhost:8080/"
        },
        "id": "H-ItiQoHNf1P",
        "outputId": "cb6b1021-926f-4372-82ad-0bf063019c34"
      },
      "execution_count": 341,
      "outputs": [
        {
          "output_type": "execute_result",
          "data": {
            "text/plain": [
              "0"
            ]
          },
          "metadata": {},
          "execution_count": 341
        }
      ]
    },
    {
      "cell_type": "code",
      "source": [
        "df.isna().sum()"
      ],
      "metadata": {
        "colab": {
          "base_uri": "https://localhost:8080/"
        },
        "id": "oXcUv_VfNO2A",
        "outputId": "c43c35a1-be12-45e5-e517-a7ca49337c9a"
      },
      "execution_count": 342,
      "outputs": [
        {
          "output_type": "execute_result",
          "data": {
            "text/plain": [
              "id                         0\n",
              "title                      1\n",
              "type                       0\n",
              "description               18\n",
              "release_year               0\n",
              "age_certification       2610\n",
              "runtime                    0\n",
              "genres                     0\n",
              "production_countries       0\n",
              "seasons                 3759\n",
              "imdb_id                  444\n",
              "imdb_score               523\n",
              "imdb_votes               539\n",
              "tmdb_popularity           94\n",
              "tmdb_score               318\n",
              "dtype: int64"
            ]
          },
          "metadata": {},
          "execution_count": 342
        }
      ]
    },
    {
      "cell_type": "markdown",
      "source": [
        "alot of missing values need addressing"
      ],
      "metadata": {
        "id": "ct5vvR0VN-Fg"
      }
    },
    {
      "cell_type": "markdown",
      "source": [
        "were going to drop the columns release_year (not allowed to use time series), age_certificaion (the target audience does not effect our goal) and seasons (we dont care how long it ran for)"
      ],
      "metadata": {
        "id": "m0K8IaqoOEEP"
      }
    },
    {
      "cell_type": "code",
      "source": [
        "df.drop(columns='release_year',inplace=True)"
      ],
      "metadata": {
        "id": "rPRvszeBNdOV"
      },
      "execution_count": 343,
      "outputs": []
    },
    {
      "cell_type": "code",
      "source": [
        "df.drop(columns='age_certification',inplace=True)"
      ],
      "metadata": {
        "id": "q9y94BoTOs0l"
      },
      "execution_count": 344,
      "outputs": []
    },
    {
      "cell_type": "code",
      "source": [
        "df.drop(columns='seasons',inplace=True)\n",
        "df.isna().sum()"
      ],
      "metadata": {
        "colab": {
          "base_uri": "https://localhost:8080/"
        },
        "id": "yamPJ6aKPFCL",
        "outputId": "bd6f61b5-7678-4f46-ca1c-5b77c261cc27"
      },
      "execution_count": 345,
      "outputs": [
        {
          "output_type": "execute_result",
          "data": {
            "text/plain": [
              "id                        0\n",
              "title                     1\n",
              "type                      0\n",
              "description              18\n",
              "runtime                   0\n",
              "genres                    0\n",
              "production_countries      0\n",
              "imdb_id                 444\n",
              "imdb_score              523\n",
              "imdb_votes              539\n",
              "tmdb_popularity          94\n",
              "tmdb_score              318\n",
              "dtype: int64"
            ]
          },
          "metadata": {},
          "execution_count": 345
        }
      ]
    },
    {
      "cell_type": "markdown",
      "source": [
        "were also going to drop the id, title, description, production_countries, runtime and imdb_id columns. none of these have information that will help us "
      ],
      "metadata": {
        "id": "bSMbRNwuPxAX"
      }
    },
    {
      "cell_type": "code",
      "source": [
        "df.drop(columns='id',inplace=True)\n",
        "df.drop(columns='imdb_id',inplace=True)\n",
        "df.drop(columns='title',inplace=True)\n",
        "df.drop(columns='description',inplace=True)\n",
        "df.drop(columns='production_countries',inplace=True)\n",
        "df.drop(columns='runtime',inplace=True)\n",
        "df.isna().sum()"
      ],
      "metadata": {
        "colab": {
          "base_uri": "https://localhost:8080/"
        },
        "id": "odSJojbGPwmG",
        "outputId": "8fcd7862-b68f-4283-d1dd-2a3e32e5d042"
      },
      "execution_count": 346,
      "outputs": [
        {
          "output_type": "execute_result",
          "data": {
            "text/plain": [
              "type                 0\n",
              "genres               0\n",
              "imdb_score         523\n",
              "imdb_votes         539\n",
              "tmdb_popularity     94\n",
              "tmdb_score         318\n",
              "dtype: int64"
            ]
          },
          "metadata": {},
          "execution_count": 346
        }
      ]
    },
    {
      "cell_type": "code",
      "source": [
        "df_ml = df.copy() # we need a copy before any imputation to prevent data leakage"
      ],
      "metadata": {
        "id": "P1r3EbfleGWJ"
      },
      "execution_count": 347,
      "outputs": []
    },
    {
      "cell_type": "code",
      "source": [
        "df.head()"
      ],
      "metadata": {
        "colab": {
          "base_uri": "https://localhost:8080/",
          "height": 206
        },
        "id": "4AGQ2FLUPe0U",
        "outputId": "e9c5e18f-6af4-4a39-f894-5339b1d2c545"
      },
      "execution_count": 348,
      "outputs": [
        {
          "output_type": "execute_result",
          "data": {
            "text/plain": [
              "    type                 genres  imdb_score  imdb_votes  tmdb_popularity  \\\n",
              "0   SHOW      ['documentation']         NaN         NaN            0.600   \n",
              "1  MOVIE     ['crime', 'drama']         8.3    795222.0           27.612   \n",
              "2  MOVIE  ['comedy', 'fantasy']         8.2    530877.0           18.216   \n",
              "3  MOVIE             ['comedy']         8.0    392419.0           17.505   \n",
              "4  MOVIE             ['horror']         8.1    391942.0           95.337   \n",
              "\n",
              "   tmdb_score  \n",
              "0         NaN  \n",
              "1         8.2  \n",
              "2         7.8  \n",
              "3         7.8  \n",
              "4         7.7  "
            ],
            "text/html": [
              "\n",
              "  <div id=\"df-d763eeea-15a3-47ab-ac84-45351f82dcee\">\n",
              "    <div class=\"colab-df-container\">\n",
              "      <div>\n",
              "<style scoped>\n",
              "    .dataframe tbody tr th:only-of-type {\n",
              "        vertical-align: middle;\n",
              "    }\n",
              "\n",
              "    .dataframe tbody tr th {\n",
              "        vertical-align: top;\n",
              "    }\n",
              "\n",
              "    .dataframe thead th {\n",
              "        text-align: right;\n",
              "    }\n",
              "</style>\n",
              "<table border=\"1\" class=\"dataframe\">\n",
              "  <thead>\n",
              "    <tr style=\"text-align: right;\">\n",
              "      <th></th>\n",
              "      <th>type</th>\n",
              "      <th>genres</th>\n",
              "      <th>imdb_score</th>\n",
              "      <th>imdb_votes</th>\n",
              "      <th>tmdb_popularity</th>\n",
              "      <th>tmdb_score</th>\n",
              "    </tr>\n",
              "  </thead>\n",
              "  <tbody>\n",
              "    <tr>\n",
              "      <th>0</th>\n",
              "      <td>SHOW</td>\n",
              "      <td>['documentation']</td>\n",
              "      <td>NaN</td>\n",
              "      <td>NaN</td>\n",
              "      <td>0.600</td>\n",
              "      <td>NaN</td>\n",
              "    </tr>\n",
              "    <tr>\n",
              "      <th>1</th>\n",
              "      <td>MOVIE</td>\n",
              "      <td>['crime', 'drama']</td>\n",
              "      <td>8.3</td>\n",
              "      <td>795222.0</td>\n",
              "      <td>27.612</td>\n",
              "      <td>8.2</td>\n",
              "    </tr>\n",
              "    <tr>\n",
              "      <th>2</th>\n",
              "      <td>MOVIE</td>\n",
              "      <td>['comedy', 'fantasy']</td>\n",
              "      <td>8.2</td>\n",
              "      <td>530877.0</td>\n",
              "      <td>18.216</td>\n",
              "      <td>7.8</td>\n",
              "    </tr>\n",
              "    <tr>\n",
              "      <th>3</th>\n",
              "      <td>MOVIE</td>\n",
              "      <td>['comedy']</td>\n",
              "      <td>8.0</td>\n",
              "      <td>392419.0</td>\n",
              "      <td>17.505</td>\n",
              "      <td>7.8</td>\n",
              "    </tr>\n",
              "    <tr>\n",
              "      <th>4</th>\n",
              "      <td>MOVIE</td>\n",
              "      <td>['horror']</td>\n",
              "      <td>8.1</td>\n",
              "      <td>391942.0</td>\n",
              "      <td>95.337</td>\n",
              "      <td>7.7</td>\n",
              "    </tr>\n",
              "  </tbody>\n",
              "</table>\n",
              "</div>\n",
              "      <button class=\"colab-df-convert\" onclick=\"convertToInteractive('df-d763eeea-15a3-47ab-ac84-45351f82dcee')\"\n",
              "              title=\"Convert this dataframe to an interactive table.\"\n",
              "              style=\"display:none;\">\n",
              "        \n",
              "  <svg xmlns=\"http://www.w3.org/2000/svg\" height=\"24px\"viewBox=\"0 0 24 24\"\n",
              "       width=\"24px\">\n",
              "    <path d=\"M0 0h24v24H0V0z\" fill=\"none\"/>\n",
              "    <path d=\"M18.56 5.44l.94 2.06.94-2.06 2.06-.94-2.06-.94-.94-2.06-.94 2.06-2.06.94zm-11 1L8.5 8.5l.94-2.06 2.06-.94-2.06-.94L8.5 2.5l-.94 2.06-2.06.94zm10 10l.94 2.06.94-2.06 2.06-.94-2.06-.94-.94-2.06-.94 2.06-2.06.94z\"/><path d=\"M17.41 7.96l-1.37-1.37c-.4-.4-.92-.59-1.43-.59-.52 0-1.04.2-1.43.59L10.3 9.45l-7.72 7.72c-.78.78-.78 2.05 0 2.83L4 21.41c.39.39.9.59 1.41.59.51 0 1.02-.2 1.41-.59l7.78-7.78 2.81-2.81c.8-.78.8-2.07 0-2.86zM5.41 20L4 18.59l7.72-7.72 1.47 1.35L5.41 20z\"/>\n",
              "  </svg>\n",
              "      </button>\n",
              "      \n",
              "  <style>\n",
              "    .colab-df-container {\n",
              "      display:flex;\n",
              "      flex-wrap:wrap;\n",
              "      gap: 12px;\n",
              "    }\n",
              "\n",
              "    .colab-df-convert {\n",
              "      background-color: #E8F0FE;\n",
              "      border: none;\n",
              "      border-radius: 50%;\n",
              "      cursor: pointer;\n",
              "      display: none;\n",
              "      fill: #1967D2;\n",
              "      height: 32px;\n",
              "      padding: 0 0 0 0;\n",
              "      width: 32px;\n",
              "    }\n",
              "\n",
              "    .colab-df-convert:hover {\n",
              "      background-color: #E2EBFA;\n",
              "      box-shadow: 0px 1px 2px rgba(60, 64, 67, 0.3), 0px 1px 3px 1px rgba(60, 64, 67, 0.15);\n",
              "      fill: #174EA6;\n",
              "    }\n",
              "\n",
              "    [theme=dark] .colab-df-convert {\n",
              "      background-color: #3B4455;\n",
              "      fill: #D2E3FC;\n",
              "    }\n",
              "\n",
              "    [theme=dark] .colab-df-convert:hover {\n",
              "      background-color: #434B5C;\n",
              "      box-shadow: 0px 1px 3px 1px rgba(0, 0, 0, 0.15);\n",
              "      filter: drop-shadow(0px 1px 2px rgba(0, 0, 0, 0.3));\n",
              "      fill: #FFFFFF;\n",
              "    }\n",
              "  </style>\n",
              "\n",
              "      <script>\n",
              "        const buttonEl =\n",
              "          document.querySelector('#df-d763eeea-15a3-47ab-ac84-45351f82dcee button.colab-df-convert');\n",
              "        buttonEl.style.display =\n",
              "          google.colab.kernel.accessAllowed ? 'block' : 'none';\n",
              "\n",
              "        async function convertToInteractive(key) {\n",
              "          const element = document.querySelector('#df-d763eeea-15a3-47ab-ac84-45351f82dcee');\n",
              "          const dataTable =\n",
              "            await google.colab.kernel.invokeFunction('convertToInteractive',\n",
              "                                                     [key], {});\n",
              "          if (!dataTable) return;\n",
              "\n",
              "          const docLinkHtml = 'Like what you see? Visit the ' +\n",
              "            '<a target=\"_blank\" href=https://colab.research.google.com/notebooks/data_table.ipynb>data table notebook</a>'\n",
              "            + ' to learn more about interactive tables.';\n",
              "          element.innerHTML = '';\n",
              "          dataTable['output_type'] = 'display_data';\n",
              "          await google.colab.output.renderOutput(dataTable, element);\n",
              "          const docLink = document.createElement('div');\n",
              "          docLink.innerHTML = docLinkHtml;\n",
              "          element.appendChild(docLink);\n",
              "        }\n",
              "      </script>\n",
              "    </div>\n",
              "  </div>\n",
              "  "
            ]
          },
          "metadata": {},
          "execution_count": 348
        }
      ]
    },
    {
      "cell_type": "markdown",
      "source": [
        "now im going to make sure our cat and num values are correct"
      ],
      "metadata": {
        "id": "zTdu4-P1Q0Wq"
      }
    },
    {
      "cell_type": "code",
      "source": [
        "df['type'].value_counts()"
      ],
      "metadata": {
        "colab": {
          "base_uri": "https://localhost:8080/"
        },
        "id": "B5tWlYFAQbN3",
        "outputId": "7cc0ea34-1c0d-4798-e150-caa50d9dcb77"
      },
      "execution_count": 349,
      "outputs": [
        {
          "output_type": "execute_result",
          "data": {
            "text/plain": [
              "MOVIE    3759\n",
              "SHOW     2047\n",
              "Name: type, dtype: int64"
            ]
          },
          "metadata": {},
          "execution_count": 349
        }
      ]
    },
    {
      "cell_type": "code",
      "source": [
        "df['genres'].value_counts()   #is there a way to boil these values down to a max of one or two categories? like comedy or drama but not both?"
      ],
      "metadata": {
        "colab": {
          "base_uri": "https://localhost:8080/"
        },
        "id": "N2RryL4UQ80d",
        "outputId": "85a3218d-2c28-4f88-a4ee-990371971df1"
      },
      "execution_count": 350,
      "outputs": [
        {
          "output_type": "execute_result",
          "data": {
            "text/plain": [
              "['comedy']                                            510\n",
              "['drama']                                             350\n",
              "['documentation']                                     320\n",
              "['comedy', 'drama']                                   141\n",
              "['drama', 'comedy']                                   128\n",
              "                                                     ... \n",
              "['drama', 'family', 'comedy', 'music']                  1\n",
              "['drama', 'thriller', 'western']                        1\n",
              "['comedy', 'thriller', 'drama', 'action', 'crime']      1\n",
              "['romance', 'drama', 'history', 'european']             1\n",
              "['family', 'comedy', 'animation']                       1\n",
              "Name: genres, Length: 1626, dtype: int64"
            ]
          },
          "metadata": {},
          "execution_count": 350
        }
      ]
    },
    {
      "cell_type": "code",
      "source": [
        "df['imdb_score'].value_counts()"
      ],
      "metadata": {
        "colab": {
          "base_uri": "https://localhost:8080/"
        },
        "id": "gNkt_FC8RID3",
        "outputId": "0641d23b-e909-4d0a-bcb6-e8d26612bbf8"
      },
      "execution_count": 351,
      "outputs": [
        {
          "output_type": "execute_result",
          "data": {
            "text/plain": [
              "6.6    201\n",
              "6.8    199\n",
              "6.5    193\n",
              "6.2    192\n",
              "7.4    190\n",
              "      ... \n",
              "2.0      1\n",
              "1.9      1\n",
              "2.4      1\n",
              "1.6      1\n",
              "1.8      1\n",
              "Name: imdb_score, Length: 81, dtype: int64"
            ]
          },
          "metadata": {},
          "execution_count": 351
        }
      ]
    },
    {
      "cell_type": "code",
      "source": [
        "df['imdb_score'].describe()"
      ],
      "metadata": {
        "colab": {
          "base_uri": "https://localhost:8080/"
        },
        "id": "6Qey6Ot6RjCw",
        "outputId": "1bd293e0-3e29-4764-a7b6-1104eede21cf"
      },
      "execution_count": 352,
      "outputs": [
        {
          "output_type": "execute_result",
          "data": {
            "text/plain": [
              "count    5283.000000\n",
              "mean        6.533447\n",
              "std         1.160932\n",
              "min         1.500000\n",
              "25%         5.800000\n",
              "50%         6.600000\n",
              "75%         7.400000\n",
              "max         9.600000\n",
              "Name: imdb_score, dtype: float64"
            ]
          },
          "metadata": {},
          "execution_count": 352
        }
      ]
    },
    {
      "cell_type": "markdown",
      "source": [
        "that looks good"
      ],
      "metadata": {
        "id": "1WyYXf4sRrzx"
      }
    },
    {
      "cell_type": "code",
      "source": [
        "df['imdb_votes'].value_counts()"
      ],
      "metadata": {
        "colab": {
          "base_uri": "https://localhost:8080/"
        },
        "id": "8Et15PklRpw3",
        "outputId": "3614a307-675c-4c1d-d3ac-e97096ddfbf8"
      },
      "execution_count": 353,
      "outputs": [
        {
          "output_type": "execute_result",
          "data": {
            "text/plain": [
              "43.0        11\n",
              "25.0        11\n",
              "30.0         9\n",
              "14.0         9\n",
              "74.0         9\n",
              "            ..\n",
              "103.0        1\n",
              "399.0        1\n",
              "278223.0     1\n",
              "28718.0      1\n",
              "10418.0      1\n",
              "Name: imdb_votes, Length: 3831, dtype: int64"
            ]
          },
          "metadata": {},
          "execution_count": 353
        }
      ]
    },
    {
      "cell_type": "code",
      "source": [
        "df['imdb_votes'].describe()"
      ],
      "metadata": {
        "colab": {
          "base_uri": "https://localhost:8080/"
        },
        "id": "A9yZUgVjRwnH",
        "outputId": "12369404-4bd6-47c2-f2fa-f0abe67594f3"
      },
      "execution_count": 354,
      "outputs": [
        {
          "output_type": "execute_result",
          "data": {
            "text/plain": [
              "count    5.267000e+03\n",
              "mean     2.340719e+04\n",
              "std      8.713432e+04\n",
              "min      5.000000e+00\n",
              "25%      5.210000e+02\n",
              "50%      2.279000e+03\n",
              "75%      1.014400e+04\n",
              "max      2.268288e+06\n",
              "Name: imdb_votes, dtype: float64"
            ]
          },
          "metadata": {},
          "execution_count": 354
        }
      ]
    },
    {
      "cell_type": "markdown",
      "source": [
        "we may have to come back and delete this column but for now if a target has more votes that means more people liked it and that is a part of what we are trying to learn"
      ],
      "metadata": {
        "id": "3JVEcAEBR7sQ"
      }
    },
    {
      "cell_type": "code",
      "source": [
        "df['tmdb_popularity'].value_counts()"
      ],
      "metadata": {
        "colab": {
          "base_uri": "https://localhost:8080/"
        },
        "id": "qmLRr-CeR2K4",
        "outputId": "2840df7b-e6d6-4cdf-d1a6-e02a05b7349c"
      },
      "execution_count": 355,
      "outputs": [
        {
          "output_type": "execute_result",
          "data": {
            "text/plain": [
              "1.400     66\n",
              "0.600     57\n",
              "1.960      8\n",
              "2.744      7\n",
              "0.840      7\n",
              "          ..\n",
              "70.563     1\n",
              "7.434      1\n",
              "33.558     1\n",
              "60.496     1\n",
              "0.979      1\n",
              "Name: tmdb_popularity, Length: 4943, dtype: int64"
            ]
          },
          "metadata": {},
          "execution_count": 355
        }
      ]
    },
    {
      "cell_type": "code",
      "source": [
        "df['tmdb_popularity'].describe()"
      ],
      "metadata": {
        "colab": {
          "base_uri": "https://localhost:8080/"
        },
        "id": "wHnKXKa9SFYe",
        "outputId": "475b4e4c-e0ef-44f1-cf28-9618d9b42b1e"
      },
      "execution_count": 356,
      "outputs": [
        {
          "output_type": "execute_result",
          "data": {
            "text/plain": [
              "count    5712.000000\n",
              "mean       22.525660\n",
              "std        68.849177\n",
              "min         0.009442\n",
              "25%         3.155250\n",
              "50%         7.478000\n",
              "75%        17.775750\n",
              "max      1823.374000\n",
              "Name: tmdb_popularity, dtype: float64"
            ]
          },
          "metadata": {},
          "execution_count": 356
        }
      ]
    },
    {
      "cell_type": "code",
      "source": [
        "df['tmdb_score'].value_counts()"
      ],
      "metadata": {
        "colab": {
          "base_uri": "https://localhost:8080/"
        },
        "id": "j5ZVpeSOSV44",
        "outputId": "a4633bb0-7cc6-46ca-ccad-65b42bba7ccc"
      },
      "execution_count": 357,
      "outputs": [
        {
          "output_type": "execute_result",
          "data": {
            "text/plain": [
              "7.0    285\n",
              "7.3    208\n",
              "6.8    207\n",
              "6.5    204\n",
              "7.4    201\n",
              "      ... \n",
              "2.3      1\n",
              "3.1      1\n",
              "0.5      1\n",
              "3.4      1\n",
              "2.5      1\n",
              "Name: tmdb_score, Length: 78, dtype: int64"
            ]
          },
          "metadata": {},
          "execution_count": 357
        }
      ]
    },
    {
      "cell_type": "code",
      "source": [
        "df['tmdb_score'].describe()"
      ],
      "metadata": {
        "colab": {
          "base_uri": "https://localhost:8080/"
        },
        "id": "VXO2bUo6SMHY",
        "outputId": "b7e4ee3c-3919-4b12-e883-865100c062a6"
      },
      "execution_count": 358,
      "outputs": [
        {
          "output_type": "execute_result",
          "data": {
            "text/plain": [
              "count    5488.000000\n",
              "mean        6.818039\n",
              "std         1.171560\n",
              "min         0.500000\n",
              "25%         6.100000\n",
              "50%         6.900000\n",
              "75%         7.500000\n",
              "max        10.000000\n",
              "Name: tmdb_score, dtype: float64"
            ]
          },
          "metadata": {},
          "execution_count": 358
        }
      ]
    },
    {
      "cell_type": "code",
      "source": [
        "df.info()"
      ],
      "metadata": {
        "colab": {
          "base_uri": "https://localhost:8080/"
        },
        "id": "9bVvw2NtToCW",
        "outputId": "5a3b4b5d-22a6-43c6-d431-c72f28c78aa2"
      },
      "execution_count": 359,
      "outputs": [
        {
          "output_type": "stream",
          "name": "stdout",
          "text": [
            "<class 'pandas.core.frame.DataFrame'>\n",
            "RangeIndex: 5806 entries, 0 to 5805\n",
            "Data columns (total 6 columns):\n",
            " #   Column           Non-Null Count  Dtype  \n",
            "---  ------           --------------  -----  \n",
            " 0   type             5806 non-null   object \n",
            " 1   genres           5806 non-null   object \n",
            " 2   imdb_score       5283 non-null   float64\n",
            " 3   imdb_votes       5267 non-null   float64\n",
            " 4   tmdb_popularity  5712 non-null   float64\n",
            " 5   tmdb_score       5488 non-null   float64\n",
            "dtypes: float64(4), object(2)\n",
            "memory usage: 272.3+ KB\n"
          ]
        }
      ]
    },
    {
      "cell_type": "markdown",
      "source": [
        "data types are correct, we have 4 columns missing data.  as i dont want to skew the data too much i am going to use the mean of each column to impute the missing data. "
      ],
      "metadata": {
        "id": "fYc70YH_TrG4"
      }
    },
    {
      "cell_type": "code",
      "source": [
        "df['imdb_score'].hist(bins=50);"
      ],
      "metadata": {
        "colab": {
          "base_uri": "https://localhost:8080/",
          "height": 265
        },
        "id": "HmQSA5wCcnle",
        "outputId": "4c9eb99d-594b-4e70-c108-5349561e0be0"
      },
      "execution_count": 360,
      "outputs": [
        {
          "output_type": "display_data",
          "data": {
            "text/plain": [
              "<Figure size 432x288 with 1 Axes>"
            ],
            "image/png": "[encoded data removed]"
          },
          "metadata": {
            "needs_background": "light"
          }
        }
      ]
    },
    {
      "cell_type": "markdown",
      "source": [
        "before we impute i wanted to get a visual of how our scores are allocated. we see most shows/movies score between a rating of 6 to 8."
      ],
      "metadata": {
        "id": "xC5TmJQ1csEv"
      }
    },
    {
      "cell_type": "code",
      "source": [
        "df['tmdb_score'].hist(bins=50);"
      ],
      "metadata": {
        "colab": {
          "base_uri": "https://localhost:8080/",
          "height": 265
        },
        "id": "e3ogMRFyc-Wn",
        "outputId": "00d88548-8708-4706-e7b9-d9e699fbb908"
      },
      "execution_count": 361,
      "outputs": [
        {
          "output_type": "display_data",
          "data": {
            "text/plain": [
              "<Figure size 432x288 with 1 Axes>"
            ],
            "image/png": "[encoded data removed]"
          },
          "metadata": {
            "needs_background": "light"
          }
        }
      ]
    },
    {
      "cell_type": "markdown",
      "source": [
        "the tmbd movie scores follow in a similar pattern."
      ],
      "metadata": {
        "id": "WGBCR8aqdIp1"
      }
    },
    {
      "cell_type": "code",
      "source": [
        "corr = df.corr()\n",
        "sns.heatmap(corr, cmap = 'Blues', annot = True);"
      ],
      "metadata": {
        "colab": {
          "base_uri": "https://localhost:8080/",
          "height": 341
        },
        "id": "lGm-W9EJde2V",
        "outputId": "9f588a5c-6166-49fc-f76f-c157906a8867"
      },
      "execution_count": 362,
      "outputs": [
        {
          "output_type": "display_data",
          "data": {
            "text/plain": [
              "<Figure size 432x288 with 2 Axes>"
            ],
            "image/png": "[encoded data removed]"
          },
          "metadata": {
            "needs_background": "light"
          }
        }
      ]
    },
    {
      "cell_type": "markdown",
      "source": [
        "ok so we can see the moderate correlation between imdb and tmdb scores, nothing else correlates"
      ],
      "metadata": {
        "id": "IVwTpkC6dpfw"
      }
    },
    {
      "cell_type": "code",
      "source": [
        "imdb_score_mean = df['imdb_score'].mean()\n",
        "df['imdb_score'].fillna(imdb_score_mean, inplace=True)\n",
        "df['imdb_score'].isna().sum()"
      ],
      "metadata": {
        "colab": {
          "base_uri": "https://localhost:8080/"
        },
        "id": "nj2JJ5nHTop-",
        "outputId": "fd6f176c-d0c2-421d-fe65-bb2ea43d230b"
      },
      "execution_count": 363,
      "outputs": [
        {
          "output_type": "execute_result",
          "data": {
            "text/plain": [
              "0"
            ]
          },
          "metadata": {},
          "execution_count": 363
        }
      ]
    },
    {
      "cell_type": "code",
      "source": [
        "imdb_votes_mean = df['imdb_votes'].mean()\n",
        "df['imdb_votes'].fillna(imdb_votes_mean, inplace=True)\n",
        "df['imdb_votes'].isna().sum()"
      ],
      "metadata": {
        "colab": {
          "base_uri": "https://localhost:8080/"
        },
        "id": "e-u31YqcULCK",
        "outputId": "7be87dc2-2ad3-48c1-b562-fa0f43978f88"
      },
      "execution_count": 364,
      "outputs": [
        {
          "output_type": "execute_result",
          "data": {
            "text/plain": [
              "0"
            ]
          },
          "metadata": {},
          "execution_count": 364
        }
      ]
    },
    {
      "cell_type": "code",
      "source": [
        "tmdb_pop_mean = df['tmdb_popularity'].mean()\n",
        "df['tmdb_popularity'].fillna(tmdb_pop_mean, inplace=True)\n",
        "df['tmdb_popularity'].isna().sum()"
      ],
      "metadata": {
        "colab": {
          "base_uri": "https://localhost:8080/"
        },
        "id": "eVD1Rc4hUR3o",
        "outputId": "e24b5eda-1d86-47c6-81df-1dd8febab4a8"
      },
      "execution_count": 365,
      "outputs": [
        {
          "output_type": "execute_result",
          "data": {
            "text/plain": [
              "0"
            ]
          },
          "metadata": {},
          "execution_count": 365
        }
      ]
    },
    {
      "cell_type": "code",
      "source": [
        "tmdb_score_mean = df['tmdb_score'].mean()\n",
        "df['tmdb_score'].fillna(tmdb_score_mean, inplace=True)\n",
        "df.isna().sum()"
      ],
      "metadata": {
        "colab": {
          "base_uri": "https://localhost:8080/"
        },
        "id": "Q7WXnTLMUajw",
        "outputId": "dbf6afdb-47ce-4e6d-9b88-b30fbdd054c4"
      },
      "execution_count": 366,
      "outputs": [
        {
          "output_type": "execute_result",
          "data": {
            "text/plain": [
              "type               0\n",
              "genres             0\n",
              "imdb_score         0\n",
              "imdb_votes         0\n",
              "tmdb_popularity    0\n",
              "tmdb_score         0\n",
              "dtype: int64"
            ]
          },
          "metadata": {},
          "execution_count": 366
        }
      ]
    },
    {
      "cell_type": "markdown",
      "source": [
        "perfect, no missing data"
      ],
      "metadata": {
        "id": "9tupMsk1UjJN"
      }
    },
    {
      "cell_type": "code",
      "source": [
        "corr = df.corr()\n",
        "sns.heatmap(corr, cmap = 'Blues', annot = True);"
      ],
      "metadata": {
        "colab": {
          "base_uri": "https://localhost:8080/",
          "height": 341
        },
        "id": "RT1dAkSlUiF_",
        "outputId": "529897ec-4322-499d-bad0-1af54dbcf3f3"
      },
      "execution_count": 367,
      "outputs": [
        {
          "output_type": "display_data",
          "data": {
            "text/plain": [
              "<Figure size 432x288 with 2 Axes>"
            ],
            "image/png": "[encoded data removed]"
          },
          "metadata": {
            "needs_background": "light"
          }
        }
      ]
    },
    {
      "cell_type": "markdown",
      "source": [
        "after imputing we notice that our correlation between imdb_score and tmdb_score has gone down by a few percentage points, shouldnt be a big deal. nothing else has changed. "
      ],
      "metadata": {
        "id": "ed-TUealVbxg"
      }
    },
    {
      "cell_type": "markdown",
      "source": [
        "## ML prep"
      ],
      "metadata": {
        "id": "q5XWL0ACeaar"
      }
    },
    {
      "cell_type": "code",
      "source": [
        "df_ml['type'].value_counts(normalize=True)"
      ],
      "metadata": {
        "colab": {
          "base_uri": "https://localhost:8080/"
        },
        "id": "maMnvLtnbDSz",
        "outputId": "0c398c12-0856-469d-fccd-026553b998ba"
      },
      "execution_count": 368,
      "outputs": [
        {
          "output_type": "execute_result",
          "data": {
            "text/plain": [
              "MOVIE    0.647434\n",
              "SHOW     0.352566\n",
              "Name: type, dtype: float64"
            ]
          },
          "metadata": {},
          "execution_count": 368
        }
      ]
    },
    {
      "cell_type": "markdown",
      "source": [
        "not a well balanced set, we will have to keep this in mind as we analyize it."
      ],
      "metadata": {
        "id": "5JIldzkUehaF"
      }
    },
    {
      "cell_type": "code",
      "source": [
        "df_ml.info()"
      ],
      "metadata": {
        "colab": {
          "base_uri": "https://localhost:8080/"
        },
        "id": "wHFxeBWPegH5",
        "outputId": "10c1f055-69ee-4463-ed19-83b273adb698"
      },
      "execution_count": 369,
      "outputs": [
        {
          "output_type": "stream",
          "name": "stdout",
          "text": [
            "<class 'pandas.core.frame.DataFrame'>\n",
            "RangeIndex: 5806 entries, 0 to 5805\n",
            "Data columns (total 6 columns):\n",
            " #   Column           Non-Null Count  Dtype  \n",
            "---  ------           --------------  -----  \n",
            " 0   type             5806 non-null   object \n",
            " 1   genres           5806 non-null   object \n",
            " 2   imdb_score       5283 non-null   float64\n",
            " 3   imdb_votes       5267 non-null   float64\n",
            " 4   tmdb_popularity  5712 non-null   float64\n",
            " 5   tmdb_score       5488 non-null   float64\n",
            "dtypes: float64(4), object(2)\n",
            "memory usage: 272.3+ KB\n"
          ]
        }
      ]
    },
    {
      "cell_type": "markdown",
      "source": [
        "time to split, then setup selectors and pipelines, then we can impute "
      ],
      "metadata": {
        "id": "KennnNaYewGd"
      }
    },
    {
      "cell_type": "code",
      "source": [
        "#Validation split\n",
        "X = df_ml.drop(columns=['type'])\n",
        "y = df_ml['type']\n",
        "X_train, X_test, y_train, y_test = train_test_split(X, y, random_state=42)"
      ],
      "metadata": {
        "id": "y92C6Z2Neoh9"
      },
      "execution_count": 370,
      "outputs": []
    },
    {
      "cell_type": "code",
      "source": [
        "#making our ohe pipeline, selector(s) first\n",
        "num_selector = make_column_selector(dtype_include='number')\n",
        "cat_selector = make_column_selector(dtype_include='object')"
      ],
      "metadata": {
        "id": "RaWO5scue6JV"
      },
      "execution_count": 371,
      "outputs": []
    },
    {
      "cell_type": "markdown",
      "source": [
        "as i did for EDA im going to use the mean of each column to impute our missing values. "
      ],
      "metadata": {
        "id": "7JbVqooufcTF"
      }
    },
    {
      "cell_type": "code",
      "source": [
        "# Imputers\n",
        "mean_imputer = SimpleImputer(strategy='mean')\n",
        "scaler = StandardScaler()\n",
        "ohe = OneHotEncoder(handle_unknown='ignore', sparse=False)"
      ],
      "metadata": {
        "id": "d5x3PJgNfaWy"
      },
      "execution_count": 372,
      "outputs": []
    },
    {
      "cell_type": "code",
      "source": [
        "numb_pipe = make_pipeline(mean_imputer, scaler)\n",
        "numb_pipe"
      ],
      "metadata": {
        "colab": {
          "base_uri": "https://localhost:8080/",
          "height": 126
        },
        "id": "OF0JbkW_fkJP",
        "outputId": "8c182fe8-97ed-40b2-c18e-7f06ea3d98c8"
      },
      "execution_count": 373,
      "outputs": [
        {
          "output_type": "execute_result",
          "data": {
            "text/plain": [
              "Pipeline(steps=[('simpleimputer', SimpleImputer()),\n",
              "                ('standardscaler', StandardScaler())])"
            ],
            "text/html": [
              "<style>#sk-fad6e21b-1dd2-4180-89bb-2d9c01f1f2f0 {color: black;background-color: white;}#sk-fad6e21b-1dd2-4180-89bb-2d9c01f1f2f0 pre{padding: 0;}#sk-fad6e21b-1dd2-4180-89bb-2d9c01f1f2f0 div.sk-toggleable {background-color: white;}#sk-fad6e21b-1dd2-4180-89bb-2d9c01f1f2f0 label.sk-toggleable__label {cursor: pointer;display: block;width: 100%;margin-bottom: 0;padding: 0.3em;box-sizing: border-box;text-align: center;}#sk-fad6e21b-1dd2-4180-89bb-2d9c01f1f2f0 label.sk-toggleable__label-arrow:before {content: \"▸\";float: left;margin-right: 0.25em;color: #696969;}#sk-fad6e21b-1dd2-4180-89bb-2d9c01f1f2f0 label.sk-toggleable__label-arrow:hover:before {color: black;}#sk-fad6e21b-1dd2-4180-89bb-2d9c01f1f2f0 div.sk-estimator:hover label.sk-toggleable__label-arrow:before {color: black;}#sk-fad6e21b-1dd2-4180-89bb-2d9c01f1f2f0 div.sk-toggleable__content {max-height: 0;max-width: 0;overflow: hidden;text-align: left;background-color: #f0f8ff;}#sk-fad6e21b-1dd2-4180-89bb-2d9c01f1f2f0 div.sk-toggleable__content pre {margin: 0.2em;color: black;border-radius: 0.25em;background-color: #f0f8ff;}#sk-fad6e21b-1dd2-4180-89bb-2d9c01f1f2f0 input.sk-toggleable__control:checked~div.sk-toggleable__content {max-height: 200px;max-width: 100%;overflow: auto;}#sk-fad6e21b-1dd2-4180-89bb-2d9c01f1f2f0 input.sk-toggleable__control:checked~label.sk-toggleable__label-arrow:before {content: \"▾\";}#sk-fad6e21b-1dd2-4180-89bb-2d9c01f1f2f0 div.sk-estimator input.sk-toggleable__control:checked~label.sk-toggleable__label {background-color: #d4ebff;}#sk-fad6e21b-1dd2-4180-89bb-2d9c01f1f2f0 div.sk-label input.sk-toggleable__control:checked~label.sk-toggleable__label {background-color: #d4ebff;}#sk-fad6e21b-1dd2-4180-89bb-2d9c01f1f2f0 input.sk-hidden--visually {border: 0;clip: rect(1px 1px 1px 1px);clip: rect(1px, 1px, 1px, 1px);height: 1px;margin: -1px;overflow: hidden;padding: 0;position: absolute;width: 1px;}#sk-fad6e21b-1dd2-4180-89bb-2d9c01f1f2f0 div.sk-estimator {font-family: monospace;background-color: #f0f8ff;border: 1px dotted black;border-radius: 0.25em;box-sizing: border-box;margin-bottom: 0.5em;}#sk-fad6e21b-1dd2-4180-89bb-2d9c01f1f2f0 div.sk-estimator:hover {background-color: #d4ebff;}#sk-fad6e21b-1dd2-4180-89bb-2d9c01f1f2f0 div.sk-parallel-item::after {content: \"\";width: 100%;border-bottom: 1px solid gray;flex-grow: 1;}#sk-fad6e21b-1dd2-4180-89bb-2d9c01f1f2f0 div.sk-label:hover label.sk-toggleable__label {background-color: #d4ebff;}#sk-fad6e21b-1dd2-4180-89bb-2d9c01f1f2f0 div.sk-serial::before {content: \"\";position: absolute;border-left: 1px solid gray;box-sizing: border-box;top: 2em;bottom: 0;left: 50%;}#sk-fad6e21b-1dd2-4180-89bb-2d9c01f1f2f0 div.sk-serial {display: flex;flex-direction: column;align-items: center;background-color: white;padding-right: 0.2em;padding-left: 0.2em;}#sk-fad6e21b-1dd2-4180-89bb-2d9c01f1f2f0 div.sk-item {z-index: 1;}#sk-fad6e21b-1dd2-4180-89bb-2d9c01f1f2f0 div.sk-parallel {display: flex;align-items: stretch;justify-content: center;background-color: white;}#sk-fad6e21b-1dd2-4180-89bb-2d9c01f1f2f0 div.sk-parallel::before {content: \"\";position: absolute;border-left: 1px solid gray;box-sizing: border-box;top: 2em;bottom: 0;left: 50%;}#sk-fad6e21b-1dd2-4180-89bb-2d9c01f1f2f0 div.sk-parallel-item {display: flex;flex-direction: column;position: relative;background-color: white;}#sk-fad6e21b-1dd2-4180-89bb-2d9c01f1f2f0 div.sk-parallel-item:first-child::after {align-self: flex-end;width: 50%;}#sk-fad6e21b-1dd2-4180-89bb-2d9c01f1f2f0 div.sk-parallel-item:last-child::after {align-self: flex-start;width: 50%;}#sk-fad6e21b-1dd2-4180-89bb-2d9c01f1f2f0 div.sk-parallel-item:only-child::after {width: 0;}#sk-fad6e21b-1dd2-4180-89bb-2d9c01f1f2f0 div.sk-dashed-wrapped {border: 1px dashed gray;margin: 0 0.4em 0.5em 0.4em;box-sizing: border-box;padding-bottom: 0.4em;background-color: white;position: relative;}#sk-fad6e21b-1dd2-4180-89bb-2d9c01f1f2f0 div.sk-label label {font-family: monospace;font-weight: bold;background-color: white;display: inline-block;line-height: 1.2em;}#sk-fad6e21b-1dd2-4180-89bb-2d9c01f1f2f0 div.sk-label-container {position: relative;z-index: 2;text-align: center;}#sk-fad6e21b-1dd2-4180-89bb-2d9c01f1f2f0 div.sk-container {/* jupyter's `normalize.less` sets `[hidden] { display: none; }` but bootstrap.min.css set `[hidden] { display: none !important; }` so we also need the `!important` here to be able to override the default hidden behavior on the sphinx rendered scikit-learn.org. See: https://github.com/scikit-learn/scikit-learn/issues/21755 */display: inline-block !important;position: relative;}#sk-fad6e21b-1dd2-4180-89bb-2d9c01f1f2f0 div.sk-text-repr-fallback {display: none;}</style><div id=\"sk-fad6e21b-1dd2-4180-89bb-2d9c01f1f2f0\" class=\"sk-top-container\"><div class=\"sk-text-repr-fallback\"><pre>Pipeline(steps=[(&#x27;simpleimputer&#x27;, SimpleImputer()),\n",
              "                (&#x27;standardscaler&#x27;, StandardScaler())])</pre><b>Please rerun this cell to show the HTML repr or trust the notebook.</b></div><div class=\"sk-container\" hidden><div class=\"sk-item sk-dashed-wrapped\"><div class=\"sk-label-container\"><div class=\"sk-label sk-toggleable\"><input class=\"sk-toggleable__control sk-hidden--visually\" id=\"90739a42-1c4b-4571-a826-eb0ad84e20a7\" type=\"checkbox\" ><label for=\"90739a42-1c4b-4571-a826-eb0ad84e20a7\" class=\"sk-toggleable__label sk-toggleable__label-arrow\">Pipeline</label><div class=\"sk-toggleable__content\"><pre>Pipeline(steps=[(&#x27;simpleimputer&#x27;, SimpleImputer()),\n",
              "                (&#x27;standardscaler&#x27;, StandardScaler())])</pre></div></div></div><div class=\"sk-serial\"><div class=\"sk-item\"><div class=\"sk-estimator sk-toggleable\"><input class=\"sk-toggleable__control sk-hidden--visually\" id=\"632ecbaa-991c-4d31-b081-323ff1d9276a\" type=\"checkbox\" ><label for=\"632ecbaa-991c-4d31-b081-323ff1d9276a\" class=\"sk-toggleable__label sk-toggleable__label-arrow\">SimpleImputer</label><div class=\"sk-toggleable__content\"><pre>SimpleImputer()</pre></div></div></div><div class=\"sk-item\"><div class=\"sk-estimator sk-toggleable\"><input class=\"sk-toggleable__control sk-hidden--visually\" id=\"aa0257a1-216a-4893-9285-faeab857cf08\" type=\"checkbox\" ><label for=\"aa0257a1-216a-4893-9285-faeab857cf08\" class=\"sk-toggleable__label sk-toggleable__label-arrow\">StandardScaler</label><div class=\"sk-toggleable__content\"><pre>StandardScaler()</pre></div></div></div></div></div></div></div>"
            ]
          },
          "metadata": {},
          "execution_count": 373
        }
      ]
    },
    {
      "cell_type": "code",
      "source": [
        "cat_pipe = make_pipeline(ohe)\n",
        "cat_pipe"
      ],
      "metadata": {
        "colab": {
          "base_uri": "https://localhost:8080/",
          "height": 92
        },
        "id": "33UdKVlUhIxk",
        "outputId": "836026a0-bda0-4ffd-b3f4-e28ac63c73a7"
      },
      "execution_count": 374,
      "outputs": [
        {
          "output_type": "execute_result",
          "data": {
            "text/plain": [
              "Pipeline(steps=[('onehotencoder',\n",
              "                 OneHotEncoder(handle_unknown='ignore', sparse=False))])"
            ],
            "text/html": [
              "<style>#sk-9453582f-6cbb-4764-b341-1042b2a03d98 {color: black;background-color: white;}#sk-9453582f-6cbb-4764-b341-1042b2a03d98 pre{padding: 0;}#sk-9453582f-6cbb-4764-b341-1042b2a03d98 div.sk-toggleable {background-color: white;}#sk-9453582f-6cbb-4764-b341-1042b2a03d98 label.sk-toggleable__label {cursor: pointer;display: block;width: 100%;margin-bottom: 0;padding: 0.3em;box-sizing: border-box;text-align: center;}#sk-9453582f-6cbb-4764-b341-1042b2a03d98 label.sk-toggleable__label-arrow:before {content: \"▸\";float: left;margin-right: 0.25em;color: #696969;}#sk-9453582f-6cbb-4764-b341-1042b2a03d98 label.sk-toggleable__label-arrow:hover:before {color: black;}#sk-9453582f-6cbb-4764-b341-1042b2a03d98 div.sk-estimator:hover label.sk-toggleable__label-arrow:before {color: black;}#sk-9453582f-6cbb-4764-b341-1042b2a03d98 div.sk-toggleable__content {max-height: 0;max-width: 0;overflow: hidden;text-align: left;background-color: #f0f8ff;}#sk-9453582f-6cbb-4764-b341-1042b2a03d98 div.sk-toggleable__content pre {margin: 0.2em;color: black;border-radius: 0.25em;background-color: #f0f8ff;}#sk-9453582f-6cbb-4764-b341-1042b2a03d98 input.sk-toggleable__control:checked~div.sk-toggleable__content {max-height: 200px;max-width: 100%;overflow: auto;}#sk-9453582f-6cbb-4764-b341-1042b2a03d98 input.sk-toggleable__control:checked~label.sk-toggleable__label-arrow:before {content: \"▾\";}#sk-9453582f-6cbb-4764-b341-1042b2a03d98 div.sk-estimator input.sk-toggleable__control:checked~label.sk-toggleable__label {background-color: #d4ebff;}#sk-9453582f-6cbb-4764-b341-1042b2a03d98 div.sk-label input.sk-toggleable__control:checked~label.sk-toggleable__label {background-color: #d4ebff;}#sk-9453582f-6cbb-4764-b341-1042b2a03d98 input.sk-hidden--visually {border: 0;clip: rect(1px 1px 1px 1px);clip: rect(1px, 1px, 1px, 1px);height: 1px;margin: -1px;overflow: hidden;padding: 0;position: absolute;width: 1px;}#sk-9453582f-6cbb-4764-b341-1042b2a03d98 div.sk-estimator {font-family: monospace;background-color: #f0f8ff;border: 1px dotted black;border-radius: 0.25em;box-sizing: border-box;margin-bottom: 0.5em;}#sk-9453582f-6cbb-4764-b341-1042b2a03d98 div.sk-estimator:hover {background-color: #d4ebff;}#sk-9453582f-6cbb-4764-b341-1042b2a03d98 div.sk-parallel-item::after {content: \"\";width: 100%;border-bottom: 1px solid gray;flex-grow: 1;}#sk-9453582f-6cbb-4764-b341-1042b2a03d98 div.sk-label:hover label.sk-toggleable__label {background-color: #d4ebff;}#sk-9453582f-6cbb-4764-b341-1042b2a03d98 div.sk-serial::before {content: \"\";position: absolute;border-left: 1px solid gray;box-sizing: border-box;top: 2em;bottom: 0;left: 50%;}#sk-9453582f-6cbb-4764-b341-1042b2a03d98 div.sk-serial {display: flex;flex-direction: column;align-items: center;background-color: white;padding-right: 0.2em;padding-left: 0.2em;}#sk-9453582f-6cbb-4764-b341-1042b2a03d98 div.sk-item {z-index: 1;}#sk-9453582f-6cbb-4764-b341-1042b2a03d98 div.sk-parallel {display: flex;align-items: stretch;justify-content: center;background-color: white;}#sk-9453582f-6cbb-4764-b341-1042b2a03d98 div.sk-parallel::before {content: \"\";position: absolute;border-left: 1px solid gray;box-sizing: border-box;top: 2em;bottom: 0;left: 50%;}#sk-9453582f-6cbb-4764-b341-1042b2a03d98 div.sk-parallel-item {display: flex;flex-direction: column;position: relative;background-color: white;}#sk-9453582f-6cbb-4764-b341-1042b2a03d98 div.sk-parallel-item:first-child::after {align-self: flex-end;width: 50%;}#sk-9453582f-6cbb-4764-b341-1042b2a03d98 div.sk-parallel-item:last-child::after {align-self: flex-start;width: 50%;}#sk-9453582f-6cbb-4764-b341-1042b2a03d98 div.sk-parallel-item:only-child::after {width: 0;}#sk-9453582f-6cbb-4764-b341-1042b2a03d98 div.sk-dashed-wrapped {border: 1px dashed gray;margin: 0 0.4em 0.5em 0.4em;box-sizing: border-box;padding-bottom: 0.4em;background-color: white;position: relative;}#sk-9453582f-6cbb-4764-b341-1042b2a03d98 div.sk-label label {font-family: monospace;font-weight: bold;background-color: white;display: inline-block;line-height: 1.2em;}#sk-9453582f-6cbb-4764-b341-1042b2a03d98 div.sk-label-container {position: relative;z-index: 2;text-align: center;}#sk-9453582f-6cbb-4764-b341-1042b2a03d98 div.sk-container {/* jupyter's `normalize.less` sets `[hidden] { display: none; }` but bootstrap.min.css set `[hidden] { display: none !important; }` so we also need the `!important` here to be able to override the default hidden behavior on the sphinx rendered scikit-learn.org. See: https://github.com/scikit-learn/scikit-learn/issues/21755 */display: inline-block !important;position: relative;}#sk-9453582f-6cbb-4764-b341-1042b2a03d98 div.sk-text-repr-fallback {display: none;}</style><div id=\"sk-9453582f-6cbb-4764-b341-1042b2a03d98\" class=\"sk-top-container\"><div class=\"sk-text-repr-fallback\"><pre>Pipeline(steps=[(&#x27;onehotencoder&#x27;,\n",
              "                 OneHotEncoder(handle_unknown=&#x27;ignore&#x27;, sparse=False))])</pre><b>Please rerun this cell to show the HTML repr or trust the notebook.</b></div><div class=\"sk-container\" hidden><div class=\"sk-item sk-dashed-wrapped\"><div class=\"sk-label-container\"><div class=\"sk-label sk-toggleable\"><input class=\"sk-toggleable__control sk-hidden--visually\" id=\"5f66e67c-8b95-4ead-a682-4626065a6afe\" type=\"checkbox\" ><label for=\"5f66e67c-8b95-4ead-a682-4626065a6afe\" class=\"sk-toggleable__label sk-toggleable__label-arrow\">Pipeline</label><div class=\"sk-toggleable__content\"><pre>Pipeline(steps=[(&#x27;onehotencoder&#x27;,\n",
              "                 OneHotEncoder(handle_unknown=&#x27;ignore&#x27;, sparse=False))])</pre></div></div></div><div class=\"sk-serial\"><div class=\"sk-item\"><div class=\"sk-estimator sk-toggleable\"><input class=\"sk-toggleable__control sk-hidden--visually\" id=\"d68c35fb-5e0d-45d8-8df9-51ad75506e48\" type=\"checkbox\" ><label for=\"d68c35fb-5e0d-45d8-8df9-51ad75506e48\" class=\"sk-toggleable__label sk-toggleable__label-arrow\">OneHotEncoder</label><div class=\"sk-toggleable__content\"><pre>OneHotEncoder(handle_unknown=&#x27;ignore&#x27;, sparse=False)</pre></div></div></div></div></div></div></div>"
            ]
          },
          "metadata": {},
          "execution_count": 374
        }
      ]
    },
    {
      "cell_type": "markdown",
      "source": [
        "no missing cat data so we wont need to impute anything. im not sure if its a good practice to leave that part out completly to save space in the code or if we should put it in anyway. "
      ],
      "metadata": {
        "id": "LcQsy-GihOLE"
      }
    },
    {
      "cell_type": "code",
      "source": [
        "numb_tup = (numb_pipe, num_selector)\n",
        "cat_tup = (cat_pipe, cat_selector)\n",
        "preprocessor = make_column_transformer(numb_tup, cat_tup)\n",
        "preprocessor"
      ],
      "metadata": {
        "colab": {
          "base_uri": "https://localhost:8080/",
          "height": 152
        },
        "id": "qeGtIHXRfkcV",
        "outputId": "0876f2ac-9471-4b8f-a5c6-309601c7b271"
      },
      "execution_count": 375,
      "outputs": [
        {
          "output_type": "execute_result",
          "data": {
            "text/plain": [
              "ColumnTransformer(transformers=[('pipeline-1',\n",
              "                                 Pipeline(steps=[('simpleimputer',\n",
              "                                                  SimpleImputer()),\n",
              "                                                 ('standardscaler',\n",
              "                                                  StandardScaler())]),\n",
              "                                 <sklearn.compose._column_transformer.make_column_selector object at 0x7fd227c3f210>),\n",
              "                                ('pipeline-2',\n",
              "                                 Pipeline(steps=[('onehotencoder',\n",
              "                                                  OneHotEncoder(handle_unknown='ignore',\n",
              "                                                                sparse=False))]),\n",
              "                                 <sklearn.compose._column_transformer.make_column_selector object at 0x7fd227c3f1d0>)])"
            ],
            "text/html": [
              "<style>#sk-076f0158-5bd7-4bfd-bf56-5612e2e6a0a9 {color: black;background-color: white;}#sk-076f0158-5bd7-4bfd-bf56-5612e2e6a0a9 pre{padding: 0;}#sk-076f0158-5bd7-4bfd-bf56-5612e2e6a0a9 div.sk-toggleable {background-color: white;}#sk-076f0158-5bd7-4bfd-bf56-5612e2e6a0a9 label.sk-toggleable__label {cursor: pointer;display: block;width: 100%;margin-bottom: 0;padding: 0.3em;box-sizing: border-box;text-align: center;}#sk-076f0158-5bd7-4bfd-bf56-5612e2e6a0a9 label.sk-toggleable__label-arrow:before {content: \"▸\";float: left;margin-right: 0.25em;color: #696969;}#sk-076f0158-5bd7-4bfd-bf56-5612e2e6a0a9 label.sk-toggleable__label-arrow:hover:before {color: black;}#sk-076f0158-5bd7-4bfd-bf56-5612e2e6a0a9 div.sk-estimator:hover label.sk-toggleable__label-arrow:before {color: black;}#sk-076f0158-5bd7-4bfd-bf56-5612e2e6a0a9 div.sk-toggleable__content {max-height: 0;max-width: 0;overflow: hidden;text-align: left;background-color: #f0f8ff;}#sk-076f0158-5bd7-4bfd-bf56-5612e2e6a0a9 div.sk-toggleable__content pre {margin: 0.2em;color: black;border-radius: 0.25em;background-color: #f0f8ff;}#sk-076f0158-5bd7-4bfd-bf56-5612e2e6a0a9 input.sk-toggleable__control:checked~div.sk-toggleable__content {max-height: 200px;max-width: 100%;overflow: auto;}#sk-076f0158-5bd7-4bfd-bf56-5612e2e6a0a9 input.sk-toggleable__control:checked~label.sk-toggleable__label-arrow:before {content: \"▾\";}#sk-076f0158-5bd7-4bfd-bf56-5612e2e6a0a9 div.sk-estimator input.sk-toggleable__control:checked~label.sk-toggleable__label {background-color: #d4ebff;}#sk-076f0158-5bd7-4bfd-bf56-5612e2e6a0a9 div.sk-label input.sk-toggleable__control:checked~label.sk-toggleable__label {background-color: #d4ebff;}#sk-076f0158-5bd7-4bfd-bf56-5612e2e6a0a9 input.sk-hidden--visually {border: 0;clip: rect(1px 1px 1px 1px);clip: rect(1px, 1px, 1px, 1px);height: 1px;margin: -1px;overflow: hidden;padding: 0;position: absolute;width: 1px;}#sk-076f0158-5bd7-4bfd-bf56-5612e2e6a0a9 div.sk-estimator {font-family: monospace;background-color: #f0f8ff;border: 1px dotted black;border-radius: 0.25em;box-sizing: border-box;margin-bottom: 0.5em;}#sk-076f0158-5bd7-4bfd-bf56-5612e2e6a0a9 div.sk-estimator:hover {background-color: #d4ebff;}#sk-076f0158-5bd7-4bfd-bf56-5612e2e6a0a9 div.sk-parallel-item::after {content: \"\";width: 100%;border-bottom: 1px solid gray;flex-grow: 1;}#sk-076f0158-5bd7-4bfd-bf56-5612e2e6a0a9 div.sk-label:hover label.sk-toggleable__label {background-color: #d4ebff;}#sk-076f0158-5bd7-4bfd-bf56-5612e2e6a0a9 div.sk-serial::before {content: \"\";position: absolute;border-left: 1px solid gray;box-sizing: border-box;top: 2em;bottom: 0;left: 50%;}#sk-076f0158-5bd7-4bfd-bf56-5612e2e6a0a9 div.sk-serial {display: flex;flex-direction: column;align-items: center;background-color: white;padding-right: 0.2em;padding-left: 0.2em;}#sk-076f0158-5bd7-4bfd-bf56-5612e2e6a0a9 div.sk-item {z-index: 1;}#sk-076f0158-5bd7-4bfd-bf56-5612e2e6a0a9 div.sk-parallel {display: flex;align-items: stretch;justify-content: center;background-color: white;}#sk-076f0158-5bd7-4bfd-bf56-5612e2e6a0a9 div.sk-parallel::before {content: \"\";position: absolute;border-left: 1px solid gray;box-sizing: border-box;top: 2em;bottom: 0;left: 50%;}#sk-076f0158-5bd7-4bfd-bf56-5612e2e6a0a9 div.sk-parallel-item {display: flex;flex-direction: column;position: relative;background-color: white;}#sk-076f0158-5bd7-4bfd-bf56-5612e2e6a0a9 div.sk-parallel-item:first-child::after {align-self: flex-end;width: 50%;}#sk-076f0158-5bd7-4bfd-bf56-5612e2e6a0a9 div.sk-parallel-item:last-child::after {align-self: flex-start;width: 50%;}#sk-076f0158-5bd7-4bfd-bf56-5612e2e6a0a9 div.sk-parallel-item:only-child::after {width: 0;}#sk-076f0158-5bd7-4bfd-bf56-5612e2e6a0a9 div.sk-dashed-wrapped {border: 1px dashed gray;margin: 0 0.4em 0.5em 0.4em;box-sizing: border-box;padding-bottom: 0.4em;background-color: white;position: relative;}#sk-076f0158-5bd7-4bfd-bf56-5612e2e6a0a9 div.sk-label label {font-family: monospace;font-weight: bold;background-color: white;display: inline-block;line-height: 1.2em;}#sk-076f0158-5bd7-4bfd-bf56-5612e2e6a0a9 div.sk-label-container {position: relative;z-index: 2;text-align: center;}#sk-076f0158-5bd7-4bfd-bf56-5612e2e6a0a9 div.sk-container {/* jupyter's `normalize.less` sets `[hidden] { display: none; }` but bootstrap.min.css set `[hidden] { display: none !important; }` so we also need the `!important` here to be able to override the default hidden behavior on the sphinx rendered scikit-learn.org. See: https://github.com/scikit-learn/scikit-learn/issues/21755 */display: inline-block !important;position: relative;}#sk-076f0158-5bd7-4bfd-bf56-5612e2e6a0a9 div.sk-text-repr-fallback {display: none;}</style><div id=\"sk-076f0158-5bd7-4bfd-bf56-5612e2e6a0a9\" class=\"sk-top-container\"><div class=\"sk-text-repr-fallback\"><pre>ColumnTransformer(transformers=[(&#x27;pipeline-1&#x27;,\n",
              "                                 Pipeline(steps=[(&#x27;simpleimputer&#x27;,\n",
              "                                                  SimpleImputer()),\n",
              "                                                 (&#x27;standardscaler&#x27;,\n",
              "                                                  StandardScaler())]),\n",
              "                                 &lt;sklearn.compose._column_transformer.make_column_selector object at 0x7fd227c3f210&gt;),\n",
              "                                (&#x27;pipeline-2&#x27;,\n",
              "                                 Pipeline(steps=[(&#x27;onehotencoder&#x27;,\n",
              "                                                  OneHotEncoder(handle_unknown=&#x27;ignore&#x27;,\n",
              "                                                                sparse=False))]),\n",
              "                                 &lt;sklearn.compose._column_transformer.make_column_selector object at 0x7fd227c3f1d0&gt;)])</pre><b>Please rerun this cell to show the HTML repr or trust the notebook.</b></div><div class=\"sk-container\" hidden><div class=\"sk-item sk-dashed-wrapped\"><div class=\"sk-label-container\"><div class=\"sk-label sk-toggleable\"><input class=\"sk-toggleable__control sk-hidden--visually\" id=\"c9282946-5b54-4e4d-9c9b-fabe10310412\" type=\"checkbox\" ><label for=\"c9282946-5b54-4e4d-9c9b-fabe10310412\" class=\"sk-toggleable__label sk-toggleable__label-arrow\">ColumnTransformer</label><div class=\"sk-toggleable__content\"><pre>ColumnTransformer(transformers=[(&#x27;pipeline-1&#x27;,\n",
              "                                 Pipeline(steps=[(&#x27;simpleimputer&#x27;,\n",
              "                                                  SimpleImputer()),\n",
              "                                                 (&#x27;standardscaler&#x27;,\n",
              "                                                  StandardScaler())]),\n",
              "                                 &lt;sklearn.compose._column_transformer.make_column_selector object at 0x7fd227c3f210&gt;),\n",
              "                                (&#x27;pipeline-2&#x27;,\n",
              "                                 Pipeline(steps=[(&#x27;onehotencoder&#x27;,\n",
              "                                                  OneHotEncoder(handle_unknown=&#x27;ignore&#x27;,\n",
              "                                                                sparse=False))]),\n",
              "                                 &lt;sklearn.compose._column_transformer.make_column_selector object at 0x7fd227c3f1d0&gt;)])</pre></div></div></div><div class=\"sk-parallel\"><div class=\"sk-parallel-item\"><div class=\"sk-item\"><div class=\"sk-label-container\"><div class=\"sk-label sk-toggleable\"><input class=\"sk-toggleable__control sk-hidden--visually\" id=\"8e92fcb4-20c4-4993-bfb7-a85dcf99e598\" type=\"checkbox\" ><label for=\"8e92fcb4-20c4-4993-bfb7-a85dcf99e598\" class=\"sk-toggleable__label sk-toggleable__label-arrow\">pipeline-1</label><div class=\"sk-toggleable__content\"><pre>&lt;sklearn.compose._column_transformer.make_column_selector object at 0x7fd227c3f210&gt;</pre></div></div></div><div class=\"sk-serial\"><div class=\"sk-item\"><div class=\"sk-serial\"><div class=\"sk-item\"><div class=\"sk-estimator sk-toggleable\"><input class=\"sk-toggleable__control sk-hidden--visually\" id=\"0f715dc9-d573-4aa9-80fc-971986e4c186\" type=\"checkbox\" ><label for=\"0f715dc9-d573-4aa9-80fc-971986e4c186\" class=\"sk-toggleable__label sk-toggleable__label-arrow\">SimpleImputer</label><div class=\"sk-toggleable__content\"><pre>SimpleImputer()</pre></div></div></div><div class=\"sk-item\"><div class=\"sk-estimator sk-toggleable\"><input class=\"sk-toggleable__control sk-hidden--visually\" id=\"7c94ebbc-d313-41de-8fc8-ab26b3a33afb\" type=\"checkbox\" ><label for=\"7c94ebbc-d313-41de-8fc8-ab26b3a33afb\" class=\"sk-toggleable__label sk-toggleable__label-arrow\">StandardScaler</label><div class=\"sk-toggleable__content\"><pre>StandardScaler()</pre></div></div></div></div></div></div></div></div><div class=\"sk-parallel-item\"><div class=\"sk-item\"><div class=\"sk-label-container\"><div class=\"sk-label sk-toggleable\"><input class=\"sk-toggleable__control sk-hidden--visually\" id=\"4f0153d4-f700-48f8-ab28-e2173d4dcb54\" type=\"checkbox\" ><label for=\"4f0153d4-f700-48f8-ab28-e2173d4dcb54\" class=\"sk-toggleable__label sk-toggleable__label-arrow\">pipeline-2</label><div class=\"sk-toggleable__content\"><pre>&lt;sklearn.compose._column_transformer.make_column_selector object at 0x7fd227c3f1d0&gt;</pre></div></div></div><div class=\"sk-serial\"><div class=\"sk-item\"><div class=\"sk-serial\"><div class=\"sk-item\"><div class=\"sk-estimator sk-toggleable\"><input class=\"sk-toggleable__control sk-hidden--visually\" id=\"5cf22f4d-2656-402d-b13c-38a5a84879f0\" type=\"checkbox\" ><label for=\"5cf22f4d-2656-402d-b13c-38a5a84879f0\" class=\"sk-toggleable__label sk-toggleable__label-arrow\">OneHotEncoder</label><div class=\"sk-toggleable__content\"><pre>OneHotEncoder(handle_unknown=&#x27;ignore&#x27;, sparse=False)</pre></div></div></div></div></div></div></div></div></div></div></div></div>"
            ]
          },
          "metadata": {},
          "execution_count": 375
        }
      ]
    },
    {
      "cell_type": "code",
      "source": [
        "#fit on the train\n",
        "preprocessor.fit(X_train)"
      ],
      "metadata": {
        "colab": {
          "base_uri": "https://localhost:8080/",
          "height": 152
        },
        "id": "qR1NIdpCgP6J",
        "outputId": "d2acebda-759b-443a-9c80-4e04a811e51b"
      },
      "execution_count": 376,
      "outputs": [
        {
          "output_type": "execute_result",
          "data": {
            "text/plain": [
              "ColumnTransformer(transformers=[('pipeline-1',\n",
              "                                 Pipeline(steps=[('simpleimputer',\n",
              "                                                  SimpleImputer()),\n",
              "                                                 ('standardscaler',\n",
              "                                                  StandardScaler())]),\n",
              "                                 <sklearn.compose._column_transformer.make_column_selector object at 0x7fd227c3f210>),\n",
              "                                ('pipeline-2',\n",
              "                                 Pipeline(steps=[('onehotencoder',\n",
              "                                                  OneHotEncoder(handle_unknown='ignore',\n",
              "                                                                sparse=False))]),\n",
              "                                 <sklearn.compose._column_transformer.make_column_selector object at 0x7fd227c3f1d0>)])"
            ],
            "text/html": [
              "<style>#sk-16b188fb-8f10-4894-ab9f-92942ea838f0 {color: black;background-color: white;}#sk-16b188fb-8f10-4894-ab9f-92942ea838f0 pre{padding: 0;}#sk-16b188fb-8f10-4894-ab9f-92942ea838f0 div.sk-toggleable {background-color: white;}#sk-16b188fb-8f10-4894-ab9f-92942ea838f0 label.sk-toggleable__label {cursor: pointer;display: block;width: 100%;margin-bottom: 0;padding: 0.3em;box-sizing: border-box;text-align: center;}#sk-16b188fb-8f10-4894-ab9f-92942ea838f0 label.sk-toggleable__label-arrow:before {content: \"▸\";float: left;margin-right: 0.25em;color: #696969;}#sk-16b188fb-8f10-4894-ab9f-92942ea838f0 label.sk-toggleable__label-arrow:hover:before {color: black;}#sk-16b188fb-8f10-4894-ab9f-92942ea838f0 div.sk-estimator:hover label.sk-toggleable__label-arrow:before {color: black;}#sk-16b188fb-8f10-4894-ab9f-92942ea838f0 div.sk-toggleable__content {max-height: 0;max-width: 0;overflow: hidden;text-align: left;background-color: #f0f8ff;}#sk-16b188fb-8f10-4894-ab9f-92942ea838f0 div.sk-toggleable__content pre {margin: 0.2em;color: black;border-radius: 0.25em;background-color: #f0f8ff;}#sk-16b188fb-8f10-4894-ab9f-92942ea838f0 input.sk-toggleable__control:checked~div.sk-toggleable__content {max-height: 200px;max-width: 100%;overflow: auto;}#sk-16b188fb-8f10-4894-ab9f-92942ea838f0 input.sk-toggleable__control:checked~label.sk-toggleable__label-arrow:before {content: \"▾\";}#sk-16b188fb-8f10-4894-ab9f-92942ea838f0 div.sk-estimator input.sk-toggleable__control:checked~label.sk-toggleable__label {background-color: #d4ebff;}#sk-16b188fb-8f10-4894-ab9f-92942ea838f0 div.sk-label input.sk-toggleable__control:checked~label.sk-toggleable__label {background-color: #d4ebff;}#sk-16b188fb-8f10-4894-ab9f-92942ea838f0 input.sk-hidden--visually {border: 0;clip: rect(1px 1px 1px 1px);clip: rect(1px, 1px, 1px, 1px);height: 1px;margin: -1px;overflow: hidden;padding: 0;position: absolute;width: 1px;}#sk-16b188fb-8f10-4894-ab9f-92942ea838f0 div.sk-estimator {font-family: monospace;background-color: #f0f8ff;border: 1px dotted black;border-radius: 0.25em;box-sizing: border-box;margin-bottom: 0.5em;}#sk-16b188fb-8f10-4894-ab9f-92942ea838f0 div.sk-estimator:hover {background-color: #d4ebff;}#sk-16b188fb-8f10-4894-ab9f-92942ea838f0 div.sk-parallel-item::after {content: \"\";width: 100%;border-bottom: 1px solid gray;flex-grow: 1;}#sk-16b188fb-8f10-4894-ab9f-92942ea838f0 div.sk-label:hover label.sk-toggleable__label {background-color: #d4ebff;}#sk-16b188fb-8f10-4894-ab9f-92942ea838f0 div.sk-serial::before {content: \"\";position: absolute;border-left: 1px solid gray;box-sizing: border-box;top: 2em;bottom: 0;left: 50%;}#sk-16b188fb-8f10-4894-ab9f-92942ea838f0 div.sk-serial {display: flex;flex-direction: column;align-items: center;background-color: white;padding-right: 0.2em;padding-left: 0.2em;}#sk-16b188fb-8f10-4894-ab9f-92942ea838f0 div.sk-item {z-index: 1;}#sk-16b188fb-8f10-4894-ab9f-92942ea838f0 div.sk-parallel {display: flex;align-items: stretch;justify-content: center;background-color: white;}#sk-16b188fb-8f10-4894-ab9f-92942ea838f0 div.sk-parallel::before {content: \"\";position: absolute;border-left: 1px solid gray;box-sizing: border-box;top: 2em;bottom: 0;left: 50%;}#sk-16b188fb-8f10-4894-ab9f-92942ea838f0 div.sk-parallel-item {display: flex;flex-direction: column;position: relative;background-color: white;}#sk-16b188fb-8f10-4894-ab9f-92942ea838f0 div.sk-parallel-item:first-child::after {align-self: flex-end;width: 50%;}#sk-16b188fb-8f10-4894-ab9f-92942ea838f0 div.sk-parallel-item:last-child::after {align-self: flex-start;width: 50%;}#sk-16b188fb-8f10-4894-ab9f-92942ea838f0 div.sk-parallel-item:only-child::after {width: 0;}#sk-16b188fb-8f10-4894-ab9f-92942ea838f0 div.sk-dashed-wrapped {border: 1px dashed gray;margin: 0 0.4em 0.5em 0.4em;box-sizing: border-box;padding-bottom: 0.4em;background-color: white;position: relative;}#sk-16b188fb-8f10-4894-ab9f-92942ea838f0 div.sk-label label {font-family: monospace;font-weight: bold;background-color: white;display: inline-block;line-height: 1.2em;}#sk-16b188fb-8f10-4894-ab9f-92942ea838f0 div.sk-label-container {position: relative;z-index: 2;text-align: center;}#sk-16b188fb-8f10-4894-ab9f-92942ea838f0 div.sk-container {/* jupyter's `normalize.less` sets `[hidden] { display: none; }` but bootstrap.min.css set `[hidden] { display: none !important; }` so we also need the `!important` here to be able to override the default hidden behavior on the sphinx rendered scikit-learn.org. See: https://github.com/scikit-learn/scikit-learn/issues/21755 */display: inline-block !important;position: relative;}#sk-16b188fb-8f10-4894-ab9f-92942ea838f0 div.sk-text-repr-fallback {display: none;}</style><div id=\"sk-16b188fb-8f10-4894-ab9f-92942ea838f0\" class=\"sk-top-container\"><div class=\"sk-text-repr-fallback\"><pre>ColumnTransformer(transformers=[(&#x27;pipeline-1&#x27;,\n",
              "                                 Pipeline(steps=[(&#x27;simpleimputer&#x27;,\n",
              "                                                  SimpleImputer()),\n",
              "                                                 (&#x27;standardscaler&#x27;,\n",
              "                                                  StandardScaler())]),\n",
              "                                 &lt;sklearn.compose._column_transformer.make_column_selector object at 0x7fd227c3f210&gt;),\n",
              "                                (&#x27;pipeline-2&#x27;,\n",
              "                                 Pipeline(steps=[(&#x27;onehotencoder&#x27;,\n",
              "                                                  OneHotEncoder(handle_unknown=&#x27;ignore&#x27;,\n",
              "                                                                sparse=False))]),\n",
              "                                 &lt;sklearn.compose._column_transformer.make_column_selector object at 0x7fd227c3f1d0&gt;)])</pre><b>Please rerun this cell to show the HTML repr or trust the notebook.</b></div><div class=\"sk-container\" hidden><div class=\"sk-item sk-dashed-wrapped\"><div class=\"sk-label-container\"><div class=\"sk-label sk-toggleable\"><input class=\"sk-toggleable__control sk-hidden--visually\" id=\"df2d2ecf-9b4a-4b6a-9f16-facf4ae7661e\" type=\"checkbox\" ><label for=\"df2d2ecf-9b4a-4b6a-9f16-facf4ae7661e\" class=\"sk-toggleable__label sk-toggleable__label-arrow\">ColumnTransformer</label><div class=\"sk-toggleable__content\"><pre>ColumnTransformer(transformers=[(&#x27;pipeline-1&#x27;,\n",
              "                                 Pipeline(steps=[(&#x27;simpleimputer&#x27;,\n",
              "                                                  SimpleImputer()),\n",
              "                                                 (&#x27;standardscaler&#x27;,\n",
              "                                                  StandardScaler())]),\n",
              "                                 &lt;sklearn.compose._column_transformer.make_column_selector object at 0x7fd227c3f210&gt;),\n",
              "                                (&#x27;pipeline-2&#x27;,\n",
              "                                 Pipeline(steps=[(&#x27;onehotencoder&#x27;,\n",
              "                                                  OneHotEncoder(handle_unknown=&#x27;ignore&#x27;,\n",
              "                                                                sparse=False))]),\n",
              "                                 &lt;sklearn.compose._column_transformer.make_column_selector object at 0x7fd227c3f1d0&gt;)])</pre></div></div></div><div class=\"sk-parallel\"><div class=\"sk-parallel-item\"><div class=\"sk-item\"><div class=\"sk-label-container\"><div class=\"sk-label sk-toggleable\"><input class=\"sk-toggleable__control sk-hidden--visually\" id=\"75ec8045-569a-4270-9935-7c714630ca66\" type=\"checkbox\" ><label for=\"75ec8045-569a-4270-9935-7c714630ca66\" class=\"sk-toggleable__label sk-toggleable__label-arrow\">pipeline-1</label><div class=\"sk-toggleable__content\"><pre>&lt;sklearn.compose._column_transformer.make_column_selector object at 0x7fd227c3f210&gt;</pre></div></div></div><div class=\"sk-serial\"><div class=\"sk-item\"><div class=\"sk-serial\"><div class=\"sk-item\"><div class=\"sk-estimator sk-toggleable\"><input class=\"sk-toggleable__control sk-hidden--visually\" id=\"c5a40249-881b-440e-a8e3-8cc55719e01d\" type=\"checkbox\" ><label for=\"c5a40249-881b-440e-a8e3-8cc55719e01d\" class=\"sk-toggleable__label sk-toggleable__label-arrow\">SimpleImputer</label><div class=\"sk-toggleable__content\"><pre>SimpleImputer()</pre></div></div></div><div class=\"sk-item\"><div class=\"sk-estimator sk-toggleable\"><input class=\"sk-toggleable__control sk-hidden--visually\" id=\"2bfbbd4c-cf3d-48be-85e5-40b12510184c\" type=\"checkbox\" ><label for=\"2bfbbd4c-cf3d-48be-85e5-40b12510184c\" class=\"sk-toggleable__label sk-toggleable__label-arrow\">StandardScaler</label><div class=\"sk-toggleable__content\"><pre>StandardScaler()</pre></div></div></div></div></div></div></div></div><div class=\"sk-parallel-item\"><div class=\"sk-item\"><div class=\"sk-label-container\"><div class=\"sk-label sk-toggleable\"><input class=\"sk-toggleable__control sk-hidden--visually\" id=\"8eb789b8-b997-4a6a-b5cc-a6f199a0ffda\" type=\"checkbox\" ><label for=\"8eb789b8-b997-4a6a-b5cc-a6f199a0ffda\" class=\"sk-toggleable__label sk-toggleable__label-arrow\">pipeline-2</label><div class=\"sk-toggleable__content\"><pre>&lt;sklearn.compose._column_transformer.make_column_selector object at 0x7fd227c3f1d0&gt;</pre></div></div></div><div class=\"sk-serial\"><div class=\"sk-item\"><div class=\"sk-serial\"><div class=\"sk-item\"><div class=\"sk-estimator sk-toggleable\"><input class=\"sk-toggleable__control sk-hidden--visually\" id=\"27a879ea-49b2-41b1-bbd4-3afca1880f5b\" type=\"checkbox\" ><label for=\"27a879ea-49b2-41b1-bbd4-3afca1880f5b\" class=\"sk-toggleable__label sk-toggleable__label-arrow\">OneHotEncoder</label><div class=\"sk-toggleable__content\"><pre>OneHotEncoder(handle_unknown=&#x27;ignore&#x27;, sparse=False)</pre></div></div></div></div></div></div></div></div></div></div></div></div>"
            ]
          },
          "metadata": {},
          "execution_count": 376
        }
      ]
    },
    {
      "cell_type": "code",
      "source": [
        "#transform and test\n",
        "X_train_pro = preprocessor.transform(X_train)\n",
        "X_test_pro = preprocessor.transform(X_test)\n",
        "X_train_pro"
      ],
      "metadata": {
        "colab": {
          "base_uri": "https://localhost:8080/"
        },
        "id": "hRXgACpBgDv5",
        "outputId": "62b5bcac-fceb-4b69-c907-010a8ba1eb47"
      },
      "execution_count": 377,
      "outputs": [
        {
          "output_type": "execute_result",
          "data": {
            "text/plain": [
              "array([[ 0.33462735, -0.26336694, -0.12048573, ...,  0.        ,\n",
              "         0.        ,  0.        ],\n",
              "       [ 1.22438921, -0.09106302,  1.76873669, ...,  0.        ,\n",
              "         0.        ,  0.        ],\n",
              "       [ 1.3133654 ,  0.29801652, -0.02801722, ...,  0.        ,\n",
              "         0.        ,  0.        ],\n",
              "       ...,\n",
              "       [-0.73308689, -0.17695504,  0.23985718, ...,  0.        ,\n",
              "         0.        ,  0.        ],\n",
              "       [-1.17796782, -0.26572897,  2.12562387, ...,  0.        ,\n",
              "         0.        ,  0.        ],\n",
              "       [ 0.06769879, -0.22575527, -0.28666707, ...,  0.        ,\n",
              "         0.        ,  0.        ]])"
            ]
          },
          "metadata": {},
          "execution_count": 377
        }
      ]
    },
    {
      "cell_type": "code",
      "source": [
        "np.isnan(X_train_pro).sum().sum()"
      ],
      "metadata": {
        "colab": {
          "base_uri": "https://localhost:8080/"
        },
        "id": "msgvO5UAgN1d",
        "outputId": "319d7c21-aade-45b4-edc0-18175cddb861"
      },
      "execution_count": 378,
      "outputs": [
        {
          "output_type": "execute_result",
          "data": {
            "text/plain": [
              "0"
            ]
          },
          "metadata": {},
          "execution_count": 378
        }
      ]
    },
    {
      "cell_type": "code",
      "source": [
        "np.isnan(X_test_pro).sum().sum()"
      ],
      "metadata": {
        "colab": {
          "base_uri": "https://localhost:8080/"
        },
        "id": "JHqAI27WgY-l",
        "outputId": "983e9d9c-3097-4d6e-cd02-ec13df966742"
      },
      "execution_count": 379,
      "outputs": [
        {
          "output_type": "execute_result",
          "data": {
            "text/plain": [
              "0"
            ]
          },
          "metadata": {},
          "execution_count": 379
        }
      ]
    },
    {
      "cell_type": "markdown",
      "source": [
        "we are not missing any data in our X_sets so we are ready for modeling"
      ],
      "metadata": {
        "id": "fNEFOVbCgq0m"
      }
    }
  ]
}