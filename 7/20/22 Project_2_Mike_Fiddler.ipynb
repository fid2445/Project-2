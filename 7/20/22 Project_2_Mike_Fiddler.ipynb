{
  "nbformat": 4,
  "nbformat_minor": 0,
  "metadata": {
    "colab": {
      "name": "Project 2 Mike Fiddler.ipynb",
      "provenance": [],
      "mount_file_id": "1ERgdbrOoEU52aPwcd7t4UBFl-Q5vghgu",
      "authorship_tag": "ABX9TyM291PvHi8dEfMKIonXFV/N",
      "include_colab_link": true
    },
    "kernelspec": {
      "name": "python3",
      "display_name": "Python 3"
    },
    "language_info": {
      "name": "python"
    }
  },
  "cells": [
    {
      "cell_type": "markdown",
      "metadata": {
        "id": "view-in-github",
        "colab_type": "text"
      },
      "source": [
        "<a href=\"https://colab.research.google.com/github/fid2445/Project-2/blob/main/7/20/22%20Project_2_Mike_Fiddler.ipynb\" target=\"_parent\"><img src=\"https://colab.research.google.com/assets/colab-badge.svg\" alt=\"Open In Colab\"/></a>"
      ]
    },
    {
      "cell_type": "markdown",
      "source": [
        "##Mike Fiddler 7/14/22\n",
        "### Do People Prefer Shows or Movies (Project 2)"
      ],
      "metadata": {
        "id": "WtF42FKKMfle"
      }
    },
    {
      "cell_type": "code",
      "execution_count": 153,
      "metadata": {
        "id": "y1Y0eG6HS1KC"
      },
      "outputs": [],
      "source": [
        "import pandas as pd\n",
        "import numpy as np\n",
        "import seaborn as sns\n",
        "import matplotlib.pyplot as plt\n",
        "from sklearn.model_selection import train_test_split\n",
        "from sklearn.compose import make_column_selector,make_column_transformer\n",
        "from sklearn.preprocessing import OneHotEncoder, StandardScaler\n",
        "from sklearn.impute import SimpleImputer\n",
        "from sklearn.pipeline import make_pipeline\n",
        "from sklearn import set_config\n",
        "set_config(display='diagram')"
      ]
    },
    {
      "cell_type": "code",
      "source": [
        "df = pd.read_excel('/content/drive/MyDrive/Netflix Project.xlsx')\n",
        "df.head()"
      ],
      "metadata": {
        "colab": {
          "base_uri": "https://localhost:8080/",
          "height": 337
        },
        "id": "BHK-rt0zS6mH",
        "outputId": "8f1d97d6-c470-41e8-dfa1-7401cee986ef"
      },
      "execution_count": 154,
      "outputs": [
        {
          "output_type": "execute_result",
          "data": {
            "text/plain": [
              "         id                                title   type  \\\n",
              "0  ts300399  Five Came Back: The Reference Films   SHOW   \n",
              "1   tm84618                          Taxi Driver  MOVIE   \n",
              "2  tm127384      Monty Python and the Holy Grail  MOVIE   \n",
              "3   tm70993                        Life of Brian  MOVIE   \n",
              "4  tm190788                         The Exorcist  MOVIE   \n",
              "\n",
              "                                         description  release_year  \\\n",
              "0  This collection includes 12 World War II-era p...          1945   \n",
              "1  A mentally unstable Vietnam War veteran works ...          1976   \n",
              "2  King Arthur, accompanied by his squire, recrui...          1975   \n",
              "3  Brian Cohen is an average young Jewish man, bu...          1979   \n",
              "4  12-year-old Regan MacNeil begins to adapt an e...          1973   \n",
              "\n",
              "  age_certification  runtime                 genres production_countries  \\\n",
              "0             TV-MA       48      ['documentation']               ['US']   \n",
              "1                 R      113     ['crime', 'drama']               ['US']   \n",
              "2                PG       91  ['comedy', 'fantasy']               ['GB']   \n",
              "3                 R       94             ['comedy']               ['GB']   \n",
              "4                 R      133             ['horror']               ['US']   \n",
              "\n",
              "   seasons    imdb_id  imdb_score  imdb_votes  tmdb_popularity  tmdb_score  \n",
              "0      1.0        NaN         NaN         NaN            0.600         NaN  \n",
              "1      NaN  tt0075314         8.3    795222.0           27.612         8.2  \n",
              "2      NaN  tt0071853         8.2    530877.0           18.216         7.8  \n",
              "3      NaN  tt0079470         8.0    392419.0           17.505         7.8  \n",
              "4      NaN  tt0070047         8.1    391942.0           95.337         7.7  "
            ],
            "text/html": [
              "\n",
              "  <div id=\"df-f8b20270-572e-4bab-940f-1f3e439c67f7\">\n",
              "    <div class=\"colab-df-container\">\n",
              "      <div>\n",
              "<style scoped>\n",
              "    .dataframe tbody tr th:only-of-type {\n",
              "        vertical-align: middle;\n",
              "    }\n",
              "\n",
              "    .dataframe tbody tr th {\n",
              "        vertical-align: top;\n",
              "    }\n",
              "\n",
              "    .dataframe thead th {\n",
              "        text-align: right;\n",
              "    }\n",
              "</style>\n",
              "<table border=\"1\" class=\"dataframe\">\n",
              "  <thead>\n",
              "    <tr style=\"text-align: right;\">\n",
              "      <th></th>\n",
              "      <th>id</th>\n",
              "      <th>title</th>\n",
              "      <th>type</th>\n",
              "      <th>description</th>\n",
              "      <th>release_year</th>\n",
              "      <th>age_certification</th>\n",
              "      <th>runtime</th>\n",
              "      <th>genres</th>\n",
              "      <th>production_countries</th>\n",
              "      <th>seasons</th>\n",
              "      <th>imdb_id</th>\n",
              "      <th>imdb_score</th>\n",
              "      <th>imdb_votes</th>\n",
              "      <th>tmdb_popularity</th>\n",
              "      <th>tmdb_score</th>\n",
              "    </tr>\n",
              "  </thead>\n",
              "  <tbody>\n",
              "    <tr>\n",
              "      <th>0</th>\n",
              "      <td>ts300399</td>\n",
              "      <td>Five Came Back: The Reference Films</td>\n",
              "      <td>SHOW</td>\n",
              "      <td>This collection includes 12 World War II-era p...</td>\n",
              "      <td>1945</td>\n",
              "      <td>TV-MA</td>\n",
              "      <td>48</td>\n",
              "      <td>['documentation']</td>\n",
              "      <td>['US']</td>\n",
              "      <td>1.0</td>\n",
              "      <td>NaN</td>\n",
              "      <td>NaN</td>\n",
              "      <td>NaN</td>\n",
              "      <td>0.600</td>\n",
              "      <td>NaN</td>\n",
              "    </tr>\n",
              "    <tr>\n",
              "      <th>1</th>\n",
              "      <td>tm84618</td>\n",
              "      <td>Taxi Driver</td>\n",
              "      <td>MOVIE</td>\n",
              "      <td>A mentally unstable Vietnam War veteran works ...</td>\n",
              "      <td>1976</td>\n",
              "      <td>R</td>\n",
              "      <td>113</td>\n",
              "      <td>['crime', 'drama']</td>\n",
              "      <td>['US']</td>\n",
              "      <td>NaN</td>\n",
              "      <td>tt0075314</td>\n",
              "      <td>8.3</td>\n",
              "      <td>795222.0</td>\n",
              "      <td>27.612</td>\n",
              "      <td>8.2</td>\n",
              "    </tr>\n",
              "    <tr>\n",
              "      <th>2</th>\n",
              "      <td>tm127384</td>\n",
              "      <td>Monty Python and the Holy Grail</td>\n",
              "      <td>MOVIE</td>\n",
              "      <td>King Arthur, accompanied by his squire, recrui...</td>\n",
              "      <td>1975</td>\n",
              "      <td>PG</td>\n",
              "      <td>91</td>\n",
              "      <td>['comedy', 'fantasy']</td>\n",
              "      <td>['GB']</td>\n",
              "      <td>NaN</td>\n",
              "      <td>tt0071853</td>\n",
              "      <td>8.2</td>\n",
              "      <td>530877.0</td>\n",
              "      <td>18.216</td>\n",
              "      <td>7.8</td>\n",
              "    </tr>\n",
              "    <tr>\n",
              "      <th>3</th>\n",
              "      <td>tm70993</td>\n",
              "      <td>Life of Brian</td>\n",
              "      <td>MOVIE</td>\n",
              "      <td>Brian Cohen is an average young Jewish man, bu...</td>\n",
              "      <td>1979</td>\n",
              "      <td>R</td>\n",
              "      <td>94</td>\n",
              "      <td>['comedy']</td>\n",
              "      <td>['GB']</td>\n",
              "      <td>NaN</td>\n",
              "      <td>tt0079470</td>\n",
              "      <td>8.0</td>\n",
              "      <td>392419.0</td>\n",
              "      <td>17.505</td>\n",
              "      <td>7.8</td>\n",
              "    </tr>\n",
              "    <tr>\n",
              "      <th>4</th>\n",
              "      <td>tm190788</td>\n",
              "      <td>The Exorcist</td>\n",
              "      <td>MOVIE</td>\n",
              "      <td>12-year-old Regan MacNeil begins to adapt an e...</td>\n",
              "      <td>1973</td>\n",
              "      <td>R</td>\n",
              "      <td>133</td>\n",
              "      <td>['horror']</td>\n",
              "      <td>['US']</td>\n",
              "      <td>NaN</td>\n",
              "      <td>tt0070047</td>\n",
              "      <td>8.1</td>\n",
              "      <td>391942.0</td>\n",
              "      <td>95.337</td>\n",
              "      <td>7.7</td>\n",
              "    </tr>\n",
              "  </tbody>\n",
              "</table>\n",
              "</div>\n",
              "      <button class=\"colab-df-convert\" onclick=\"convertToInteractive('df-f8b20270-572e-4bab-940f-1f3e439c67f7')\"\n",
              "              title=\"Convert this dataframe to an interactive table.\"\n",
              "              style=\"display:none;\">\n",
              "        \n",
              "  <svg xmlns=\"http://www.w3.org/2000/svg\" height=\"24px\"viewBox=\"0 0 24 24\"\n",
              "       width=\"24px\">\n",
              "    <path d=\"M0 0h24v24H0V0z\" fill=\"none\"/>\n",
              "    <path d=\"M18.56 5.44l.94 2.06.94-2.06 2.06-.94-2.06-.94-.94-2.06-.94 2.06-2.06.94zm-11 1L8.5 8.5l.94-2.06 2.06-.94-2.06-.94L8.5 2.5l-.94 2.06-2.06.94zm10 10l.94 2.06.94-2.06 2.06-.94-2.06-.94-.94-2.06-.94 2.06-2.06.94z\"/><path d=\"M17.41 7.96l-1.37-1.37c-.4-.4-.92-.59-1.43-.59-.52 0-1.04.2-1.43.59L10.3 9.45l-7.72 7.72c-.78.78-.78 2.05 0 2.83L4 21.41c.39.39.9.59 1.41.59.51 0 1.02-.2 1.41-.59l7.78-7.78 2.81-2.81c.8-.78.8-2.07 0-2.86zM5.41 20L4 18.59l7.72-7.72 1.47 1.35L5.41 20z\"/>\n",
              "  </svg>\n",
              "      </button>\n",
              "      \n",
              "  <style>\n",
              "    .colab-df-container {\n",
              "      display:flex;\n",
              "      flex-wrap:wrap;\n",
              "      gap: 12px;\n",
              "    }\n",
              "\n",
              "    .colab-df-convert {\n",
              "      background-color: #E8F0FE;\n",
              "      border: none;\n",
              "      border-radius: 50%;\n",
              "      cursor: pointer;\n",
              "      display: none;\n",
              "      fill: #1967D2;\n",
              "      height: 32px;\n",
              "      padding: 0 0 0 0;\n",
              "      width: 32px;\n",
              "    }\n",
              "\n",
              "    .colab-df-convert:hover {\n",
              "      background-color: #E2EBFA;\n",
              "      box-shadow: 0px 1px 2px rgba(60, 64, 67, 0.3), 0px 1px 3px 1px rgba(60, 64, 67, 0.15);\n",
              "      fill: #174EA6;\n",
              "    }\n",
              "\n",
              "    [theme=dark] .colab-df-convert {\n",
              "      background-color: #3B4455;\n",
              "      fill: #D2E3FC;\n",
              "    }\n",
              "\n",
              "    [theme=dark] .colab-df-convert:hover {\n",
              "      background-color: #434B5C;\n",
              "      box-shadow: 0px 1px 3px 1px rgba(0, 0, 0, 0.15);\n",
              "      filter: drop-shadow(0px 1px 2px rgba(0, 0, 0, 0.3));\n",
              "      fill: #FFFFFF;\n",
              "    }\n",
              "  </style>\n",
              "\n",
              "      <script>\n",
              "        const buttonEl =\n",
              "          document.querySelector('#df-f8b20270-572e-4bab-940f-1f3e439c67f7 button.colab-df-convert');\n",
              "        buttonEl.style.display =\n",
              "          google.colab.kernel.accessAllowed ? 'block' : 'none';\n",
              "\n",
              "        async function convertToInteractive(key) {\n",
              "          const element = document.querySelector('#df-f8b20270-572e-4bab-940f-1f3e439c67f7');\n",
              "          const dataTable =\n",
              "            await google.colab.kernel.invokeFunction('convertToInteractive',\n",
              "                                                     [key], {});\n",
              "          if (!dataTable) return;\n",
              "\n",
              "          const docLinkHtml = 'Like what you see? Visit the ' +\n",
              "            '<a target=\"_blank\" href=https://colab.research.google.com/notebooks/data_table.ipynb>data table notebook</a>'\n",
              "            + ' to learn more about interactive tables.';\n",
              "          element.innerHTML = '';\n",
              "          dataTable['output_type'] = 'display_data';\n",
              "          await google.colab.output.renderOutput(dataTable, element);\n",
              "          const docLink = document.createElement('div');\n",
              "          docLink.innerHTML = docLinkHtml;\n",
              "          element.appendChild(docLink);\n",
              "        }\n",
              "      </script>\n",
              "    </div>\n",
              "  </div>\n",
              "  "
            ]
          },
          "metadata": {},
          "execution_count": 154
        }
      ]
    },
    {
      "cell_type": "markdown",
      "source": [
        "Data source https://www.kaggle.com/datasets/victorsoeiro/netflix-tv-shows-and-movies\n",
        "\n",
        "This data set shows us all the different movies and shows available on the app Netflix.  We have imdb ratings, runtime, genre, release year.  \n",
        "I am looking into this data set as i want to see if people are favoring shows instead of movies these days meaning this is a classification problem."
      ],
      "metadata": {
        "id": "27UWtRCwUbNd"
      }
    },
    {
      "cell_type": "code",
      "source": [
        "df.shape"
      ],
      "metadata": {
        "colab": {
          "base_uri": "https://localhost:8080/"
        },
        "id": "-KEucdIyTWNV",
        "outputId": "ca8fb2d2-d36e-4944-eca0-6455b01551b2"
      },
      "execution_count": 155,
      "outputs": [
        {
          "output_type": "execute_result",
          "data": {
            "text/plain": [
              "(5806, 15)"
            ]
          },
          "metadata": {},
          "execution_count": 155
        }
      ]
    },
    {
      "cell_type": "code",
      "source": [
        "df.dtypes.value_counts().cumsum()"
      ],
      "metadata": {
        "colab": {
          "base_uri": "https://localhost:8080/"
        },
        "id": "2J_RVh1kFUPV",
        "outputId": "fa06e7ab-5f52-40ae-bc2b-68e0693ff7a4"
      },
      "execution_count": 156,
      "outputs": [
        {
          "output_type": "execute_result",
          "data": {
            "text/plain": [
              "object      8\n",
              "float64    13\n",
              "int64      15\n",
              "dtype: int64"
            ]
          },
          "metadata": {},
          "execution_count": 156
        }
      ]
    },
    {
      "cell_type": "markdown",
      "source": [
        "Here we can see we have 15 features and 5806 rows."
      ],
      "metadata": {
        "id": "JIyiagn3WD5j"
      }
    },
    {
      "cell_type": "markdown",
      "source": [
        "With almost 6000 rows I suspect there will alot of cleaning needed before any predictions can be made.  Just in the header i can see missing values that will need addressing."
      ],
      "metadata": {
        "id": "-OPzPC-OWLMa"
      }
    },
    {
      "cell_type": "code",
      "source": [
        "df.info()"
      ],
      "metadata": {
        "id": "WK6Lbn9VXvnW",
        "colab": {
          "base_uri": "https://localhost:8080/"
        },
        "outputId": "3fe7d9f9-9125-46d8-a89e-559c53a15cf2"
      },
      "execution_count": 157,
      "outputs": [
        {
          "output_type": "stream",
          "name": "stdout",
          "text": [
            "<class 'pandas.core.frame.DataFrame'>\n",
            "RangeIndex: 5806 entries, 0 to 5805\n",
            "Data columns (total 15 columns):\n",
            " #   Column                Non-Null Count  Dtype  \n",
            "---  ------                --------------  -----  \n",
            " 0   id                    5806 non-null   object \n",
            " 1   title                 5805 non-null   object \n",
            " 2   type                  5806 non-null   object \n",
            " 3   description           5788 non-null   object \n",
            " 4   release_year          5806 non-null   int64  \n",
            " 5   age_certification     3196 non-null   object \n",
            " 6   runtime               5806 non-null   int64  \n",
            " 7   genres                5806 non-null   object \n",
            " 8   production_countries  5806 non-null   object \n",
            " 9   seasons               2047 non-null   float64\n",
            " 10  imdb_id               5362 non-null   object \n",
            " 11  imdb_score            5283 non-null   float64\n",
            " 12  imdb_votes            5267 non-null   float64\n",
            " 13  tmdb_popularity       5712 non-null   float64\n",
            " 14  tmdb_score            5488 non-null   float64\n",
            "dtypes: float64(5), int64(2), object(8)\n",
            "memory usage: 680.5+ KB\n"
          ]
        }
      ]
    },
    {
      "cell_type": "code",
      "source": [
        "df.duplicated().sum()"
      ],
      "metadata": {
        "colab": {
          "base_uri": "https://localhost:8080/"
        },
        "id": "H-ItiQoHNf1P",
        "outputId": "3a08d347-c478-4e8a-93ef-6586cc291194"
      },
      "execution_count": 158,
      "outputs": [
        {
          "output_type": "execute_result",
          "data": {
            "text/plain": [
              "0"
            ]
          },
          "metadata": {},
          "execution_count": 158
        }
      ]
    },
    {
      "cell_type": "code",
      "source": [
        "df.isna().sum()"
      ],
      "metadata": {
        "colab": {
          "base_uri": "https://localhost:8080/"
        },
        "id": "oXcUv_VfNO2A",
        "outputId": "3cc0d64c-2694-4ff6-fddc-53bee9685bcb"
      },
      "execution_count": 159,
      "outputs": [
        {
          "output_type": "execute_result",
          "data": {
            "text/plain": [
              "id                         0\n",
              "title                      1\n",
              "type                       0\n",
              "description               18\n",
              "release_year               0\n",
              "age_certification       2610\n",
              "runtime                    0\n",
              "genres                     0\n",
              "production_countries       0\n",
              "seasons                 3759\n",
              "imdb_id                  444\n",
              "imdb_score               523\n",
              "imdb_votes               539\n",
              "tmdb_popularity           94\n",
              "tmdb_score               318\n",
              "dtype: int64"
            ]
          },
          "metadata": {},
          "execution_count": 159
        }
      ]
    },
    {
      "cell_type": "markdown",
      "source": [
        "alot of missing values need addressing"
      ],
      "metadata": {
        "id": "ct5vvR0VN-Fg"
      }
    },
    {
      "cell_type": "markdown",
      "source": [
        "were going to drop the columns release_year (not allowed to use time series), age_certificaion (the target audience does not effect our goal) and seasons (we dont care how long it ran for)"
      ],
      "metadata": {
        "id": "m0K8IaqoOEEP"
      }
    },
    {
      "cell_type": "code",
      "source": [
        "df.drop(columns='release_year',inplace=True)"
      ],
      "metadata": {
        "id": "rPRvszeBNdOV"
      },
      "execution_count": 160,
      "outputs": []
    },
    {
      "cell_type": "code",
      "source": [
        "df.drop(columns='age_certification',inplace=True)"
      ],
      "metadata": {
        "id": "q9y94BoTOs0l"
      },
      "execution_count": 161,
      "outputs": []
    },
    {
      "cell_type": "code",
      "source": [
        "df.drop(columns='seasons',inplace=True)\n",
        "df.isna().sum()"
      ],
      "metadata": {
        "colab": {
          "base_uri": "https://localhost:8080/"
        },
        "id": "yamPJ6aKPFCL",
        "outputId": "c4407017-b636-4962-94cb-5d06e6ad718d"
      },
      "execution_count": 162,
      "outputs": [
        {
          "output_type": "execute_result",
          "data": {
            "text/plain": [
              "id                        0\n",
              "title                     1\n",
              "type                      0\n",
              "description              18\n",
              "runtime                   0\n",
              "genres                    0\n",
              "production_countries      0\n",
              "imdb_id                 444\n",
              "imdb_score              523\n",
              "imdb_votes              539\n",
              "tmdb_popularity          94\n",
              "tmdb_score              318\n",
              "dtype: int64"
            ]
          },
          "metadata": {},
          "execution_count": 162
        }
      ]
    },
    {
      "cell_type": "markdown",
      "source": [
        "were also going to drop the id, title, description, production_countries, and imdb_id columns. none of these have information that will help us "
      ],
      "metadata": {
        "id": "bSMbRNwuPxAX"
      }
    },
    {
      "cell_type": "code",
      "source": [
        "df.drop(columns='id',inplace=True)\n",
        "df.drop(columns='imdb_id',inplace=True)\n",
        "df.drop(columns='title',inplace=True)\n",
        "df.drop(columns='description',inplace=True)\n",
        "df.drop(columns='production_countries',inplace=True)\n",
        "df.isna().sum()"
      ],
      "metadata": {
        "colab": {
          "base_uri": "https://localhost:8080/"
        },
        "id": "odSJojbGPwmG",
        "outputId": "08cf91c5-a2ce-465d-f5e6-63a6f13ee71c"
      },
      "execution_count": 163,
      "outputs": [
        {
          "output_type": "execute_result",
          "data": {
            "text/plain": [
              "type                 0\n",
              "runtime              0\n",
              "genres               0\n",
              "imdb_score         523\n",
              "imdb_votes         539\n",
              "tmdb_popularity     94\n",
              "tmdb_score         318\n",
              "dtype: int64"
            ]
          },
          "metadata": {},
          "execution_count": 163
        }
      ]
    },
    {
      "cell_type": "code",
      "source": [
        "df_ml = df.copy() # we need a copy before any imputation to prevent data leakage"
      ],
      "metadata": {
        "id": "P1r3EbfleGWJ"
      },
      "execution_count": 164,
      "outputs": []
    },
    {
      "cell_type": "code",
      "source": [
        "df.head()"
      ],
      "metadata": {
        "colab": {
          "base_uri": "https://localhost:8080/",
          "height": 206
        },
        "id": "4AGQ2FLUPe0U",
        "outputId": "35c416ae-46bd-4b16-aa53-a9bd20c10ae3"
      },
      "execution_count": 165,
      "outputs": [
        {
          "output_type": "execute_result",
          "data": {
            "text/plain": [
              "    type  runtime                 genres  imdb_score  imdb_votes  \\\n",
              "0   SHOW       48      ['documentation']         NaN         NaN   \n",
              "1  MOVIE      113     ['crime', 'drama']         8.3    795222.0   \n",
              "2  MOVIE       91  ['comedy', 'fantasy']         8.2    530877.0   \n",
              "3  MOVIE       94             ['comedy']         8.0    392419.0   \n",
              "4  MOVIE      133             ['horror']         8.1    391942.0   \n",
              "\n",
              "   tmdb_popularity  tmdb_score  \n",
              "0            0.600         NaN  \n",
              "1           27.612         8.2  \n",
              "2           18.216         7.8  \n",
              "3           17.505         7.8  \n",
              "4           95.337         7.7  "
            ],
            "text/html": [
              "\n",
              "  <div id=\"df-ed0e779a-7e12-4b9b-bb4e-5eb33f93beb3\">\n",
              "    <div class=\"colab-df-container\">\n",
              "      <div>\n",
              "<style scoped>\n",
              "    .dataframe tbody tr th:only-of-type {\n",
              "        vertical-align: middle;\n",
              "    }\n",
              "\n",
              "    .dataframe tbody tr th {\n",
              "        vertical-align: top;\n",
              "    }\n",
              "\n",
              "    .dataframe thead th {\n",
              "        text-align: right;\n",
              "    }\n",
              "</style>\n",
              "<table border=\"1\" class=\"dataframe\">\n",
              "  <thead>\n",
              "    <tr style=\"text-align: right;\">\n",
              "      <th></th>\n",
              "      <th>type</th>\n",
              "      <th>runtime</th>\n",
              "      <th>genres</th>\n",
              "      <th>imdb_score</th>\n",
              "      <th>imdb_votes</th>\n",
              "      <th>tmdb_popularity</th>\n",
              "      <th>tmdb_score</th>\n",
              "    </tr>\n",
              "  </thead>\n",
              "  <tbody>\n",
              "    <tr>\n",
              "      <th>0</th>\n",
              "      <td>SHOW</td>\n",
              "      <td>48</td>\n",
              "      <td>['documentation']</td>\n",
              "      <td>NaN</td>\n",
              "      <td>NaN</td>\n",
              "      <td>0.600</td>\n",
              "      <td>NaN</td>\n",
              "    </tr>\n",
              "    <tr>\n",
              "      <th>1</th>\n",
              "      <td>MOVIE</td>\n",
              "      <td>113</td>\n",
              "      <td>['crime', 'drama']</td>\n",
              "      <td>8.3</td>\n",
              "      <td>795222.0</td>\n",
              "      <td>27.612</td>\n",
              "      <td>8.2</td>\n",
              "    </tr>\n",
              "    <tr>\n",
              "      <th>2</th>\n",
              "      <td>MOVIE</td>\n",
              "      <td>91</td>\n",
              "      <td>['comedy', 'fantasy']</td>\n",
              "      <td>8.2</td>\n",
              "      <td>530877.0</td>\n",
              "      <td>18.216</td>\n",
              "      <td>7.8</td>\n",
              "    </tr>\n",
              "    <tr>\n",
              "      <th>3</th>\n",
              "      <td>MOVIE</td>\n",
              "      <td>94</td>\n",
              "      <td>['comedy']</td>\n",
              "      <td>8.0</td>\n",
              "      <td>392419.0</td>\n",
              "      <td>17.505</td>\n",
              "      <td>7.8</td>\n",
              "    </tr>\n",
              "    <tr>\n",
              "      <th>4</th>\n",
              "      <td>MOVIE</td>\n",
              "      <td>133</td>\n",
              "      <td>['horror']</td>\n",
              "      <td>8.1</td>\n",
              "      <td>391942.0</td>\n",
              "      <td>95.337</td>\n",
              "      <td>7.7</td>\n",
              "    </tr>\n",
              "  </tbody>\n",
              "</table>\n",
              "</div>\n",
              "      <button class=\"colab-df-convert\" onclick=\"convertToInteractive('df-ed0e779a-7e12-4b9b-bb4e-5eb33f93beb3')\"\n",
              "              title=\"Convert this dataframe to an interactive table.\"\n",
              "              style=\"display:none;\">\n",
              "        \n",
              "  <svg xmlns=\"http://www.w3.org/2000/svg\" height=\"24px\"viewBox=\"0 0 24 24\"\n",
              "       width=\"24px\">\n",
              "    <path d=\"M0 0h24v24H0V0z\" fill=\"none\"/>\n",
              "    <path d=\"M18.56 5.44l.94 2.06.94-2.06 2.06-.94-2.06-.94-.94-2.06-.94 2.06-2.06.94zm-11 1L8.5 8.5l.94-2.06 2.06-.94-2.06-.94L8.5 2.5l-.94 2.06-2.06.94zm10 10l.94 2.06.94-2.06 2.06-.94-2.06-.94-.94-2.06-.94 2.06-2.06.94z\"/><path d=\"M17.41 7.96l-1.37-1.37c-.4-.4-.92-.59-1.43-.59-.52 0-1.04.2-1.43.59L10.3 9.45l-7.72 7.72c-.78.78-.78 2.05 0 2.83L4 21.41c.39.39.9.59 1.41.59.51 0 1.02-.2 1.41-.59l7.78-7.78 2.81-2.81c.8-.78.8-2.07 0-2.86zM5.41 20L4 18.59l7.72-7.72 1.47 1.35L5.41 20z\"/>\n",
              "  </svg>\n",
              "      </button>\n",
              "      \n",
              "  <style>\n",
              "    .colab-df-container {\n",
              "      display:flex;\n",
              "      flex-wrap:wrap;\n",
              "      gap: 12px;\n",
              "    }\n",
              "\n",
              "    .colab-df-convert {\n",
              "      background-color: #E8F0FE;\n",
              "      border: none;\n",
              "      border-radius: 50%;\n",
              "      cursor: pointer;\n",
              "      display: none;\n",
              "      fill: #1967D2;\n",
              "      height: 32px;\n",
              "      padding: 0 0 0 0;\n",
              "      width: 32px;\n",
              "    }\n",
              "\n",
              "    .colab-df-convert:hover {\n",
              "      background-color: #E2EBFA;\n",
              "      box-shadow: 0px 1px 2px rgba(60, 64, 67, 0.3), 0px 1px 3px 1px rgba(60, 64, 67, 0.15);\n",
              "      fill: #174EA6;\n",
              "    }\n",
              "\n",
              "    [theme=dark] .colab-df-convert {\n",
              "      background-color: #3B4455;\n",
              "      fill: #D2E3FC;\n",
              "    }\n",
              "\n",
              "    [theme=dark] .colab-df-convert:hover {\n",
              "      background-color: #434B5C;\n",
              "      box-shadow: 0px 1px 3px 1px rgba(0, 0, 0, 0.15);\n",
              "      filter: drop-shadow(0px 1px 2px rgba(0, 0, 0, 0.3));\n",
              "      fill: #FFFFFF;\n",
              "    }\n",
              "  </style>\n",
              "\n",
              "      <script>\n",
              "        const buttonEl =\n",
              "          document.querySelector('#df-ed0e779a-7e12-4b9b-bb4e-5eb33f93beb3 button.colab-df-convert');\n",
              "        buttonEl.style.display =\n",
              "          google.colab.kernel.accessAllowed ? 'block' : 'none';\n",
              "\n",
              "        async function convertToInteractive(key) {\n",
              "          const element = document.querySelector('#df-ed0e779a-7e12-4b9b-bb4e-5eb33f93beb3');\n",
              "          const dataTable =\n",
              "            await google.colab.kernel.invokeFunction('convertToInteractive',\n",
              "                                                     [key], {});\n",
              "          if (!dataTable) return;\n",
              "\n",
              "          const docLinkHtml = 'Like what you see? Visit the ' +\n",
              "            '<a target=\"_blank\" href=https://colab.research.google.com/notebooks/data_table.ipynb>data table notebook</a>'\n",
              "            + ' to learn more about interactive tables.';\n",
              "          element.innerHTML = '';\n",
              "          dataTable['output_type'] = 'display_data';\n",
              "          await google.colab.output.renderOutput(dataTable, element);\n",
              "          const docLink = document.createElement('div');\n",
              "          docLink.innerHTML = docLinkHtml;\n",
              "          element.appendChild(docLink);\n",
              "        }\n",
              "      </script>\n",
              "    </div>\n",
              "  </div>\n",
              "  "
            ]
          },
          "metadata": {},
          "execution_count": 165
        }
      ]
    },
    {
      "cell_type": "markdown",
      "source": [
        "now im going to make sure our cat and num values are correct"
      ],
      "metadata": {
        "id": "zTdu4-P1Q0Wq"
      }
    },
    {
      "cell_type": "code",
      "source": [
        "df.describe().round(2)"
      ],
      "metadata": {
        "colab": {
          "base_uri": "https://localhost:8080/",
          "height": 300
        },
        "id": "ahazaEDFmyNI",
        "outputId": "114ffd33-1c77-4e83-e3c6-92c12675bb2f"
      },
      "execution_count": 166,
      "outputs": [
        {
          "output_type": "execute_result",
          "data": {
            "text/plain": [
              "       runtime  imdb_score  imdb_votes  tmdb_popularity  tmdb_score\n",
              "count  5806.00     5283.00     5267.00          5712.00     5488.00\n",
              "mean     77.64        6.53    23407.19            22.53        6.82\n",
              "std      39.47        1.16    87134.32            68.85        1.17\n",
              "min       0.00        1.50        5.00             0.01        0.50\n",
              "25%      44.00        5.80      521.00             3.16        6.10\n",
              "50%      84.00        6.60     2279.00             7.48        6.90\n",
              "75%     105.00        7.40    10144.00            17.78        7.50\n",
              "max     251.00        9.60  2268288.00          1823.37       10.00"
            ],
            "text/html": [
              "\n",
              "  <div id=\"df-b556b4a3-71d2-4fc3-abc7-efcb9c07f9b1\">\n",
              "    <div class=\"colab-df-container\">\n",
              "      <div>\n",
              "<style scoped>\n",
              "    .dataframe tbody tr th:only-of-type {\n",
              "        vertical-align: middle;\n",
              "    }\n",
              "\n",
              "    .dataframe tbody tr th {\n",
              "        vertical-align: top;\n",
              "    }\n",
              "\n",
              "    .dataframe thead th {\n",
              "        text-align: right;\n",
              "    }\n",
              "</style>\n",
              "<table border=\"1\" class=\"dataframe\">\n",
              "  <thead>\n",
              "    <tr style=\"text-align: right;\">\n",
              "      <th></th>\n",
              "      <th>runtime</th>\n",
              "      <th>imdb_score</th>\n",
              "      <th>imdb_votes</th>\n",
              "      <th>tmdb_popularity</th>\n",
              "      <th>tmdb_score</th>\n",
              "    </tr>\n",
              "  </thead>\n",
              "  <tbody>\n",
              "    <tr>\n",
              "      <th>count</th>\n",
              "      <td>5806.00</td>\n",
              "      <td>5283.00</td>\n",
              "      <td>5267.00</td>\n",
              "      <td>5712.00</td>\n",
              "      <td>5488.00</td>\n",
              "    </tr>\n",
              "    <tr>\n",
              "      <th>mean</th>\n",
              "      <td>77.64</td>\n",
              "      <td>6.53</td>\n",
              "      <td>23407.19</td>\n",
              "      <td>22.53</td>\n",
              "      <td>6.82</td>\n",
              "    </tr>\n",
              "    <tr>\n",
              "      <th>std</th>\n",
              "      <td>39.47</td>\n",
              "      <td>1.16</td>\n",
              "      <td>87134.32</td>\n",
              "      <td>68.85</td>\n",
              "      <td>1.17</td>\n",
              "    </tr>\n",
              "    <tr>\n",
              "      <th>min</th>\n",
              "      <td>0.00</td>\n",
              "      <td>1.50</td>\n",
              "      <td>5.00</td>\n",
              "      <td>0.01</td>\n",
              "      <td>0.50</td>\n",
              "    </tr>\n",
              "    <tr>\n",
              "      <th>25%</th>\n",
              "      <td>44.00</td>\n",
              "      <td>5.80</td>\n",
              "      <td>521.00</td>\n",
              "      <td>3.16</td>\n",
              "      <td>6.10</td>\n",
              "    </tr>\n",
              "    <tr>\n",
              "      <th>50%</th>\n",
              "      <td>84.00</td>\n",
              "      <td>6.60</td>\n",
              "      <td>2279.00</td>\n",
              "      <td>7.48</td>\n",
              "      <td>6.90</td>\n",
              "    </tr>\n",
              "    <tr>\n",
              "      <th>75%</th>\n",
              "      <td>105.00</td>\n",
              "      <td>7.40</td>\n",
              "      <td>10144.00</td>\n",
              "      <td>17.78</td>\n",
              "      <td>7.50</td>\n",
              "    </tr>\n",
              "    <tr>\n",
              "      <th>max</th>\n",
              "      <td>251.00</td>\n",
              "      <td>9.60</td>\n",
              "      <td>2268288.00</td>\n",
              "      <td>1823.37</td>\n",
              "      <td>10.00</td>\n",
              "    </tr>\n",
              "  </tbody>\n",
              "</table>\n",
              "</div>\n",
              "      <button class=\"colab-df-convert\" onclick=\"convertToInteractive('df-b556b4a3-71d2-4fc3-abc7-efcb9c07f9b1')\"\n",
              "              title=\"Convert this dataframe to an interactive table.\"\n",
              "              style=\"display:none;\">\n",
              "        \n",
              "  <svg xmlns=\"http://www.w3.org/2000/svg\" height=\"24px\"viewBox=\"0 0 24 24\"\n",
              "       width=\"24px\">\n",
              "    <path d=\"M0 0h24v24H0V0z\" fill=\"none\"/>\n",
              "    <path d=\"M18.56 5.44l.94 2.06.94-2.06 2.06-.94-2.06-.94-.94-2.06-.94 2.06-2.06.94zm-11 1L8.5 8.5l.94-2.06 2.06-.94-2.06-.94L8.5 2.5l-.94 2.06-2.06.94zm10 10l.94 2.06.94-2.06 2.06-.94-2.06-.94-.94-2.06-.94 2.06-2.06.94z\"/><path d=\"M17.41 7.96l-1.37-1.37c-.4-.4-.92-.59-1.43-.59-.52 0-1.04.2-1.43.59L10.3 9.45l-7.72 7.72c-.78.78-.78 2.05 0 2.83L4 21.41c.39.39.9.59 1.41.59.51 0 1.02-.2 1.41-.59l7.78-7.78 2.81-2.81c.8-.78.8-2.07 0-2.86zM5.41 20L4 18.59l7.72-7.72 1.47 1.35L5.41 20z\"/>\n",
              "  </svg>\n",
              "      </button>\n",
              "      \n",
              "  <style>\n",
              "    .colab-df-container {\n",
              "      display:flex;\n",
              "      flex-wrap:wrap;\n",
              "      gap: 12px;\n",
              "    }\n",
              "\n",
              "    .colab-df-convert {\n",
              "      background-color: #E8F0FE;\n",
              "      border: none;\n",
              "      border-radius: 50%;\n",
              "      cursor: pointer;\n",
              "      display: none;\n",
              "      fill: #1967D2;\n",
              "      height: 32px;\n",
              "      padding: 0 0 0 0;\n",
              "      width: 32px;\n",
              "    }\n",
              "\n",
              "    .colab-df-convert:hover {\n",
              "      background-color: #E2EBFA;\n",
              "      box-shadow: 0px 1px 2px rgba(60, 64, 67, 0.3), 0px 1px 3px 1px rgba(60, 64, 67, 0.15);\n",
              "      fill: #174EA6;\n",
              "    }\n",
              "\n",
              "    [theme=dark] .colab-df-convert {\n",
              "      background-color: #3B4455;\n",
              "      fill: #D2E3FC;\n",
              "    }\n",
              "\n",
              "    [theme=dark] .colab-df-convert:hover {\n",
              "      background-color: #434B5C;\n",
              "      box-shadow: 0px 1px 3px 1px rgba(0, 0, 0, 0.15);\n",
              "      filter: drop-shadow(0px 1px 2px rgba(0, 0, 0, 0.3));\n",
              "      fill: #FFFFFF;\n",
              "    }\n",
              "  </style>\n",
              "\n",
              "      <script>\n",
              "        const buttonEl =\n",
              "          document.querySelector('#df-b556b4a3-71d2-4fc3-abc7-efcb9c07f9b1 button.colab-df-convert');\n",
              "        buttonEl.style.display =\n",
              "          google.colab.kernel.accessAllowed ? 'block' : 'none';\n",
              "\n",
              "        async function convertToInteractive(key) {\n",
              "          const element = document.querySelector('#df-b556b4a3-71d2-4fc3-abc7-efcb9c07f9b1');\n",
              "          const dataTable =\n",
              "            await google.colab.kernel.invokeFunction('convertToInteractive',\n",
              "                                                     [key], {});\n",
              "          if (!dataTable) return;\n",
              "\n",
              "          const docLinkHtml = 'Like what you see? Visit the ' +\n",
              "            '<a target=\"_blank\" href=https://colab.research.google.com/notebooks/data_table.ipynb>data table notebook</a>'\n",
              "            + ' to learn more about interactive tables.';\n",
              "          element.innerHTML = '';\n",
              "          dataTable['output_type'] = 'display_data';\n",
              "          await google.colab.output.renderOutput(dataTable, element);\n",
              "          const docLink = document.createElement('div');\n",
              "          docLink.innerHTML = docLinkHtml;\n",
              "          element.appendChild(docLink);\n",
              "        }\n",
              "      </script>\n",
              "    </div>\n",
              "  </div>\n",
              "  "
            ]
          },
          "metadata": {},
          "execution_count": 166
        }
      ]
    },
    {
      "cell_type": "code",
      "source": [
        "sns.boxplot(x='imdb_votes', data=df);"
      ],
      "metadata": {
        "colab": {
          "base_uri": "https://localhost:8080/",
          "height": 280
        },
        "id": "Cze-JWXhp9JV",
        "outputId": "63f11c7d-e1b1-4b47-c861-f97e3c1c3d3e"
      },
      "execution_count": 167,
      "outputs": [
        {
          "output_type": "display_data",
          "data": {
            "text/plain": [
              "<Figure size 432x288 with 1 Axes>"
            ],
            "image/png": "[encoded data removed]"
          },
          "metadata": {
            "needs_background": "light"
          }
        }
      ]
    },
    {
      "cell_type": "markdown",
      "source": [
        "so here we can see we have alot of outliers in our IMDB_votes, exclusivly on the high side.  with this amount of outliers i may have to remove this column all together but im going to ask my TAs about it first"
      ],
      "metadata": {
        "id": "2AINDaQ_q95D"
      }
    },
    {
      "cell_type": "code",
      "source": [
        "sns.boxplot(x='tmdb_score', data=df);"
      ],
      "metadata": {
        "colab": {
          "base_uri": "https://localhost:8080/",
          "height": 280
        },
        "id": "5INNuokcp4iR",
        "outputId": "2e23c223-26d3-49b7-95fb-28d33d76ecb9"
      },
      "execution_count": 168,
      "outputs": [
        {
          "output_type": "display_data",
          "data": {
            "text/plain": [
              "<Figure size 432x288 with 1 Axes>"
            ],
            "image/png": "[encoded data removed]"
          },
          "metadata": {
            "needs_background": "light"
          }
        }
      ]
    },
    {
      "cell_type": "code",
      "source": [
        "sns.boxplot(x='imdb_score', data=df);"
      ],
      "metadata": {
        "colab": {
          "base_uri": "https://localhost:8080/",
          "height": 280
        },
        "id": "lHBXBP0qp0gl",
        "outputId": "c58ad7a8-8a5e-42d2-fc0a-ca8352088aaa"
      },
      "execution_count": 169,
      "outputs": [
        {
          "output_type": "display_data",
          "data": {
            "text/plain": [
              "<Figure size 432x288 with 1 Axes>"
            ],
            "image/png": "[encoded data removed]"
          },
          "metadata": {
            "needs_background": "light"
          }
        }
      ]
    },
    {
      "cell_type": "code",
      "source": [
        "sns.boxplot(x='tmdb_popularity', data=df);"
      ],
      "metadata": {
        "colab": {
          "base_uri": "https://localhost:8080/",
          "height": 280
        },
        "id": "_rQcIGNEop5d",
        "outputId": "771cb441-ccfe-43a1-d121-b6c2740d0ab6"
      },
      "execution_count": 170,
      "outputs": [
        {
          "output_type": "display_data",
          "data": {
            "text/plain": [
              "<Figure size 432x288 with 1 Axes>"
            ],
            "image/png": "[encoded data removed]"
          },
          "metadata": {
            "needs_background": "light"
          }
        }
      ]
    },
    {
      "cell_type": "markdown",
      "source": [
        "just as we did with imdb_score, we have a ton of outliers here, once again all on the high side.  also the same as imdb_score i may need to remove this column as the outliers will skew the data "
      ],
      "metadata": {
        "id": "BdJJN9EarQJN"
      }
    },
    {
      "cell_type": "code",
      "source": [
        "sns.boxplot(x='runtime', data=df);"
      ],
      "metadata": {
        "colab": {
          "base_uri": "https://localhost:8080/",
          "height": 279
        },
        "id": "zR4jvydD0UEx",
        "outputId": "51c531d9-c8c6-4174-d07f-876195bb96b8"
      },
      "execution_count": 171,
      "outputs": [
        {
          "output_type": "display_data",
          "data": {
            "text/plain": [
              "<Figure size 432x288 with 1 Axes>"
            ],
            "image/png": "[encoded data removed]"
          },
          "metadata": {
            "needs_background": "light"
          }
        }
      ]
    },
    {
      "cell_type": "markdown",
      "source": [
        "this isnt that bad, we have a few outliers but we can see that most of our programming is in the 45-110 minute time."
      ],
      "metadata": {
        "id": "ELT3MRvP0YGJ"
      }
    },
    {
      "cell_type": "code",
      "source": [
        "df['type'].value_counts()"
      ],
      "metadata": {
        "colab": {
          "base_uri": "https://localhost:8080/"
        },
        "id": "B5tWlYFAQbN3",
        "outputId": "550cc939-4e79-4a8f-d29e-61a74156ecf9"
      },
      "execution_count": 172,
      "outputs": [
        {
          "output_type": "execute_result",
          "data": {
            "text/plain": [
              "MOVIE    3759\n",
              "SHOW     2047\n",
              "Name: type, dtype: int64"
            ]
          },
          "metadata": {},
          "execution_count": 172
        }
      ]
    },
    {
      "cell_type": "code",
      "source": [
        "df['genres'].value_counts()   #is there a way to boil these values down to a max of one or two categories? like comedy or drama but not both?"
      ],
      "metadata": {
        "colab": {
          "base_uri": "https://localhost:8080/"
        },
        "id": "N2RryL4UQ80d",
        "outputId": "cc1ddda1-4b13-4b83-a33c-8e8707c4c22d"
      },
      "execution_count": 173,
      "outputs": [
        {
          "output_type": "execute_result",
          "data": {
            "text/plain": [
              "['comedy']                                            510\n",
              "['drama']                                             350\n",
              "['documentation']                                     320\n",
              "['comedy', 'drama']                                   141\n",
              "['drama', 'comedy']                                   128\n",
              "                                                     ... \n",
              "['drama', 'family', 'comedy', 'music']                  1\n",
              "['drama', 'thriller', 'western']                        1\n",
              "['comedy', 'thriller', 'drama', 'action', 'crime']      1\n",
              "['romance', 'drama', 'history', 'european']             1\n",
              "['family', 'comedy', 'animation']                       1\n",
              "Name: genres, Length: 1626, dtype: int64"
            ]
          },
          "metadata": {},
          "execution_count": 173
        }
      ]
    },
    {
      "cell_type": "code",
      "source": [
        "df['imdb_score'].value_counts()"
      ],
      "metadata": {
        "colab": {
          "base_uri": "https://localhost:8080/"
        },
        "id": "gNkt_FC8RID3",
        "outputId": "8a19eddd-2930-40a4-c0f5-57cf19dfde86"
      },
      "execution_count": 174,
      "outputs": [
        {
          "output_type": "execute_result",
          "data": {
            "text/plain": [
              "6.6    201\n",
              "6.8    199\n",
              "6.5    193\n",
              "6.2    192\n",
              "7.4    190\n",
              "      ... \n",
              "2.0      1\n",
              "1.9      1\n",
              "2.4      1\n",
              "1.6      1\n",
              "1.8      1\n",
              "Name: imdb_score, Length: 81, dtype: int64"
            ]
          },
          "metadata": {},
          "execution_count": 174
        }
      ]
    },
    {
      "cell_type": "code",
      "source": [
        "df['imdb_score'].describe()"
      ],
      "metadata": {
        "colab": {
          "base_uri": "https://localhost:8080/"
        },
        "id": "6Qey6Ot6RjCw",
        "outputId": "14cde102-5d06-412a-91a1-d32a5a0a5b5f"
      },
      "execution_count": 175,
      "outputs": [
        {
          "output_type": "execute_result",
          "data": {
            "text/plain": [
              "count    5283.000000\n",
              "mean        6.533447\n",
              "std         1.160932\n",
              "min         1.500000\n",
              "25%         5.800000\n",
              "50%         6.600000\n",
              "75%         7.400000\n",
              "max         9.600000\n",
              "Name: imdb_score, dtype: float64"
            ]
          },
          "metadata": {},
          "execution_count": 175
        }
      ]
    },
    {
      "cell_type": "markdown",
      "source": [
        "that looks good"
      ],
      "metadata": {
        "id": "1WyYXf4sRrzx"
      }
    },
    {
      "cell_type": "code",
      "source": [
        "df['imdb_votes'].value_counts()"
      ],
      "metadata": {
        "colab": {
          "base_uri": "https://localhost:8080/"
        },
        "id": "8Et15PklRpw3",
        "outputId": "47bdcad2-8146-4d83-98ac-f0f38c69cc1e"
      },
      "execution_count": 176,
      "outputs": [
        {
          "output_type": "execute_result",
          "data": {
            "text/plain": [
              "43.0        11\n",
              "25.0        11\n",
              "30.0         9\n",
              "14.0         9\n",
              "74.0         9\n",
              "            ..\n",
              "103.0        1\n",
              "399.0        1\n",
              "278223.0     1\n",
              "28718.0      1\n",
              "10418.0      1\n",
              "Name: imdb_votes, Length: 3831, dtype: int64"
            ]
          },
          "metadata": {},
          "execution_count": 176
        }
      ]
    },
    {
      "cell_type": "code",
      "source": [
        "df['imdb_votes'].describe()"
      ],
      "metadata": {
        "colab": {
          "base_uri": "https://localhost:8080/"
        },
        "id": "A9yZUgVjRwnH",
        "outputId": "cf815bc8-10fe-4a41-980a-f0e59e1e10e6"
      },
      "execution_count": 177,
      "outputs": [
        {
          "output_type": "execute_result",
          "data": {
            "text/plain": [
              "count    5.267000e+03\n",
              "mean     2.340719e+04\n",
              "std      8.713432e+04\n",
              "min      5.000000e+00\n",
              "25%      5.210000e+02\n",
              "50%      2.279000e+03\n",
              "75%      1.014400e+04\n",
              "max      2.268288e+06\n",
              "Name: imdb_votes, dtype: float64"
            ]
          },
          "metadata": {},
          "execution_count": 177
        }
      ]
    },
    {
      "cell_type": "markdown",
      "source": [
        "we may have to come back and delete this column but for now if a target has more votes that means more people liked it and that is a part of what we are trying to learn"
      ],
      "metadata": {
        "id": "3JVEcAEBR7sQ"
      }
    },
    {
      "cell_type": "code",
      "source": [
        "df['tmdb_popularity'].value_counts()"
      ],
      "metadata": {
        "colab": {
          "base_uri": "https://localhost:8080/"
        },
        "id": "qmLRr-CeR2K4",
        "outputId": "b6abe876-c769-424b-eb04-79b7b8db2d54"
      },
      "execution_count": 178,
      "outputs": [
        {
          "output_type": "execute_result",
          "data": {
            "text/plain": [
              "1.400     66\n",
              "0.600     57\n",
              "1.960      8\n",
              "2.744      7\n",
              "0.840      7\n",
              "          ..\n",
              "70.563     1\n",
              "7.434      1\n",
              "33.558     1\n",
              "60.496     1\n",
              "0.979      1\n",
              "Name: tmdb_popularity, Length: 4943, dtype: int64"
            ]
          },
          "metadata": {},
          "execution_count": 178
        }
      ]
    },
    {
      "cell_type": "code",
      "source": [
        "df['tmdb_popularity'].describe()"
      ],
      "metadata": {
        "colab": {
          "base_uri": "https://localhost:8080/"
        },
        "id": "wHnKXKa9SFYe",
        "outputId": "f5a3c578-0ba2-4fc6-bdd1-13e9996e9cef"
      },
      "execution_count": 179,
      "outputs": [
        {
          "output_type": "execute_result",
          "data": {
            "text/plain": [
              "count    5712.000000\n",
              "mean       22.525660\n",
              "std        68.849177\n",
              "min         0.009442\n",
              "25%         3.155250\n",
              "50%         7.478000\n",
              "75%        17.775750\n",
              "max      1823.374000\n",
              "Name: tmdb_popularity, dtype: float64"
            ]
          },
          "metadata": {},
          "execution_count": 179
        }
      ]
    },
    {
      "cell_type": "code",
      "source": [
        "df['tmdb_score'].value_counts()"
      ],
      "metadata": {
        "colab": {
          "base_uri": "https://localhost:8080/"
        },
        "id": "j5ZVpeSOSV44",
        "outputId": "59d0aba5-13d5-49d3-9376-665181be7cae"
      },
      "execution_count": 180,
      "outputs": [
        {
          "output_type": "execute_result",
          "data": {
            "text/plain": [
              "7.0    285\n",
              "7.3    208\n",
              "6.8    207\n",
              "6.5    204\n",
              "7.4    201\n",
              "      ... \n",
              "2.3      1\n",
              "3.1      1\n",
              "0.5      1\n",
              "3.4      1\n",
              "2.5      1\n",
              "Name: tmdb_score, Length: 78, dtype: int64"
            ]
          },
          "metadata": {},
          "execution_count": 180
        }
      ]
    },
    {
      "cell_type": "code",
      "source": [
        "df['tmdb_score'].describe()"
      ],
      "metadata": {
        "colab": {
          "base_uri": "https://localhost:8080/"
        },
        "id": "VXO2bUo6SMHY",
        "outputId": "16b09d16-c3e8-41a5-85f8-48531b1852a5"
      },
      "execution_count": 181,
      "outputs": [
        {
          "output_type": "execute_result",
          "data": {
            "text/plain": [
              "count    5488.000000\n",
              "mean        6.818039\n",
              "std         1.171560\n",
              "min         0.500000\n",
              "25%         6.100000\n",
              "50%         6.900000\n",
              "75%         7.500000\n",
              "max        10.000000\n",
              "Name: tmdb_score, dtype: float64"
            ]
          },
          "metadata": {},
          "execution_count": 181
        }
      ]
    },
    {
      "cell_type": "code",
      "source": [
        "df.info()"
      ],
      "metadata": {
        "colab": {
          "base_uri": "https://localhost:8080/"
        },
        "id": "9bVvw2NtToCW",
        "outputId": "d11a4cd9-b2e4-41e3-d9fc-35c5a7192161"
      },
      "execution_count": 182,
      "outputs": [
        {
          "output_type": "stream",
          "name": "stdout",
          "text": [
            "<class 'pandas.core.frame.DataFrame'>\n",
            "RangeIndex: 5806 entries, 0 to 5805\n",
            "Data columns (total 7 columns):\n",
            " #   Column           Non-Null Count  Dtype  \n",
            "---  ------           --------------  -----  \n",
            " 0   type             5806 non-null   object \n",
            " 1   runtime          5806 non-null   int64  \n",
            " 2   genres           5806 non-null   object \n",
            " 3   imdb_score       5283 non-null   float64\n",
            " 4   imdb_votes       5267 non-null   float64\n",
            " 5   tmdb_popularity  5712 non-null   float64\n",
            " 6   tmdb_score       5488 non-null   float64\n",
            "dtypes: float64(4), int64(1), object(2)\n",
            "memory usage: 317.6+ KB\n"
          ]
        }
      ]
    },
    {
      "cell_type": "markdown",
      "source": [
        "data types are correct, we have 4 columns missing data.  as i dont want to skew the data too much i am going to use the mean of each column to impute the missing data. "
      ],
      "metadata": {
        "id": "fYc70YH_TrG4"
      }
    },
    {
      "cell_type": "code",
      "source": [
        "df['imdb_score'].hist(bins=50);"
      ],
      "metadata": {
        "colab": {
          "base_uri": "https://localhost:8080/",
          "height": 265
        },
        "id": "HmQSA5wCcnle",
        "outputId": "59301c05-09ab-45e5-bc3e-2b801cfa4ba0"
      },
      "execution_count": 183,
      "outputs": [
        {
          "output_type": "display_data",
          "data": {
            "text/plain": [
              "<Figure size 432x288 with 1 Axes>"
            ],
            "image/png": "[encoded data removed]"
          },
          "metadata": {
            "needs_background": "light"
          }
        }
      ]
    },
    {
      "cell_type": "markdown",
      "source": [
        "before we impute i wanted to get a visual of how our scores are allocated. we see most shows/movies score between a rating of 6 to 8."
      ],
      "metadata": {
        "id": "xC5TmJQ1csEv"
      }
    },
    {
      "cell_type": "code",
      "source": [
        "df['tmdb_score'].hist(bins=50);"
      ],
      "metadata": {
        "colab": {
          "base_uri": "https://localhost:8080/",
          "height": 265
        },
        "id": "e3ogMRFyc-Wn",
        "outputId": "cd62790e-0b5b-4e3e-fa1c-11cb643c3da3"
      },
      "execution_count": 184,
      "outputs": [
        {
          "output_type": "display_data",
          "data": {
            "text/plain": [
              "<Figure size 432x288 with 1 Axes>"
            ],
            "image/png": "[encoded data removed]"
          },
          "metadata": {
            "needs_background": "light"
          }
        }
      ]
    },
    {
      "cell_type": "markdown",
      "source": [
        "the tmbd movie scores follow in a similar pattern."
      ],
      "metadata": {
        "id": "WGBCR8aqdIp1"
      }
    },
    {
      "cell_type": "code",
      "source": [
        "corr = df.corr()\n",
        "sns.heatmap(corr, cmap = 'Blues', annot = True);"
      ],
      "metadata": {
        "colab": {
          "base_uri": "https://localhost:8080/",
          "height": 341
        },
        "id": "lGm-W9EJde2V",
        "outputId": "0ca6bc77-8346-4809-e791-6e616ef4ca84"
      },
      "execution_count": 185,
      "outputs": [
        {
          "output_type": "display_data",
          "data": {
            "text/plain": [
              "<Figure size 432x288 with 2 Axes>"
            ],
            "image/png": "[encoded data removed]"
          },
          "metadata": {
            "needs_background": "light"
          }
        }
      ]
    },
    {
      "cell_type": "markdown",
      "source": [
        "ok so we can see the moderate correlation between imdb and tmdb scores, nothing else correlates"
      ],
      "metadata": {
        "id": "IVwTpkC6dpfw"
      }
    },
    {
      "cell_type": "code",
      "source": [
        "imdb_score_mean = df['imdb_score'].mean()\n",
        "df['imdb_score'].fillna(imdb_score_mean, inplace=True)\n",
        "df['imdb_score'].isna().sum()"
      ],
      "metadata": {
        "colab": {
          "base_uri": "https://localhost:8080/"
        },
        "id": "nj2JJ5nHTop-",
        "outputId": "a636aff9-8c93-4fa3-9fe3-32a00cce8519"
      },
      "execution_count": 186,
      "outputs": [
        {
          "output_type": "execute_result",
          "data": {
            "text/plain": [
              "0"
            ]
          },
          "metadata": {},
          "execution_count": 186
        }
      ]
    },
    {
      "cell_type": "code",
      "source": [
        "imdb_votes_median = df['imdb_votes'].median()\n",
        "df['imdb_votes'].fillna(imdb_votes_median, inplace=True)\n",
        "df['imdb_votes'].isna().sum()"
      ],
      "metadata": {
        "colab": {
          "base_uri": "https://localhost:8080/"
        },
        "id": "e-u31YqcULCK",
        "outputId": "cd39e2fa-b44e-4037-a7e3-8b573ccbdcfb"
      },
      "execution_count": 187,
      "outputs": [
        {
          "output_type": "execute_result",
          "data": {
            "text/plain": [
              "0"
            ]
          },
          "metadata": {},
          "execution_count": 187
        }
      ]
    },
    {
      "cell_type": "code",
      "source": [
        "tmdb_pop_median = df['tmdb_popularity'].median()\n",
        "df['tmdb_popularity'].fillna(tmdb_pop_median, inplace=True)\n",
        "df['tmdb_popularity'].isna().sum()"
      ],
      "metadata": {
        "colab": {
          "base_uri": "https://localhost:8080/"
        },
        "id": "eVD1Rc4hUR3o",
        "outputId": "4b511346-8128-401d-9788-3e2a6528398e"
      },
      "execution_count": 188,
      "outputs": [
        {
          "output_type": "execute_result",
          "data": {
            "text/plain": [
              "0"
            ]
          },
          "metadata": {},
          "execution_count": 188
        }
      ]
    },
    {
      "cell_type": "code",
      "source": [
        "tmdb_score_mean = df['tmdb_score'].mean()\n",
        "df['tmdb_score'].fillna(tmdb_score_mean, inplace=True)\n",
        "df.isna().sum()"
      ],
      "metadata": {
        "colab": {
          "base_uri": "https://localhost:8080/"
        },
        "id": "Q7WXnTLMUajw",
        "outputId": "d7eaf070-2f87-4247-af9b-0df92e493358"
      },
      "execution_count": 189,
      "outputs": [
        {
          "output_type": "execute_result",
          "data": {
            "text/plain": [
              "type               0\n",
              "runtime            0\n",
              "genres             0\n",
              "imdb_score         0\n",
              "imdb_votes         0\n",
              "tmdb_popularity    0\n",
              "tmdb_score         0\n",
              "dtype: int64"
            ]
          },
          "metadata": {},
          "execution_count": 189
        }
      ]
    },
    {
      "cell_type": "markdown",
      "source": [
        "perfect, no missing data"
      ],
      "metadata": {
        "id": "9tupMsk1UjJN"
      }
    },
    {
      "cell_type": "code",
      "source": [
        "corr = df.corr()\n",
        "sns.heatmap(corr, cmap = 'Blues', annot = True);"
      ],
      "metadata": {
        "colab": {
          "base_uri": "https://localhost:8080/",
          "height": 341
        },
        "id": "RT1dAkSlUiF_",
        "outputId": "c9649729-3b14-4a5c-bde3-3cddb8f3a8f6"
      },
      "execution_count": 190,
      "outputs": [
        {
          "output_type": "display_data",
          "data": {
            "text/plain": [
              "<Figure size 432x288 with 2 Axes>"
            ],
            "image/png": "[encoded data removed]"
          },
          "metadata": {
            "needs_background": "light"
          }
        }
      ]
    },
    {
      "cell_type": "markdown",
      "source": [
        "after imputing we notice that our correlation between imdb_score and tmdb_score has gone down by a few percentage points, shouldnt be a big deal. nothing else has changed. "
      ],
      "metadata": {
        "id": "ed-TUealVbxg"
      }
    },
    {
      "cell_type": "markdown",
      "source": [
        "## ML prep"
      ],
      "metadata": {
        "id": "q5XWL0ACeaar"
      }
    },
    {
      "cell_type": "code",
      "source": [
        "df_ml['type'].value_counts(normalize=True)"
      ],
      "metadata": {
        "colab": {
          "base_uri": "https://localhost:8080/"
        },
        "id": "maMnvLtnbDSz",
        "outputId": "3227368e-dc2d-45c7-caa4-d533a9866953"
      },
      "execution_count": 191,
      "outputs": [
        {
          "output_type": "execute_result",
          "data": {
            "text/plain": [
              "MOVIE    0.647434\n",
              "SHOW     0.352566\n",
              "Name: type, dtype: float64"
            ]
          },
          "metadata": {},
          "execution_count": 191
        }
      ]
    },
    {
      "cell_type": "markdown",
      "source": [
        "not a well balanced set, we will have to keep this in mind as we analyize it."
      ],
      "metadata": {
        "id": "5JIldzkUehaF"
      }
    },
    {
      "cell_type": "code",
      "source": [
        "df_ml.info()"
      ],
      "metadata": {
        "colab": {
          "base_uri": "https://localhost:8080/"
        },
        "id": "wHFxeBWPegH5",
        "outputId": "46689a0e-8fb6-4241-e756-a758d90dcf3f"
      },
      "execution_count": 192,
      "outputs": [
        {
          "output_type": "stream",
          "name": "stdout",
          "text": [
            "<class 'pandas.core.frame.DataFrame'>\n",
            "RangeIndex: 5806 entries, 0 to 5805\n",
            "Data columns (total 7 columns):\n",
            " #   Column           Non-Null Count  Dtype  \n",
            "---  ------           --------------  -----  \n",
            " 0   type             5806 non-null   object \n",
            " 1   runtime          5806 non-null   int64  \n",
            " 2   genres           5806 non-null   object \n",
            " 3   imdb_score       5283 non-null   float64\n",
            " 4   imdb_votes       5267 non-null   float64\n",
            " 5   tmdb_popularity  5712 non-null   float64\n",
            " 6   tmdb_score       5488 non-null   float64\n",
            "dtypes: float64(4), int64(1), object(2)\n",
            "memory usage: 317.6+ KB\n"
          ]
        }
      ]
    },
    {
      "cell_type": "markdown",
      "source": [
        "time to split, then setup selectors and pipelines, then we can impute "
      ],
      "metadata": {
        "id": "KennnNaYewGd"
      }
    },
    {
      "cell_type": "code",
      "source": [
        "#Validation split\n",
        "X = df_ml.drop(columns=['type'])\n",
        "y = df_ml['type']\n",
        "X_train, X_test, y_train, y_test = train_test_split(X, y, random_state=42)"
      ],
      "metadata": {
        "id": "y92C6Z2Neoh9"
      },
      "execution_count": 193,
      "outputs": []
    },
    {
      "cell_type": "code",
      "source": [
        "#making our ohe pipeline, selector(s) first\n",
        "num_selector = make_column_selector(dtype_include='number')\n",
        "cat_selector = make_column_selector(dtype_include='object')"
      ],
      "metadata": {
        "id": "RaWO5scue6JV"
      },
      "execution_count": 194,
      "outputs": []
    },
    {
      "cell_type": "markdown",
      "source": [
        "as i did for EDA im going to use the mean of each column to impute our missing values. "
      ],
      "metadata": {
        "id": "7JbVqooufcTF"
      }
    },
    {
      "cell_type": "code",
      "source": [
        "# Imputers\n",
        "median_imputer = SimpleImputer(strategy='median')\n",
        "scaler = StandardScaler()\n",
        "ohe = OneHotEncoder(handle_unknown='ignore', sparse=False)"
      ],
      "metadata": {
        "id": "d5x3PJgNfaWy"
      },
      "execution_count": 195,
      "outputs": []
    },
    {
      "cell_type": "markdown",
      "source": [
        "i had originally wanted to use mean to impute my data but with so many outliers skewed on the high side of both imdb_score and tmdb_popularity im going to use median so i dont skew my data any more"
      ],
      "metadata": {
        "id": "9VPct1yVzovJ"
      }
    },
    {
      "cell_type": "code",
      "source": [
        "numb_pipe = make_pipeline(median_imputer, scaler)\n",
        "numb_pipe"
      ],
      "metadata": {
        "colab": {
          "base_uri": "https://localhost:8080/",
          "height": 126
        },
        "id": "OF0JbkW_fkJP",
        "outputId": "11f0c0b2-80a8-4d10-a16c-28fbefef20e7"
      },
      "execution_count": 196,
      "outputs": [
        {
          "output_type": "execute_result",
          "data": {
            "text/plain": [
              "Pipeline(steps=[('simpleimputer', SimpleImputer(strategy='median')),\n",
              "                ('standardscaler', StandardScaler())])"
            ],
            "text/html": [
              "<style>#sk-567f5e53-1132-47d6-8ed4-07fd3f85b302 {color: black;background-color: white;}#sk-567f5e53-1132-47d6-8ed4-07fd3f85b302 pre{padding: 0;}#sk-567f5e53-1132-47d6-8ed4-07fd3f85b302 div.sk-toggleable {background-color: white;}#sk-567f5e53-1132-47d6-8ed4-07fd3f85b302 label.sk-toggleable__label {cursor: pointer;display: block;width: 100%;margin-bottom: 0;padding: 0.3em;box-sizing: border-box;text-align: center;}#sk-567f5e53-1132-47d6-8ed4-07fd3f85b302 label.sk-toggleable__label-arrow:before {content: \"▸\";float: left;margin-right: 0.25em;color: #696969;}#sk-567f5e53-1132-47d6-8ed4-07fd3f85b302 label.sk-toggleable__label-arrow:hover:before {color: black;}#sk-567f5e53-1132-47d6-8ed4-07fd3f85b302 div.sk-estimator:hover label.sk-toggleable__label-arrow:before {color: black;}#sk-567f5e53-1132-47d6-8ed4-07fd3f85b302 div.sk-toggleable__content {max-height: 0;max-width: 0;overflow: hidden;text-align: left;background-color: #f0f8ff;}#sk-567f5e53-1132-47d6-8ed4-07fd3f85b302 div.sk-toggleable__content pre {margin: 0.2em;color: black;border-radius: 0.25em;background-color: #f0f8ff;}#sk-567f5e53-1132-47d6-8ed4-07fd3f85b302 input.sk-toggleable__control:checked~div.sk-toggleable__content {max-height: 200px;max-width: 100%;overflow: auto;}#sk-567f5e53-1132-47d6-8ed4-07fd3f85b302 input.sk-toggleable__control:checked~label.sk-toggleable__label-arrow:before {content: \"▾\";}#sk-567f5e53-1132-47d6-8ed4-07fd3f85b302 div.sk-estimator input.sk-toggleable__control:checked~label.sk-toggleable__label {background-color: #d4ebff;}#sk-567f5e53-1132-47d6-8ed4-07fd3f85b302 div.sk-label input.sk-toggleable__control:checked~label.sk-toggleable__label {background-color: #d4ebff;}#sk-567f5e53-1132-47d6-8ed4-07fd3f85b302 input.sk-hidden--visually {border: 0;clip: rect(1px 1px 1px 1px);clip: rect(1px, 1px, 1px, 1px);height: 1px;margin: -1px;overflow: hidden;padding: 0;position: absolute;width: 1px;}#sk-567f5e53-1132-47d6-8ed4-07fd3f85b302 div.sk-estimator {font-family: monospace;background-color: #f0f8ff;border: 1px dotted black;border-radius: 0.25em;box-sizing: border-box;margin-bottom: 0.5em;}#sk-567f5e53-1132-47d6-8ed4-07fd3f85b302 div.sk-estimator:hover {background-color: #d4ebff;}#sk-567f5e53-1132-47d6-8ed4-07fd3f85b302 div.sk-parallel-item::after {content: \"\";width: 100%;border-bottom: 1px solid gray;flex-grow: 1;}#sk-567f5e53-1132-47d6-8ed4-07fd3f85b302 div.sk-label:hover label.sk-toggleable__label {background-color: #d4ebff;}#sk-567f5e53-1132-47d6-8ed4-07fd3f85b302 div.sk-serial::before {content: \"\";position: absolute;border-left: 1px solid gray;box-sizing: border-box;top: 2em;bottom: 0;left: 50%;}#sk-567f5e53-1132-47d6-8ed4-07fd3f85b302 div.sk-serial {display: flex;flex-direction: column;align-items: center;background-color: white;padding-right: 0.2em;padding-left: 0.2em;}#sk-567f5e53-1132-47d6-8ed4-07fd3f85b302 div.sk-item {z-index: 1;}#sk-567f5e53-1132-47d6-8ed4-07fd3f85b302 div.sk-parallel {display: flex;align-items: stretch;justify-content: center;background-color: white;}#sk-567f5e53-1132-47d6-8ed4-07fd3f85b302 div.sk-parallel::before {content: \"\";position: absolute;border-left: 1px solid gray;box-sizing: border-box;top: 2em;bottom: 0;left: 50%;}#sk-567f5e53-1132-47d6-8ed4-07fd3f85b302 div.sk-parallel-item {display: flex;flex-direction: column;position: relative;background-color: white;}#sk-567f5e53-1132-47d6-8ed4-07fd3f85b302 div.sk-parallel-item:first-child::after {align-self: flex-end;width: 50%;}#sk-567f5e53-1132-47d6-8ed4-07fd3f85b302 div.sk-parallel-item:last-child::after {align-self: flex-start;width: 50%;}#sk-567f5e53-1132-47d6-8ed4-07fd3f85b302 div.sk-parallel-item:only-child::after {width: 0;}#sk-567f5e53-1132-47d6-8ed4-07fd3f85b302 div.sk-dashed-wrapped {border: 1px dashed gray;margin: 0 0.4em 0.5em 0.4em;box-sizing: border-box;padding-bottom: 0.4em;background-color: white;position: relative;}#sk-567f5e53-1132-47d6-8ed4-07fd3f85b302 div.sk-label label {font-family: monospace;font-weight: bold;background-color: white;display: inline-block;line-height: 1.2em;}#sk-567f5e53-1132-47d6-8ed4-07fd3f85b302 div.sk-label-container {position: relative;z-index: 2;text-align: center;}#sk-567f5e53-1132-47d6-8ed4-07fd3f85b302 div.sk-container {/* jupyter's `normalize.less` sets `[hidden] { display: none; }` but bootstrap.min.css set `[hidden] { display: none !important; }` so we also need the `!important` here to be able to override the default hidden behavior on the sphinx rendered scikit-learn.org. See: https://github.com/scikit-learn/scikit-learn/issues/21755 */display: inline-block !important;position: relative;}#sk-567f5e53-1132-47d6-8ed4-07fd3f85b302 div.sk-text-repr-fallback {display: none;}</style><div id=\"sk-567f5e53-1132-47d6-8ed4-07fd3f85b302\" class=\"sk-top-container\"><div class=\"sk-text-repr-fallback\"><pre>Pipeline(steps=[(&#x27;simpleimputer&#x27;, SimpleImputer(strategy=&#x27;median&#x27;)),\n",
              "                (&#x27;standardscaler&#x27;, StandardScaler())])</pre><b>Please rerun this cell to show the HTML repr or trust the notebook.</b></div><div class=\"sk-container\" hidden><div class=\"sk-item sk-dashed-wrapped\"><div class=\"sk-label-container\"><div class=\"sk-label sk-toggleable\"><input class=\"sk-toggleable__control sk-hidden--visually\" id=\"ee3cb07d-8cad-4106-8628-5f6c1cf4f984\" type=\"checkbox\" ><label for=\"ee3cb07d-8cad-4106-8628-5f6c1cf4f984\" class=\"sk-toggleable__label sk-toggleable__label-arrow\">Pipeline</label><div class=\"sk-toggleable__content\"><pre>Pipeline(steps=[(&#x27;simpleimputer&#x27;, SimpleImputer(strategy=&#x27;median&#x27;)),\n",
              "                (&#x27;standardscaler&#x27;, StandardScaler())])</pre></div></div></div><div class=\"sk-serial\"><div class=\"sk-item\"><div class=\"sk-estimator sk-toggleable\"><input class=\"sk-toggleable__control sk-hidden--visually\" id=\"0d66c214-ed38-43b9-ada3-a4d320aeaa38\" type=\"checkbox\" ><label for=\"0d66c214-ed38-43b9-ada3-a4d320aeaa38\" class=\"sk-toggleable__label sk-toggleable__label-arrow\">SimpleImputer</label><div class=\"sk-toggleable__content\"><pre>SimpleImputer(strategy=&#x27;median&#x27;)</pre></div></div></div><div class=\"sk-item\"><div class=\"sk-estimator sk-toggleable\"><input class=\"sk-toggleable__control sk-hidden--visually\" id=\"247b322d-3975-4c9f-b87b-2b9c94005916\" type=\"checkbox\" ><label for=\"247b322d-3975-4c9f-b87b-2b9c94005916\" class=\"sk-toggleable__label sk-toggleable__label-arrow\">StandardScaler</label><div class=\"sk-toggleable__content\"><pre>StandardScaler()</pre></div></div></div></div></div></div></div>"
            ]
          },
          "metadata": {},
          "execution_count": 196
        }
      ]
    },
    {
      "cell_type": "code",
      "source": [
        "cat_pipe = make_pipeline(ohe)\n",
        "cat_pipe"
      ],
      "metadata": {
        "colab": {
          "base_uri": "https://localhost:8080/",
          "height": 92
        },
        "id": "33UdKVlUhIxk",
        "outputId": "5debeb6d-1ecf-42ce-b397-194680f9ef86"
      },
      "execution_count": 197,
      "outputs": [
        {
          "output_type": "execute_result",
          "data": {
            "text/plain": [
              "Pipeline(steps=[('onehotencoder',\n",
              "                 OneHotEncoder(handle_unknown='ignore', sparse=False))])"
            ],
            "text/html": [
              "<style>#sk-5a9517eb-694e-4dae-afde-6c85ab213217 {color: black;background-color: white;}#sk-5a9517eb-694e-4dae-afde-6c85ab213217 pre{padding: 0;}#sk-5a9517eb-694e-4dae-afde-6c85ab213217 div.sk-toggleable {background-color: white;}#sk-5a9517eb-694e-4dae-afde-6c85ab213217 label.sk-toggleable__label {cursor: pointer;display: block;width: 100%;margin-bottom: 0;padding: 0.3em;box-sizing: border-box;text-align: center;}#sk-5a9517eb-694e-4dae-afde-6c85ab213217 label.sk-toggleable__label-arrow:before {content: \"▸\";float: left;margin-right: 0.25em;color: #696969;}#sk-5a9517eb-694e-4dae-afde-6c85ab213217 label.sk-toggleable__label-arrow:hover:before {color: black;}#sk-5a9517eb-694e-4dae-afde-6c85ab213217 div.sk-estimator:hover label.sk-toggleable__label-arrow:before {color: black;}#sk-5a9517eb-694e-4dae-afde-6c85ab213217 div.sk-toggleable__content {max-height: 0;max-width: 0;overflow: hidden;text-align: left;background-color: #f0f8ff;}#sk-5a9517eb-694e-4dae-afde-6c85ab213217 div.sk-toggleable__content pre {margin: 0.2em;color: black;border-radius: 0.25em;background-color: #f0f8ff;}#sk-5a9517eb-694e-4dae-afde-6c85ab213217 input.sk-toggleable__control:checked~div.sk-toggleable__content {max-height: 200px;max-width: 100%;overflow: auto;}#sk-5a9517eb-694e-4dae-afde-6c85ab213217 input.sk-toggleable__control:checked~label.sk-toggleable__label-arrow:before {content: \"▾\";}#sk-5a9517eb-694e-4dae-afde-6c85ab213217 div.sk-estimator input.sk-toggleable__control:checked~label.sk-toggleable__label {background-color: #d4ebff;}#sk-5a9517eb-694e-4dae-afde-6c85ab213217 div.sk-label input.sk-toggleable__control:checked~label.sk-toggleable__label {background-color: #d4ebff;}#sk-5a9517eb-694e-4dae-afde-6c85ab213217 input.sk-hidden--visually {border: 0;clip: rect(1px 1px 1px 1px);clip: rect(1px, 1px, 1px, 1px);height: 1px;margin: -1px;overflow: hidden;padding: 0;position: absolute;width: 1px;}#sk-5a9517eb-694e-4dae-afde-6c85ab213217 div.sk-estimator {font-family: monospace;background-color: #f0f8ff;border: 1px dotted black;border-radius: 0.25em;box-sizing: border-box;margin-bottom: 0.5em;}#sk-5a9517eb-694e-4dae-afde-6c85ab213217 div.sk-estimator:hover {background-color: #d4ebff;}#sk-5a9517eb-694e-4dae-afde-6c85ab213217 div.sk-parallel-item::after {content: \"\";width: 100%;border-bottom: 1px solid gray;flex-grow: 1;}#sk-5a9517eb-694e-4dae-afde-6c85ab213217 div.sk-label:hover label.sk-toggleable__label {background-color: #d4ebff;}#sk-5a9517eb-694e-4dae-afde-6c85ab213217 div.sk-serial::before {content: \"\";position: absolute;border-left: 1px solid gray;box-sizing: border-box;top: 2em;bottom: 0;left: 50%;}#sk-5a9517eb-694e-4dae-afde-6c85ab213217 div.sk-serial {display: flex;flex-direction: column;align-items: center;background-color: white;padding-right: 0.2em;padding-left: 0.2em;}#sk-5a9517eb-694e-4dae-afde-6c85ab213217 div.sk-item {z-index: 1;}#sk-5a9517eb-694e-4dae-afde-6c85ab213217 div.sk-parallel {display: flex;align-items: stretch;justify-content: center;background-color: white;}#sk-5a9517eb-694e-4dae-afde-6c85ab213217 div.sk-parallel::before {content: \"\";position: absolute;border-left: 1px solid gray;box-sizing: border-box;top: 2em;bottom: 0;left: 50%;}#sk-5a9517eb-694e-4dae-afde-6c85ab213217 div.sk-parallel-item {display: flex;flex-direction: column;position: relative;background-color: white;}#sk-5a9517eb-694e-4dae-afde-6c85ab213217 div.sk-parallel-item:first-child::after {align-self: flex-end;width: 50%;}#sk-5a9517eb-694e-4dae-afde-6c85ab213217 div.sk-parallel-item:last-child::after {align-self: flex-start;width: 50%;}#sk-5a9517eb-694e-4dae-afde-6c85ab213217 div.sk-parallel-item:only-child::after {width: 0;}#sk-5a9517eb-694e-4dae-afde-6c85ab213217 div.sk-dashed-wrapped {border: 1px dashed gray;margin: 0 0.4em 0.5em 0.4em;box-sizing: border-box;padding-bottom: 0.4em;background-color: white;position: relative;}#sk-5a9517eb-694e-4dae-afde-6c85ab213217 div.sk-label label {font-family: monospace;font-weight: bold;background-color: white;display: inline-block;line-height: 1.2em;}#sk-5a9517eb-694e-4dae-afde-6c85ab213217 div.sk-label-container {position: relative;z-index: 2;text-align: center;}#sk-5a9517eb-694e-4dae-afde-6c85ab213217 div.sk-container {/* jupyter's `normalize.less` sets `[hidden] { display: none; }` but bootstrap.min.css set `[hidden] { display: none !important; }` so we also need the `!important` here to be able to override the default hidden behavior on the sphinx rendered scikit-learn.org. See: https://github.com/scikit-learn/scikit-learn/issues/21755 */display: inline-block !important;position: relative;}#sk-5a9517eb-694e-4dae-afde-6c85ab213217 div.sk-text-repr-fallback {display: none;}</style><div id=\"sk-5a9517eb-694e-4dae-afde-6c85ab213217\" class=\"sk-top-container\"><div class=\"sk-text-repr-fallback\"><pre>Pipeline(steps=[(&#x27;onehotencoder&#x27;,\n",
              "                 OneHotEncoder(handle_unknown=&#x27;ignore&#x27;, sparse=False))])</pre><b>Please rerun this cell to show the HTML repr or trust the notebook.</b></div><div class=\"sk-container\" hidden><div class=\"sk-item sk-dashed-wrapped\"><div class=\"sk-label-container\"><div class=\"sk-label sk-toggleable\"><input class=\"sk-toggleable__control sk-hidden--visually\" id=\"5c750678-52b9-4eab-a416-3868b5289f9e\" type=\"checkbox\" ><label for=\"5c750678-52b9-4eab-a416-3868b5289f9e\" class=\"sk-toggleable__label sk-toggleable__label-arrow\">Pipeline</label><div class=\"sk-toggleable__content\"><pre>Pipeline(steps=[(&#x27;onehotencoder&#x27;,\n",
              "                 OneHotEncoder(handle_unknown=&#x27;ignore&#x27;, sparse=False))])</pre></div></div></div><div class=\"sk-serial\"><div class=\"sk-item\"><div class=\"sk-estimator sk-toggleable\"><input class=\"sk-toggleable__control sk-hidden--visually\" id=\"2c0a4e76-48ae-44bd-9d13-9ebfe4d2bc11\" type=\"checkbox\" ><label for=\"2c0a4e76-48ae-44bd-9d13-9ebfe4d2bc11\" class=\"sk-toggleable__label sk-toggleable__label-arrow\">OneHotEncoder</label><div class=\"sk-toggleable__content\"><pre>OneHotEncoder(handle_unknown=&#x27;ignore&#x27;, sparse=False)</pre></div></div></div></div></div></div></div>"
            ]
          },
          "metadata": {},
          "execution_count": 197
        }
      ]
    },
    {
      "cell_type": "markdown",
      "source": [
        "no missing cat data so we wont need to impute anything. im not sure if its a good practice to leave that part out completly to save space in the code or if we should put it in anyway. "
      ],
      "metadata": {
        "id": "LcQsy-GihOLE"
      }
    },
    {
      "cell_type": "code",
      "source": [
        "numb_tup = (numb_pipe, num_selector)\n",
        "cat_tup = (cat_pipe, cat_selector)\n",
        "preprocessor = make_column_transformer(numb_tup, cat_tup)\n",
        "preprocessor"
      ],
      "metadata": {
        "colab": {
          "base_uri": "https://localhost:8080/",
          "height": 152
        },
        "id": "qeGtIHXRfkcV",
        "outputId": "a2300be5-e714-401a-a002-bd31398f7e7c"
      },
      "execution_count": 198,
      "outputs": [
        {
          "output_type": "execute_result",
          "data": {
            "text/plain": [
              "ColumnTransformer(transformers=[('pipeline-1',\n",
              "                                 Pipeline(steps=[('simpleimputer',\n",
              "                                                  SimpleImputer(strategy='median')),\n",
              "                                                 ('standardscaler',\n",
              "                                                  StandardScaler())]),\n",
              "                                 <sklearn.compose._column_transformer.make_column_selector object at 0x7fa287a8efd0>),\n",
              "                                ('pipeline-2',\n",
              "                                 Pipeline(steps=[('onehotencoder',\n",
              "                                                  OneHotEncoder(handle_unknown='ignore',\n",
              "                                                                sparse=False))]),\n",
              "                                 <sklearn.compose._column_transformer.make_column_selector object at 0x7fa287a8e650>)])"
            ],
            "text/html": [
              "<style>#sk-7fd036d7-9061-47ae-82db-57e46f8c0d88 {color: black;background-color: white;}#sk-7fd036d7-9061-47ae-82db-57e46f8c0d88 pre{padding: 0;}#sk-7fd036d7-9061-47ae-82db-57e46f8c0d88 div.sk-toggleable {background-color: white;}#sk-7fd036d7-9061-47ae-82db-57e46f8c0d88 label.sk-toggleable__label {cursor: pointer;display: block;width: 100%;margin-bottom: 0;padding: 0.3em;box-sizing: border-box;text-align: center;}#sk-7fd036d7-9061-47ae-82db-57e46f8c0d88 label.sk-toggleable__label-arrow:before {content: \"▸\";float: left;margin-right: 0.25em;color: #696969;}#sk-7fd036d7-9061-47ae-82db-57e46f8c0d88 label.sk-toggleable__label-arrow:hover:before {color: black;}#sk-7fd036d7-9061-47ae-82db-57e46f8c0d88 div.sk-estimator:hover label.sk-toggleable__label-arrow:before {color: black;}#sk-7fd036d7-9061-47ae-82db-57e46f8c0d88 div.sk-toggleable__content {max-height: 0;max-width: 0;overflow: hidden;text-align: left;background-color: #f0f8ff;}#sk-7fd036d7-9061-47ae-82db-57e46f8c0d88 div.sk-toggleable__content pre {margin: 0.2em;color: black;border-radius: 0.25em;background-color: #f0f8ff;}#sk-7fd036d7-9061-47ae-82db-57e46f8c0d88 input.sk-toggleable__control:checked~div.sk-toggleable__content {max-height: 200px;max-width: 100%;overflow: auto;}#sk-7fd036d7-9061-47ae-82db-57e46f8c0d88 input.sk-toggleable__control:checked~label.sk-toggleable__label-arrow:before {content: \"▾\";}#sk-7fd036d7-9061-47ae-82db-57e46f8c0d88 div.sk-estimator input.sk-toggleable__control:checked~label.sk-toggleable__label {background-color: #d4ebff;}#sk-7fd036d7-9061-47ae-82db-57e46f8c0d88 div.sk-label input.sk-toggleable__control:checked~label.sk-toggleable__label {background-color: #d4ebff;}#sk-7fd036d7-9061-47ae-82db-57e46f8c0d88 input.sk-hidden--visually {border: 0;clip: rect(1px 1px 1px 1px);clip: rect(1px, 1px, 1px, 1px);height: 1px;margin: -1px;overflow: hidden;padding: 0;position: absolute;width: 1px;}#sk-7fd036d7-9061-47ae-82db-57e46f8c0d88 div.sk-estimator {font-family: monospace;background-color: #f0f8ff;border: 1px dotted black;border-radius: 0.25em;box-sizing: border-box;margin-bottom: 0.5em;}#sk-7fd036d7-9061-47ae-82db-57e46f8c0d88 div.sk-estimator:hover {background-color: #d4ebff;}#sk-7fd036d7-9061-47ae-82db-57e46f8c0d88 div.sk-parallel-item::after {content: \"\";width: 100%;border-bottom: 1px solid gray;flex-grow: 1;}#sk-7fd036d7-9061-47ae-82db-57e46f8c0d88 div.sk-label:hover label.sk-toggleable__label {background-color: #d4ebff;}#sk-7fd036d7-9061-47ae-82db-57e46f8c0d88 div.sk-serial::before {content: \"\";position: absolute;border-left: 1px solid gray;box-sizing: border-box;top: 2em;bottom: 0;left: 50%;}#sk-7fd036d7-9061-47ae-82db-57e46f8c0d88 div.sk-serial {display: flex;flex-direction: column;align-items: center;background-color: white;padding-right: 0.2em;padding-left: 0.2em;}#sk-7fd036d7-9061-47ae-82db-57e46f8c0d88 div.sk-item {z-index: 1;}#sk-7fd036d7-9061-47ae-82db-57e46f8c0d88 div.sk-parallel {display: flex;align-items: stretch;justify-content: center;background-color: white;}#sk-7fd036d7-9061-47ae-82db-57e46f8c0d88 div.sk-parallel::before {content: \"\";position: absolute;border-left: 1px solid gray;box-sizing: border-box;top: 2em;bottom: 0;left: 50%;}#sk-7fd036d7-9061-47ae-82db-57e46f8c0d88 div.sk-parallel-item {display: flex;flex-direction: column;position: relative;background-color: white;}#sk-7fd036d7-9061-47ae-82db-57e46f8c0d88 div.sk-parallel-item:first-child::after {align-self: flex-end;width: 50%;}#sk-7fd036d7-9061-47ae-82db-57e46f8c0d88 div.sk-parallel-item:last-child::after {align-self: flex-start;width: 50%;}#sk-7fd036d7-9061-47ae-82db-57e46f8c0d88 div.sk-parallel-item:only-child::after {width: 0;}#sk-7fd036d7-9061-47ae-82db-57e46f8c0d88 div.sk-dashed-wrapped {border: 1px dashed gray;margin: 0 0.4em 0.5em 0.4em;box-sizing: border-box;padding-bottom: 0.4em;background-color: white;position: relative;}#sk-7fd036d7-9061-47ae-82db-57e46f8c0d88 div.sk-label label {font-family: monospace;font-weight: bold;background-color: white;display: inline-block;line-height: 1.2em;}#sk-7fd036d7-9061-47ae-82db-57e46f8c0d88 div.sk-label-container {position: relative;z-index: 2;text-align: center;}#sk-7fd036d7-9061-47ae-82db-57e46f8c0d88 div.sk-container {/* jupyter's `normalize.less` sets `[hidden] { display: none; }` but bootstrap.min.css set `[hidden] { display: none !important; }` so we also need the `!important` here to be able to override the default hidden behavior on the sphinx rendered scikit-learn.org. See: https://github.com/scikit-learn/scikit-learn/issues/21755 */display: inline-block !important;position: relative;}#sk-7fd036d7-9061-47ae-82db-57e46f8c0d88 div.sk-text-repr-fallback {display: none;}</style><div id=\"sk-7fd036d7-9061-47ae-82db-57e46f8c0d88\" class=\"sk-top-container\"><div class=\"sk-text-repr-fallback\"><pre>ColumnTransformer(transformers=[(&#x27;pipeline-1&#x27;,\n",
              "                                 Pipeline(steps=[(&#x27;simpleimputer&#x27;,\n",
              "                                                  SimpleImputer(strategy=&#x27;median&#x27;)),\n",
              "                                                 (&#x27;standardscaler&#x27;,\n",
              "                                                  StandardScaler())]),\n",
              "                                 &lt;sklearn.compose._column_transformer.make_column_selector object at 0x7fa287a8efd0&gt;),\n",
              "                                (&#x27;pipeline-2&#x27;,\n",
              "                                 Pipeline(steps=[(&#x27;onehotencoder&#x27;,\n",
              "                                                  OneHotEncoder(handle_unknown=&#x27;ignore&#x27;,\n",
              "                                                                sparse=False))]),\n",
              "                                 &lt;sklearn.compose._column_transformer.make_column_selector object at 0x7fa287a8e650&gt;)])</pre><b>Please rerun this cell to show the HTML repr or trust the notebook.</b></div><div class=\"sk-container\" hidden><div class=\"sk-item sk-dashed-wrapped\"><div class=\"sk-label-container\"><div class=\"sk-label sk-toggleable\"><input class=\"sk-toggleable__control sk-hidden--visually\" id=\"9b33ce11-c7a5-4aaf-813c-08ae07d11931\" type=\"checkbox\" ><label for=\"9b33ce11-c7a5-4aaf-813c-08ae07d11931\" class=\"sk-toggleable__label sk-toggleable__label-arrow\">ColumnTransformer</label><div class=\"sk-toggleable__content\"><pre>ColumnTransformer(transformers=[(&#x27;pipeline-1&#x27;,\n",
              "                                 Pipeline(steps=[(&#x27;simpleimputer&#x27;,\n",
              "                                                  SimpleImputer(strategy=&#x27;median&#x27;)),\n",
              "                                                 (&#x27;standardscaler&#x27;,\n",
              "                                                  StandardScaler())]),\n",
              "                                 &lt;sklearn.compose._column_transformer.make_column_selector object at 0x7fa287a8efd0&gt;),\n",
              "                                (&#x27;pipeline-2&#x27;,\n",
              "                                 Pipeline(steps=[(&#x27;onehotencoder&#x27;,\n",
              "                                                  OneHotEncoder(handle_unknown=&#x27;ignore&#x27;,\n",
              "                                                                sparse=False))]),\n",
              "                                 &lt;sklearn.compose._column_transformer.make_column_selector object at 0x7fa287a8e650&gt;)])</pre></div></div></div><div class=\"sk-parallel\"><div class=\"sk-parallel-item\"><div class=\"sk-item\"><div class=\"sk-label-container\"><div class=\"sk-label sk-toggleable\"><input class=\"sk-toggleable__control sk-hidden--visually\" id=\"39c3f996-cc53-4999-b50a-b41bc2e9519b\" type=\"checkbox\" ><label for=\"39c3f996-cc53-4999-b50a-b41bc2e9519b\" class=\"sk-toggleable__label sk-toggleable__label-arrow\">pipeline-1</label><div class=\"sk-toggleable__content\"><pre>&lt;sklearn.compose._column_transformer.make_column_selector object at 0x7fa287a8efd0&gt;</pre></div></div></div><div class=\"sk-serial\"><div class=\"sk-item\"><div class=\"sk-serial\"><div class=\"sk-item\"><div class=\"sk-estimator sk-toggleable\"><input class=\"sk-toggleable__control sk-hidden--visually\" id=\"3d731a27-767e-4f25-8f4e-5f27e15a1334\" type=\"checkbox\" ><label for=\"3d731a27-767e-4f25-8f4e-5f27e15a1334\" class=\"sk-toggleable__label sk-toggleable__label-arrow\">SimpleImputer</label><div class=\"sk-toggleable__content\"><pre>SimpleImputer(strategy=&#x27;median&#x27;)</pre></div></div></div><div class=\"sk-item\"><div class=\"sk-estimator sk-toggleable\"><input class=\"sk-toggleable__control sk-hidden--visually\" id=\"e7548b14-2856-4ff3-9dee-21d36d42fc09\" type=\"checkbox\" ><label for=\"e7548b14-2856-4ff3-9dee-21d36d42fc09\" class=\"sk-toggleable__label sk-toggleable__label-arrow\">StandardScaler</label><div class=\"sk-toggleable__content\"><pre>StandardScaler()</pre></div></div></div></div></div></div></div></div><div class=\"sk-parallel-item\"><div class=\"sk-item\"><div class=\"sk-label-container\"><div class=\"sk-label sk-toggleable\"><input class=\"sk-toggleable__control sk-hidden--visually\" id=\"12042575-718f-46b3-bd6b-6eb06aba34b8\" type=\"checkbox\" ><label for=\"12042575-718f-46b3-bd6b-6eb06aba34b8\" class=\"sk-toggleable__label sk-toggleable__label-arrow\">pipeline-2</label><div class=\"sk-toggleable__content\"><pre>&lt;sklearn.compose._column_transformer.make_column_selector object at 0x7fa287a8e650&gt;</pre></div></div></div><div class=\"sk-serial\"><div class=\"sk-item\"><div class=\"sk-serial\"><div class=\"sk-item\"><div class=\"sk-estimator sk-toggleable\"><input class=\"sk-toggleable__control sk-hidden--visually\" id=\"3d638191-1f7b-48aa-a9b5-efb79218b1cd\" type=\"checkbox\" ><label for=\"3d638191-1f7b-48aa-a9b5-efb79218b1cd\" class=\"sk-toggleable__label sk-toggleable__label-arrow\">OneHotEncoder</label><div class=\"sk-toggleable__content\"><pre>OneHotEncoder(handle_unknown=&#x27;ignore&#x27;, sparse=False)</pre></div></div></div></div></div></div></div></div></div></div></div></div>"
            ]
          },
          "metadata": {},
          "execution_count": 198
        }
      ]
    },
    {
      "cell_type": "code",
      "source": [
        "#fit on the train\n",
        "preprocessor.fit(X_train)"
      ],
      "metadata": {
        "colab": {
          "base_uri": "https://localhost:8080/",
          "height": 152
        },
        "id": "qR1NIdpCgP6J",
        "outputId": "1246e74e-d895-49bf-8923-8b9f346c8236"
      },
      "execution_count": 199,
      "outputs": [
        {
          "output_type": "execute_result",
          "data": {
            "text/plain": [
              "ColumnTransformer(transformers=[('pipeline-1',\n",
              "                                 Pipeline(steps=[('simpleimputer',\n",
              "                                                  SimpleImputer(strategy='median')),\n",
              "                                                 ('standardscaler',\n",
              "                                                  StandardScaler())]),\n",
              "                                 <sklearn.compose._column_transformer.make_column_selector object at 0x7fa287a8efd0>),\n",
              "                                ('pipeline-2',\n",
              "                                 Pipeline(steps=[('onehotencoder',\n",
              "                                                  OneHotEncoder(handle_unknown='ignore',\n",
              "                                                                sparse=False))]),\n",
              "                                 <sklearn.compose._column_transformer.make_column_selector object at 0x7fa287a8e650>)])"
            ],
            "text/html": [
              "<style>#sk-10cd5fa6-044b-4c26-8432-c53f6bbd7c25 {color: black;background-color: white;}#sk-10cd5fa6-044b-4c26-8432-c53f6bbd7c25 pre{padding: 0;}#sk-10cd5fa6-044b-4c26-8432-c53f6bbd7c25 div.sk-toggleable {background-color: white;}#sk-10cd5fa6-044b-4c26-8432-c53f6bbd7c25 label.sk-toggleable__label {cursor: pointer;display: block;width: 100%;margin-bottom: 0;padding: 0.3em;box-sizing: border-box;text-align: center;}#sk-10cd5fa6-044b-4c26-8432-c53f6bbd7c25 label.sk-toggleable__label-arrow:before {content: \"▸\";float: left;margin-right: 0.25em;color: #696969;}#sk-10cd5fa6-044b-4c26-8432-c53f6bbd7c25 label.sk-toggleable__label-arrow:hover:before {color: black;}#sk-10cd5fa6-044b-4c26-8432-c53f6bbd7c25 div.sk-estimator:hover label.sk-toggleable__label-arrow:before {color: black;}#sk-10cd5fa6-044b-4c26-8432-c53f6bbd7c25 div.sk-toggleable__content {max-height: 0;max-width: 0;overflow: hidden;text-align: left;background-color: #f0f8ff;}#sk-10cd5fa6-044b-4c26-8432-c53f6bbd7c25 div.sk-toggleable__content pre {margin: 0.2em;color: black;border-radius: 0.25em;background-color: #f0f8ff;}#sk-10cd5fa6-044b-4c26-8432-c53f6bbd7c25 input.sk-toggleable__control:checked~div.sk-toggleable__content {max-height: 200px;max-width: 100%;overflow: auto;}#sk-10cd5fa6-044b-4c26-8432-c53f6bbd7c25 input.sk-toggleable__control:checked~label.sk-toggleable__label-arrow:before {content: \"▾\";}#sk-10cd5fa6-044b-4c26-8432-c53f6bbd7c25 div.sk-estimator input.sk-toggleable__control:checked~label.sk-toggleable__label {background-color: #d4ebff;}#sk-10cd5fa6-044b-4c26-8432-c53f6bbd7c25 div.sk-label input.sk-toggleable__control:checked~label.sk-toggleable__label {background-color: #d4ebff;}#sk-10cd5fa6-044b-4c26-8432-c53f6bbd7c25 input.sk-hidden--visually {border: 0;clip: rect(1px 1px 1px 1px);clip: rect(1px, 1px, 1px, 1px);height: 1px;margin: -1px;overflow: hidden;padding: 0;position: absolute;width: 1px;}#sk-10cd5fa6-044b-4c26-8432-c53f6bbd7c25 div.sk-estimator {font-family: monospace;background-color: #f0f8ff;border: 1px dotted black;border-radius: 0.25em;box-sizing: border-box;margin-bottom: 0.5em;}#sk-10cd5fa6-044b-4c26-8432-c53f6bbd7c25 div.sk-estimator:hover {background-color: #d4ebff;}#sk-10cd5fa6-044b-4c26-8432-c53f6bbd7c25 div.sk-parallel-item::after {content: \"\";width: 100%;border-bottom: 1px solid gray;flex-grow: 1;}#sk-10cd5fa6-044b-4c26-8432-c53f6bbd7c25 div.sk-label:hover label.sk-toggleable__label {background-color: #d4ebff;}#sk-10cd5fa6-044b-4c26-8432-c53f6bbd7c25 div.sk-serial::before {content: \"\";position: absolute;border-left: 1px solid gray;box-sizing: border-box;top: 2em;bottom: 0;left: 50%;}#sk-10cd5fa6-044b-4c26-8432-c53f6bbd7c25 div.sk-serial {display: flex;flex-direction: column;align-items: center;background-color: white;padding-right: 0.2em;padding-left: 0.2em;}#sk-10cd5fa6-044b-4c26-8432-c53f6bbd7c25 div.sk-item {z-index: 1;}#sk-10cd5fa6-044b-4c26-8432-c53f6bbd7c25 div.sk-parallel {display: flex;align-items: stretch;justify-content: center;background-color: white;}#sk-10cd5fa6-044b-4c26-8432-c53f6bbd7c25 div.sk-parallel::before {content: \"\";position: absolute;border-left: 1px solid gray;box-sizing: border-box;top: 2em;bottom: 0;left: 50%;}#sk-10cd5fa6-044b-4c26-8432-c53f6bbd7c25 div.sk-parallel-item {display: flex;flex-direction: column;position: relative;background-color: white;}#sk-10cd5fa6-044b-4c26-8432-c53f6bbd7c25 div.sk-parallel-item:first-child::after {align-self: flex-end;width: 50%;}#sk-10cd5fa6-044b-4c26-8432-c53f6bbd7c25 div.sk-parallel-item:last-child::after {align-self: flex-start;width: 50%;}#sk-10cd5fa6-044b-4c26-8432-c53f6bbd7c25 div.sk-parallel-item:only-child::after {width: 0;}#sk-10cd5fa6-044b-4c26-8432-c53f6bbd7c25 div.sk-dashed-wrapped {border: 1px dashed gray;margin: 0 0.4em 0.5em 0.4em;box-sizing: border-box;padding-bottom: 0.4em;background-color: white;position: relative;}#sk-10cd5fa6-044b-4c26-8432-c53f6bbd7c25 div.sk-label label {font-family: monospace;font-weight: bold;background-color: white;display: inline-block;line-height: 1.2em;}#sk-10cd5fa6-044b-4c26-8432-c53f6bbd7c25 div.sk-label-container {position: relative;z-index: 2;text-align: center;}#sk-10cd5fa6-044b-4c26-8432-c53f6bbd7c25 div.sk-container {/* jupyter's `normalize.less` sets `[hidden] { display: none; }` but bootstrap.min.css set `[hidden] { display: none !important; }` so we also need the `!important` here to be able to override the default hidden behavior on the sphinx rendered scikit-learn.org. See: https://github.com/scikit-learn/scikit-learn/issues/21755 */display: inline-block !important;position: relative;}#sk-10cd5fa6-044b-4c26-8432-c53f6bbd7c25 div.sk-text-repr-fallback {display: none;}</style><div id=\"sk-10cd5fa6-044b-4c26-8432-c53f6bbd7c25\" class=\"sk-top-container\"><div class=\"sk-text-repr-fallback\"><pre>ColumnTransformer(transformers=[(&#x27;pipeline-1&#x27;,\n",
              "                                 Pipeline(steps=[(&#x27;simpleimputer&#x27;,\n",
              "                                                  SimpleImputer(strategy=&#x27;median&#x27;)),\n",
              "                                                 (&#x27;standardscaler&#x27;,\n",
              "                                                  StandardScaler())]),\n",
              "                                 &lt;sklearn.compose._column_transformer.make_column_selector object at 0x7fa287a8efd0&gt;),\n",
              "                                (&#x27;pipeline-2&#x27;,\n",
              "                                 Pipeline(steps=[(&#x27;onehotencoder&#x27;,\n",
              "                                                  OneHotEncoder(handle_unknown=&#x27;ignore&#x27;,\n",
              "                                                                sparse=False))]),\n",
              "                                 &lt;sklearn.compose._column_transformer.make_column_selector object at 0x7fa287a8e650&gt;)])</pre><b>Please rerun this cell to show the HTML repr or trust the notebook.</b></div><div class=\"sk-container\" hidden><div class=\"sk-item sk-dashed-wrapped\"><div class=\"sk-label-container\"><div class=\"sk-label sk-toggleable\"><input class=\"sk-toggleable__control sk-hidden--visually\" id=\"49a50955-00f5-41bf-9d6f-a6739d5a8446\" type=\"checkbox\" ><label for=\"49a50955-00f5-41bf-9d6f-a6739d5a8446\" class=\"sk-toggleable__label sk-toggleable__label-arrow\">ColumnTransformer</label><div class=\"sk-toggleable__content\"><pre>ColumnTransformer(transformers=[(&#x27;pipeline-1&#x27;,\n",
              "                                 Pipeline(steps=[(&#x27;simpleimputer&#x27;,\n",
              "                                                  SimpleImputer(strategy=&#x27;median&#x27;)),\n",
              "                                                 (&#x27;standardscaler&#x27;,\n",
              "                                                  StandardScaler())]),\n",
              "                                 &lt;sklearn.compose._column_transformer.make_column_selector object at 0x7fa287a8efd0&gt;),\n",
              "                                (&#x27;pipeline-2&#x27;,\n",
              "                                 Pipeline(steps=[(&#x27;onehotencoder&#x27;,\n",
              "                                                  OneHotEncoder(handle_unknown=&#x27;ignore&#x27;,\n",
              "                                                                sparse=False))]),\n",
              "                                 &lt;sklearn.compose._column_transformer.make_column_selector object at 0x7fa287a8e650&gt;)])</pre></div></div></div><div class=\"sk-parallel\"><div class=\"sk-parallel-item\"><div class=\"sk-item\"><div class=\"sk-label-container\"><div class=\"sk-label sk-toggleable\"><input class=\"sk-toggleable__control sk-hidden--visually\" id=\"b5665087-fc5a-45be-876b-ad3f80c4ef3a\" type=\"checkbox\" ><label for=\"b5665087-fc5a-45be-876b-ad3f80c4ef3a\" class=\"sk-toggleable__label sk-toggleable__label-arrow\">pipeline-1</label><div class=\"sk-toggleable__content\"><pre>&lt;sklearn.compose._column_transformer.make_column_selector object at 0x7fa287a8efd0&gt;</pre></div></div></div><div class=\"sk-serial\"><div class=\"sk-item\"><div class=\"sk-serial\"><div class=\"sk-item\"><div class=\"sk-estimator sk-toggleable\"><input class=\"sk-toggleable__control sk-hidden--visually\" id=\"d13be367-09bc-4765-a3fd-b5d92d44cd7f\" type=\"checkbox\" ><label for=\"d13be367-09bc-4765-a3fd-b5d92d44cd7f\" class=\"sk-toggleable__label sk-toggleable__label-arrow\">SimpleImputer</label><div class=\"sk-toggleable__content\"><pre>SimpleImputer(strategy=&#x27;median&#x27;)</pre></div></div></div><div class=\"sk-item\"><div class=\"sk-estimator sk-toggleable\"><input class=\"sk-toggleable__control sk-hidden--visually\" id=\"8cf327dd-bdee-44bf-b65b-edef08aad4bb\" type=\"checkbox\" ><label for=\"8cf327dd-bdee-44bf-b65b-edef08aad4bb\" class=\"sk-toggleable__label sk-toggleable__label-arrow\">StandardScaler</label><div class=\"sk-toggleable__content\"><pre>StandardScaler()</pre></div></div></div></div></div></div></div></div><div class=\"sk-parallel-item\"><div class=\"sk-item\"><div class=\"sk-label-container\"><div class=\"sk-label sk-toggleable\"><input class=\"sk-toggleable__control sk-hidden--visually\" id=\"1074bb55-e9dc-4cb6-882f-217fa2f4bef9\" type=\"checkbox\" ><label for=\"1074bb55-e9dc-4cb6-882f-217fa2f4bef9\" class=\"sk-toggleable__label sk-toggleable__label-arrow\">pipeline-2</label><div class=\"sk-toggleable__content\"><pre>&lt;sklearn.compose._column_transformer.make_column_selector object at 0x7fa287a8e650&gt;</pre></div></div></div><div class=\"sk-serial\"><div class=\"sk-item\"><div class=\"sk-serial\"><div class=\"sk-item\"><div class=\"sk-estimator sk-toggleable\"><input class=\"sk-toggleable__control sk-hidden--visually\" id=\"a4bc73c2-8bed-4a0e-a6cb-082a76372504\" type=\"checkbox\" ><label for=\"a4bc73c2-8bed-4a0e-a6cb-082a76372504\" class=\"sk-toggleable__label sk-toggleable__label-arrow\">OneHotEncoder</label><div class=\"sk-toggleable__content\"><pre>OneHotEncoder(handle_unknown=&#x27;ignore&#x27;, sparse=False)</pre></div></div></div></div></div></div></div></div></div></div></div></div>"
            ]
          },
          "metadata": {},
          "execution_count": 199
        }
      ]
    },
    {
      "cell_type": "code",
      "source": [
        "#transform and test\n",
        "X_train_pro = preprocessor.transform(X_train)\n",
        "X_test_pro = preprocessor.transform(X_test)\n",
        "X_train_pro"
      ],
      "metadata": {
        "colab": {
          "base_uri": "https://localhost:8080/"
        },
        "id": "hRXgACpBgDv5",
        "outputId": "cc34a07a-7721-48ca-880a-c5384763dafc"
      },
      "execution_count": 200,
      "outputs": [
        {
          "output_type": "execute_result",
          "data": {
            "text/plain": [
              "array([[-1.61022176,  0.32876869, -0.24133331, ...,  0.        ,\n",
              "         0.        ,  0.        ],\n",
              "       [-1.33224388,  1.21837089, -0.06944034, ...,  0.        ,\n",
              "         0.        ,  0.        ],\n",
              "       [-0.39722735,  1.30733111,  0.31871125, ...,  0.        ,\n",
              "         0.        ,  0.        ],\n",
              "       ...,\n",
              "       [ 0.79049635, -0.73875394, -0.15512751, ...,  0.        ,\n",
              "         0.        ,  0.        ],\n",
              "       [ 0.66414277, -1.18355504, -0.24368971, ...,  0.        ,\n",
              "         0.        ,  0.        ],\n",
              "       [ 1.57388858,  0.06188804, -0.20381135, ...,  0.        ,\n",
              "         0.        ,  0.        ]])"
            ]
          },
          "metadata": {},
          "execution_count": 200
        }
      ]
    },
    {
      "cell_type": "code",
      "source": [
        "np.isnan(X_train_pro).sum().sum()"
      ],
      "metadata": {
        "colab": {
          "base_uri": "https://localhost:8080/"
        },
        "id": "msgvO5UAgN1d",
        "outputId": "569f6da5-09c3-43ff-e4c6-75106f81eaed"
      },
      "execution_count": 201,
      "outputs": [
        {
          "output_type": "execute_result",
          "data": {
            "text/plain": [
              "0"
            ]
          },
          "metadata": {},
          "execution_count": 201
        }
      ]
    },
    {
      "cell_type": "code",
      "source": [
        "np.isnan(X_test_pro).sum().sum()"
      ],
      "metadata": {
        "colab": {
          "base_uri": "https://localhost:8080/"
        },
        "id": "JHqAI27WgY-l",
        "outputId": "91d01a57-fcf1-4af4-b1dc-81f2cd2dfa06"
      },
      "execution_count": 202,
      "outputs": [
        {
          "output_type": "execute_result",
          "data": {
            "text/plain": [
              "0"
            ]
          },
          "metadata": {},
          "execution_count": 202
        }
      ]
    },
    {
      "cell_type": "markdown",
      "source": [
        "we are not missing any data in our X_sets so we are ready for modeling"
      ],
      "metadata": {
        "id": "fNEFOVbCgq0m"
      }
    }
  ]
}