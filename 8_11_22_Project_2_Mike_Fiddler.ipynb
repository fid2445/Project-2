{
  "cells": [
    {
      "cell_type": "markdown",
      "metadata": {
        "id": "view-in-github",
        "colab_type": "text"
      },
      "source": [
        "<a href=\"https://colab.research.google.com/github/fid2445/Project-2/blob/main/8_11_22_Project_2_Mike_Fiddler.ipynb\" target=\"_parent\"><img src=\"https://colab.research.google.com/assets/colab-badge.svg\" alt=\"Open In Colab\"/></a>"
      ]
    },
    {
      "cell_type": "markdown",
      "metadata": {
        "id": "WtF42FKKMfle"
      },
      "source": [
        "##Mike Fiddler "
      ]
    },
    {
      "cell_type": "code",
      "execution_count": 4,
      "metadata": {
        "id": "y1Y0eG6HS1KC"
      },
      "outputs": [],
      "source": [
        "import pandas as pd\n",
        "import numpy as np\n",
        "import seaborn as sns\n",
        "import matplotlib.pyplot as plt\n",
        "from sklearn.model_selection import train_test_split, GridSearchCV\n",
        "from sklearn.compose import make_column_selector,make_column_transformer\n",
        "from sklearn.preprocessing import OneHotEncoder, StandardScaler\n",
        "from sklearn.impute import SimpleImputer\n",
        "from sklearn.pipeline import make_pipeline\n",
        "from sklearn.ensemble import BaggingRegressor\n",
        "from sklearn.ensemble import RandomForestRegressor\n",
        "from sklearn.decomposition import PCA\n",
        "from sklearn.cluster import KMeans\n",
        "from sklearn.metrics import silhouette_score\n",
        "from sklearn.metrics import mean_absolute_error, mean_squared_error, r2_score\n",
        "from tensorflow.keras import Sequential\n",
        "from tensorflow.keras import metrics\n",
        "from tensorflow.keras.layers import Dense, Dropout\n",
        "from tensorflow.keras.callbacks import EarlyStopping\n",
        "from sklearn import set_config\n",
        "set_config(display='diagram')"
      ]
    },
    {
      "cell_type": "code",
      "execution_count": 5,
      "metadata": {
        "colab": {
          "base_uri": "https://localhost:8080/",
          "height": 600
        },
        "id": "BHK-rt0zS6mH",
        "outputId": "04a61772-2290-4d19-8dc9-e6efec27d401"
      },
      "outputs": [
        {
          "output_type": "execute_result",
          "data": {
            "text/plain": [
              "         id                                title   type  \\\n",
              "0  ts300399  Five Came Back: The Reference Films   SHOW   \n",
              "1   tm84618                          Taxi Driver  MOVIE   \n",
              "2  tm127384      Monty Python and the Holy Grail  MOVIE   \n",
              "3   tm70993                        Life of Brian  MOVIE   \n",
              "4  tm190788                         The Exorcist  MOVIE   \n",
              "\n",
              "                                         description  release_year  \\\n",
              "0  This collection includes 12 World War II-era p...          1945   \n",
              "1  A mentally unstable Vietnam War veteran works ...          1976   \n",
              "2  King Arthur, accompanied by his squire, recrui...          1975   \n",
              "3  Brian Cohen is an average young Jewish man, bu...          1979   \n",
              "4  12-year-old Regan MacNeil begins to adapt an e...          1973   \n",
              "\n",
              "  age_certification  runtime                 genres production_countries  \\\n",
              "0             TV-MA       48      ['documentation']               ['US']   \n",
              "1                 R      113     ['crime', 'drama']               ['US']   \n",
              "2                PG       91  ['comedy', 'fantasy']               ['GB']   \n",
              "3                 R       94             ['comedy']               ['GB']   \n",
              "4                 R      133             ['horror']               ['US']   \n",
              "\n",
              "   seasons    imdb_id  imdb_score  imdb_votes  tmdb_popularity  tmdb_score  \n",
              "0      1.0        NaN         NaN         NaN            0.600         NaN  \n",
              "1      NaN  tt0075314         8.3    795222.0           27.612         8.2  \n",
              "2      NaN  tt0071853         8.2    530877.0           18.216         7.8  \n",
              "3      NaN  tt0079470         8.0    392419.0           17.505         7.8  \n",
              "4      NaN  tt0070047         8.1    391942.0           95.337         7.7  "
            ],
            "text/html": [
              "\n",
              "  <div id=\"df-56f0341a-adeb-47da-9960-a78397f6382e\">\n",
              "    <div class=\"colab-df-container\">\n",
              "      <div>\n",
              "<style scoped>\n",
              "    .dataframe tbody tr th:only-of-type {\n",
              "        vertical-align: middle;\n",
              "    }\n",
              "\n",
              "    .dataframe tbody tr th {\n",
              "        vertical-align: top;\n",
              "    }\n",
              "\n",
              "    .dataframe thead th {\n",
              "        text-align: right;\n",
              "    }\n",
              "</style>\n",
              "<table border=\"1\" class=\"dataframe\">\n",
              "  <thead>\n",
              "    <tr style=\"text-align: right;\">\n",
              "      <th></th>\n",
              "      <th>id</th>\n",
              "      <th>title</th>\n",
              "      <th>type</th>\n",
              "      <th>description</th>\n",
              "      <th>release_year</th>\n",
              "      <th>age_certification</th>\n",
              "      <th>runtime</th>\n",
              "      <th>genres</th>\n",
              "      <th>production_countries</th>\n",
              "      <th>seasons</th>\n",
              "      <th>imdb_id</th>\n",
              "      <th>imdb_score</th>\n",
              "      <th>imdb_votes</th>\n",
              "      <th>tmdb_popularity</th>\n",
              "      <th>tmdb_score</th>\n",
              "    </tr>\n",
              "  </thead>\n",
              "  <tbody>\n",
              "    <tr>\n",
              "      <th>0</th>\n",
              "      <td>ts300399</td>\n",
              "      <td>Five Came Back: The Reference Films</td>\n",
              "      <td>SHOW</td>\n",
              "      <td>This collection includes 12 World War II-era p...</td>\n",
              "      <td>1945</td>\n",
              "      <td>TV-MA</td>\n",
              "      <td>48</td>\n",
              "      <td>['documentation']</td>\n",
              "      <td>['US']</td>\n",
              "      <td>1.0</td>\n",
              "      <td>NaN</td>\n",
              "      <td>NaN</td>\n",
              "      <td>NaN</td>\n",
              "      <td>0.600</td>\n",
              "      <td>NaN</td>\n",
              "    </tr>\n",
              "    <tr>\n",
              "      <th>1</th>\n",
              "      <td>tm84618</td>\n",
              "      <td>Taxi Driver</td>\n",
              "      <td>MOVIE</td>\n",
              "      <td>A mentally unstable Vietnam War veteran works ...</td>\n",
              "      <td>1976</td>\n",
              "      <td>R</td>\n",
              "      <td>113</td>\n",
              "      <td>['crime', 'drama']</td>\n",
              "      <td>['US']</td>\n",
              "      <td>NaN</td>\n",
              "      <td>tt0075314</td>\n",
              "      <td>8.3</td>\n",
              "      <td>795222.0</td>\n",
              "      <td>27.612</td>\n",
              "      <td>8.2</td>\n",
              "    </tr>\n",
              "    <tr>\n",
              "      <th>2</th>\n",
              "      <td>tm127384</td>\n",
              "      <td>Monty Python and the Holy Grail</td>\n",
              "      <td>MOVIE</td>\n",
              "      <td>King Arthur, accompanied by his squire, recrui...</td>\n",
              "      <td>1975</td>\n",
              "      <td>PG</td>\n",
              "      <td>91</td>\n",
              "      <td>['comedy', 'fantasy']</td>\n",
              "      <td>['GB']</td>\n",
              "      <td>NaN</td>\n",
              "      <td>tt0071853</td>\n",
              "      <td>8.2</td>\n",
              "      <td>530877.0</td>\n",
              "      <td>18.216</td>\n",
              "      <td>7.8</td>\n",
              "    </tr>\n",
              "    <tr>\n",
              "      <th>3</th>\n",
              "      <td>tm70993</td>\n",
              "      <td>Life of Brian</td>\n",
              "      <td>MOVIE</td>\n",
              "      <td>Brian Cohen is an average young Jewish man, bu...</td>\n",
              "      <td>1979</td>\n",
              "      <td>R</td>\n",
              "      <td>94</td>\n",
              "      <td>['comedy']</td>\n",
              "      <td>['GB']</td>\n",
              "      <td>NaN</td>\n",
              "      <td>tt0079470</td>\n",
              "      <td>8.0</td>\n",
              "      <td>392419.0</td>\n",
              "      <td>17.505</td>\n",
              "      <td>7.8</td>\n",
              "    </tr>\n",
              "    <tr>\n",
              "      <th>4</th>\n",
              "      <td>tm190788</td>\n",
              "      <td>The Exorcist</td>\n",
              "      <td>MOVIE</td>\n",
              "      <td>12-year-old Regan MacNeil begins to adapt an e...</td>\n",
              "      <td>1973</td>\n",
              "      <td>R</td>\n",
              "      <td>133</td>\n",
              "      <td>['horror']</td>\n",
              "      <td>['US']</td>\n",
              "      <td>NaN</td>\n",
              "      <td>tt0070047</td>\n",
              "      <td>8.1</td>\n",
              "      <td>391942.0</td>\n",
              "      <td>95.337</td>\n",
              "      <td>7.7</td>\n",
              "    </tr>\n",
              "  </tbody>\n",
              "</table>\n",
              "</div>\n",
              "      <button class=\"colab-df-convert\" onclick=\"convertToInteractive('df-56f0341a-adeb-47da-9960-a78397f6382e')\"\n",
              "              title=\"Convert this dataframe to an interactive table.\"\n",
              "              style=\"display:none;\">\n",
              "        \n",
              "  <svg xmlns=\"http://www.w3.org/2000/svg\" height=\"24px\"viewBox=\"0 0 24 24\"\n",
              "       width=\"24px\">\n",
              "    <path d=\"M0 0h24v24H0V0z\" fill=\"none\"/>\n",
              "    <path d=\"M18.56 5.44l.94 2.06.94-2.06 2.06-.94-2.06-.94-.94-2.06-.94 2.06-2.06.94zm-11 1L8.5 8.5l.94-2.06 2.06-.94-2.06-.94L8.5 2.5l-.94 2.06-2.06.94zm10 10l.94 2.06.94-2.06 2.06-.94-2.06-.94-.94-2.06-.94 2.06-2.06.94z\"/><path d=\"M17.41 7.96l-1.37-1.37c-.4-.4-.92-.59-1.43-.59-.52 0-1.04.2-1.43.59L10.3 9.45l-7.72 7.72c-.78.78-.78 2.05 0 2.83L4 21.41c.39.39.9.59 1.41.59.51 0 1.02-.2 1.41-.59l7.78-7.78 2.81-2.81c.8-.78.8-2.07 0-2.86zM5.41 20L4 18.59l7.72-7.72 1.47 1.35L5.41 20z\"/>\n",
              "  </svg>\n",
              "      </button>\n",
              "      \n",
              "  <style>\n",
              "    .colab-df-container {\n",
              "      display:flex;\n",
              "      flex-wrap:wrap;\n",
              "      gap: 12px;\n",
              "    }\n",
              "\n",
              "    .colab-df-convert {\n",
              "      background-color: #E8F0FE;\n",
              "      border: none;\n",
              "      border-radius: 50%;\n",
              "      cursor: pointer;\n",
              "      display: none;\n",
              "      fill: #1967D2;\n",
              "      height: 32px;\n",
              "      padding: 0 0 0 0;\n",
              "      width: 32px;\n",
              "    }\n",
              "\n",
              "    .colab-df-convert:hover {\n",
              "      background-color: #E2EBFA;\n",
              "      box-shadow: 0px 1px 2px rgba(60, 64, 67, 0.3), 0px 1px 3px 1px rgba(60, 64, 67, 0.15);\n",
              "      fill: #174EA6;\n",
              "    }\n",
              "\n",
              "    [theme=dark] .colab-df-convert {\n",
              "      background-color: #3B4455;\n",
              "      fill: #D2E3FC;\n",
              "    }\n",
              "\n",
              "    [theme=dark] .colab-df-convert:hover {\n",
              "      background-color: #434B5C;\n",
              "      box-shadow: 0px 1px 3px 1px rgba(0, 0, 0, 0.15);\n",
              "      filter: drop-shadow(0px 1px 2px rgba(0, 0, 0, 0.3));\n",
              "      fill: #FFFFFF;\n",
              "    }\n",
              "  </style>\n",
              "\n",
              "      <script>\n",
              "        const buttonEl =\n",
              "          document.querySelector('#df-56f0341a-adeb-47da-9960-a78397f6382e button.colab-df-convert');\n",
              "        buttonEl.style.display =\n",
              "          google.colab.kernel.accessAllowed ? 'block' : 'none';\n",
              "\n",
              "        async function convertToInteractive(key) {\n",
              "          const element = document.querySelector('#df-56f0341a-adeb-47da-9960-a78397f6382e');\n",
              "          const dataTable =\n",
              "            await google.colab.kernel.invokeFunction('convertToInteractive',\n",
              "                                                     [key], {});\n",
              "          if (!dataTable) return;\n",
              "\n",
              "          const docLinkHtml = 'Like what you see? Visit the ' +\n",
              "            '<a target=\"_blank\" href=https://colab.research.google.com/notebooks/data_table.ipynb>data table notebook</a>'\n",
              "            + ' to learn more about interactive tables.';\n",
              "          element.innerHTML = '';\n",
              "          dataTable['output_type'] = 'display_data';\n",
              "          await google.colab.output.renderOutput(dataTable, element);\n",
              "          const docLink = document.createElement('div');\n",
              "          docLink.innerHTML = docLinkHtml;\n",
              "          element.appendChild(docLink);\n",
              "        }\n",
              "      </script>\n",
              "    </div>\n",
              "  </div>\n",
              "  "
            ]
          },
          "metadata": {},
          "execution_count": 5
        }
      ],
      "source": [
        "df = pd.read_excel('/content/drive/MyDrive/Netflix Project.xlsx')\n",
        "df.head()"
      ]
    },
    {
      "cell_type": "markdown",
      "metadata": {
        "id": "27UWtRCwUbNd"
      },
      "source": [
        "Data source https://www.kaggle.com/datasets/victorsoeiro/netflix-tv-shows-and-movies\n",
        "\n",
        "This data set shows us all the different movies and shows available on the app Netflix.  We have imdb ratings, runtime, genre, release year.  \n",
        "The goal here is to use our features to try see what gets a good imdb score.  This is a regression problem."
      ]
    },
    {
      "cell_type": "markdown",
      "metadata": {
        "id": "0a5i3RCmmBz3"
      },
      "source": [
        "###Cleaning"
      ]
    },
    {
      "cell_type": "code",
      "execution_count": 6,
      "metadata": {
        "colab": {
          "base_uri": "https://localhost:8080/"
        },
        "id": "-KEucdIyTWNV",
        "outputId": "5593902d-6337-4926-dd65-c0ccfe99b0ff"
      },
      "outputs": [
        {
          "output_type": "execute_result",
          "data": {
            "text/plain": [
              "(5806, 15)"
            ]
          },
          "metadata": {},
          "execution_count": 6
        }
      ],
      "source": [
        "df.shape"
      ]
    },
    {
      "cell_type": "code",
      "execution_count": 7,
      "metadata": {
        "colab": {
          "base_uri": "https://localhost:8080/"
        },
        "id": "2J_RVh1kFUPV",
        "outputId": "12749814-8760-4a64-f183-16712785bcf0"
      },
      "outputs": [
        {
          "output_type": "execute_result",
          "data": {
            "text/plain": [
              "object      8\n",
              "float64    13\n",
              "int64      15\n",
              "dtype: int64"
            ]
          },
          "metadata": {},
          "execution_count": 7
        }
      ],
      "source": [
        "df.dtypes.value_counts().cumsum()"
      ]
    },
    {
      "cell_type": "markdown",
      "metadata": {
        "id": "JIyiagn3WD5j"
      },
      "source": [
        "Here we can see we have 15 features and 5806 rows."
      ]
    },
    {
      "cell_type": "markdown",
      "metadata": {
        "id": "-OPzPC-OWLMa"
      },
      "source": [
        "With almost 6000 rows I suspect there will alot of cleaning needed before any predictions can be made.  Just in the header i can see missing values that will need addressing."
      ]
    },
    {
      "cell_type": "code",
      "source": [
        "type(df.loc[0,'genres'])"
      ],
      "metadata": {
        "colab": {
          "base_uri": "https://localhost:8080/"
        },
        "id": "Rlm2mlD5CfXO",
        "outputId": "55674e05-1514-41c4-db39-02ee75049861"
      },
      "execution_count": 8,
      "outputs": [
        {
          "output_type": "execute_result",
          "data": {
            "text/plain": [
              "str"
            ]
          },
          "metadata": {},
          "execution_count": 8
        }
      ]
    },
    {
      "cell_type": "code",
      "execution_count": 9,
      "metadata": {
        "colab": {
          "base_uri": "https://localhost:8080/"
        },
        "id": "WK6Lbn9VXvnW",
        "outputId": "5ed64544-a595-4e14-98f2-2ab80a9922d6"
      },
      "outputs": [
        {
          "output_type": "stream",
          "name": "stdout",
          "text": [
            "<class 'pandas.core.frame.DataFrame'>\n",
            "RangeIndex: 5806 entries, 0 to 5805\n",
            "Data columns (total 15 columns):\n",
            " #   Column                Non-Null Count  Dtype  \n",
            "---  ------                --------------  -----  \n",
            " 0   id                    5806 non-null   object \n",
            " 1   title                 5805 non-null   object \n",
            " 2   type                  5806 non-null   object \n",
            " 3   description           5788 non-null   object \n",
            " 4   release_year          5806 non-null   int64  \n",
            " 5   age_certification     3196 non-null   object \n",
            " 6   runtime               5806 non-null   int64  \n",
            " 7   genres                5806 non-null   object \n",
            " 8   production_countries  5806 non-null   object \n",
            " 9   seasons               2047 non-null   float64\n",
            " 10  imdb_id               5362 non-null   object \n",
            " 11  imdb_score            5283 non-null   float64\n",
            " 12  imdb_votes            5267 non-null   float64\n",
            " 13  tmdb_popularity       5712 non-null   float64\n",
            " 14  tmdb_score            5488 non-null   float64\n",
            "dtypes: float64(5), int64(2), object(8)\n",
            "memory usage: 680.5+ KB\n"
          ]
        }
      ],
      "source": [
        "df.info()"
      ]
    },
    {
      "cell_type": "code",
      "execution_count": 10,
      "metadata": {
        "colab": {
          "base_uri": "https://localhost:8080/"
        },
        "id": "H-ItiQoHNf1P",
        "outputId": "a2dd5a14-5ecc-4087-8832-bb7a42e9f201"
      },
      "outputs": [
        {
          "output_type": "execute_result",
          "data": {
            "text/plain": [
              "0"
            ]
          },
          "metadata": {},
          "execution_count": 10
        }
      ],
      "source": [
        "df.duplicated().sum()"
      ]
    },
    {
      "cell_type": "code",
      "execution_count": 11,
      "metadata": {
        "colab": {
          "base_uri": "https://localhost:8080/"
        },
        "id": "oXcUv_VfNO2A",
        "outputId": "94c7c54f-f62b-418e-c8aa-40980a2e47f6"
      },
      "outputs": [
        {
          "output_type": "execute_result",
          "data": {
            "text/plain": [
              "id                         0\n",
              "title                      1\n",
              "type                       0\n",
              "description               18\n",
              "release_year               0\n",
              "age_certification       2610\n",
              "runtime                    0\n",
              "genres                     0\n",
              "production_countries       0\n",
              "seasons                 3759\n",
              "imdb_id                  444\n",
              "imdb_score               523\n",
              "imdb_votes               539\n",
              "tmdb_popularity           94\n",
              "tmdb_score               318\n",
              "dtype: int64"
            ]
          },
          "metadata": {},
          "execution_count": 11
        }
      ],
      "source": [
        "df.isna().sum()"
      ]
    },
    {
      "cell_type": "markdown",
      "metadata": {
        "id": "ct5vvR0VN-Fg"
      },
      "source": [
        "Alot of missing values need addressing."
      ]
    },
    {
      "cell_type": "markdown",
      "metadata": {
        "id": "m0K8IaqoOEEP"
      },
      "source": [
        "I am going to drop the columns age_certificaion (the target audience does not effect our goal and almost half of that column is missing) and seasons (we dont care how long it ran for.)"
      ]
    },
    {
      "cell_type": "code",
      "execution_count": 12,
      "metadata": {
        "id": "q9y94BoTOs0l"
      },
      "outputs": [],
      "source": [
        "df.drop(columns='age_certification',inplace=True)"
      ]
    },
    {
      "cell_type": "code",
      "execution_count": 13,
      "metadata": {
        "colab": {
          "base_uri": "https://localhost:8080/"
        },
        "id": "yamPJ6aKPFCL",
        "outputId": "e065c40c-3901-4097-dba2-37e8d6abadd9"
      },
      "outputs": [
        {
          "output_type": "execute_result",
          "data": {
            "text/plain": [
              "id                        0\n",
              "title                     1\n",
              "type                      0\n",
              "description              18\n",
              "release_year              0\n",
              "runtime                   0\n",
              "genres                    0\n",
              "production_countries      0\n",
              "imdb_id                 444\n",
              "imdb_score              523\n",
              "imdb_votes              539\n",
              "tmdb_popularity          94\n",
              "tmdb_score              318\n",
              "dtype: int64"
            ]
          },
          "metadata": {},
          "execution_count": 13
        }
      ],
      "source": [
        "df.drop(columns='seasons',inplace=True)\n",
        "df.isna().sum()"
      ]
    },
    {
      "cell_type": "markdown",
      "metadata": {
        "id": "bSMbRNwuPxAX"
      },
      "source": [
        "I am also going to drop the id, title, description, production_countries, and imdb_id columns. None of these have information that relate to our goal. "
      ]
    },
    {
      "cell_type": "code",
      "execution_count": 14,
      "metadata": {
        "colab": {
          "base_uri": "https://localhost:8080/"
        },
        "id": "odSJojbGPwmG",
        "outputId": "d4dbc83a-78ef-4aa8-afbd-57ebc8b8b16d"
      },
      "outputs": [
        {
          "output_type": "execute_result",
          "data": {
            "text/plain": [
              "type                 0\n",
              "release_year         0\n",
              "runtime              0\n",
              "genres               0\n",
              "imdb_score         523\n",
              "imdb_votes         539\n",
              "tmdb_popularity     94\n",
              "tmdb_score         318\n",
              "dtype: int64"
            ]
          },
          "metadata": {},
          "execution_count": 14
        }
      ],
      "source": [
        "df.drop(columns='id',inplace=True)\n",
        "df.drop(columns='imdb_id',inplace=True)\n",
        "df.drop(columns='title',inplace=True)\n",
        "df.drop(columns='description',inplace=True)\n",
        "df.drop(columns='production_countries',inplace=True)\n",
        "df.isna().sum()"
      ]
    },
    {
      "cell_type": "code",
      "execution_count": 15,
      "metadata": {
        "colab": {
          "base_uri": "https://localhost:8080/",
          "height": 206
        },
        "id": "4AGQ2FLUPe0U",
        "outputId": "18fab257-b61f-4cde-e2ae-bd9d91e0b489"
      },
      "outputs": [
        {
          "output_type": "execute_result",
          "data": {
            "text/plain": [
              "    type  release_year  runtime                 genres  imdb_score  \\\n",
              "0   SHOW          1945       48      ['documentation']         NaN   \n",
              "1  MOVIE          1976      113     ['crime', 'drama']         8.3   \n",
              "2  MOVIE          1975       91  ['comedy', 'fantasy']         8.2   \n",
              "3  MOVIE          1979       94             ['comedy']         8.0   \n",
              "4  MOVIE          1973      133             ['horror']         8.1   \n",
              "\n",
              "   imdb_votes  tmdb_popularity  tmdb_score  \n",
              "0         NaN            0.600         NaN  \n",
              "1    795222.0           27.612         8.2  \n",
              "2    530877.0           18.216         7.8  \n",
              "3    392419.0           17.505         7.8  \n",
              "4    391942.0           95.337         7.7  "
            ],
            "text/html": [
              "\n",
              "  <div id=\"df-864c358a-1e70-4204-bcce-a5e684cf5bf8\">\n",
              "    <div class=\"colab-df-container\">\n",
              "      <div>\n",
              "<style scoped>\n",
              "    .dataframe tbody tr th:only-of-type {\n",
              "        vertical-align: middle;\n",
              "    }\n",
              "\n",
              "    .dataframe tbody tr th {\n",
              "        vertical-align: top;\n",
              "    }\n",
              "\n",
              "    .dataframe thead th {\n",
              "        text-align: right;\n",
              "    }\n",
              "</style>\n",
              "<table border=\"1\" class=\"dataframe\">\n",
              "  <thead>\n",
              "    <tr style=\"text-align: right;\">\n",
              "      <th></th>\n",
              "      <th>type</th>\n",
              "      <th>release_year</th>\n",
              "      <th>runtime</th>\n",
              "      <th>genres</th>\n",
              "      <th>imdb_score</th>\n",
              "      <th>imdb_votes</th>\n",
              "      <th>tmdb_popularity</th>\n",
              "      <th>tmdb_score</th>\n",
              "    </tr>\n",
              "  </thead>\n",
              "  <tbody>\n",
              "    <tr>\n",
              "      <th>0</th>\n",
              "      <td>SHOW</td>\n",
              "      <td>1945</td>\n",
              "      <td>48</td>\n",
              "      <td>['documentation']</td>\n",
              "      <td>NaN</td>\n",
              "      <td>NaN</td>\n",
              "      <td>0.600</td>\n",
              "      <td>NaN</td>\n",
              "    </tr>\n",
              "    <tr>\n",
              "      <th>1</th>\n",
              "      <td>MOVIE</td>\n",
              "      <td>1976</td>\n",
              "      <td>113</td>\n",
              "      <td>['crime', 'drama']</td>\n",
              "      <td>8.3</td>\n",
              "      <td>795222.0</td>\n",
              "      <td>27.612</td>\n",
              "      <td>8.2</td>\n",
              "    </tr>\n",
              "    <tr>\n",
              "      <th>2</th>\n",
              "      <td>MOVIE</td>\n",
              "      <td>1975</td>\n",
              "      <td>91</td>\n",
              "      <td>['comedy', 'fantasy']</td>\n",
              "      <td>8.2</td>\n",
              "      <td>530877.0</td>\n",
              "      <td>18.216</td>\n",
              "      <td>7.8</td>\n",
              "    </tr>\n",
              "    <tr>\n",
              "      <th>3</th>\n",
              "      <td>MOVIE</td>\n",
              "      <td>1979</td>\n",
              "      <td>94</td>\n",
              "      <td>['comedy']</td>\n",
              "      <td>8.0</td>\n",
              "      <td>392419.0</td>\n",
              "      <td>17.505</td>\n",
              "      <td>7.8</td>\n",
              "    </tr>\n",
              "    <tr>\n",
              "      <th>4</th>\n",
              "      <td>MOVIE</td>\n",
              "      <td>1973</td>\n",
              "      <td>133</td>\n",
              "      <td>['horror']</td>\n",
              "      <td>8.1</td>\n",
              "      <td>391942.0</td>\n",
              "      <td>95.337</td>\n",
              "      <td>7.7</td>\n",
              "    </tr>\n",
              "  </tbody>\n",
              "</table>\n",
              "</div>\n",
              "      <button class=\"colab-df-convert\" onclick=\"convertToInteractive('df-864c358a-1e70-4204-bcce-a5e684cf5bf8')\"\n",
              "              title=\"Convert this dataframe to an interactive table.\"\n",
              "              style=\"display:none;\">\n",
              "        \n",
              "  <svg xmlns=\"http://www.w3.org/2000/svg\" height=\"24px\"viewBox=\"0 0 24 24\"\n",
              "       width=\"24px\">\n",
              "    <path d=\"M0 0h24v24H0V0z\" fill=\"none\"/>\n",
              "    <path d=\"M18.56 5.44l.94 2.06.94-2.06 2.06-.94-2.06-.94-.94-2.06-.94 2.06-2.06.94zm-11 1L8.5 8.5l.94-2.06 2.06-.94-2.06-.94L8.5 2.5l-.94 2.06-2.06.94zm10 10l.94 2.06.94-2.06 2.06-.94-2.06-.94-.94-2.06-.94 2.06-2.06.94z\"/><path d=\"M17.41 7.96l-1.37-1.37c-.4-.4-.92-.59-1.43-.59-.52 0-1.04.2-1.43.59L10.3 9.45l-7.72 7.72c-.78.78-.78 2.05 0 2.83L4 21.41c.39.39.9.59 1.41.59.51 0 1.02-.2 1.41-.59l7.78-7.78 2.81-2.81c.8-.78.8-2.07 0-2.86zM5.41 20L4 18.59l7.72-7.72 1.47 1.35L5.41 20z\"/>\n",
              "  </svg>\n",
              "      </button>\n",
              "      \n",
              "  <style>\n",
              "    .colab-df-container {\n",
              "      display:flex;\n",
              "      flex-wrap:wrap;\n",
              "      gap: 12px;\n",
              "    }\n",
              "\n",
              "    .colab-df-convert {\n",
              "      background-color: #E8F0FE;\n",
              "      border: none;\n",
              "      border-radius: 50%;\n",
              "      cursor: pointer;\n",
              "      display: none;\n",
              "      fill: #1967D2;\n",
              "      height: 32px;\n",
              "      padding: 0 0 0 0;\n",
              "      width: 32px;\n",
              "    }\n",
              "\n",
              "    .colab-df-convert:hover {\n",
              "      background-color: #E2EBFA;\n",
              "      box-shadow: 0px 1px 2px rgba(60, 64, 67, 0.3), 0px 1px 3px 1px rgba(60, 64, 67, 0.15);\n",
              "      fill: #174EA6;\n",
              "    }\n",
              "\n",
              "    [theme=dark] .colab-df-convert {\n",
              "      background-color: #3B4455;\n",
              "      fill: #D2E3FC;\n",
              "    }\n",
              "\n",
              "    [theme=dark] .colab-df-convert:hover {\n",
              "      background-color: #434B5C;\n",
              "      box-shadow: 0px 1px 3px 1px rgba(0, 0, 0, 0.15);\n",
              "      filter: drop-shadow(0px 1px 2px rgba(0, 0, 0, 0.3));\n",
              "      fill: #FFFFFF;\n",
              "    }\n",
              "  </style>\n",
              "\n",
              "      <script>\n",
              "        const buttonEl =\n",
              "          document.querySelector('#df-864c358a-1e70-4204-bcce-a5e684cf5bf8 button.colab-df-convert');\n",
              "        buttonEl.style.display =\n",
              "          google.colab.kernel.accessAllowed ? 'block' : 'none';\n",
              "\n",
              "        async function convertToInteractive(key) {\n",
              "          const element = document.querySelector('#df-864c358a-1e70-4204-bcce-a5e684cf5bf8');\n",
              "          const dataTable =\n",
              "            await google.colab.kernel.invokeFunction('convertToInteractive',\n",
              "                                                     [key], {});\n",
              "          if (!dataTable) return;\n",
              "\n",
              "          const docLinkHtml = 'Like what you see? Visit the ' +\n",
              "            '<a target=\"_blank\" href=https://colab.research.google.com/notebooks/data_table.ipynb>data table notebook</a>'\n",
              "            + ' to learn more about interactive tables.';\n",
              "          element.innerHTML = '';\n",
              "          dataTable['output_type'] = 'display_data';\n",
              "          await google.colab.output.renderOutput(dataTable, element);\n",
              "          const docLink = document.createElement('div');\n",
              "          docLink.innerHTML = docLinkHtml;\n",
              "          element.appendChild(docLink);\n",
              "        }\n",
              "      </script>\n",
              "    </div>\n",
              "  </div>\n",
              "  "
            ]
          },
          "metadata": {},
          "execution_count": 15
        }
      ],
      "source": [
        "df.head()"
      ]
    },
    {
      "cell_type": "markdown",
      "metadata": {
        "id": "zTdu4-P1Q0Wq"
      },
      "source": [
        "Now im going to make sure our cat and num values are correct."
      ]
    },
    {
      "cell_type": "code",
      "execution_count": 16,
      "metadata": {
        "colab": {
          "base_uri": "https://localhost:8080/",
          "height": 300
        },
        "id": "ahazaEDFmyNI",
        "outputId": "3ed76f50-6403-429c-aa69-b00abea0d23b"
      },
      "outputs": [
        {
          "output_type": "execute_result",
          "data": {
            "text/plain": [
              "       release_year  runtime  imdb_score  imdb_votes  tmdb_popularity  \\\n",
              "count       5806.00  5806.00     5283.00     5267.00          5712.00   \n",
              "mean        2016.01    77.64        6.53    23407.19            22.53   \n",
              "std            7.32    39.47        1.16    87134.32            68.85   \n",
              "min         1945.00     0.00        1.50        5.00             0.01   \n",
              "25%         2015.00    44.00        5.80      521.00             3.16   \n",
              "50%         2018.00    84.00        6.60     2279.00             7.48   \n",
              "75%         2020.00   105.00        7.40    10144.00            17.78   \n",
              "max         2022.00   251.00        9.60  2268288.00          1823.37   \n",
              "\n",
              "       tmdb_score  \n",
              "count     5488.00  \n",
              "mean         6.82  \n",
              "std          1.17  \n",
              "min          0.50  \n",
              "25%          6.10  \n",
              "50%          6.90  \n",
              "75%          7.50  \n",
              "max         10.00  "
            ],
            "text/html": [
              "\n",
              "  <div id=\"df-bac41ea7-5be0-4ac3-9f6e-3f4df670539c\">\n",
              "    <div class=\"colab-df-container\">\n",
              "      <div>\n",
              "<style scoped>\n",
              "    .dataframe tbody tr th:only-of-type {\n",
              "        vertical-align: middle;\n",
              "    }\n",
              "\n",
              "    .dataframe tbody tr th {\n",
              "        vertical-align: top;\n",
              "    }\n",
              "\n",
              "    .dataframe thead th {\n",
              "        text-align: right;\n",
              "    }\n",
              "</style>\n",
              "<table border=\"1\" class=\"dataframe\">\n",
              "  <thead>\n",
              "    <tr style=\"text-align: right;\">\n",
              "      <th></th>\n",
              "      <th>release_year</th>\n",
              "      <th>runtime</th>\n",
              "      <th>imdb_score</th>\n",
              "      <th>imdb_votes</th>\n",
              "      <th>tmdb_popularity</th>\n",
              "      <th>tmdb_score</th>\n",
              "    </tr>\n",
              "  </thead>\n",
              "  <tbody>\n",
              "    <tr>\n",
              "      <th>count</th>\n",
              "      <td>5806.00</td>\n",
              "      <td>5806.00</td>\n",
              "      <td>5283.00</td>\n",
              "      <td>5267.00</td>\n",
              "      <td>5712.00</td>\n",
              "      <td>5488.00</td>\n",
              "    </tr>\n",
              "    <tr>\n",
              "      <th>mean</th>\n",
              "      <td>2016.01</td>\n",
              "      <td>77.64</td>\n",
              "      <td>6.53</td>\n",
              "      <td>23407.19</td>\n",
              "      <td>22.53</td>\n",
              "      <td>6.82</td>\n",
              "    </tr>\n",
              "    <tr>\n",
              "      <th>std</th>\n",
              "      <td>7.32</td>\n",
              "      <td>39.47</td>\n",
              "      <td>1.16</td>\n",
              "      <td>87134.32</td>\n",
              "      <td>68.85</td>\n",
              "      <td>1.17</td>\n",
              "    </tr>\n",
              "    <tr>\n",
              "      <th>min</th>\n",
              "      <td>1945.00</td>\n",
              "      <td>0.00</td>\n",
              "      <td>1.50</td>\n",
              "      <td>5.00</td>\n",
              "      <td>0.01</td>\n",
              "      <td>0.50</td>\n",
              "    </tr>\n",
              "    <tr>\n",
              "      <th>25%</th>\n",
              "      <td>2015.00</td>\n",
              "      <td>44.00</td>\n",
              "      <td>5.80</td>\n",
              "      <td>521.00</td>\n",
              "      <td>3.16</td>\n",
              "      <td>6.10</td>\n",
              "    </tr>\n",
              "    <tr>\n",
              "      <th>50%</th>\n",
              "      <td>2018.00</td>\n",
              "      <td>84.00</td>\n",
              "      <td>6.60</td>\n",
              "      <td>2279.00</td>\n",
              "      <td>7.48</td>\n",
              "      <td>6.90</td>\n",
              "    </tr>\n",
              "    <tr>\n",
              "      <th>75%</th>\n",
              "      <td>2020.00</td>\n",
              "      <td>105.00</td>\n",
              "      <td>7.40</td>\n",
              "      <td>10144.00</td>\n",
              "      <td>17.78</td>\n",
              "      <td>7.50</td>\n",
              "    </tr>\n",
              "    <tr>\n",
              "      <th>max</th>\n",
              "      <td>2022.00</td>\n",
              "      <td>251.00</td>\n",
              "      <td>9.60</td>\n",
              "      <td>2268288.00</td>\n",
              "      <td>1823.37</td>\n",
              "      <td>10.00</td>\n",
              "    </tr>\n",
              "  </tbody>\n",
              "</table>\n",
              "</div>\n",
              "      <button class=\"colab-df-convert\" onclick=\"convertToInteractive('df-bac41ea7-5be0-4ac3-9f6e-3f4df670539c')\"\n",
              "              title=\"Convert this dataframe to an interactive table.\"\n",
              "              style=\"display:none;\">\n",
              "        \n",
              "  <svg xmlns=\"http://www.w3.org/2000/svg\" height=\"24px\"viewBox=\"0 0 24 24\"\n",
              "       width=\"24px\">\n",
              "    <path d=\"M0 0h24v24H0V0z\" fill=\"none\"/>\n",
              "    <path d=\"M18.56 5.44l.94 2.06.94-2.06 2.06-.94-2.06-.94-.94-2.06-.94 2.06-2.06.94zm-11 1L8.5 8.5l.94-2.06 2.06-.94-2.06-.94L8.5 2.5l-.94 2.06-2.06.94zm10 10l.94 2.06.94-2.06 2.06-.94-2.06-.94-.94-2.06-.94 2.06-2.06.94z\"/><path d=\"M17.41 7.96l-1.37-1.37c-.4-.4-.92-.59-1.43-.59-.52 0-1.04.2-1.43.59L10.3 9.45l-7.72 7.72c-.78.78-.78 2.05 0 2.83L4 21.41c.39.39.9.59 1.41.59.51 0 1.02-.2 1.41-.59l7.78-7.78 2.81-2.81c.8-.78.8-2.07 0-2.86zM5.41 20L4 18.59l7.72-7.72 1.47 1.35L5.41 20z\"/>\n",
              "  </svg>\n",
              "      </button>\n",
              "      \n",
              "  <style>\n",
              "    .colab-df-container {\n",
              "      display:flex;\n",
              "      flex-wrap:wrap;\n",
              "      gap: 12px;\n",
              "    }\n",
              "\n",
              "    .colab-df-convert {\n",
              "      background-color: #E8F0FE;\n",
              "      border: none;\n",
              "      border-radius: 50%;\n",
              "      cursor: pointer;\n",
              "      display: none;\n",
              "      fill: #1967D2;\n",
              "      height: 32px;\n",
              "      padding: 0 0 0 0;\n",
              "      width: 32px;\n",
              "    }\n",
              "\n",
              "    .colab-df-convert:hover {\n",
              "      background-color: #E2EBFA;\n",
              "      box-shadow: 0px 1px 2px rgba(60, 64, 67, 0.3), 0px 1px 3px 1px rgba(60, 64, 67, 0.15);\n",
              "      fill: #174EA6;\n",
              "    }\n",
              "\n",
              "    [theme=dark] .colab-df-convert {\n",
              "      background-color: #3B4455;\n",
              "      fill: #D2E3FC;\n",
              "    }\n",
              "\n",
              "    [theme=dark] .colab-df-convert:hover {\n",
              "      background-color: #434B5C;\n",
              "      box-shadow: 0px 1px 3px 1px rgba(0, 0, 0, 0.15);\n",
              "      filter: drop-shadow(0px 1px 2px rgba(0, 0, 0, 0.3));\n",
              "      fill: #FFFFFF;\n",
              "    }\n",
              "  </style>\n",
              "\n",
              "      <script>\n",
              "        const buttonEl =\n",
              "          document.querySelector('#df-bac41ea7-5be0-4ac3-9f6e-3f4df670539c button.colab-df-convert');\n",
              "        buttonEl.style.display =\n",
              "          google.colab.kernel.accessAllowed ? 'block' : 'none';\n",
              "\n",
              "        async function convertToInteractive(key) {\n",
              "          const element = document.querySelector('#df-bac41ea7-5be0-4ac3-9f6e-3f4df670539c');\n",
              "          const dataTable =\n",
              "            await google.colab.kernel.invokeFunction('convertToInteractive',\n",
              "                                                     [key], {});\n",
              "          if (!dataTable) return;\n",
              "\n",
              "          const docLinkHtml = 'Like what you see? Visit the ' +\n",
              "            '<a target=\"_blank\" href=https://colab.research.google.com/notebooks/data_table.ipynb>data table notebook</a>'\n",
              "            + ' to learn more about interactive tables.';\n",
              "          element.innerHTML = '';\n",
              "          dataTable['output_type'] = 'display_data';\n",
              "          await google.colab.output.renderOutput(dataTable, element);\n",
              "          const docLink = document.createElement('div');\n",
              "          docLink.innerHTML = docLinkHtml;\n",
              "          element.appendChild(docLink);\n",
              "        }\n",
              "      </script>\n",
              "    </div>\n",
              "  </div>\n",
              "  "
            ]
          },
          "metadata": {},
          "execution_count": 16
        }
      ],
      "source": [
        "df.describe().round(2)"
      ]
    },
    {
      "cell_type": "code",
      "execution_count": 17,
      "metadata": {
        "colab": {
          "base_uri": "https://localhost:8080/",
          "height": 280
        },
        "id": "Cze-JWXhp9JV",
        "outputId": "5a6695d0-f9cc-4fb3-f8ed-0d963e32c9ea"
      },
      "outputs": [
        {
          "output_type": "display_data",
          "data": {
            "text/plain": [
              "<Figure size 432x288 with 1 Axes>"
            ],
            "image/png": "[encoded data removed]"
          },
          "metadata": {
            "needs_background": "light"
          }
        }
      ],
      "source": [
        "sns.boxplot(x='imdb_votes', data=df);"
      ]
    },
    {
      "cell_type": "markdown",
      "metadata": {
        "id": "9epp1bXoge_w"
      },
      "source": [
        "Imdb_votes has alot of outliers and a very large range from five to over two milloion. The amount of votes a show or movie gets on imdb doesnt always translate into a better imdb score.  I will check and see if this feature correlates with any of my others. "
      ]
    },
    {
      "cell_type": "code",
      "execution_count": 18,
      "metadata": {
        "colab": {
          "base_uri": "https://localhost:8080/",
          "height": 280
        },
        "id": "5INNuokcp4iR",
        "outputId": "7f0624f9-d62e-4bbc-d98b-5f72aa8a1ef5"
      },
      "outputs": [
        {
          "output_type": "display_data",
          "data": {
            "text/plain": [
              "<Figure size 432x288 with 1 Axes>"
            ],
            "image/png": "[encoded data removed]"
          },
          "metadata": {
            "needs_background": "light"
          }
        }
      ],
      "source": [
        "sns.boxplot(x='tmdb_score', data=df);"
      ]
    },
    {
      "cell_type": "code",
      "execution_count": 19,
      "metadata": {
        "colab": {
          "base_uri": "https://localhost:8080/",
          "height": 280
        },
        "id": "lHBXBP0qp0gl",
        "outputId": "7da4f7f2-50bd-4c4a-c5db-79c68e86ace4"
      },
      "outputs": [
        {
          "output_type": "display_data",
          "data": {
            "text/plain": [
              "<Figure size 432x288 with 1 Axes>"
            ],
            "image/png": "[encoded data removed]"
          },
          "metadata": {
            "needs_background": "light"
          }
        }
      ],
      "source": [
        "sns.boxplot(x='imdb_score', data=df);"
      ]
    },
    {
      "cell_type": "code",
      "execution_count": 20,
      "metadata": {
        "colab": {
          "base_uri": "https://localhost:8080/",
          "height": 280
        },
        "id": "_rQcIGNEop5d",
        "outputId": "d83e7ad2-103a-4946-a713-078939be7e90"
      },
      "outputs": [
        {
          "output_type": "display_data",
          "data": {
            "text/plain": [
              "<Figure size 432x288 with 1 Axes>"
            ],
            "image/png": "[encoded data removed]"
          },
          "metadata": {
            "needs_background": "light"
          }
        }
      ],
      "source": [
        "sns.boxplot(x='tmdb_popularity', data=df);"
      ]
    },
    {
      "cell_type": "code",
      "source": [
        "df['tmdb_popularity'].value_counts()"
      ],
      "metadata": {
        "colab": {
          "base_uri": "https://localhost:8080/"
        },
        "id": "k30c-J9fxSun",
        "outputId": "970cd744-72af-4972-c5d8-d83fb136b865"
      },
      "execution_count": 21,
      "outputs": [
        {
          "output_type": "execute_result",
          "data": {
            "text/plain": [
              "1.400     66\n",
              "0.600     57\n",
              "1.960      8\n",
              "2.744      7\n",
              "0.840      7\n",
              "          ..\n",
              "70.563     1\n",
              "7.434      1\n",
              "33.558     1\n",
              "60.496     1\n",
              "0.979      1\n",
              "Name: tmdb_popularity, Length: 4943, dtype: int64"
            ]
          },
          "metadata": {},
          "execution_count": 21
        }
      ]
    },
    {
      "cell_type": "markdown",
      "metadata": {
        "id": "BdJJN9EarQJN"
      },
      "source": [
        "Just as we saw with imdb_score, we have a ton of outliers here, once again all on the high side. Due to this and with the concern of potentially overfitting I am going to drop this feature from my analysis."
      ]
    },
    {
      "cell_type": "code",
      "source": [
        "df.drop(columns='tmdb_popularity',inplace=True)\n",
        "df.head()"
      ],
      "metadata": {
        "colab": {
          "base_uri": "https://localhost:8080/",
          "height": 206
        },
        "id": "Ovz_LBoOxApG",
        "outputId": "d99556f1-6252-46fe-d438-b1979dd5322c"
      },
      "execution_count": 22,
      "outputs": [
        {
          "output_type": "execute_result",
          "data": {
            "text/plain": [
              "    type  release_year  runtime                 genres  imdb_score  \\\n",
              "0   SHOW          1945       48      ['documentation']         NaN   \n",
              "1  MOVIE          1976      113     ['crime', 'drama']         8.3   \n",
              "2  MOVIE          1975       91  ['comedy', 'fantasy']         8.2   \n",
              "3  MOVIE          1979       94             ['comedy']         8.0   \n",
              "4  MOVIE          1973      133             ['horror']         8.1   \n",
              "\n",
              "   imdb_votes  tmdb_score  \n",
              "0         NaN         NaN  \n",
              "1    795222.0         8.2  \n",
              "2    530877.0         7.8  \n",
              "3    392419.0         7.8  \n",
              "4    391942.0         7.7  "
            ],
            "text/html": [
              "\n",
              "  <div id=\"df-47b0f1d2-77c0-41e9-8622-3c6e5d79dbb2\">\n",
              "    <div class=\"colab-df-container\">\n",
              "      <div>\n",
              "<style scoped>\n",
              "    .dataframe tbody tr th:only-of-type {\n",
              "        vertical-align: middle;\n",
              "    }\n",
              "\n",
              "    .dataframe tbody tr th {\n",
              "        vertical-align: top;\n",
              "    }\n",
              "\n",
              "    .dataframe thead th {\n",
              "        text-align: right;\n",
              "    }\n",
              "</style>\n",
              "<table border=\"1\" class=\"dataframe\">\n",
              "  <thead>\n",
              "    <tr style=\"text-align: right;\">\n",
              "      <th></th>\n",
              "      <th>type</th>\n",
              "      <th>release_year</th>\n",
              "      <th>runtime</th>\n",
              "      <th>genres</th>\n",
              "      <th>imdb_score</th>\n",
              "      <th>imdb_votes</th>\n",
              "      <th>tmdb_score</th>\n",
              "    </tr>\n",
              "  </thead>\n",
              "  <tbody>\n",
              "    <tr>\n",
              "      <th>0</th>\n",
              "      <td>SHOW</td>\n",
              "      <td>1945</td>\n",
              "      <td>48</td>\n",
              "      <td>['documentation']</td>\n",
              "      <td>NaN</td>\n",
              "      <td>NaN</td>\n",
              "      <td>NaN</td>\n",
              "    </tr>\n",
              "    <tr>\n",
              "      <th>1</th>\n",
              "      <td>MOVIE</td>\n",
              "      <td>1976</td>\n",
              "      <td>113</td>\n",
              "      <td>['crime', 'drama']</td>\n",
              "      <td>8.3</td>\n",
              "      <td>795222.0</td>\n",
              "      <td>8.2</td>\n",
              "    </tr>\n",
              "    <tr>\n",
              "      <th>2</th>\n",
              "      <td>MOVIE</td>\n",
              "      <td>1975</td>\n",
              "      <td>91</td>\n",
              "      <td>['comedy', 'fantasy']</td>\n",
              "      <td>8.2</td>\n",
              "      <td>530877.0</td>\n",
              "      <td>7.8</td>\n",
              "    </tr>\n",
              "    <tr>\n",
              "      <th>3</th>\n",
              "      <td>MOVIE</td>\n",
              "      <td>1979</td>\n",
              "      <td>94</td>\n",
              "      <td>['comedy']</td>\n",
              "      <td>8.0</td>\n",
              "      <td>392419.0</td>\n",
              "      <td>7.8</td>\n",
              "    </tr>\n",
              "    <tr>\n",
              "      <th>4</th>\n",
              "      <td>MOVIE</td>\n",
              "      <td>1973</td>\n",
              "      <td>133</td>\n",
              "      <td>['horror']</td>\n",
              "      <td>8.1</td>\n",
              "      <td>391942.0</td>\n",
              "      <td>7.7</td>\n",
              "    </tr>\n",
              "  </tbody>\n",
              "</table>\n",
              "</div>\n",
              "      <button class=\"colab-df-convert\" onclick=\"convertToInteractive('df-47b0f1d2-77c0-41e9-8622-3c6e5d79dbb2')\"\n",
              "              title=\"Convert this dataframe to an interactive table.\"\n",
              "              style=\"display:none;\">\n",
              "        \n",
              "  <svg xmlns=\"http://www.w3.org/2000/svg\" height=\"24px\"viewBox=\"0 0 24 24\"\n",
              "       width=\"24px\">\n",
              "    <path d=\"M0 0h24v24H0V0z\" fill=\"none\"/>\n",
              "    <path d=\"M18.56 5.44l.94 2.06.94-2.06 2.06-.94-2.06-.94-.94-2.06-.94 2.06-2.06.94zm-11 1L8.5 8.5l.94-2.06 2.06-.94-2.06-.94L8.5 2.5l-.94 2.06-2.06.94zm10 10l.94 2.06.94-2.06 2.06-.94-2.06-.94-.94-2.06-.94 2.06-2.06.94z\"/><path d=\"M17.41 7.96l-1.37-1.37c-.4-.4-.92-.59-1.43-.59-.52 0-1.04.2-1.43.59L10.3 9.45l-7.72 7.72c-.78.78-.78 2.05 0 2.83L4 21.41c.39.39.9.59 1.41.59.51 0 1.02-.2 1.41-.59l7.78-7.78 2.81-2.81c.8-.78.8-2.07 0-2.86zM5.41 20L4 18.59l7.72-7.72 1.47 1.35L5.41 20z\"/>\n",
              "  </svg>\n",
              "      </button>\n",
              "      \n",
              "  <style>\n",
              "    .colab-df-container {\n",
              "      display:flex;\n",
              "      flex-wrap:wrap;\n",
              "      gap: 12px;\n",
              "    }\n",
              "\n",
              "    .colab-df-convert {\n",
              "      background-color: #E8F0FE;\n",
              "      border: none;\n",
              "      border-radius: 50%;\n",
              "      cursor: pointer;\n",
              "      display: none;\n",
              "      fill: #1967D2;\n",
              "      height: 32px;\n",
              "      padding: 0 0 0 0;\n",
              "      width: 32px;\n",
              "    }\n",
              "\n",
              "    .colab-df-convert:hover {\n",
              "      background-color: #E2EBFA;\n",
              "      box-shadow: 0px 1px 2px rgba(60, 64, 67, 0.3), 0px 1px 3px 1px rgba(60, 64, 67, 0.15);\n",
              "      fill: #174EA6;\n",
              "    }\n",
              "\n",
              "    [theme=dark] .colab-df-convert {\n",
              "      background-color: #3B4455;\n",
              "      fill: #D2E3FC;\n",
              "    }\n",
              "\n",
              "    [theme=dark] .colab-df-convert:hover {\n",
              "      background-color: #434B5C;\n",
              "      box-shadow: 0px 1px 3px 1px rgba(0, 0, 0, 0.15);\n",
              "      filter: drop-shadow(0px 1px 2px rgba(0, 0, 0, 0.3));\n",
              "      fill: #FFFFFF;\n",
              "    }\n",
              "  </style>\n",
              "\n",
              "      <script>\n",
              "        const buttonEl =\n",
              "          document.querySelector('#df-47b0f1d2-77c0-41e9-8622-3c6e5d79dbb2 button.colab-df-convert');\n",
              "        buttonEl.style.display =\n",
              "          google.colab.kernel.accessAllowed ? 'block' : 'none';\n",
              "\n",
              "        async function convertToInteractive(key) {\n",
              "          const element = document.querySelector('#df-47b0f1d2-77c0-41e9-8622-3c6e5d79dbb2');\n",
              "          const dataTable =\n",
              "            await google.colab.kernel.invokeFunction('convertToInteractive',\n",
              "                                                     [key], {});\n",
              "          if (!dataTable) return;\n",
              "\n",
              "          const docLinkHtml = 'Like what you see? Visit the ' +\n",
              "            '<a target=\"_blank\" href=https://colab.research.google.com/notebooks/data_table.ipynb>data table notebook</a>'\n",
              "            + ' to learn more about interactive tables.';\n",
              "          element.innerHTML = '';\n",
              "          dataTable['output_type'] = 'display_data';\n",
              "          await google.colab.output.renderOutput(dataTable, element);\n",
              "          const docLink = document.createElement('div');\n",
              "          docLink.innerHTML = docLinkHtml;\n",
              "          element.appendChild(docLink);\n",
              "        }\n",
              "      </script>\n",
              "    </div>\n",
              "  </div>\n",
              "  "
            ]
          },
          "metadata": {},
          "execution_count": 22
        }
      ]
    },
    {
      "cell_type": "code",
      "execution_count": 23,
      "metadata": {
        "colab": {
          "base_uri": "https://localhost:8080/",
          "height": 279
        },
        "id": "zR4jvydD0UEx",
        "outputId": "6ab49e39-da25-4f40-bd78-a72d11aa75b1"
      },
      "outputs": [
        {
          "output_type": "display_data",
          "data": {
            "text/plain": [
              "<Figure size 432x288 with 1 Axes>"
            ],
            "image/png": "[encoded data removed]"
          },
          "metadata": {
            "needs_background": "light"
          }
        }
      ],
      "source": [
        "sns.boxplot(x='runtime', data=df);"
      ]
    },
    {
      "cell_type": "markdown",
      "metadata": {
        "id": "ELT3MRvP0YGJ"
      },
      "source": [
        "This is not that bad, we have a few outliers but we can see that most of our programming is in the 45-110 minute time."
      ]
    },
    {
      "cell_type": "code",
      "execution_count": 24,
      "metadata": {
        "colab": {
          "base_uri": "https://localhost:8080/"
        },
        "id": "B5tWlYFAQbN3",
        "outputId": "70fb3860-225d-422a-d41f-0ac1150d34e4"
      },
      "outputs": [
        {
          "output_type": "execute_result",
          "data": {
            "text/plain": [
              "MOVIE    3759\n",
              "SHOW     2047\n",
              "Name: type, dtype: int64"
            ]
          },
          "metadata": {},
          "execution_count": 24
        }
      ],
      "source": [
        "df['type'].value_counts()"
      ]
    },
    {
      "cell_type": "code",
      "execution_count": 25,
      "metadata": {
        "colab": {
          "base_uri": "https://localhost:8080/"
        },
        "id": "N2RryL4UQ80d",
        "outputId": "8e78e886-16c3-40f4-b37a-0bd97b813745"
      },
      "outputs": [
        {
          "output_type": "execute_result",
          "data": {
            "text/plain": [
              "['comedy']                                            510\n",
              "['drama']                                             350\n",
              "['documentation']                                     320\n",
              "['comedy', 'drama']                                   141\n",
              "['drama', 'comedy']                                   128\n",
              "                                                     ... \n",
              "['drama', 'family', 'comedy', 'music']                  1\n",
              "['drama', 'thriller', 'western']                        1\n",
              "['comedy', 'thriller', 'drama', 'action', 'crime']      1\n",
              "['romance', 'drama', 'history', 'european']             1\n",
              "['family', 'comedy', 'animation']                       1\n",
              "Name: genres, Length: 1626, dtype: int64"
            ]
          },
          "metadata": {},
          "execution_count": 25
        }
      ],
      "source": [
        "df['genres'].value_counts()  "
      ]
    },
    {
      "cell_type": "markdown",
      "metadata": {
        "id": "4MlXw3omhzkr"
      },
      "source": [
        "1626 values, I want to break this down into fewer values so I am going to extract just the first genre of each row. "
      ]
    },
    {
      "cell_type": "markdown",
      "source": [
        "First I remove the unwanted text from my columns."
      ],
      "metadata": {
        "id": "4edAS_wyKfbo"
      }
    },
    {
      "cell_type": "code",
      "source": [
        "df['genres'] = df['genres'].str.replace('[','')\n",
        "df['genres'] = df['genres'].str.replace(']','')\n",
        "df['genres'] = df['genres'].str.replace(\"'\",'')\n",
        "df.head()"
      ],
      "metadata": {
        "colab": {
          "base_uri": "https://localhost:8080/",
          "height": 296
        },
        "id": "cW23BRi3Dqhr",
        "outputId": "834fe822-603c-4487-bea8-b3813e7be0b6"
      },
      "execution_count": 26,
      "outputs": [
        {
          "output_type": "stream",
          "name": "stderr",
          "text": [
            "/usr/local/lib/python3.7/dist-packages/ipykernel_launcher.py:1: FutureWarning: The default value of regex will change from True to False in a future version. In addition, single character regular expressions will *not* be treated as literal strings when regex=True.\n",
            "  \"\"\"Entry point for launching an IPython kernel.\n",
            "/usr/local/lib/python3.7/dist-packages/ipykernel_launcher.py:2: FutureWarning: The default value of regex will change from True to False in a future version. In addition, single character regular expressions will *not* be treated as literal strings when regex=True.\n",
            "  \n"
          ]
        },
        {
          "output_type": "execute_result",
          "data": {
            "text/plain": [
              "    type  release_year  runtime           genres  imdb_score  imdb_votes  \\\n",
              "0   SHOW          1945       48    documentation         NaN         NaN   \n",
              "1  MOVIE          1976      113     crime, drama         8.3    795222.0   \n",
              "2  MOVIE          1975       91  comedy, fantasy         8.2    530877.0   \n",
              "3  MOVIE          1979       94           comedy         8.0    392419.0   \n",
              "4  MOVIE          1973      133           horror         8.1    391942.0   \n",
              "\n",
              "   tmdb_score  \n",
              "0         NaN  \n",
              "1         8.2  \n",
              "2         7.8  \n",
              "3         7.8  \n",
              "4         7.7  "
            ],
            "text/html": [
              "\n",
              "  <div id=\"df-250d6a57-f348-4b38-9d16-f46145cfde2a\">\n",
              "    <div class=\"colab-df-container\">\n",
              "      <div>\n",
              "<style scoped>\n",
              "    .dataframe tbody tr th:only-of-type {\n",
              "        vertical-align: middle;\n",
              "    }\n",
              "\n",
              "    .dataframe tbody tr th {\n",
              "        vertical-align: top;\n",
              "    }\n",
              "\n",
              "    .dataframe thead th {\n",
              "        text-align: right;\n",
              "    }\n",
              "</style>\n",
              "<table border=\"1\" class=\"dataframe\">\n",
              "  <thead>\n",
              "    <tr style=\"text-align: right;\">\n",
              "      <th></th>\n",
              "      <th>type</th>\n",
              "      <th>release_year</th>\n",
              "      <th>runtime</th>\n",
              "      <th>genres</th>\n",
              "      <th>imdb_score</th>\n",
              "      <th>imdb_votes</th>\n",
              "      <th>tmdb_score</th>\n",
              "    </tr>\n",
              "  </thead>\n",
              "  <tbody>\n",
              "    <tr>\n",
              "      <th>0</th>\n",
              "      <td>SHOW</td>\n",
              "      <td>1945</td>\n",
              "      <td>48</td>\n",
              "      <td>documentation</td>\n",
              "      <td>NaN</td>\n",
              "      <td>NaN</td>\n",
              "      <td>NaN</td>\n",
              "    </tr>\n",
              "    <tr>\n",
              "      <th>1</th>\n",
              "      <td>MOVIE</td>\n",
              "      <td>1976</td>\n",
              "      <td>113</td>\n",
              "      <td>crime, drama</td>\n",
              "      <td>8.3</td>\n",
              "      <td>795222.0</td>\n",
              "      <td>8.2</td>\n",
              "    </tr>\n",
              "    <tr>\n",
              "      <th>2</th>\n",
              "      <td>MOVIE</td>\n",
              "      <td>1975</td>\n",
              "      <td>91</td>\n",
              "      <td>comedy, fantasy</td>\n",
              "      <td>8.2</td>\n",
              "      <td>530877.0</td>\n",
              "      <td>7.8</td>\n",
              "    </tr>\n",
              "    <tr>\n",
              "      <th>3</th>\n",
              "      <td>MOVIE</td>\n",
              "      <td>1979</td>\n",
              "      <td>94</td>\n",
              "      <td>comedy</td>\n",
              "      <td>8.0</td>\n",
              "      <td>392419.0</td>\n",
              "      <td>7.8</td>\n",
              "    </tr>\n",
              "    <tr>\n",
              "      <th>4</th>\n",
              "      <td>MOVIE</td>\n",
              "      <td>1973</td>\n",
              "      <td>133</td>\n",
              "      <td>horror</td>\n",
              "      <td>8.1</td>\n",
              "      <td>391942.0</td>\n",
              "      <td>7.7</td>\n",
              "    </tr>\n",
              "  </tbody>\n",
              "</table>\n",
              "</div>\n",
              "      <button class=\"colab-df-convert\" onclick=\"convertToInteractive('df-250d6a57-f348-4b38-9d16-f46145cfde2a')\"\n",
              "              title=\"Convert this dataframe to an interactive table.\"\n",
              "              style=\"display:none;\">\n",
              "        \n",
              "  <svg xmlns=\"http://www.w3.org/2000/svg\" height=\"24px\"viewBox=\"0 0 24 24\"\n",
              "       width=\"24px\">\n",
              "    <path d=\"M0 0h24v24H0V0z\" fill=\"none\"/>\n",
              "    <path d=\"M18.56 5.44l.94 2.06.94-2.06 2.06-.94-2.06-.94-.94-2.06-.94 2.06-2.06.94zm-11 1L8.5 8.5l.94-2.06 2.06-.94-2.06-.94L8.5 2.5l-.94 2.06-2.06.94zm10 10l.94 2.06.94-2.06 2.06-.94-2.06-.94-.94-2.06-.94 2.06-2.06.94z\"/><path d=\"M17.41 7.96l-1.37-1.37c-.4-.4-.92-.59-1.43-.59-.52 0-1.04.2-1.43.59L10.3 9.45l-7.72 7.72c-.78.78-.78 2.05 0 2.83L4 21.41c.39.39.9.59 1.41.59.51 0 1.02-.2 1.41-.59l7.78-7.78 2.81-2.81c.8-.78.8-2.07 0-2.86zM5.41 20L4 18.59l7.72-7.72 1.47 1.35L5.41 20z\"/>\n",
              "  </svg>\n",
              "      </button>\n",
              "      \n",
              "  <style>\n",
              "    .colab-df-container {\n",
              "      display:flex;\n",
              "      flex-wrap:wrap;\n",
              "      gap: 12px;\n",
              "    }\n",
              "\n",
              "    .colab-df-convert {\n",
              "      background-color: #E8F0FE;\n",
              "      border: none;\n",
              "      border-radius: 50%;\n",
              "      cursor: pointer;\n",
              "      display: none;\n",
              "      fill: #1967D2;\n",
              "      height: 32px;\n",
              "      padding: 0 0 0 0;\n",
              "      width: 32px;\n",
              "    }\n",
              "\n",
              "    .colab-df-convert:hover {\n",
              "      background-color: #E2EBFA;\n",
              "      box-shadow: 0px 1px 2px rgba(60, 64, 67, 0.3), 0px 1px 3px 1px rgba(60, 64, 67, 0.15);\n",
              "      fill: #174EA6;\n",
              "    }\n",
              "\n",
              "    [theme=dark] .colab-df-convert {\n",
              "      background-color: #3B4455;\n",
              "      fill: #D2E3FC;\n",
              "    }\n",
              "\n",
              "    [theme=dark] .colab-df-convert:hover {\n",
              "      background-color: #434B5C;\n",
              "      box-shadow: 0px 1px 3px 1px rgba(0, 0, 0, 0.15);\n",
              "      filter: drop-shadow(0px 1px 2px rgba(0, 0, 0, 0.3));\n",
              "      fill: #FFFFFF;\n",
              "    }\n",
              "  </style>\n",
              "\n",
              "      <script>\n",
              "        const buttonEl =\n",
              "          document.querySelector('#df-250d6a57-f348-4b38-9d16-f46145cfde2a button.colab-df-convert');\n",
              "        buttonEl.style.display =\n",
              "          google.colab.kernel.accessAllowed ? 'block' : 'none';\n",
              "\n",
              "        async function convertToInteractive(key) {\n",
              "          const element = document.querySelector('#df-250d6a57-f348-4b38-9d16-f46145cfde2a');\n",
              "          const dataTable =\n",
              "            await google.colab.kernel.invokeFunction('convertToInteractive',\n",
              "                                                     [key], {});\n",
              "          if (!dataTable) return;\n",
              "\n",
              "          const docLinkHtml = 'Like what you see? Visit the ' +\n",
              "            '<a target=\"_blank\" href=https://colab.research.google.com/notebooks/data_table.ipynb>data table notebook</a>'\n",
              "            + ' to learn more about interactive tables.';\n",
              "          element.innerHTML = '';\n",
              "          dataTable['output_type'] = 'display_data';\n",
              "          await google.colab.output.renderOutput(dataTable, element);\n",
              "          const docLink = document.createElement('div');\n",
              "          docLink.innerHTML = docLinkHtml;\n",
              "          element.appendChild(docLink);\n",
              "        }\n",
              "      </script>\n",
              "    </div>\n",
              "  </div>\n",
              "  "
            ]
          },
          "metadata": {},
          "execution_count": 26
        }
      ]
    },
    {
      "cell_type": "markdown",
      "source": [
        "Now I split the target column into the data i want to keep."
      ],
      "metadata": {
        "id": "NZmcYYFvKlZG"
      }
    },
    {
      "cell_type": "code",
      "execution_count": 27,
      "metadata": {
        "colab": {
          "base_uri": "https://localhost:8080/",
          "height": 206
        },
        "id": "yIpL_Dxchyod",
        "outputId": "0f46573e-6e6e-4cc6-dc60-0ee8aa457ba9"
      },
      "outputs": [
        {
          "output_type": "execute_result",
          "data": {
            "text/plain": [
              "    type  release_year  runtime           genres  imdb_score  imdb_votes  \\\n",
              "0   SHOW          1945       48    documentation         NaN         NaN   \n",
              "1  MOVIE          1976      113     crime, drama         8.3    795222.0   \n",
              "2  MOVIE          1975       91  comedy, fantasy         8.2    530877.0   \n",
              "3  MOVIE          1979       94           comedy         8.0    392419.0   \n",
              "4  MOVIE          1973      133           horror         8.1    391942.0   \n",
              "\n",
              "   tmdb_score          genre        2     3     4     5     6     7     8  \\\n",
              "0         NaN  documentation     None  None  None  None  None  None  None   \n",
              "1         8.2          crime    drama  None  None  None  None  None  None   \n",
              "2         7.8         comedy  fantasy  None  None  None  None  None  None   \n",
              "3         7.8         comedy     None  None  None  None  None  None  None   \n",
              "4         7.7         horror     None  None  None  None  None  None  None   \n",
              "\n",
              "      9  \n",
              "0  None  \n",
              "1  None  \n",
              "2  None  \n",
              "3  None  \n",
              "4  None  "
            ],
            "text/html": [
              "\n",
              "  <div id=\"df-21ab00dd-f15b-45c6-82db-a9d5c32fe69f\">\n",
              "    <div class=\"colab-df-container\">\n",
              "      <div>\n",
              "<style scoped>\n",
              "    .dataframe tbody tr th:only-of-type {\n",
              "        vertical-align: middle;\n",
              "    }\n",
              "\n",
              "    .dataframe tbody tr th {\n",
              "        vertical-align: top;\n",
              "    }\n",
              "\n",
              "    .dataframe thead th {\n",
              "        text-align: right;\n",
              "    }\n",
              "</style>\n",
              "<table border=\"1\" class=\"dataframe\">\n",
              "  <thead>\n",
              "    <tr style=\"text-align: right;\">\n",
              "      <th></th>\n",
              "      <th>type</th>\n",
              "      <th>release_year</th>\n",
              "      <th>runtime</th>\n",
              "      <th>genres</th>\n",
              "      <th>imdb_score</th>\n",
              "      <th>imdb_votes</th>\n",
              "      <th>tmdb_score</th>\n",
              "      <th>genre</th>\n",
              "      <th>2</th>\n",
              "      <th>3</th>\n",
              "      <th>4</th>\n",
              "      <th>5</th>\n",
              "      <th>6</th>\n",
              "      <th>7</th>\n",
              "      <th>8</th>\n",
              "      <th>9</th>\n",
              "    </tr>\n",
              "  </thead>\n",
              "  <tbody>\n",
              "    <tr>\n",
              "      <th>0</th>\n",
              "      <td>SHOW</td>\n",
              "      <td>1945</td>\n",
              "      <td>48</td>\n",
              "      <td>documentation</td>\n",
              "      <td>NaN</td>\n",
              "      <td>NaN</td>\n",
              "      <td>NaN</td>\n",
              "      <td>documentation</td>\n",
              "      <td>None</td>\n",
              "      <td>None</td>\n",
              "      <td>None</td>\n",
              "      <td>None</td>\n",
              "      <td>None</td>\n",
              "      <td>None</td>\n",
              "      <td>None</td>\n",
              "      <td>None</td>\n",
              "    </tr>\n",
              "    <tr>\n",
              "      <th>1</th>\n",
              "      <td>MOVIE</td>\n",
              "      <td>1976</td>\n",
              "      <td>113</td>\n",
              "      <td>crime, drama</td>\n",
              "      <td>8.3</td>\n",
              "      <td>795222.0</td>\n",
              "      <td>8.2</td>\n",
              "      <td>crime</td>\n",
              "      <td>drama</td>\n",
              "      <td>None</td>\n",
              "      <td>None</td>\n",
              "      <td>None</td>\n",
              "      <td>None</td>\n",
              "      <td>None</td>\n",
              "      <td>None</td>\n",
              "      <td>None</td>\n",
              "    </tr>\n",
              "    <tr>\n",
              "      <th>2</th>\n",
              "      <td>MOVIE</td>\n",
              "      <td>1975</td>\n",
              "      <td>91</td>\n",
              "      <td>comedy, fantasy</td>\n",
              "      <td>8.2</td>\n",
              "      <td>530877.0</td>\n",
              "      <td>7.8</td>\n",
              "      <td>comedy</td>\n",
              "      <td>fantasy</td>\n",
              "      <td>None</td>\n",
              "      <td>None</td>\n",
              "      <td>None</td>\n",
              "      <td>None</td>\n",
              "      <td>None</td>\n",
              "      <td>None</td>\n",
              "      <td>None</td>\n",
              "    </tr>\n",
              "    <tr>\n",
              "      <th>3</th>\n",
              "      <td>MOVIE</td>\n",
              "      <td>1979</td>\n",
              "      <td>94</td>\n",
              "      <td>comedy</td>\n",
              "      <td>8.0</td>\n",
              "      <td>392419.0</td>\n",
              "      <td>7.8</td>\n",
              "      <td>comedy</td>\n",
              "      <td>None</td>\n",
              "      <td>None</td>\n",
              "      <td>None</td>\n",
              "      <td>None</td>\n",
              "      <td>None</td>\n",
              "      <td>None</td>\n",
              "      <td>None</td>\n",
              "      <td>None</td>\n",
              "    </tr>\n",
              "    <tr>\n",
              "      <th>4</th>\n",
              "      <td>MOVIE</td>\n",
              "      <td>1973</td>\n",
              "      <td>133</td>\n",
              "      <td>horror</td>\n",
              "      <td>8.1</td>\n",
              "      <td>391942.0</td>\n",
              "      <td>7.7</td>\n",
              "      <td>horror</td>\n",
              "      <td>None</td>\n",
              "      <td>None</td>\n",
              "      <td>None</td>\n",
              "      <td>None</td>\n",
              "      <td>None</td>\n",
              "      <td>None</td>\n",
              "      <td>None</td>\n",
              "      <td>None</td>\n",
              "    </tr>\n",
              "  </tbody>\n",
              "</table>\n",
              "</div>\n",
              "      <button class=\"colab-df-convert\" onclick=\"convertToInteractive('df-21ab00dd-f15b-45c6-82db-a9d5c32fe69f')\"\n",
              "              title=\"Convert this dataframe to an interactive table.\"\n",
              "              style=\"display:none;\">\n",
              "        \n",
              "  <svg xmlns=\"http://www.w3.org/2000/svg\" height=\"24px\"viewBox=\"0 0 24 24\"\n",
              "       width=\"24px\">\n",
              "    <path d=\"M0 0h24v24H0V0z\" fill=\"none\"/>\n",
              "    <path d=\"M18.56 5.44l.94 2.06.94-2.06 2.06-.94-2.06-.94-.94-2.06-.94 2.06-2.06.94zm-11 1L8.5 8.5l.94-2.06 2.06-.94-2.06-.94L8.5 2.5l-.94 2.06-2.06.94zm10 10l.94 2.06.94-2.06 2.06-.94-2.06-.94-.94-2.06-.94 2.06-2.06.94z\"/><path d=\"M17.41 7.96l-1.37-1.37c-.4-.4-.92-.59-1.43-.59-.52 0-1.04.2-1.43.59L10.3 9.45l-7.72 7.72c-.78.78-.78 2.05 0 2.83L4 21.41c.39.39.9.59 1.41.59.51 0 1.02-.2 1.41-.59l7.78-7.78 2.81-2.81c.8-.78.8-2.07 0-2.86zM5.41 20L4 18.59l7.72-7.72 1.47 1.35L5.41 20z\"/>\n",
              "  </svg>\n",
              "      </button>\n",
              "      \n",
              "  <style>\n",
              "    .colab-df-container {\n",
              "      display:flex;\n",
              "      flex-wrap:wrap;\n",
              "      gap: 12px;\n",
              "    }\n",
              "\n",
              "    .colab-df-convert {\n",
              "      background-color: #E8F0FE;\n",
              "      border: none;\n",
              "      border-radius: 50%;\n",
              "      cursor: pointer;\n",
              "      display: none;\n",
              "      fill: #1967D2;\n",
              "      height: 32px;\n",
              "      padding: 0 0 0 0;\n",
              "      width: 32px;\n",
              "    }\n",
              "\n",
              "    .colab-df-convert:hover {\n",
              "      background-color: #E2EBFA;\n",
              "      box-shadow: 0px 1px 2px rgba(60, 64, 67, 0.3), 0px 1px 3px 1px rgba(60, 64, 67, 0.15);\n",
              "      fill: #174EA6;\n",
              "    }\n",
              "\n",
              "    [theme=dark] .colab-df-convert {\n",
              "      background-color: #3B4455;\n",
              "      fill: #D2E3FC;\n",
              "    }\n",
              "\n",
              "    [theme=dark] .colab-df-convert:hover {\n",
              "      background-color: #434B5C;\n",
              "      box-shadow: 0px 1px 3px 1px rgba(0, 0, 0, 0.15);\n",
              "      filter: drop-shadow(0px 1px 2px rgba(0, 0, 0, 0.3));\n",
              "      fill: #FFFFFF;\n",
              "    }\n",
              "  </style>\n",
              "\n",
              "      <script>\n",
              "        const buttonEl =\n",
              "          document.querySelector('#df-21ab00dd-f15b-45c6-82db-a9d5c32fe69f button.colab-df-convert');\n",
              "        buttonEl.style.display =\n",
              "          google.colab.kernel.accessAllowed ? 'block' : 'none';\n",
              "\n",
              "        async function convertToInteractive(key) {\n",
              "          const element = document.querySelector('#df-21ab00dd-f15b-45c6-82db-a9d5c32fe69f');\n",
              "          const dataTable =\n",
              "            await google.colab.kernel.invokeFunction('convertToInteractive',\n",
              "                                                     [key], {});\n",
              "          if (!dataTable) return;\n",
              "\n",
              "          const docLinkHtml = 'Like what you see? Visit the ' +\n",
              "            '<a target=\"_blank\" href=https://colab.research.google.com/notebooks/data_table.ipynb>data table notebook</a>'\n",
              "            + ' to learn more about interactive tables.';\n",
              "          element.innerHTML = '';\n",
              "          dataTable['output_type'] = 'display_data';\n",
              "          await google.colab.output.renderOutput(dataTable, element);\n",
              "          const docLink = document.createElement('div');\n",
              "          docLink.innerHTML = docLinkHtml;\n",
              "          element.appendChild(docLink);\n",
              "        }\n",
              "      </script>\n",
              "    </div>\n",
              "  </div>\n",
              "  "
            ]
          },
          "metadata": {},
          "execution_count": 27
        }
      ],
      "source": [
        "df[['genre','2','3','4','5','6','7','8','9']]= df['genres'].str.split(', ',expand=True)\n",
        "df.head()"
      ]
    },
    {
      "cell_type": "markdown",
      "source": [
        "Finally I remove the old column and the excess columns."
      ],
      "metadata": {
        "id": "CZtywPtAKpyw"
      }
    },
    {
      "cell_type": "code",
      "source": [
        "df = df.drop(columns= ['genres','2','3','4','5','6','7','8','9'])\n",
        "df.head()"
      ],
      "metadata": {
        "colab": {
          "base_uri": "https://localhost:8080/",
          "height": 206
        },
        "id": "X8oIyHk-4CsE",
        "outputId": "9a68657c-8737-4637-88b7-be664a2c6b66"
      },
      "execution_count": 28,
      "outputs": [
        {
          "output_type": "execute_result",
          "data": {
            "text/plain": [
              "    type  release_year  runtime  imdb_score  imdb_votes  tmdb_score  \\\n",
              "0   SHOW          1945       48         NaN         NaN         NaN   \n",
              "1  MOVIE          1976      113         8.3    795222.0         8.2   \n",
              "2  MOVIE          1975       91         8.2    530877.0         7.8   \n",
              "3  MOVIE          1979       94         8.0    392419.0         7.8   \n",
              "4  MOVIE          1973      133         8.1    391942.0         7.7   \n",
              "\n",
              "           genre  \n",
              "0  documentation  \n",
              "1          crime  \n",
              "2         comedy  \n",
              "3         comedy  \n",
              "4         horror  "
            ],
            "text/html": [
              "\n",
              "  <div id=\"df-a88ddcc9-2b91-48ce-b637-d84f2cc158f7\">\n",
              "    <div class=\"colab-df-container\">\n",
              "      <div>\n",
              "<style scoped>\n",
              "    .dataframe tbody tr th:only-of-type {\n",
              "        vertical-align: middle;\n",
              "    }\n",
              "\n",
              "    .dataframe tbody tr th {\n",
              "        vertical-align: top;\n",
              "    }\n",
              "\n",
              "    .dataframe thead th {\n",
              "        text-align: right;\n",
              "    }\n",
              "</style>\n",
              "<table border=\"1\" class=\"dataframe\">\n",
              "  <thead>\n",
              "    <tr style=\"text-align: right;\">\n",
              "      <th></th>\n",
              "      <th>type</th>\n",
              "      <th>release_year</th>\n",
              "      <th>runtime</th>\n",
              "      <th>imdb_score</th>\n",
              "      <th>imdb_votes</th>\n",
              "      <th>tmdb_score</th>\n",
              "      <th>genre</th>\n",
              "    </tr>\n",
              "  </thead>\n",
              "  <tbody>\n",
              "    <tr>\n",
              "      <th>0</th>\n",
              "      <td>SHOW</td>\n",
              "      <td>1945</td>\n",
              "      <td>48</td>\n",
              "      <td>NaN</td>\n",
              "      <td>NaN</td>\n",
              "      <td>NaN</td>\n",
              "      <td>documentation</td>\n",
              "    </tr>\n",
              "    <tr>\n",
              "      <th>1</th>\n",
              "      <td>MOVIE</td>\n",
              "      <td>1976</td>\n",
              "      <td>113</td>\n",
              "      <td>8.3</td>\n",
              "      <td>795222.0</td>\n",
              "      <td>8.2</td>\n",
              "      <td>crime</td>\n",
              "    </tr>\n",
              "    <tr>\n",
              "      <th>2</th>\n",
              "      <td>MOVIE</td>\n",
              "      <td>1975</td>\n",
              "      <td>91</td>\n",
              "      <td>8.2</td>\n",
              "      <td>530877.0</td>\n",
              "      <td>7.8</td>\n",
              "      <td>comedy</td>\n",
              "    </tr>\n",
              "    <tr>\n",
              "      <th>3</th>\n",
              "      <td>MOVIE</td>\n",
              "      <td>1979</td>\n",
              "      <td>94</td>\n",
              "      <td>8.0</td>\n",
              "      <td>392419.0</td>\n",
              "      <td>7.8</td>\n",
              "      <td>comedy</td>\n",
              "    </tr>\n",
              "    <tr>\n",
              "      <th>4</th>\n",
              "      <td>MOVIE</td>\n",
              "      <td>1973</td>\n",
              "      <td>133</td>\n",
              "      <td>8.1</td>\n",
              "      <td>391942.0</td>\n",
              "      <td>7.7</td>\n",
              "      <td>horror</td>\n",
              "    </tr>\n",
              "  </tbody>\n",
              "</table>\n",
              "</div>\n",
              "      <button class=\"colab-df-convert\" onclick=\"convertToInteractive('df-a88ddcc9-2b91-48ce-b637-d84f2cc158f7')\"\n",
              "              title=\"Convert this dataframe to an interactive table.\"\n",
              "              style=\"display:none;\">\n",
              "        \n",
              "  <svg xmlns=\"http://www.w3.org/2000/svg\" height=\"24px\"viewBox=\"0 0 24 24\"\n",
              "       width=\"24px\">\n",
              "    <path d=\"M0 0h24v24H0V0z\" fill=\"none\"/>\n",
              "    <path d=\"M18.56 5.44l.94 2.06.94-2.06 2.06-.94-2.06-.94-.94-2.06-.94 2.06-2.06.94zm-11 1L8.5 8.5l.94-2.06 2.06-.94-2.06-.94L8.5 2.5l-.94 2.06-2.06.94zm10 10l.94 2.06.94-2.06 2.06-.94-2.06-.94-.94-2.06-.94 2.06-2.06.94z\"/><path d=\"M17.41 7.96l-1.37-1.37c-.4-.4-.92-.59-1.43-.59-.52 0-1.04.2-1.43.59L10.3 9.45l-7.72 7.72c-.78.78-.78 2.05 0 2.83L4 21.41c.39.39.9.59 1.41.59.51 0 1.02-.2 1.41-.59l7.78-7.78 2.81-2.81c.8-.78.8-2.07 0-2.86zM5.41 20L4 18.59l7.72-7.72 1.47 1.35L5.41 20z\"/>\n",
              "  </svg>\n",
              "      </button>\n",
              "      \n",
              "  <style>\n",
              "    .colab-df-container {\n",
              "      display:flex;\n",
              "      flex-wrap:wrap;\n",
              "      gap: 12px;\n",
              "    }\n",
              "\n",
              "    .colab-df-convert {\n",
              "      background-color: #E8F0FE;\n",
              "      border: none;\n",
              "      border-radius: 50%;\n",
              "      cursor: pointer;\n",
              "      display: none;\n",
              "      fill: #1967D2;\n",
              "      height: 32px;\n",
              "      padding: 0 0 0 0;\n",
              "      width: 32px;\n",
              "    }\n",
              "\n",
              "    .colab-df-convert:hover {\n",
              "      background-color: #E2EBFA;\n",
              "      box-shadow: 0px 1px 2px rgba(60, 64, 67, 0.3), 0px 1px 3px 1px rgba(60, 64, 67, 0.15);\n",
              "      fill: #174EA6;\n",
              "    }\n",
              "\n",
              "    [theme=dark] .colab-df-convert {\n",
              "      background-color: #3B4455;\n",
              "      fill: #D2E3FC;\n",
              "    }\n",
              "\n",
              "    [theme=dark] .colab-df-convert:hover {\n",
              "      background-color: #434B5C;\n",
              "      box-shadow: 0px 1px 3px 1px rgba(0, 0, 0, 0.15);\n",
              "      filter: drop-shadow(0px 1px 2px rgba(0, 0, 0, 0.3));\n",
              "      fill: #FFFFFF;\n",
              "    }\n",
              "  </style>\n",
              "\n",
              "      <script>\n",
              "        const buttonEl =\n",
              "          document.querySelector('#df-a88ddcc9-2b91-48ce-b637-d84f2cc158f7 button.colab-df-convert');\n",
              "        buttonEl.style.display =\n",
              "          google.colab.kernel.accessAllowed ? 'block' : 'none';\n",
              "\n",
              "        async function convertToInteractive(key) {\n",
              "          const element = document.querySelector('#df-a88ddcc9-2b91-48ce-b637-d84f2cc158f7');\n",
              "          const dataTable =\n",
              "            await google.colab.kernel.invokeFunction('convertToInteractive',\n",
              "                                                     [key], {});\n",
              "          if (!dataTable) return;\n",
              "\n",
              "          const docLinkHtml = 'Like what you see? Visit the ' +\n",
              "            '<a target=\"_blank\" href=https://colab.research.google.com/notebooks/data_table.ipynb>data table notebook</a>'\n",
              "            + ' to learn more about interactive tables.';\n",
              "          element.innerHTML = '';\n",
              "          dataTable['output_type'] = 'display_data';\n",
              "          await google.colab.output.renderOutput(dataTable, element);\n",
              "          const docLink = document.createElement('div');\n",
              "          docLink.innerHTML = docLinkHtml;\n",
              "          element.appendChild(docLink);\n",
              "        }\n",
              "      </script>\n",
              "    </div>\n",
              "  </div>\n",
              "  "
            ]
          },
          "metadata": {},
          "execution_count": 28
        }
      ]
    },
    {
      "cell_type": "code",
      "source": [
        "df['genre'].value_counts()"
      ],
      "metadata": {
        "colab": {
          "base_uri": "https://localhost:8080/"
        },
        "id": "qsQPasUV2Zyi",
        "outputId": "dcf5c5d7-94b9-4f39-d2cf-c5d95be2cd64"
      },
      "execution_count": 29,
      "outputs": [
        {
          "output_type": "execute_result",
          "data": {
            "text/plain": [
              "drama            1432\n",
              "comedy           1310\n",
              "documentation     588\n",
              "thriller          442\n",
              "action            292\n",
              "scifi             289\n",
              "romance           265\n",
              "crime             254\n",
              "animation         232\n",
              "reality           176\n",
              "fantasy           143\n",
              "horror            121\n",
              "                   68\n",
              "family             66\n",
              "music              50\n",
              "war                43\n",
              "western            22\n",
              "history             9\n",
              "sport               4\n",
              "Name: genre, dtype: int64"
            ]
          },
          "metadata": {},
          "execution_count": 29
        }
      ]
    },
    {
      "cell_type": "markdown",
      "source": [
        "Almost perfect, got it down to just one genre for each row.  Now I'm going to impute my missing info with the mode of our set which is drama. "
      ],
      "metadata": {
        "id": "D7UQ-F28K0CW"
      }
    },
    {
      "cell_type": "code",
      "source": [
        "df['genre'] = df['genre'].replace('1','drama')\n",
        "df['genre'].value_counts()"
      ],
      "metadata": {
        "colab": {
          "base_uri": "https://localhost:8080/"
        },
        "id": "LVNuwhTDLlmD",
        "outputId": "cada71b3-45d5-48ab-eec3-f8121332ceeb"
      },
      "execution_count": 30,
      "outputs": [
        {
          "output_type": "execute_result",
          "data": {
            "text/plain": [
              "drama            1432\n",
              "comedy           1310\n",
              "documentation     588\n",
              "thriller          442\n",
              "action            292\n",
              "scifi             289\n",
              "romance           265\n",
              "crime             254\n",
              "animation         232\n",
              "reality           176\n",
              "fantasy           143\n",
              "horror            121\n",
              "                   68\n",
              "family             66\n",
              "music              50\n",
              "war                43\n",
              "western            22\n",
              "history             9\n",
              "sport               4\n",
              "Name: genre, dtype: int64"
            ]
          },
          "metadata": {},
          "execution_count": 30
        }
      ]
    },
    {
      "cell_type": "code",
      "source": [
        "df['genre'].nunique()"
      ],
      "metadata": {
        "colab": {
          "base_uri": "https://localhost:8080/"
        },
        "id": "F60LAL6rPbG4",
        "outputId": "2ff338f0-c007-4d49-b74b-ba53fed6dad8"
      },
      "execution_count": 31,
      "outputs": [
        {
          "output_type": "execute_result",
          "data": {
            "text/plain": [
              "19"
            ]
          },
          "metadata": {},
          "execution_count": 31
        }
      ]
    },
    {
      "cell_type": "markdown",
      "source": [
        "Perfect, from 1626 unique values down to 19"
      ],
      "metadata": {
        "id": "QDwMcZPiPODZ"
      }
    },
    {
      "cell_type": "code",
      "source": [
        "df.info()"
      ],
      "metadata": {
        "colab": {
          "base_uri": "https://localhost:8080/"
        },
        "id": "gK6EnGIRLxVS",
        "outputId": "bcf318a7-c8fd-4c06-d16f-911cc51fc73e"
      },
      "execution_count": 32,
      "outputs": [
        {
          "output_type": "stream",
          "name": "stdout",
          "text": [
            "<class 'pandas.core.frame.DataFrame'>\n",
            "RangeIndex: 5806 entries, 0 to 5805\n",
            "Data columns (total 7 columns):\n",
            " #   Column        Non-Null Count  Dtype  \n",
            "---  ------        --------------  -----  \n",
            " 0   type          5806 non-null   object \n",
            " 1   release_year  5806 non-null   int64  \n",
            " 2   runtime       5806 non-null   int64  \n",
            " 3   imdb_score    5283 non-null   float64\n",
            " 4   imdb_votes    5267 non-null   float64\n",
            " 5   tmdb_score    5488 non-null   float64\n",
            " 6   genre         5806 non-null   object \n",
            "dtypes: float64(3), int64(2), object(2)\n",
            "memory usage: 317.6+ KB\n"
          ]
        }
      ]
    },
    {
      "cell_type": "code",
      "execution_count": 33,
      "metadata": {
        "colab": {
          "base_uri": "https://localhost:8080/"
        },
        "id": "gNkt_FC8RID3",
        "outputId": "bf65016a-2588-421c-e738-6ad9170b9d13"
      },
      "outputs": [
        {
          "output_type": "execute_result",
          "data": {
            "text/plain": [
              "6.6    201\n",
              "6.8    199\n",
              "6.5    193\n",
              "6.2    192\n",
              "7.4    190\n",
              "      ... \n",
              "2.0      1\n",
              "1.9      1\n",
              "2.4      1\n",
              "1.6      1\n",
              "1.8      1\n",
              "Name: imdb_score, Length: 81, dtype: int64"
            ]
          },
          "metadata": {},
          "execution_count": 33
        }
      ],
      "source": [
        "df['imdb_score'].value_counts()"
      ]
    },
    {
      "cell_type": "code",
      "execution_count": 34,
      "metadata": {
        "colab": {
          "base_uri": "https://localhost:8080/"
        },
        "id": "6Qey6Ot6RjCw",
        "outputId": "de1dab44-7e05-467e-a726-ad8f5f289294"
      },
      "outputs": [
        {
          "output_type": "execute_result",
          "data": {
            "text/plain": [
              "count    5283.000000\n",
              "mean        6.533447\n",
              "std         1.160932\n",
              "min         1.500000\n",
              "25%         5.800000\n",
              "50%         6.600000\n",
              "75%         7.400000\n",
              "max         9.600000\n",
              "Name: imdb_score, dtype: float64"
            ]
          },
          "metadata": {},
          "execution_count": 34
        }
      ],
      "source": [
        "df['imdb_score'].describe()"
      ]
    },
    {
      "cell_type": "markdown",
      "metadata": {
        "id": "1WyYXf4sRrzx"
      },
      "source": [
        "That looks good."
      ]
    },
    {
      "cell_type": "code",
      "execution_count": 35,
      "metadata": {
        "colab": {
          "base_uri": "https://localhost:8080/"
        },
        "id": "8Et15PklRpw3",
        "outputId": "56cf0cef-dc43-41dc-b3f9-45823e8c36c3"
      },
      "outputs": [
        {
          "output_type": "execute_result",
          "data": {
            "text/plain": [
              "43.0        11\n",
              "25.0        11\n",
              "30.0         9\n",
              "14.0         9\n",
              "74.0         9\n",
              "            ..\n",
              "103.0        1\n",
              "399.0        1\n",
              "278223.0     1\n",
              "28718.0      1\n",
              "10418.0      1\n",
              "Name: imdb_votes, Length: 3831, dtype: int64"
            ]
          },
          "metadata": {},
          "execution_count": 35
        }
      ],
      "source": [
        "df['imdb_votes'].value_counts()"
      ]
    },
    {
      "cell_type": "code",
      "execution_count": 36,
      "metadata": {
        "colab": {
          "base_uri": "https://localhost:8080/"
        },
        "id": "A9yZUgVjRwnH",
        "outputId": "d4c09ed7-1696-49b5-dd7c-b79977a638d7"
      },
      "outputs": [
        {
          "output_type": "execute_result",
          "data": {
            "text/plain": [
              "count    5.267000e+03\n",
              "mean     2.340719e+04\n",
              "std      8.713432e+04\n",
              "min      5.000000e+00\n",
              "25%      5.210000e+02\n",
              "50%      2.279000e+03\n",
              "75%      1.014400e+04\n",
              "max      2.268288e+06\n",
              "Name: imdb_votes, dtype: float64"
            ]
          },
          "metadata": {},
          "execution_count": 36
        }
      ],
      "source": [
        "df['imdb_votes'].describe()"
      ]
    },
    {
      "cell_type": "code",
      "execution_count": 37,
      "metadata": {
        "colab": {
          "base_uri": "https://localhost:8080/"
        },
        "id": "I3_oyU99x0sa",
        "outputId": "09ab495f-3edc-4e5b-e53c-53b6b42e4dea"
      },
      "outputs": [
        {
          "output_type": "execute_result",
          "data": {
            "text/plain": [
              "2019    848\n",
              "2020    805\n",
              "2018    774\n",
              "2021    758\n",
              "2017    580\n",
              "       ... \n",
              "1974      1\n",
              "1959      1\n",
              "1962      1\n",
              "1978      1\n",
              "1945      1\n",
              "Name: release_year, Length: 67, dtype: int64"
            ]
          },
          "metadata": {},
          "execution_count": 37
        }
      ],
      "source": [
        "df['release_year'].value_counts()"
      ]
    },
    {
      "cell_type": "code",
      "execution_count": 38,
      "metadata": {
        "colab": {
          "base_uri": "https://localhost:8080/"
        },
        "id": "Cmy2jRtZxt8c",
        "outputId": "c6fa7e7f-915e-4b67-c6a9-90d7297332af"
      },
      "outputs": [
        {
          "output_type": "execute_result",
          "data": {
            "text/plain": [
              "count    5806.000000\n",
              "mean     2016.013434\n",
              "std         7.324883\n",
              "min      1945.000000\n",
              "25%      2015.000000\n",
              "50%      2018.000000\n",
              "75%      2020.000000\n",
              "max      2022.000000\n",
              "Name: release_year, dtype: float64"
            ]
          },
          "metadata": {},
          "execution_count": 38
        }
      ],
      "source": [
        "df['release_year'].describe()"
      ]
    },
    {
      "cell_type": "code",
      "execution_count": 39,
      "metadata": {
        "colab": {
          "base_uri": "https://localhost:8080/"
        },
        "id": "j5ZVpeSOSV44",
        "outputId": "8988dcec-6f07-4914-e74b-30937aedc1bc"
      },
      "outputs": [
        {
          "output_type": "execute_result",
          "data": {
            "text/plain": [
              "7.0    285\n",
              "7.3    208\n",
              "6.8    207\n",
              "6.5    204\n",
              "7.4    201\n",
              "      ... \n",
              "2.3      1\n",
              "3.1      1\n",
              "0.5      1\n",
              "3.4      1\n",
              "2.5      1\n",
              "Name: tmdb_score, Length: 78, dtype: int64"
            ]
          },
          "metadata": {},
          "execution_count": 39
        }
      ],
      "source": [
        "df['tmdb_score'].value_counts()"
      ]
    },
    {
      "cell_type": "code",
      "execution_count": 40,
      "metadata": {
        "colab": {
          "base_uri": "https://localhost:8080/"
        },
        "id": "VXO2bUo6SMHY",
        "outputId": "1e10936a-973d-4385-adf6-213b4985b26f"
      },
      "outputs": [
        {
          "output_type": "execute_result",
          "data": {
            "text/plain": [
              "count    5488.000000\n",
              "mean        6.818039\n",
              "std         1.171560\n",
              "min         0.500000\n",
              "25%         6.100000\n",
              "50%         6.900000\n",
              "75%         7.500000\n",
              "max        10.000000\n",
              "Name: tmdb_score, dtype: float64"
            ]
          },
          "metadata": {},
          "execution_count": 40
        }
      ],
      "source": [
        "df['tmdb_score'].describe()"
      ]
    },
    {
      "cell_type": "code",
      "source": [
        "df_ml = df.copy() # we need a copy before any imputation to prevent data leakage\n",
        "df_km = df.copy()"
      ],
      "metadata": {
        "id": "caVzaYHu9Lhb"
      },
      "execution_count": 41,
      "outputs": []
    },
    {
      "cell_type": "code",
      "execution_count": 42,
      "metadata": {
        "colab": {
          "base_uri": "https://localhost:8080/"
        },
        "id": "9bVvw2NtToCW",
        "outputId": "ceff5563-2c1b-4044-c155-40fca35c4fa0"
      },
      "outputs": [
        {
          "output_type": "stream",
          "name": "stdout",
          "text": [
            "<class 'pandas.core.frame.DataFrame'>\n",
            "RangeIndex: 5806 entries, 0 to 5805\n",
            "Data columns (total 7 columns):\n",
            " #   Column        Non-Null Count  Dtype  \n",
            "---  ------        --------------  -----  \n",
            " 0   type          5806 non-null   object \n",
            " 1   release_year  5806 non-null   int64  \n",
            " 2   runtime       5806 non-null   int64  \n",
            " 3   imdb_score    5283 non-null   float64\n",
            " 4   imdb_votes    5267 non-null   float64\n",
            " 5   tmdb_score    5488 non-null   float64\n",
            " 6   genre         5806 non-null   object \n",
            "dtypes: float64(3), int64(2), object(2)\n",
            "memory usage: 317.6+ KB\n"
          ]
        }
      ],
      "source": [
        "df.info()"
      ]
    },
    {
      "cell_type": "markdown",
      "metadata": {
        "id": "fYc70YH_TrG4"
      },
      "source": [
        "Data types are correct, we have 4 columns missing data.  As i dont want to skew the data too much i am going to use the mean of imdb_score and tmdb_score to impute for those columns.  For tmdb_popularity and imdb_votes I am going to use the median of those columns because I dont want the outliers skewing my imputation."
      ]
    },
    {
      "cell_type": "code",
      "execution_count": 43,
      "metadata": {
        "colab": {
          "base_uri": "https://localhost:8080/",
          "height": 265
        },
        "id": "HmQSA5wCcnle",
        "outputId": "7936ecf1-ae1b-4877-8749-add49b8730ac"
      },
      "outputs": [
        {
          "output_type": "display_data",
          "data": {
            "text/plain": [
              "<Figure size 432x288 with 1 Axes>"
            ],
            "image/png": "[encoded data removed]"
          },
          "metadata": {
            "needs_background": "light"
          }
        }
      ],
      "source": [
        "df['imdb_score'].hist(bins=50);"
      ]
    },
    {
      "cell_type": "markdown",
      "metadata": {
        "id": "xC5TmJQ1csEv"
      },
      "source": [
        "Before we impute i wanted to get a visual of how our scores are allocated. We see most shows/movies score between a rating of 6 to 8."
      ]
    },
    {
      "cell_type": "code",
      "execution_count": 44,
      "metadata": {
        "colab": {
          "base_uri": "https://localhost:8080/",
          "height": 265
        },
        "id": "e3ogMRFyc-Wn",
        "outputId": "f35f5c03-2463-49fc-fb25-74f803da0450"
      },
      "outputs": [
        {
          "output_type": "display_data",
          "data": {
            "text/plain": [
              "<Figure size 432x288 with 1 Axes>"
            ],
            "image/png": "[encoded data removed]"
          },
          "metadata": {
            "needs_background": "light"
          }
        }
      ],
      "source": [
        "df['tmdb_score'].hist(bins=50);"
      ]
    },
    {
      "cell_type": "markdown",
      "metadata": {
        "id": "WGBCR8aqdIp1"
      },
      "source": [
        "The tmbd movie scores follow in a similar pattern."
      ]
    },
    {
      "cell_type": "code",
      "execution_count": 45,
      "metadata": {
        "colab": {
          "base_uri": "https://localhost:8080/",
          "height": 323
        },
        "id": "lGm-W9EJde2V",
        "outputId": "2390f7ad-d422-4747-ad7a-48ebe25af472"
      },
      "outputs": [
        {
          "output_type": "display_data",
          "data": {
            "text/plain": [
              "<Figure size 432x288 with 2 Axes>"
            ],
            "image/png": "[encoded data removed]"
          },
          "metadata": {
            "needs_background": "light"
          }
        }
      ],
      "source": [
        "corr = df.corr()\n",
        "sns.heatmap(corr, cmap = 'Blues', annot = True);"
      ]
    },
    {
      "cell_type": "markdown",
      "metadata": {
        "id": "IVwTpkC6dpfw"
      },
      "source": [
        "Okay so we can see the moderate correlation between imdb and tmdb scores, nothing else has a strong correlation."
      ]
    },
    {
      "cell_type": "code",
      "execution_count": 46,
      "metadata": {
        "colab": {
          "base_uri": "https://localhost:8080/"
        },
        "id": "nj2JJ5nHTop-",
        "outputId": "635ee77f-e5a0-4416-b441-582333eea35f"
      },
      "outputs": [
        {
          "output_type": "execute_result",
          "data": {
            "text/plain": [
              "0"
            ]
          },
          "metadata": {},
          "execution_count": 46
        }
      ],
      "source": [
        "imdb_score_mean = df['imdb_score'].mean()\n",
        "df['imdb_score'].fillna(imdb_score_mean, inplace=True)\n",
        "df['imdb_score'].isna().sum()"
      ]
    },
    {
      "cell_type": "code",
      "execution_count": 47,
      "metadata": {
        "colab": {
          "base_uri": "https://localhost:8080/"
        },
        "id": "e-u31YqcULCK",
        "outputId": "aec7e4c9-e1f9-4027-d3ce-83600765c806"
      },
      "outputs": [
        {
          "output_type": "execute_result",
          "data": {
            "text/plain": [
              "0"
            ]
          },
          "metadata": {},
          "execution_count": 47
        }
      ],
      "source": [
        "imdb_votes_median = df['imdb_votes'].median()\n",
        "df['imdb_votes'].fillna(imdb_votes_median, inplace=True)\n",
        "df['imdb_votes'].isna().sum()"
      ]
    },
    {
      "cell_type": "code",
      "execution_count": 48,
      "metadata": {
        "colab": {
          "base_uri": "https://localhost:8080/"
        },
        "id": "Q7WXnTLMUajw",
        "outputId": "e8c5a4a0-bb45-4291-f4ef-cb3b28093d81"
      },
      "outputs": [
        {
          "output_type": "execute_result",
          "data": {
            "text/plain": [
              "type            0\n",
              "release_year    0\n",
              "runtime         0\n",
              "imdb_score      0\n",
              "imdb_votes      0\n",
              "tmdb_score      0\n",
              "genre           0\n",
              "dtype: int64"
            ]
          },
          "metadata": {},
          "execution_count": 48
        }
      ],
      "source": [
        "tmdb_score_mean = df['tmdb_score'].mean()\n",
        "df['tmdb_score'].fillna(tmdb_score_mean, inplace=True)\n",
        "df.isna().sum()"
      ]
    },
    {
      "cell_type": "markdown",
      "metadata": {
        "id": "9tupMsk1UjJN"
      },
      "source": [
        "Perfect, no missing data!"
      ]
    },
    {
      "cell_type": "code",
      "execution_count": null,
      "metadata": {
        "colab": {
          "base_uri": "https://localhost:8080/",
          "height": 323
        },
        "id": "RT1dAkSlUiF_",
        "outputId": "f733f632-2fd4-478d-a517-da261564e254"
      },
      "outputs": [
        {
          "output_type": "display_data",
          "data": {
            "text/plain": [
              "<Figure size 432x288 with 2 Axes>"
            ],
            "image/png": "[encoded data removed]"
          },
          "metadata": {}
        }
      ],
      "source": [
        "corr = df.corr()\n",
        "sns.heatmap(corr, cmap = 'Blues', annot = True);"
      ]
    },
    {
      "cell_type": "markdown",
      "metadata": {
        "id": "ed-TUealVbxg"
      },
      "source": [
        "After imputing we notice that our correlation between imdb_score and tmdb_score has gone down by a few percentage points, shouldnt be a big deal. Nothing else has changed. "
      ]
    },
    {
      "cell_type": "markdown",
      "metadata": {
        "id": "v6yAQ66E7usT"
      },
      "source": [
        "## Visuals"
      ]
    },
    {
      "cell_type": "markdown",
      "metadata": {
        "id": "maJhFdUgBoaN"
      },
      "source": [
        "Our only noticable correlation thus far is between IMDB_Score and TMDB_Score. \n",
        "\n",
        "There is a slight correlation between 'runtime' and 'tmdb_score' at .28.\n",
        "\n",
        "We do have a very weak correlation between imdb_votes and imdb_score. Also just as weak we have a correlation between imdb_votes and tmdb_popularity. "
      ]
    },
    {
      "cell_type": "code",
      "execution_count": null,
      "metadata": {
        "id": "AOIYW_Tt7ttY"
      },
      "outputs": [],
      "source": [
        "tmdb_score = df['tmdb_score'].values\n",
        "runtime = df['runtime'].values"
      ]
    },
    {
      "cell_type": "code",
      "execution_count": null,
      "metadata": {
        "colab": {
          "base_uri": "https://localhost:8080/",
          "height": 295
        },
        "id": "d8IF64Px_zv5",
        "outputId": "173bc78a-fcfd-4a64-c0d1-37a6658880b6"
      },
      "outputs": [
        {
          "output_type": "display_data",
          "data": {
            "text/plain": [
              "<Figure size 432x288 with 1 Axes>"
            ],
            "image/png": "[encoded data removed]"
          },
          "metadata": {}
        }
      ],
      "source": [
        "plt.scatter(tmdb_score, runtime, c = 'red', alpha= .3);\n",
        "plt.ylabel('Runtime in minutes');\n",
        "plt.xlabel('TMDB Score')\n",
        "plt.title('Runtime vs TMDB Score')\n",
        "plt.show;"
      ]
    },
    {
      "cell_type": "markdown",
      "metadata": {
        "id": "jnY8FykGC99u"
      },
      "source": [
        "The darker the red, the more points there are in one spot.  This shows us our relationship between TMDB_score and runtime. The bottom right of our plot shows us that shorter shows/movies (we dont know which type they fall into) have a slightly higher TMDB_Score."
      ]
    },
    {
      "cell_type": "code",
      "source": [
        "sns.set_palette('Set1')\n",
        "sns.set_style('darkgrid')\n",
        "sns.barplot(data = df, x = 'type', y = 'imdb_score', order = ['SHOW','MOVIE'], ci=None);\n",
        "plt.title('IMDB Score by Type', fontsize=16)\n",
        "plt.xlabel('Type',fontsize = 12)\n",
        "plt.ylabel('IMDB Score', fontsize =12 )\n",
        "sns.despine();"
      ],
      "metadata": {
        "colab": {
          "base_uri": "https://localhost:8080/",
          "height": 300
        },
        "id": "jn-EVmXsveYa",
        "outputId": "72432fa4-e9cc-48df-8ffc-e79412c7fbd2"
      },
      "execution_count": null,
      "outputs": [
        {
          "output_type": "display_data",
          "data": {
            "text/plain": [
              "<Figure size 432x288 with 1 Axes>"
            ],
            "image/png": "[encoded data removed]"
          },
          "metadata": {}
        }
      ]
    },
    {
      "cell_type": "markdown",
      "source": [
        "Here we can see that while shows do a tab better on imdb score then movies do they are still very similar on score.  This means that there is a market to keep making both film and shows and we should not just focus on one or the other. "
      ],
      "metadata": {
        "id": "mVWoKCi6UijZ"
      }
    },
    {
      "cell_type": "code",
      "source": [
        "sns.set_style('darkgrid')\n",
        "sns.set_palette('Set2')\n",
        "sns.barplot(data = df, x = 'genre', y = 'imdb_score', hue = 'type', ci=None);\n",
        "plt.title('IMDB Score by Genre', fontsize=18)\n",
        "plt.xlabel('Genre',fontsize = 16)\n",
        "plt.ylabel('IMDB Score', fontsize =16 )\n",
        "plt.legend(loc=(1,0))\n",
        "plt.xticks(rotation = 90);"
      ],
      "metadata": {
        "colab": {
          "base_uri": "https://localhost:8080/",
          "height": 370
        },
        "id": "doupeYaJXbVw",
        "outputId": "efcd5f87-fba7-4587-d064-9206f4a3ad32"
      },
      "execution_count": null,
      "outputs": [
        {
          "output_type": "display_data",
          "data": {
            "text/plain": [
              "<Figure size 432x288 with 1 Axes>"
            ],
            "image/png": "[encoded data removed]"
          },
          "metadata": {}
        }
      ]
    },
    {
      "cell_type": "markdown",
      "source": [
        "A further look into the imdb scores against the genres would suggest that we focus on making shows in almost all genres.  This also highlights for us that sport, history and western shows average the highest of all our data.  Furthermore we can now see exactly what genres and type of cinema we should be making overall as well as where we should stay away from such as the horror genre."
      ],
      "metadata": {
        "id": "J8hNAEMYiSan"
      }
    },
    {
      "cell_type": "code",
      "source": [
        "plt.scatter(data = df, x = 'release_year', y = 'imdb_score')\n",
        "plt.title('IMDB Score by Release Year', fontsize=18)\n",
        "plt.xlabel('Release Year',fontsize = 16)\n",
        "plt.ylabel('IMDB Score', fontsize =16 )\n",
        "plt.xticks(rotation = 45);"
      ],
      "metadata": {
        "colab": {
          "base_uri": "https://localhost:8080/",
          "height": 319
        },
        "id": "VIwYoyBhfFoc",
        "outputId": "ab1f6ce5-c720-4afd-8751-3f15bd93ca29"
      },
      "execution_count": null,
      "outputs": [
        {
          "output_type": "display_data",
          "data": {
            "text/plain": [
              "<Figure size 432x288 with 1 Axes>"
            ],
            "image/png": "[encoded data removed]"
          },
          "metadata": {}
        }
      ]
    },
    {
      "cell_type": "markdown",
      "source": [
        "Here we can see that not only are more recent movies scoring lower then ever before we also can take note that most of our data is from relativly newer movies and shows.  I think we should look at cinema from 1950-1990 and see what those have in common as the mean imdb score from those years is much higher and could help us determine what types of cinema people enjoy. "
      ],
      "metadata": {
        "id": "y_q6FV3_hL8N"
      }
    },
    {
      "cell_type": "markdown",
      "metadata": {
        "id": "q5XWL0ACeaar"
      },
      "source": [
        "## ML prep"
      ]
    },
    {
      "cell_type": "code",
      "execution_count": null,
      "metadata": {
        "colab": {
          "base_uri": "https://localhost:8080/"
        },
        "id": "wHFxeBWPegH5",
        "outputId": "fa3a2b5c-0f33-47cf-8a22-5bf98d4360ac"
      },
      "outputs": [
        {
          "output_type": "stream",
          "name": "stdout",
          "text": [
            "<class 'pandas.core.frame.DataFrame'>\n",
            "RangeIndex: 5806 entries, 0 to 5805\n",
            "Data columns (total 7 columns):\n",
            " #   Column        Non-Null Count  Dtype  \n",
            "---  ------        --------------  -----  \n",
            " 0   type          5806 non-null   object \n",
            " 1   release_year  5806 non-null   int64  \n",
            " 2   runtime       5806 non-null   int64  \n",
            " 3   imdb_score    5283 non-null   float64\n",
            " 4   imdb_votes    5267 non-null   float64\n",
            " 5   tmdb_score    5488 non-null   float64\n",
            " 6   genre         5806 non-null   object \n",
            "dtypes: float64(3), int64(2), object(2)\n",
            "memory usage: 317.6+ KB\n"
          ]
        }
      ],
      "source": [
        "df_ml.info()"
      ]
    },
    {
      "cell_type": "markdown",
      "metadata": {
        "id": "9EsjLM40uqWF"
      },
      "source": [
        "I am missing data in my target column (imdb_score).  Because I cant model with missing values I am going to drop all the rows that are missing the imdb_score."
      ]
    },
    {
      "cell_type": "code",
      "execution_count": 50,
      "metadata": {
        "colab": {
          "base_uri": "https://localhost:8080/"
        },
        "id": "TR3psP6rvDTb",
        "outputId": "1c68ab71-e86a-4d56-f772-6b871b8a3820"
      },
      "outputs": [
        {
          "output_type": "execute_result",
          "data": {
            "text/plain": [
              "type              0\n",
              "release_year      0\n",
              "runtime           0\n",
              "imdb_score        0\n",
              "imdb_votes       16\n",
              "tmdb_score      228\n",
              "genre             0\n",
              "dtype: int64"
            ]
          },
          "metadata": {},
          "execution_count": 50
        }
      ],
      "source": [
        "df_ml.dropna(subset=['imdb_score'], inplace=True)\n",
        "df_ml.isna().sum()"
      ]
    },
    {
      "cell_type": "markdown",
      "metadata": {
        "id": "KennnNaYewGd"
      },
      "source": [
        "Time to split, then setup selectors and pipelines, then we can impute."
      ]
    },
    {
      "cell_type": "code",
      "execution_count": 51,
      "metadata": {
        "id": "y92C6Z2Neoh9"
      },
      "outputs": [],
      "source": [
        "#Validation split\n",
        "X = df_ml.drop(columns=['imdb_score'])\n",
        "y = df_ml['imdb_score']\n",
        "X_train, X_test, y_train, y_test = train_test_split(X, y, random_state=42)"
      ]
    },
    {
      "cell_type": "code",
      "execution_count": 52,
      "metadata": {
        "id": "RaWO5scue6JV"
      },
      "outputs": [],
      "source": [
        "#making our ohe pipeline, selector(s) first\n",
        "num_selector = make_column_selector(dtype_include='number')\n",
        "cat_selector = make_column_selector(dtype_include='object')"
      ]
    },
    {
      "cell_type": "markdown",
      "metadata": {
        "id": "7JbVqooufcTF"
      },
      "source": [
        "As I did for EDA im going to use the median of each column to impute our missing values. We want to use median because we do not want the outliers skewing the imputation."
      ]
    },
    {
      "cell_type": "code",
      "execution_count": 53,
      "metadata": {
        "id": "d5x3PJgNfaWy"
      },
      "outputs": [],
      "source": [
        "# Imputers\n",
        "median_imputer = SimpleImputer(strategy='median')\n",
        "scaler = StandardScaler()\n",
        "ohe = OneHotEncoder(handle_unknown='ignore', sparse=False)"
      ]
    },
    {
      "cell_type": "markdown",
      "metadata": {
        "id": "9VPct1yVzovJ"
      },
      "source": [
        "i had originally wanted to use mean to impute my data but with so many outliers skewed on the high side of both imdb_score and tmdb_popularity im going to use median so i dont skew my data any more"
      ]
    },
    {
      "cell_type": "code",
      "execution_count": 54,
      "metadata": {
        "colab": {
          "base_uri": "https://localhost:8080/",
          "height": 126
        },
        "id": "OF0JbkW_fkJP",
        "outputId": "94cf7f6e-2a52-4d20-e55a-f8b383fcf1e9"
      },
      "outputs": [
        {
          "output_type": "execute_result",
          "data": {
            "text/plain": [
              "Pipeline(steps=[('simpleimputer', SimpleImputer(strategy='median')),\n",
              "                ('standardscaler', StandardScaler())])"
            ],
            "text/html": [
              "<style>#sk-6d0a7462-494f-46f5-a7ce-e77c06637417 {color: black;background-color: white;}#sk-6d0a7462-494f-46f5-a7ce-e77c06637417 pre{padding: 0;}#sk-6d0a7462-494f-46f5-a7ce-e77c06637417 div.sk-toggleable {background-color: white;}#sk-6d0a7462-494f-46f5-a7ce-e77c06637417 label.sk-toggleable__label {cursor: pointer;display: block;width: 100%;margin-bottom: 0;padding: 0.3em;box-sizing: border-box;text-align: center;}#sk-6d0a7462-494f-46f5-a7ce-e77c06637417 label.sk-toggleable__label-arrow:before {content: \"▸\";float: left;margin-right: 0.25em;color: #696969;}#sk-6d0a7462-494f-46f5-a7ce-e77c06637417 label.sk-toggleable__label-arrow:hover:before {color: black;}#sk-6d0a7462-494f-46f5-a7ce-e77c06637417 div.sk-estimator:hover label.sk-toggleable__label-arrow:before {color: black;}#sk-6d0a7462-494f-46f5-a7ce-e77c06637417 div.sk-toggleable__content {max-height: 0;max-width: 0;overflow: hidden;text-align: left;background-color: #f0f8ff;}#sk-6d0a7462-494f-46f5-a7ce-e77c06637417 div.sk-toggleable__content pre {margin: 0.2em;color: black;border-radius: 0.25em;background-color: #f0f8ff;}#sk-6d0a7462-494f-46f5-a7ce-e77c06637417 input.sk-toggleable__control:checked~div.sk-toggleable__content {max-height: 200px;max-width: 100%;overflow: auto;}#sk-6d0a7462-494f-46f5-a7ce-e77c06637417 input.sk-toggleable__control:checked~label.sk-toggleable__label-arrow:before {content: \"▾\";}#sk-6d0a7462-494f-46f5-a7ce-e77c06637417 div.sk-estimator input.sk-toggleable__control:checked~label.sk-toggleable__label {background-color: #d4ebff;}#sk-6d0a7462-494f-46f5-a7ce-e77c06637417 div.sk-label input.sk-toggleable__control:checked~label.sk-toggleable__label {background-color: #d4ebff;}#sk-6d0a7462-494f-46f5-a7ce-e77c06637417 input.sk-hidden--visually {border: 0;clip: rect(1px 1px 1px 1px);clip: rect(1px, 1px, 1px, 1px);height: 1px;margin: -1px;overflow: hidden;padding: 0;position: absolute;width: 1px;}#sk-6d0a7462-494f-46f5-a7ce-e77c06637417 div.sk-estimator {font-family: monospace;background-color: #f0f8ff;border: 1px dotted black;border-radius: 0.25em;box-sizing: border-box;margin-bottom: 0.5em;}#sk-6d0a7462-494f-46f5-a7ce-e77c06637417 div.sk-estimator:hover {background-color: #d4ebff;}#sk-6d0a7462-494f-46f5-a7ce-e77c06637417 div.sk-parallel-item::after {content: \"\";width: 100%;border-bottom: 1px solid gray;flex-grow: 1;}#sk-6d0a7462-494f-46f5-a7ce-e77c06637417 div.sk-label:hover label.sk-toggleable__label {background-color: #d4ebff;}#sk-6d0a7462-494f-46f5-a7ce-e77c06637417 div.sk-serial::before {content: \"\";position: absolute;border-left: 1px solid gray;box-sizing: border-box;top: 2em;bottom: 0;left: 50%;}#sk-6d0a7462-494f-46f5-a7ce-e77c06637417 div.sk-serial {display: flex;flex-direction: column;align-items: center;background-color: white;padding-right: 0.2em;padding-left: 0.2em;}#sk-6d0a7462-494f-46f5-a7ce-e77c06637417 div.sk-item {z-index: 1;}#sk-6d0a7462-494f-46f5-a7ce-e77c06637417 div.sk-parallel {display: flex;align-items: stretch;justify-content: center;background-color: white;}#sk-6d0a7462-494f-46f5-a7ce-e77c06637417 div.sk-parallel::before {content: \"\";position: absolute;border-left: 1px solid gray;box-sizing: border-box;top: 2em;bottom: 0;left: 50%;}#sk-6d0a7462-494f-46f5-a7ce-e77c06637417 div.sk-parallel-item {display: flex;flex-direction: column;position: relative;background-color: white;}#sk-6d0a7462-494f-46f5-a7ce-e77c06637417 div.sk-parallel-item:first-child::after {align-self: flex-end;width: 50%;}#sk-6d0a7462-494f-46f5-a7ce-e77c06637417 div.sk-parallel-item:last-child::after {align-self: flex-start;width: 50%;}#sk-6d0a7462-494f-46f5-a7ce-e77c06637417 div.sk-parallel-item:only-child::after {width: 0;}#sk-6d0a7462-494f-46f5-a7ce-e77c06637417 div.sk-dashed-wrapped {border: 1px dashed gray;margin: 0 0.4em 0.5em 0.4em;box-sizing: border-box;padding-bottom: 0.4em;background-color: white;position: relative;}#sk-6d0a7462-494f-46f5-a7ce-e77c06637417 div.sk-label label {font-family: monospace;font-weight: bold;background-color: white;display: inline-block;line-height: 1.2em;}#sk-6d0a7462-494f-46f5-a7ce-e77c06637417 div.sk-label-container {position: relative;z-index: 2;text-align: center;}#sk-6d0a7462-494f-46f5-a7ce-e77c06637417 div.sk-container {/* jupyter's `normalize.less` sets `[hidden] { display: none; }` but bootstrap.min.css set `[hidden] { display: none !important; }` so we also need the `!important` here to be able to override the default hidden behavior on the sphinx rendered scikit-learn.org. See: https://github.com/scikit-learn/scikit-learn/issues/21755 */display: inline-block !important;position: relative;}#sk-6d0a7462-494f-46f5-a7ce-e77c06637417 div.sk-text-repr-fallback {display: none;}</style><div id=\"sk-6d0a7462-494f-46f5-a7ce-e77c06637417\" class=\"sk-top-container\"><div class=\"sk-text-repr-fallback\"><pre>Pipeline(steps=[(&#x27;simpleimputer&#x27;, SimpleImputer(strategy=&#x27;median&#x27;)),\n",
              "                (&#x27;standardscaler&#x27;, StandardScaler())])</pre><b>Please rerun this cell to show the HTML repr or trust the notebook.</b></div><div class=\"sk-container\" hidden><div class=\"sk-item sk-dashed-wrapped\"><div class=\"sk-label-container\"><div class=\"sk-label sk-toggleable\"><input class=\"sk-toggleable__control sk-hidden--visually\" id=\"d288c409-7487-48f2-9033-650dd1a3dde2\" type=\"checkbox\" ><label for=\"d288c409-7487-48f2-9033-650dd1a3dde2\" class=\"sk-toggleable__label sk-toggleable__label-arrow\">Pipeline</label><div class=\"sk-toggleable__content\"><pre>Pipeline(steps=[(&#x27;simpleimputer&#x27;, SimpleImputer(strategy=&#x27;median&#x27;)),\n",
              "                (&#x27;standardscaler&#x27;, StandardScaler())])</pre></div></div></div><div class=\"sk-serial\"><div class=\"sk-item\"><div class=\"sk-estimator sk-toggleable\"><input class=\"sk-toggleable__control sk-hidden--visually\" id=\"a05b51c6-43d7-4852-919d-9ca929a16c67\" type=\"checkbox\" ><label for=\"a05b51c6-43d7-4852-919d-9ca929a16c67\" class=\"sk-toggleable__label sk-toggleable__label-arrow\">SimpleImputer</label><div class=\"sk-toggleable__content\"><pre>SimpleImputer(strategy=&#x27;median&#x27;)</pre></div></div></div><div class=\"sk-item\"><div class=\"sk-estimator sk-toggleable\"><input class=\"sk-toggleable__control sk-hidden--visually\" id=\"f35747d0-4178-4e99-8a60-5580aae88f79\" type=\"checkbox\" ><label for=\"f35747d0-4178-4e99-8a60-5580aae88f79\" class=\"sk-toggleable__label sk-toggleable__label-arrow\">StandardScaler</label><div class=\"sk-toggleable__content\"><pre>StandardScaler()</pre></div></div></div></div></div></div></div>"
            ]
          },
          "metadata": {},
          "execution_count": 54
        }
      ],
      "source": [
        "numb_pipe = make_pipeline(median_imputer, scaler)\n",
        "numb_pipe"
      ]
    },
    {
      "cell_type": "code",
      "execution_count": 55,
      "metadata": {
        "colab": {
          "base_uri": "https://localhost:8080/",
          "height": 92
        },
        "id": "33UdKVlUhIxk",
        "outputId": "73152b5e-5048-42c4-f6d9-e315192a1a56"
      },
      "outputs": [
        {
          "output_type": "execute_result",
          "data": {
            "text/plain": [
              "Pipeline(steps=[('onehotencoder',\n",
              "                 OneHotEncoder(handle_unknown='ignore', sparse=False))])"
            ],
            "text/html": [
              "<style>#sk-cb3bf0f5-f149-4434-96c9-1558f7f90ee0 {color: black;background-color: white;}#sk-cb3bf0f5-f149-4434-96c9-1558f7f90ee0 pre{padding: 0;}#sk-cb3bf0f5-f149-4434-96c9-1558f7f90ee0 div.sk-toggleable {background-color: white;}#sk-cb3bf0f5-f149-4434-96c9-1558f7f90ee0 label.sk-toggleable__label {cursor: pointer;display: block;width: 100%;margin-bottom: 0;padding: 0.3em;box-sizing: border-box;text-align: center;}#sk-cb3bf0f5-f149-4434-96c9-1558f7f90ee0 label.sk-toggleable__label-arrow:before {content: \"▸\";float: left;margin-right: 0.25em;color: #696969;}#sk-cb3bf0f5-f149-4434-96c9-1558f7f90ee0 label.sk-toggleable__label-arrow:hover:before {color: black;}#sk-cb3bf0f5-f149-4434-96c9-1558f7f90ee0 div.sk-estimator:hover label.sk-toggleable__label-arrow:before {color: black;}#sk-cb3bf0f5-f149-4434-96c9-1558f7f90ee0 div.sk-toggleable__content {max-height: 0;max-width: 0;overflow: hidden;text-align: left;background-color: #f0f8ff;}#sk-cb3bf0f5-f149-4434-96c9-1558f7f90ee0 div.sk-toggleable__content pre {margin: 0.2em;color: black;border-radius: 0.25em;background-color: #f0f8ff;}#sk-cb3bf0f5-f149-4434-96c9-1558f7f90ee0 input.sk-toggleable__control:checked~div.sk-toggleable__content {max-height: 200px;max-width: 100%;overflow: auto;}#sk-cb3bf0f5-f149-4434-96c9-1558f7f90ee0 input.sk-toggleable__control:checked~label.sk-toggleable__label-arrow:before {content: \"▾\";}#sk-cb3bf0f5-f149-4434-96c9-1558f7f90ee0 div.sk-estimator input.sk-toggleable__control:checked~label.sk-toggleable__label {background-color: #d4ebff;}#sk-cb3bf0f5-f149-4434-96c9-1558f7f90ee0 div.sk-label input.sk-toggleable__control:checked~label.sk-toggleable__label {background-color: #d4ebff;}#sk-cb3bf0f5-f149-4434-96c9-1558f7f90ee0 input.sk-hidden--visually {border: 0;clip: rect(1px 1px 1px 1px);clip: rect(1px, 1px, 1px, 1px);height: 1px;margin: -1px;overflow: hidden;padding: 0;position: absolute;width: 1px;}#sk-cb3bf0f5-f149-4434-96c9-1558f7f90ee0 div.sk-estimator {font-family: monospace;background-color: #f0f8ff;border: 1px dotted black;border-radius: 0.25em;box-sizing: border-box;margin-bottom: 0.5em;}#sk-cb3bf0f5-f149-4434-96c9-1558f7f90ee0 div.sk-estimator:hover {background-color: #d4ebff;}#sk-cb3bf0f5-f149-4434-96c9-1558f7f90ee0 div.sk-parallel-item::after {content: \"\";width: 100%;border-bottom: 1px solid gray;flex-grow: 1;}#sk-cb3bf0f5-f149-4434-96c9-1558f7f90ee0 div.sk-label:hover label.sk-toggleable__label {background-color: #d4ebff;}#sk-cb3bf0f5-f149-4434-96c9-1558f7f90ee0 div.sk-serial::before {content: \"\";position: absolute;border-left: 1px solid gray;box-sizing: border-box;top: 2em;bottom: 0;left: 50%;}#sk-cb3bf0f5-f149-4434-96c9-1558f7f90ee0 div.sk-serial {display: flex;flex-direction: column;align-items: center;background-color: white;padding-right: 0.2em;padding-left: 0.2em;}#sk-cb3bf0f5-f149-4434-96c9-1558f7f90ee0 div.sk-item {z-index: 1;}#sk-cb3bf0f5-f149-4434-96c9-1558f7f90ee0 div.sk-parallel {display: flex;align-items: stretch;justify-content: center;background-color: white;}#sk-cb3bf0f5-f149-4434-96c9-1558f7f90ee0 div.sk-parallel::before {content: \"\";position: absolute;border-left: 1px solid gray;box-sizing: border-box;top: 2em;bottom: 0;left: 50%;}#sk-cb3bf0f5-f149-4434-96c9-1558f7f90ee0 div.sk-parallel-item {display: flex;flex-direction: column;position: relative;background-color: white;}#sk-cb3bf0f5-f149-4434-96c9-1558f7f90ee0 div.sk-parallel-item:first-child::after {align-self: flex-end;width: 50%;}#sk-cb3bf0f5-f149-4434-96c9-1558f7f90ee0 div.sk-parallel-item:last-child::after {align-self: flex-start;width: 50%;}#sk-cb3bf0f5-f149-4434-96c9-1558f7f90ee0 div.sk-parallel-item:only-child::after {width: 0;}#sk-cb3bf0f5-f149-4434-96c9-1558f7f90ee0 div.sk-dashed-wrapped {border: 1px dashed gray;margin: 0 0.4em 0.5em 0.4em;box-sizing: border-box;padding-bottom: 0.4em;background-color: white;position: relative;}#sk-cb3bf0f5-f149-4434-96c9-1558f7f90ee0 div.sk-label label {font-family: monospace;font-weight: bold;background-color: white;display: inline-block;line-height: 1.2em;}#sk-cb3bf0f5-f149-4434-96c9-1558f7f90ee0 div.sk-label-container {position: relative;z-index: 2;text-align: center;}#sk-cb3bf0f5-f149-4434-96c9-1558f7f90ee0 div.sk-container {/* jupyter's `normalize.less` sets `[hidden] { display: none; }` but bootstrap.min.css set `[hidden] { display: none !important; }` so we also need the `!important` here to be able to override the default hidden behavior on the sphinx rendered scikit-learn.org. See: https://github.com/scikit-learn/scikit-learn/issues/21755 */display: inline-block !important;position: relative;}#sk-cb3bf0f5-f149-4434-96c9-1558f7f90ee0 div.sk-text-repr-fallback {display: none;}</style><div id=\"sk-cb3bf0f5-f149-4434-96c9-1558f7f90ee0\" class=\"sk-top-container\"><div class=\"sk-text-repr-fallback\"><pre>Pipeline(steps=[(&#x27;onehotencoder&#x27;,\n",
              "                 OneHotEncoder(handle_unknown=&#x27;ignore&#x27;, sparse=False))])</pre><b>Please rerun this cell to show the HTML repr or trust the notebook.</b></div><div class=\"sk-container\" hidden><div class=\"sk-item sk-dashed-wrapped\"><div class=\"sk-label-container\"><div class=\"sk-label sk-toggleable\"><input class=\"sk-toggleable__control sk-hidden--visually\" id=\"466dea3a-0d3d-458e-80bd-e10372c61bb8\" type=\"checkbox\" ><label for=\"466dea3a-0d3d-458e-80bd-e10372c61bb8\" class=\"sk-toggleable__label sk-toggleable__label-arrow\">Pipeline</label><div class=\"sk-toggleable__content\"><pre>Pipeline(steps=[(&#x27;onehotencoder&#x27;,\n",
              "                 OneHotEncoder(handle_unknown=&#x27;ignore&#x27;, sparse=False))])</pre></div></div></div><div class=\"sk-serial\"><div class=\"sk-item\"><div class=\"sk-estimator sk-toggleable\"><input class=\"sk-toggleable__control sk-hidden--visually\" id=\"742a3e01-6a5b-4c3c-9222-567f42734f9c\" type=\"checkbox\" ><label for=\"742a3e01-6a5b-4c3c-9222-567f42734f9c\" class=\"sk-toggleable__label sk-toggleable__label-arrow\">OneHotEncoder</label><div class=\"sk-toggleable__content\"><pre>OneHotEncoder(handle_unknown=&#x27;ignore&#x27;, sparse=False)</pre></div></div></div></div></div></div></div>"
            ]
          },
          "metadata": {},
          "execution_count": 55
        }
      ],
      "source": [
        "cat_pipe = make_pipeline(ohe)\n",
        "cat_pipe"
      ]
    },
    {
      "cell_type": "markdown",
      "metadata": {
        "id": "LcQsy-GihOLE"
      },
      "source": [
        "Both my object columns have all values accounted for so we wont need to impute anything for the categorical columns. "
      ]
    },
    {
      "cell_type": "code",
      "execution_count": 56,
      "metadata": {
        "colab": {
          "base_uri": "https://localhost:8080/",
          "height": 153
        },
        "id": "qeGtIHXRfkcV",
        "outputId": "e6aaa006-3444-47f8-a836-7ae877e05ec2"
      },
      "outputs": [
        {
          "output_type": "execute_result",
          "data": {
            "text/plain": [
              "ColumnTransformer(transformers=[('pipeline-1',\n",
              "                                 Pipeline(steps=[('simpleimputer',\n",
              "                                                  SimpleImputer(strategy='median')),\n",
              "                                                 ('standardscaler',\n",
              "                                                  StandardScaler())]),\n",
              "                                 <sklearn.compose._column_transformer.make_column_selector object at 0x7f9122b98050>),\n",
              "                                ('pipeline-2',\n",
              "                                 Pipeline(steps=[('onehotencoder',\n",
              "                                                  OneHotEncoder(handle_unknown='ignore',\n",
              "                                                                sparse=False))]),\n",
              "                                 <sklearn.compose._column_transformer.make_column_selector object at 0x7f9120030490>)])"
            ],
            "text/html": [
              "<style>#sk-341caa54-d07c-4c6e-956a-5b738ffcc91d {color: black;background-color: white;}#sk-341caa54-d07c-4c6e-956a-5b738ffcc91d pre{padding: 0;}#sk-341caa54-d07c-4c6e-956a-5b738ffcc91d div.sk-toggleable {background-color: white;}#sk-341caa54-d07c-4c6e-956a-5b738ffcc91d label.sk-toggleable__label {cursor: pointer;display: block;width: 100%;margin-bottom: 0;padding: 0.3em;box-sizing: border-box;text-align: center;}#sk-341caa54-d07c-4c6e-956a-5b738ffcc91d label.sk-toggleable__label-arrow:before {content: \"▸\";float: left;margin-right: 0.25em;color: #696969;}#sk-341caa54-d07c-4c6e-956a-5b738ffcc91d label.sk-toggleable__label-arrow:hover:before {color: black;}#sk-341caa54-d07c-4c6e-956a-5b738ffcc91d div.sk-estimator:hover label.sk-toggleable__label-arrow:before {color: black;}#sk-341caa54-d07c-4c6e-956a-5b738ffcc91d div.sk-toggleable__content {max-height: 0;max-width: 0;overflow: hidden;text-align: left;background-color: #f0f8ff;}#sk-341caa54-d07c-4c6e-956a-5b738ffcc91d div.sk-toggleable__content pre {margin: 0.2em;color: black;border-radius: 0.25em;background-color: #f0f8ff;}#sk-341caa54-d07c-4c6e-956a-5b738ffcc91d input.sk-toggleable__control:checked~div.sk-toggleable__content {max-height: 200px;max-width: 100%;overflow: auto;}#sk-341caa54-d07c-4c6e-956a-5b738ffcc91d input.sk-toggleable__control:checked~label.sk-toggleable__label-arrow:before {content: \"▾\";}#sk-341caa54-d07c-4c6e-956a-5b738ffcc91d div.sk-estimator input.sk-toggleable__control:checked~label.sk-toggleable__label {background-color: #d4ebff;}#sk-341caa54-d07c-4c6e-956a-5b738ffcc91d div.sk-label input.sk-toggleable__control:checked~label.sk-toggleable__label {background-color: #d4ebff;}#sk-341caa54-d07c-4c6e-956a-5b738ffcc91d input.sk-hidden--visually {border: 0;clip: rect(1px 1px 1px 1px);clip: rect(1px, 1px, 1px, 1px);height: 1px;margin: -1px;overflow: hidden;padding: 0;position: absolute;width: 1px;}#sk-341caa54-d07c-4c6e-956a-5b738ffcc91d div.sk-estimator {font-family: monospace;background-color: #f0f8ff;border: 1px dotted black;border-radius: 0.25em;box-sizing: border-box;margin-bottom: 0.5em;}#sk-341caa54-d07c-4c6e-956a-5b738ffcc91d div.sk-estimator:hover {background-color: #d4ebff;}#sk-341caa54-d07c-4c6e-956a-5b738ffcc91d div.sk-parallel-item::after {content: \"\";width: 100%;border-bottom: 1px solid gray;flex-grow: 1;}#sk-341caa54-d07c-4c6e-956a-5b738ffcc91d div.sk-label:hover label.sk-toggleable__label {background-color: #d4ebff;}#sk-341caa54-d07c-4c6e-956a-5b738ffcc91d div.sk-serial::before {content: \"\";position: absolute;border-left: 1px solid gray;box-sizing: border-box;top: 2em;bottom: 0;left: 50%;}#sk-341caa54-d07c-4c6e-956a-5b738ffcc91d div.sk-serial {display: flex;flex-direction: column;align-items: center;background-color: white;padding-right: 0.2em;padding-left: 0.2em;}#sk-341caa54-d07c-4c6e-956a-5b738ffcc91d div.sk-item {z-index: 1;}#sk-341caa54-d07c-4c6e-956a-5b738ffcc91d div.sk-parallel {display: flex;align-items: stretch;justify-content: center;background-color: white;}#sk-341caa54-d07c-4c6e-956a-5b738ffcc91d div.sk-parallel::before {content: \"\";position: absolute;border-left: 1px solid gray;box-sizing: border-box;top: 2em;bottom: 0;left: 50%;}#sk-341caa54-d07c-4c6e-956a-5b738ffcc91d div.sk-parallel-item {display: flex;flex-direction: column;position: relative;background-color: white;}#sk-341caa54-d07c-4c6e-956a-5b738ffcc91d div.sk-parallel-item:first-child::after {align-self: flex-end;width: 50%;}#sk-341caa54-d07c-4c6e-956a-5b738ffcc91d div.sk-parallel-item:last-child::after {align-self: flex-start;width: 50%;}#sk-341caa54-d07c-4c6e-956a-5b738ffcc91d div.sk-parallel-item:only-child::after {width: 0;}#sk-341caa54-d07c-4c6e-956a-5b738ffcc91d div.sk-dashed-wrapped {border: 1px dashed gray;margin: 0 0.4em 0.5em 0.4em;box-sizing: border-box;padding-bottom: 0.4em;background-color: white;position: relative;}#sk-341caa54-d07c-4c6e-956a-5b738ffcc91d div.sk-label label {font-family: monospace;font-weight: bold;background-color: white;display: inline-block;line-height: 1.2em;}#sk-341caa54-d07c-4c6e-956a-5b738ffcc91d div.sk-label-container {position: relative;z-index: 2;text-align: center;}#sk-341caa54-d07c-4c6e-956a-5b738ffcc91d div.sk-container {/* jupyter's `normalize.less` sets `[hidden] { display: none; }` but bootstrap.min.css set `[hidden] { display: none !important; }` so we also need the `!important` here to be able to override the default hidden behavior on the sphinx rendered scikit-learn.org. See: https://github.com/scikit-learn/scikit-learn/issues/21755 */display: inline-block !important;position: relative;}#sk-341caa54-d07c-4c6e-956a-5b738ffcc91d div.sk-text-repr-fallback {display: none;}</style><div id=\"sk-341caa54-d07c-4c6e-956a-5b738ffcc91d\" class=\"sk-top-container\"><div class=\"sk-text-repr-fallback\"><pre>ColumnTransformer(transformers=[(&#x27;pipeline-1&#x27;,\n",
              "                                 Pipeline(steps=[(&#x27;simpleimputer&#x27;,\n",
              "                                                  SimpleImputer(strategy=&#x27;median&#x27;)),\n",
              "                                                 (&#x27;standardscaler&#x27;,\n",
              "                                                  StandardScaler())]),\n",
              "                                 &lt;sklearn.compose._column_transformer.make_column_selector object at 0x7f9122b98050&gt;),\n",
              "                                (&#x27;pipeline-2&#x27;,\n",
              "                                 Pipeline(steps=[(&#x27;onehotencoder&#x27;,\n",
              "                                                  OneHotEncoder(handle_unknown=&#x27;ignore&#x27;,\n",
              "                                                                sparse=False))]),\n",
              "                                 &lt;sklearn.compose._column_transformer.make_column_selector object at 0x7f9120030490&gt;)])</pre><b>Please rerun this cell to show the HTML repr or trust the notebook.</b></div><div class=\"sk-container\" hidden><div class=\"sk-item sk-dashed-wrapped\"><div class=\"sk-label-container\"><div class=\"sk-label sk-toggleable\"><input class=\"sk-toggleable__control sk-hidden--visually\" id=\"c0eab4bc-8912-4e37-a90f-9b2675bebc09\" type=\"checkbox\" ><label for=\"c0eab4bc-8912-4e37-a90f-9b2675bebc09\" class=\"sk-toggleable__label sk-toggleable__label-arrow\">ColumnTransformer</label><div class=\"sk-toggleable__content\"><pre>ColumnTransformer(transformers=[(&#x27;pipeline-1&#x27;,\n",
              "                                 Pipeline(steps=[(&#x27;simpleimputer&#x27;,\n",
              "                                                  SimpleImputer(strategy=&#x27;median&#x27;)),\n",
              "                                                 (&#x27;standardscaler&#x27;,\n",
              "                                                  StandardScaler())]),\n",
              "                                 &lt;sklearn.compose._column_transformer.make_column_selector object at 0x7f9122b98050&gt;),\n",
              "                                (&#x27;pipeline-2&#x27;,\n",
              "                                 Pipeline(steps=[(&#x27;onehotencoder&#x27;,\n",
              "                                                  OneHotEncoder(handle_unknown=&#x27;ignore&#x27;,\n",
              "                                                                sparse=False))]),\n",
              "                                 &lt;sklearn.compose._column_transformer.make_column_selector object at 0x7f9120030490&gt;)])</pre></div></div></div><div class=\"sk-parallel\"><div class=\"sk-parallel-item\"><div class=\"sk-item\"><div class=\"sk-label-container\"><div class=\"sk-label sk-toggleable\"><input class=\"sk-toggleable__control sk-hidden--visually\" id=\"144555eb-fc5c-4b02-bc50-5565e13c7aa0\" type=\"checkbox\" ><label for=\"144555eb-fc5c-4b02-bc50-5565e13c7aa0\" class=\"sk-toggleable__label sk-toggleable__label-arrow\">pipeline-1</label><div class=\"sk-toggleable__content\"><pre>&lt;sklearn.compose._column_transformer.make_column_selector object at 0x7f9122b98050&gt;</pre></div></div></div><div class=\"sk-serial\"><div class=\"sk-item\"><div class=\"sk-serial\"><div class=\"sk-item\"><div class=\"sk-estimator sk-toggleable\"><input class=\"sk-toggleable__control sk-hidden--visually\" id=\"f653c408-7685-4189-88cf-ec6de30dd6ac\" type=\"checkbox\" ><label for=\"f653c408-7685-4189-88cf-ec6de30dd6ac\" class=\"sk-toggleable__label sk-toggleable__label-arrow\">SimpleImputer</label><div class=\"sk-toggleable__content\"><pre>SimpleImputer(strategy=&#x27;median&#x27;)</pre></div></div></div><div class=\"sk-item\"><div class=\"sk-estimator sk-toggleable\"><input class=\"sk-toggleable__control sk-hidden--visually\" id=\"c2044af8-b297-4d14-8284-4fe9fa327963\" type=\"checkbox\" ><label for=\"c2044af8-b297-4d14-8284-4fe9fa327963\" class=\"sk-toggleable__label sk-toggleable__label-arrow\">StandardScaler</label><div class=\"sk-toggleable__content\"><pre>StandardScaler()</pre></div></div></div></div></div></div></div></div><div class=\"sk-parallel-item\"><div class=\"sk-item\"><div class=\"sk-label-container\"><div class=\"sk-label sk-toggleable\"><input class=\"sk-toggleable__control sk-hidden--visually\" id=\"2340950f-3fa0-43fa-8fe3-2b8f825ba197\" type=\"checkbox\" ><label for=\"2340950f-3fa0-43fa-8fe3-2b8f825ba197\" class=\"sk-toggleable__label sk-toggleable__label-arrow\">pipeline-2</label><div class=\"sk-toggleable__content\"><pre>&lt;sklearn.compose._column_transformer.make_column_selector object at 0x7f9120030490&gt;</pre></div></div></div><div class=\"sk-serial\"><div class=\"sk-item\"><div class=\"sk-serial\"><div class=\"sk-item\"><div class=\"sk-estimator sk-toggleable\"><input class=\"sk-toggleable__control sk-hidden--visually\" id=\"7f937663-b05d-4cc9-989a-ca0d3cf0a74b\" type=\"checkbox\" ><label for=\"7f937663-b05d-4cc9-989a-ca0d3cf0a74b\" class=\"sk-toggleable__label sk-toggleable__label-arrow\">OneHotEncoder</label><div class=\"sk-toggleable__content\"><pre>OneHotEncoder(handle_unknown=&#x27;ignore&#x27;, sparse=False)</pre></div></div></div></div></div></div></div></div></div></div></div></div>"
            ]
          },
          "metadata": {},
          "execution_count": 56
        }
      ],
      "source": [
        "numb_tup = (numb_pipe, num_selector)\n",
        "cat_tup = (cat_pipe, cat_selector)\n",
        "preprocessor = make_column_transformer(numb_tup, cat_tup)\n",
        "preprocessor"
      ]
    },
    {
      "cell_type": "code",
      "execution_count": 57,
      "metadata": {
        "colab": {
          "base_uri": "https://localhost:8080/",
          "height": 153
        },
        "id": "qR1NIdpCgP6J",
        "outputId": "ebb76d86-fa70-4f61-d26d-972edc52b541"
      },
      "outputs": [
        {
          "output_type": "execute_result",
          "data": {
            "text/plain": [
              "ColumnTransformer(transformers=[('pipeline-1',\n",
              "                                 Pipeline(steps=[('simpleimputer',\n",
              "                                                  SimpleImputer(strategy='median')),\n",
              "                                                 ('standardscaler',\n",
              "                                                  StandardScaler())]),\n",
              "                                 <sklearn.compose._column_transformer.make_column_selector object at 0x7f9122b98050>),\n",
              "                                ('pipeline-2',\n",
              "                                 Pipeline(steps=[('onehotencoder',\n",
              "                                                  OneHotEncoder(handle_unknown='ignore',\n",
              "                                                                sparse=False))]),\n",
              "                                 <sklearn.compose._column_transformer.make_column_selector object at 0x7f9120030490>)])"
            ],
            "text/html": [
              "<style>#sk-e4ce611f-b07d-4fb4-a320-a2e7b28ba429 {color: black;background-color: white;}#sk-e4ce611f-b07d-4fb4-a320-a2e7b28ba429 pre{padding: 0;}#sk-e4ce611f-b07d-4fb4-a320-a2e7b28ba429 div.sk-toggleable {background-color: white;}#sk-e4ce611f-b07d-4fb4-a320-a2e7b28ba429 label.sk-toggleable__label {cursor: pointer;display: block;width: 100%;margin-bottom: 0;padding: 0.3em;box-sizing: border-box;text-align: center;}#sk-e4ce611f-b07d-4fb4-a320-a2e7b28ba429 label.sk-toggleable__label-arrow:before {content: \"▸\";float: left;margin-right: 0.25em;color: #696969;}#sk-e4ce611f-b07d-4fb4-a320-a2e7b28ba429 label.sk-toggleable__label-arrow:hover:before {color: black;}#sk-e4ce611f-b07d-4fb4-a320-a2e7b28ba429 div.sk-estimator:hover label.sk-toggleable__label-arrow:before {color: black;}#sk-e4ce611f-b07d-4fb4-a320-a2e7b28ba429 div.sk-toggleable__content {max-height: 0;max-width: 0;overflow: hidden;text-align: left;background-color: #f0f8ff;}#sk-e4ce611f-b07d-4fb4-a320-a2e7b28ba429 div.sk-toggleable__content pre {margin: 0.2em;color: black;border-radius: 0.25em;background-color: #f0f8ff;}#sk-e4ce611f-b07d-4fb4-a320-a2e7b28ba429 input.sk-toggleable__control:checked~div.sk-toggleable__content {max-height: 200px;max-width: 100%;overflow: auto;}#sk-e4ce611f-b07d-4fb4-a320-a2e7b28ba429 input.sk-toggleable__control:checked~label.sk-toggleable__label-arrow:before {content: \"▾\";}#sk-e4ce611f-b07d-4fb4-a320-a2e7b28ba429 div.sk-estimator input.sk-toggleable__control:checked~label.sk-toggleable__label {background-color: #d4ebff;}#sk-e4ce611f-b07d-4fb4-a320-a2e7b28ba429 div.sk-label input.sk-toggleable__control:checked~label.sk-toggleable__label {background-color: #d4ebff;}#sk-e4ce611f-b07d-4fb4-a320-a2e7b28ba429 input.sk-hidden--visually {border: 0;clip: rect(1px 1px 1px 1px);clip: rect(1px, 1px, 1px, 1px);height: 1px;margin: -1px;overflow: hidden;padding: 0;position: absolute;width: 1px;}#sk-e4ce611f-b07d-4fb4-a320-a2e7b28ba429 div.sk-estimator {font-family: monospace;background-color: #f0f8ff;border: 1px dotted black;border-radius: 0.25em;box-sizing: border-box;margin-bottom: 0.5em;}#sk-e4ce611f-b07d-4fb4-a320-a2e7b28ba429 div.sk-estimator:hover {background-color: #d4ebff;}#sk-e4ce611f-b07d-4fb4-a320-a2e7b28ba429 div.sk-parallel-item::after {content: \"\";width: 100%;border-bottom: 1px solid gray;flex-grow: 1;}#sk-e4ce611f-b07d-4fb4-a320-a2e7b28ba429 div.sk-label:hover label.sk-toggleable__label {background-color: #d4ebff;}#sk-e4ce611f-b07d-4fb4-a320-a2e7b28ba429 div.sk-serial::before {content: \"\";position: absolute;border-left: 1px solid gray;box-sizing: border-box;top: 2em;bottom: 0;left: 50%;}#sk-e4ce611f-b07d-4fb4-a320-a2e7b28ba429 div.sk-serial {display: flex;flex-direction: column;align-items: center;background-color: white;padding-right: 0.2em;padding-left: 0.2em;}#sk-e4ce611f-b07d-4fb4-a320-a2e7b28ba429 div.sk-item {z-index: 1;}#sk-e4ce611f-b07d-4fb4-a320-a2e7b28ba429 div.sk-parallel {display: flex;align-items: stretch;justify-content: center;background-color: white;}#sk-e4ce611f-b07d-4fb4-a320-a2e7b28ba429 div.sk-parallel::before {content: \"\";position: absolute;border-left: 1px solid gray;box-sizing: border-box;top: 2em;bottom: 0;left: 50%;}#sk-e4ce611f-b07d-4fb4-a320-a2e7b28ba429 div.sk-parallel-item {display: flex;flex-direction: column;position: relative;background-color: white;}#sk-e4ce611f-b07d-4fb4-a320-a2e7b28ba429 div.sk-parallel-item:first-child::after {align-self: flex-end;width: 50%;}#sk-e4ce611f-b07d-4fb4-a320-a2e7b28ba429 div.sk-parallel-item:last-child::after {align-self: flex-start;width: 50%;}#sk-e4ce611f-b07d-4fb4-a320-a2e7b28ba429 div.sk-parallel-item:only-child::after {width: 0;}#sk-e4ce611f-b07d-4fb4-a320-a2e7b28ba429 div.sk-dashed-wrapped {border: 1px dashed gray;margin: 0 0.4em 0.5em 0.4em;box-sizing: border-box;padding-bottom: 0.4em;background-color: white;position: relative;}#sk-e4ce611f-b07d-4fb4-a320-a2e7b28ba429 div.sk-label label {font-family: monospace;font-weight: bold;background-color: white;display: inline-block;line-height: 1.2em;}#sk-e4ce611f-b07d-4fb4-a320-a2e7b28ba429 div.sk-label-container {position: relative;z-index: 2;text-align: center;}#sk-e4ce611f-b07d-4fb4-a320-a2e7b28ba429 div.sk-container {/* jupyter's `normalize.less` sets `[hidden] { display: none; }` but bootstrap.min.css set `[hidden] { display: none !important; }` so we also need the `!important` here to be able to override the default hidden behavior on the sphinx rendered scikit-learn.org. See: https://github.com/scikit-learn/scikit-learn/issues/21755 */display: inline-block !important;position: relative;}#sk-e4ce611f-b07d-4fb4-a320-a2e7b28ba429 div.sk-text-repr-fallback {display: none;}</style><div id=\"sk-e4ce611f-b07d-4fb4-a320-a2e7b28ba429\" class=\"sk-top-container\"><div class=\"sk-text-repr-fallback\"><pre>ColumnTransformer(transformers=[(&#x27;pipeline-1&#x27;,\n",
              "                                 Pipeline(steps=[(&#x27;simpleimputer&#x27;,\n",
              "                                                  SimpleImputer(strategy=&#x27;median&#x27;)),\n",
              "                                                 (&#x27;standardscaler&#x27;,\n",
              "                                                  StandardScaler())]),\n",
              "                                 &lt;sklearn.compose._column_transformer.make_column_selector object at 0x7f9122b98050&gt;),\n",
              "                                (&#x27;pipeline-2&#x27;,\n",
              "                                 Pipeline(steps=[(&#x27;onehotencoder&#x27;,\n",
              "                                                  OneHotEncoder(handle_unknown=&#x27;ignore&#x27;,\n",
              "                                                                sparse=False))]),\n",
              "                                 &lt;sklearn.compose._column_transformer.make_column_selector object at 0x7f9120030490&gt;)])</pre><b>Please rerun this cell to show the HTML repr or trust the notebook.</b></div><div class=\"sk-container\" hidden><div class=\"sk-item sk-dashed-wrapped\"><div class=\"sk-label-container\"><div class=\"sk-label sk-toggleable\"><input class=\"sk-toggleable__control sk-hidden--visually\" id=\"88442f2c-f625-476b-ba5f-8467cb2905c7\" type=\"checkbox\" ><label for=\"88442f2c-f625-476b-ba5f-8467cb2905c7\" class=\"sk-toggleable__label sk-toggleable__label-arrow\">ColumnTransformer</label><div class=\"sk-toggleable__content\"><pre>ColumnTransformer(transformers=[(&#x27;pipeline-1&#x27;,\n",
              "                                 Pipeline(steps=[(&#x27;simpleimputer&#x27;,\n",
              "                                                  SimpleImputer(strategy=&#x27;median&#x27;)),\n",
              "                                                 (&#x27;standardscaler&#x27;,\n",
              "                                                  StandardScaler())]),\n",
              "                                 &lt;sklearn.compose._column_transformer.make_column_selector object at 0x7f9122b98050&gt;),\n",
              "                                (&#x27;pipeline-2&#x27;,\n",
              "                                 Pipeline(steps=[(&#x27;onehotencoder&#x27;,\n",
              "                                                  OneHotEncoder(handle_unknown=&#x27;ignore&#x27;,\n",
              "                                                                sparse=False))]),\n",
              "                                 &lt;sklearn.compose._column_transformer.make_column_selector object at 0x7f9120030490&gt;)])</pre></div></div></div><div class=\"sk-parallel\"><div class=\"sk-parallel-item\"><div class=\"sk-item\"><div class=\"sk-label-container\"><div class=\"sk-label sk-toggleable\"><input class=\"sk-toggleable__control sk-hidden--visually\" id=\"2f80681f-9076-4def-8789-d4448cc8872c\" type=\"checkbox\" ><label for=\"2f80681f-9076-4def-8789-d4448cc8872c\" class=\"sk-toggleable__label sk-toggleable__label-arrow\">pipeline-1</label><div class=\"sk-toggleable__content\"><pre>&lt;sklearn.compose._column_transformer.make_column_selector object at 0x7f9122b98050&gt;</pre></div></div></div><div class=\"sk-serial\"><div class=\"sk-item\"><div class=\"sk-serial\"><div class=\"sk-item\"><div class=\"sk-estimator sk-toggleable\"><input class=\"sk-toggleable__control sk-hidden--visually\" id=\"f1ba4e37-55d2-4886-8925-1718d755087f\" type=\"checkbox\" ><label for=\"f1ba4e37-55d2-4886-8925-1718d755087f\" class=\"sk-toggleable__label sk-toggleable__label-arrow\">SimpleImputer</label><div class=\"sk-toggleable__content\"><pre>SimpleImputer(strategy=&#x27;median&#x27;)</pre></div></div></div><div class=\"sk-item\"><div class=\"sk-estimator sk-toggleable\"><input class=\"sk-toggleable__control sk-hidden--visually\" id=\"ac7f2a15-11a5-48a3-b7cd-993007b0308b\" type=\"checkbox\" ><label for=\"ac7f2a15-11a5-48a3-b7cd-993007b0308b\" class=\"sk-toggleable__label sk-toggleable__label-arrow\">StandardScaler</label><div class=\"sk-toggleable__content\"><pre>StandardScaler()</pre></div></div></div></div></div></div></div></div><div class=\"sk-parallel-item\"><div class=\"sk-item\"><div class=\"sk-label-container\"><div class=\"sk-label sk-toggleable\"><input class=\"sk-toggleable__control sk-hidden--visually\" id=\"e44435c3-5f0b-42fc-ad52-41c9e6b2d8ef\" type=\"checkbox\" ><label for=\"e44435c3-5f0b-42fc-ad52-41c9e6b2d8ef\" class=\"sk-toggleable__label sk-toggleable__label-arrow\">pipeline-2</label><div class=\"sk-toggleable__content\"><pre>&lt;sklearn.compose._column_transformer.make_column_selector object at 0x7f9120030490&gt;</pre></div></div></div><div class=\"sk-serial\"><div class=\"sk-item\"><div class=\"sk-serial\"><div class=\"sk-item\"><div class=\"sk-estimator sk-toggleable\"><input class=\"sk-toggleable__control sk-hidden--visually\" id=\"00367f7a-728d-4ea2-b3b1-9ecaaac36bc4\" type=\"checkbox\" ><label for=\"00367f7a-728d-4ea2-b3b1-9ecaaac36bc4\" class=\"sk-toggleable__label sk-toggleable__label-arrow\">OneHotEncoder</label><div class=\"sk-toggleable__content\"><pre>OneHotEncoder(handle_unknown=&#x27;ignore&#x27;, sparse=False)</pre></div></div></div></div></div></div></div></div></div></div></div></div>"
            ]
          },
          "metadata": {},
          "execution_count": 57
        }
      ],
      "source": [
        "#fit on the train\n",
        "preprocessor.fit(X_train)"
      ]
    },
    {
      "cell_type": "code",
      "execution_count": 58,
      "metadata": {
        "colab": {
          "base_uri": "https://localhost:8080/"
        },
        "id": "hRXgACpBgDv5",
        "outputId": "1081942f-9c82-4263-d4db-d2789f3d07af"
      },
      "outputs": [
        {
          "output_type": "execute_result",
          "data": {
            "text/plain": [
              "array([[ 0.55607805, -1.31323184, -0.25282152, ...,  0.        ,\n",
              "         0.        ,  0.        ],\n",
              "       [-0.69422974,  0.98776736,  2.33045163, ...,  0.        ,\n",
              "         0.        ,  0.        ],\n",
              "       [-3.4726915 , -1.26152399, -0.25456164, ...,  0.        ,\n",
              "         0.        ,  0.        ],\n",
              "       ...,\n",
              "       [ 0.69500114,  0.39312711, -0.18447061, ...,  0.        ,\n",
              "         0.        ,  0.        ],\n",
              "       [ 0.69500114,  0.54825066, -0.25429143, ...,  0.        ,\n",
              "         0.        ,  0.        ],\n",
              "       [-0.41638356, -1.41664754,  3.26010615, ...,  0.        ,\n",
              "         0.        ,  0.        ]])"
            ]
          },
          "metadata": {},
          "execution_count": 58
        }
      ],
      "source": [
        "#transform and test\n",
        "X_train_pro = preprocessor.transform(X_train)\n",
        "X_test_pro = preprocessor.transform(X_test)\n",
        "X_train_pro"
      ]
    },
    {
      "cell_type": "code",
      "execution_count": 59,
      "metadata": {
        "colab": {
          "base_uri": "https://localhost:8080/"
        },
        "id": "msgvO5UAgN1d",
        "outputId": "a69f49ac-49bf-46b5-b6e6-e1a7aa57ddb5"
      },
      "outputs": [
        {
          "output_type": "execute_result",
          "data": {
            "text/plain": [
              "0"
            ]
          },
          "metadata": {},
          "execution_count": 59
        }
      ],
      "source": [
        "np.isnan(X_train_pro).sum().sum()"
      ]
    },
    {
      "cell_type": "code",
      "execution_count": 60,
      "metadata": {
        "colab": {
          "base_uri": "https://localhost:8080/"
        },
        "id": "JHqAI27WgY-l",
        "outputId": "ff76e96a-06b7-4b4b-db19-7e3b1d5e709e"
      },
      "outputs": [
        {
          "output_type": "execute_result",
          "data": {
            "text/plain": [
              "0"
            ]
          },
          "metadata": {},
          "execution_count": 60
        }
      ],
      "source": [
        "np.isnan(X_test_pro).sum().sum()"
      ]
    },
    {
      "cell_type": "markdown",
      "metadata": {
        "id": "fNEFOVbCgq0m"
      },
      "source": [
        "We are not missing any data in our X_sets so we are ready for modeling."
      ]
    },
    {
      "cell_type": "markdown",
      "source": [
        "##KMeans  \n",
        "Well start with an unsupervised model."
      ],
      "metadata": {
        "id": "eF04XHFdSTub"
      }
    },
    {
      "cell_type": "markdown",
      "metadata": {
        "id": "2jA1uNb-AcKU"
      },
      "source": [
        "For KMeans there is no train split so I'm going to rerun my preprocessor to impute my data so I can model it again."
      ]
    },
    {
      "cell_type": "code",
      "execution_count": null,
      "metadata": {
        "colab": {
          "base_uri": "https://localhost:8080/"
        },
        "id": "2hH9V3py_iFq",
        "outputId": "5cf17d8e-1b90-4498-a9c5-fcf0c028adce"
      },
      "outputs": [
        {
          "output_type": "stream",
          "name": "stdout",
          "text": [
            "<class 'pandas.core.frame.DataFrame'>\n",
            "RangeIndex: 5806 entries, 0 to 5805\n",
            "Data columns (total 7 columns):\n",
            " #   Column        Non-Null Count  Dtype  \n",
            "---  ------        --------------  -----  \n",
            " 0   type          5806 non-null   object \n",
            " 1   release_year  5806 non-null   int64  \n",
            " 2   runtime       5806 non-null   int64  \n",
            " 3   imdb_score    5283 non-null   float64\n",
            " 4   imdb_votes    5267 non-null   float64\n",
            " 5   tmdb_score    5488 non-null   float64\n",
            " 6   genre         5806 non-null   object \n",
            "dtypes: float64(3), int64(2), object(2)\n",
            "memory usage: 317.6+ KB\n"
          ]
        }
      ],
      "source": [
        "df_km.info() #using the copy we made earlier with no yet imputed data and no train test split."
      ]
    },
    {
      "cell_type": "markdown",
      "metadata": {
        "id": "918kG_GzJtD7"
      },
      "source": [
        "So here we have our unimputed data, for supervised ML we will have to drop our target column but here we do not."
      ]
    },
    {
      "cell_type": "code",
      "execution_count": null,
      "metadata": {
        "id": "Bh0KbXmnAa5K"
      },
      "outputs": [],
      "source": [
        "x_scaled = preprocessor.fit_transform(df_km)"
      ]
    },
    {
      "cell_type": "code",
      "execution_count": null,
      "metadata": {
        "colab": {
          "base_uri": "https://localhost:8080/",
          "height": 513
        },
        "id": "5xSjqwAP6uu3",
        "outputId": "6310fdea-43b8-4d4a-ca27-95341c3bb5d5"
      },
      "outputs": [
        {
          "output_type": "display_data",
          "data": {
            "text/plain": [
              "<Figure size 432x288 with 1 Axes>"
            ],
            "image/png": "[encoded data removed]"
          },
          "metadata": {}
        },
        {
          "output_type": "display_data",
          "data": {
            "text/plain": [
              "<Figure size 432x288 with 1 Axes>"
            ],
            "image/png": "[encoded data removed]"
          },
          "metadata": {}
        }
      ],
      "source": [
        "ks = range(2, 11)\n",
        "\n",
        "inertias = []\n",
        "sils = []\n",
        "\n",
        "for k in ks:\n",
        "  model = KMeans(n_clusters=k)\n",
        "  model.fit(x_scaled)\n",
        "  inertias.append(model.inertia_)\n",
        "  sils.append(silhouette_score(x_scaled, model.labels_))\n",
        "\n",
        "plt.plot(ks, inertias)\n",
        "\n",
        "plt.show()\n",
        "\n",
        "plt.plot(ks, sils);"
      ]
    },
    {
      "cell_type": "markdown",
      "metadata": {
        "id": "XN2V5fwy-Erl"
      },
      "source": [
        "Our inertia graph doesnt have clear elbow but our silhouette score gives us a very defined number of clusters with 4."
      ]
    },
    {
      "cell_type": "code",
      "execution_count": null,
      "metadata": {
        "colab": {
          "base_uri": "https://localhost:8080/",
          "height": 75
        },
        "id": "JlZXWjEC-SHO",
        "outputId": "3dc8d890-ecd9-4d10-b85b-72b0d3695e1d"
      },
      "outputs": [
        {
          "output_type": "execute_result",
          "data": {
            "text/plain": [
              "KMeans(n_clusters=4, random_state=42)"
            ],
            "text/html": [
              "<style>#sk-e34f9bc2-4539-41b0-8610-a44ad1545d24 {color: black;background-color: white;}#sk-e34f9bc2-4539-41b0-8610-a44ad1545d24 pre{padding: 0;}#sk-e34f9bc2-4539-41b0-8610-a44ad1545d24 div.sk-toggleable {background-color: white;}#sk-e34f9bc2-4539-41b0-8610-a44ad1545d24 label.sk-toggleable__label {cursor: pointer;display: block;width: 100%;margin-bottom: 0;padding: 0.3em;box-sizing: border-box;text-align: center;}#sk-e34f9bc2-4539-41b0-8610-a44ad1545d24 label.sk-toggleable__label-arrow:before {content: \"▸\";float: left;margin-right: 0.25em;color: #696969;}#sk-e34f9bc2-4539-41b0-8610-a44ad1545d24 label.sk-toggleable__label-arrow:hover:before {color: black;}#sk-e34f9bc2-4539-41b0-8610-a44ad1545d24 div.sk-estimator:hover label.sk-toggleable__label-arrow:before {color: black;}#sk-e34f9bc2-4539-41b0-8610-a44ad1545d24 div.sk-toggleable__content {max-height: 0;max-width: 0;overflow: hidden;text-align: left;background-color: #f0f8ff;}#sk-e34f9bc2-4539-41b0-8610-a44ad1545d24 div.sk-toggleable__content pre {margin: 0.2em;color: black;border-radius: 0.25em;background-color: #f0f8ff;}#sk-e34f9bc2-4539-41b0-8610-a44ad1545d24 input.sk-toggleable__control:checked~div.sk-toggleable__content {max-height: 200px;max-width: 100%;overflow: auto;}#sk-e34f9bc2-4539-41b0-8610-a44ad1545d24 input.sk-toggleable__control:checked~label.sk-toggleable__label-arrow:before {content: \"▾\";}#sk-e34f9bc2-4539-41b0-8610-a44ad1545d24 div.sk-estimator input.sk-toggleable__control:checked~label.sk-toggleable__label {background-color: #d4ebff;}#sk-e34f9bc2-4539-41b0-8610-a44ad1545d24 div.sk-label input.sk-toggleable__control:checked~label.sk-toggleable__label {background-color: #d4ebff;}#sk-e34f9bc2-4539-41b0-8610-a44ad1545d24 input.sk-hidden--visually {border: 0;clip: rect(1px 1px 1px 1px);clip: rect(1px, 1px, 1px, 1px);height: 1px;margin: -1px;overflow: hidden;padding: 0;position: absolute;width: 1px;}#sk-e34f9bc2-4539-41b0-8610-a44ad1545d24 div.sk-estimator {font-family: monospace;background-color: #f0f8ff;border: 1px dotted black;border-radius: 0.25em;box-sizing: border-box;margin-bottom: 0.5em;}#sk-e34f9bc2-4539-41b0-8610-a44ad1545d24 div.sk-estimator:hover {background-color: #d4ebff;}#sk-e34f9bc2-4539-41b0-8610-a44ad1545d24 div.sk-parallel-item::after {content: \"\";width: 100%;border-bottom: 1px solid gray;flex-grow: 1;}#sk-e34f9bc2-4539-41b0-8610-a44ad1545d24 div.sk-label:hover label.sk-toggleable__label {background-color: #d4ebff;}#sk-e34f9bc2-4539-41b0-8610-a44ad1545d24 div.sk-serial::before {content: \"\";position: absolute;border-left: 1px solid gray;box-sizing: border-box;top: 2em;bottom: 0;left: 50%;}#sk-e34f9bc2-4539-41b0-8610-a44ad1545d24 div.sk-serial {display: flex;flex-direction: column;align-items: center;background-color: white;padding-right: 0.2em;padding-left: 0.2em;}#sk-e34f9bc2-4539-41b0-8610-a44ad1545d24 div.sk-item {z-index: 1;}#sk-e34f9bc2-4539-41b0-8610-a44ad1545d24 div.sk-parallel {display: flex;align-items: stretch;justify-content: center;background-color: white;}#sk-e34f9bc2-4539-41b0-8610-a44ad1545d24 div.sk-parallel::before {content: \"\";position: absolute;border-left: 1px solid gray;box-sizing: border-box;top: 2em;bottom: 0;left: 50%;}#sk-e34f9bc2-4539-41b0-8610-a44ad1545d24 div.sk-parallel-item {display: flex;flex-direction: column;position: relative;background-color: white;}#sk-e34f9bc2-4539-41b0-8610-a44ad1545d24 div.sk-parallel-item:first-child::after {align-self: flex-end;width: 50%;}#sk-e34f9bc2-4539-41b0-8610-a44ad1545d24 div.sk-parallel-item:last-child::after {align-self: flex-start;width: 50%;}#sk-e34f9bc2-4539-41b0-8610-a44ad1545d24 div.sk-parallel-item:only-child::after {width: 0;}#sk-e34f9bc2-4539-41b0-8610-a44ad1545d24 div.sk-dashed-wrapped {border: 1px dashed gray;margin: 0 0.4em 0.5em 0.4em;box-sizing: border-box;padding-bottom: 0.4em;background-color: white;position: relative;}#sk-e34f9bc2-4539-41b0-8610-a44ad1545d24 div.sk-label label {font-family: monospace;font-weight: bold;background-color: white;display: inline-block;line-height: 1.2em;}#sk-e34f9bc2-4539-41b0-8610-a44ad1545d24 div.sk-label-container {position: relative;z-index: 2;text-align: center;}#sk-e34f9bc2-4539-41b0-8610-a44ad1545d24 div.sk-container {/* jupyter's `normalize.less` sets `[hidden] { display: none; }` but bootstrap.min.css set `[hidden] { display: none !important; }` so we also need the `!important` here to be able to override the default hidden behavior on the sphinx rendered scikit-learn.org. See: https://github.com/scikit-learn/scikit-learn/issues/21755 */display: inline-block !important;position: relative;}#sk-e34f9bc2-4539-41b0-8610-a44ad1545d24 div.sk-text-repr-fallback {display: none;}</style><div id=\"sk-e34f9bc2-4539-41b0-8610-a44ad1545d24\" class=\"sk-top-container\"><div class=\"sk-text-repr-fallback\"><pre>KMeans(n_clusters=4, random_state=42)</pre><b>Please rerun this cell to show the HTML repr or trust the notebook.</b></div><div class=\"sk-container\" hidden><div class=\"sk-item\"><div class=\"sk-estimator sk-toggleable\"><input class=\"sk-toggleable__control sk-hidden--visually\" id=\"3b19058c-2887-433a-a647-ffcfc32bf761\" type=\"checkbox\" checked><label for=\"3b19058c-2887-433a-a647-ffcfc32bf761\" class=\"sk-toggleable__label sk-toggleable__label-arrow\">KMeans</label><div class=\"sk-toggleable__content\"><pre>KMeans(n_clusters=4, random_state=42)</pre></div></div></div></div></div>"
            ]
          },
          "metadata": {},
          "execution_count": 351
        }
      ],
      "source": [
        "kmeans_model = KMeans(n_clusters=4, random_state=42)\n",
        "\n",
        "kmeans_model.fit(x_scaled)"
      ]
    },
    {
      "cell_type": "markdown",
      "metadata": {
        "id": "UMU5MGMWK-ex"
      },
      "source": [
        "Before going forward I just want to plot our clusters and see if we can learn anything about our features relationships."
      ]
    },
    {
      "cell_type": "code",
      "execution_count": null,
      "metadata": {
        "colab": {
          "base_uri": "https://localhost:8080/",
          "height": 175
        },
        "id": "pDVjXDjGLMjC",
        "outputId": "7b1ee2d5-0ed6-4391-a299-677d79e27551"
      },
      "outputs": [
        {
          "output_type": "execute_result",
          "data": {
            "text/plain": [
              "   cluster  release_year     runtime  imdb_score     imdb_votes  tmdb_score\n",
              "0        0   1995.796143  112.953168    7.010057  182167.060345    6.878151\n",
              "1        1   2017.060081  103.257128    6.898885   15650.595757    6.966885\n",
              "2        2   2017.670208   37.603090    7.093119   11965.787507    7.590541\n",
              "3        3   2017.328835   91.708807    5.168060    7795.269663    5.522125"
            ],
            "text/html": [
              "\n",
              "  <div id=\"df-07196449-9eb3-4469-bc17-f9f1fdbf03bd\">\n",
              "    <div class=\"colab-df-container\">\n",
              "      <div>\n",
              "<style scoped>\n",
              "    .dataframe tbody tr th:only-of-type {\n",
              "        vertical-align: middle;\n",
              "    }\n",
              "\n",
              "    .dataframe tbody tr th {\n",
              "        vertical-align: top;\n",
              "    }\n",
              "\n",
              "    .dataframe thead th {\n",
              "        text-align: right;\n",
              "    }\n",
              "</style>\n",
              "<table border=\"1\" class=\"dataframe\">\n",
              "  <thead>\n",
              "    <tr style=\"text-align: right;\">\n",
              "      <th></th>\n",
              "      <th>cluster</th>\n",
              "      <th>release_year</th>\n",
              "      <th>runtime</th>\n",
              "      <th>imdb_score</th>\n",
              "      <th>imdb_votes</th>\n",
              "      <th>tmdb_score</th>\n",
              "    </tr>\n",
              "  </thead>\n",
              "  <tbody>\n",
              "    <tr>\n",
              "      <th>0</th>\n",
              "      <td>0</td>\n",
              "      <td>1995.796143</td>\n",
              "      <td>112.953168</td>\n",
              "      <td>7.010057</td>\n",
              "      <td>182167.060345</td>\n",
              "      <td>6.878151</td>\n",
              "    </tr>\n",
              "    <tr>\n",
              "      <th>1</th>\n",
              "      <td>1</td>\n",
              "      <td>2017.060081</td>\n",
              "      <td>103.257128</td>\n",
              "      <td>6.898885</td>\n",
              "      <td>15650.595757</td>\n",
              "      <td>6.966885</td>\n",
              "    </tr>\n",
              "    <tr>\n",
              "      <th>2</th>\n",
              "      <td>2</td>\n",
              "      <td>2017.670208</td>\n",
              "      <td>37.603090</td>\n",
              "      <td>7.093119</td>\n",
              "      <td>11965.787507</td>\n",
              "      <td>7.590541</td>\n",
              "    </tr>\n",
              "    <tr>\n",
              "      <th>3</th>\n",
              "      <td>3</td>\n",
              "      <td>2017.328835</td>\n",
              "      <td>91.708807</td>\n",
              "      <td>5.168060</td>\n",
              "      <td>7795.269663</td>\n",
              "      <td>5.522125</td>\n",
              "    </tr>\n",
              "  </tbody>\n",
              "</table>\n",
              "</div>\n",
              "      <button class=\"colab-df-convert\" onclick=\"convertToInteractive('df-07196449-9eb3-4469-bc17-f9f1fdbf03bd')\"\n",
              "              title=\"Convert this dataframe to an interactive table.\"\n",
              "              style=\"display:none;\">\n",
              "        \n",
              "  <svg xmlns=\"http://www.w3.org/2000/svg\" height=\"24px\"viewBox=\"0 0 24 24\"\n",
              "       width=\"24px\">\n",
              "    <path d=\"M0 0h24v24H0V0z\" fill=\"none\"/>\n",
              "    <path d=\"M18.56 5.44l.94 2.06.94-2.06 2.06-.94-2.06-.94-.94-2.06-.94 2.06-2.06.94zm-11 1L8.5 8.5l.94-2.06 2.06-.94-2.06-.94L8.5 2.5l-.94 2.06-2.06.94zm10 10l.94 2.06.94-2.06 2.06-.94-2.06-.94-.94-2.06-.94 2.06-2.06.94z\"/><path d=\"M17.41 7.96l-1.37-1.37c-.4-.4-.92-.59-1.43-.59-.52 0-1.04.2-1.43.59L10.3 9.45l-7.72 7.72c-.78.78-.78 2.05 0 2.83L4 21.41c.39.39.9.59 1.41.59.51 0 1.02-.2 1.41-.59l7.78-7.78 2.81-2.81c.8-.78.8-2.07 0-2.86zM5.41 20L4 18.59l7.72-7.72 1.47 1.35L5.41 20z\"/>\n",
              "  </svg>\n",
              "      </button>\n",
              "      \n",
              "  <style>\n",
              "    .colab-df-container {\n",
              "      display:flex;\n",
              "      flex-wrap:wrap;\n",
              "      gap: 12px;\n",
              "    }\n",
              "\n",
              "    .colab-df-convert {\n",
              "      background-color: #E8F0FE;\n",
              "      border: none;\n",
              "      border-radius: 50%;\n",
              "      cursor: pointer;\n",
              "      display: none;\n",
              "      fill: #1967D2;\n",
              "      height: 32px;\n",
              "      padding: 0 0 0 0;\n",
              "      width: 32px;\n",
              "    }\n",
              "\n",
              "    .colab-df-convert:hover {\n",
              "      background-color: #E2EBFA;\n",
              "      box-shadow: 0px 1px 2px rgba(60, 64, 67, 0.3), 0px 1px 3px 1px rgba(60, 64, 67, 0.15);\n",
              "      fill: #174EA6;\n",
              "    }\n",
              "\n",
              "    [theme=dark] .colab-df-convert {\n",
              "      background-color: #3B4455;\n",
              "      fill: #D2E3FC;\n",
              "    }\n",
              "\n",
              "    [theme=dark] .colab-df-convert:hover {\n",
              "      background-color: #434B5C;\n",
              "      box-shadow: 0px 1px 3px 1px rgba(0, 0, 0, 0.15);\n",
              "      filter: drop-shadow(0px 1px 2px rgba(0, 0, 0, 0.3));\n",
              "      fill: #FFFFFF;\n",
              "    }\n",
              "  </style>\n",
              "\n",
              "      <script>\n",
              "        const buttonEl =\n",
              "          document.querySelector('#df-07196449-9eb3-4469-bc17-f9f1fdbf03bd button.colab-df-convert');\n",
              "        buttonEl.style.display =\n",
              "          google.colab.kernel.accessAllowed ? 'block' : 'none';\n",
              "\n",
              "        async function convertToInteractive(key) {\n",
              "          const element = document.querySelector('#df-07196449-9eb3-4469-bc17-f9f1fdbf03bd');\n",
              "          const dataTable =\n",
              "            await google.colab.kernel.invokeFunction('convertToInteractive',\n",
              "                                                     [key], {});\n",
              "          if (!dataTable) return;\n",
              "\n",
              "          const docLinkHtml = 'Like what you see? Visit the ' +\n",
              "            '<a target=\"_blank\" href=https://colab.research.google.com/notebooks/data_table.ipynb>data table notebook</a>'\n",
              "            + ' to learn more about interactive tables.';\n",
              "          element.innerHTML = '';\n",
              "          dataTable['output_type'] = 'display_data';\n",
              "          await google.colab.output.renderOutput(dataTable, element);\n",
              "          const docLink = document.createElement('div');\n",
              "          docLink.innerHTML = docLinkHtml;\n",
              "          element.appendChild(docLink);\n",
              "        }\n",
              "      </script>\n",
              "    </div>\n",
              "  </div>\n",
              "  "
            ]
          },
          "metadata": {},
          "execution_count": 352
        }
      ],
      "source": [
        "df_km['cluster'] = kmeans_model.labels_\n",
        "cluster_groups = df_km.groupby('cluster', as_index=False).mean()\n",
        "cluster_groups"
      ]
    },
    {
      "cell_type": "code",
      "execution_count": null,
      "metadata": {
        "colab": {
          "base_uri": "https://localhost:8080/",
          "height": 607
        },
        "id": "mbYpmezKLIAK",
        "outputId": "18622695-8636-4994-afb2-844debfd42bc"
      },
      "outputs": [
        {
          "output_type": "display_data",
          "data": {
            "text/plain": [
              "<Figure size 1440x720 with 6 Axes>"
            ],
            "image/png": "[encoded data removed]"
          },
          "metadata": {}
        }
      ],
      "source": [
        "fig, axes = plt.subplots(2,3, figsize = (20, 10))\n",
        "axes = axes.ravel()\n",
        "for i, col in enumerate(cluster_groups.columns[1:]):\n",
        "  axes[i].bar(cluster_groups['cluster'], cluster_groups[col])\n",
        "  axes[i].set_title(f'Mean {col}')"
      ]
    },
    {
      "cell_type": "markdown",
      "metadata": {
        "id": "ZXXcqYmWnyWc"
      },
      "source": [
        "##Supervised Modeling\n",
        "## Bagging Regressor"
      ]
    },
    {
      "cell_type": "code",
      "execution_count": 61,
      "metadata": {
        "id": "3-fpZ6IKs4Iy"
      },
      "outputs": [],
      "source": [
        "bagreg = BaggingRegressor(random_state = 42)"
      ]
    },
    {
      "cell_type": "code",
      "execution_count": 62,
      "metadata": {
        "colab": {
          "base_uri": "https://localhost:8080/",
          "height": 75
        },
        "id": "J-E-MBIrt-dk",
        "outputId": "665102ae-08a1-4924-8ab2-dab0f19bbb2f"
      },
      "outputs": [
        {
          "output_type": "execute_result",
          "data": {
            "text/plain": [
              "BaggingRegressor(random_state=42)"
            ],
            "text/html": [
              "<style>#sk-33969b91-009e-47e9-85e3-5ce7c28b17fe {color: black;background-color: white;}#sk-33969b91-009e-47e9-85e3-5ce7c28b17fe pre{padding: 0;}#sk-33969b91-009e-47e9-85e3-5ce7c28b17fe div.sk-toggleable {background-color: white;}#sk-33969b91-009e-47e9-85e3-5ce7c28b17fe label.sk-toggleable__label {cursor: pointer;display: block;width: 100%;margin-bottom: 0;padding: 0.3em;box-sizing: border-box;text-align: center;}#sk-33969b91-009e-47e9-85e3-5ce7c28b17fe label.sk-toggleable__label-arrow:before {content: \"▸\";float: left;margin-right: 0.25em;color: #696969;}#sk-33969b91-009e-47e9-85e3-5ce7c28b17fe label.sk-toggleable__label-arrow:hover:before {color: black;}#sk-33969b91-009e-47e9-85e3-5ce7c28b17fe div.sk-estimator:hover label.sk-toggleable__label-arrow:before {color: black;}#sk-33969b91-009e-47e9-85e3-5ce7c28b17fe div.sk-toggleable__content {max-height: 0;max-width: 0;overflow: hidden;text-align: left;background-color: #f0f8ff;}#sk-33969b91-009e-47e9-85e3-5ce7c28b17fe div.sk-toggleable__content pre {margin: 0.2em;color: black;border-radius: 0.25em;background-color: #f0f8ff;}#sk-33969b91-009e-47e9-85e3-5ce7c28b17fe input.sk-toggleable__control:checked~div.sk-toggleable__content {max-height: 200px;max-width: 100%;overflow: auto;}#sk-33969b91-009e-47e9-85e3-5ce7c28b17fe input.sk-toggleable__control:checked~label.sk-toggleable__label-arrow:before {content: \"▾\";}#sk-33969b91-009e-47e9-85e3-5ce7c28b17fe div.sk-estimator input.sk-toggleable__control:checked~label.sk-toggleable__label {background-color: #d4ebff;}#sk-33969b91-009e-47e9-85e3-5ce7c28b17fe div.sk-label input.sk-toggleable__control:checked~label.sk-toggleable__label {background-color: #d4ebff;}#sk-33969b91-009e-47e9-85e3-5ce7c28b17fe input.sk-hidden--visually {border: 0;clip: rect(1px 1px 1px 1px);clip: rect(1px, 1px, 1px, 1px);height: 1px;margin: -1px;overflow: hidden;padding: 0;position: absolute;width: 1px;}#sk-33969b91-009e-47e9-85e3-5ce7c28b17fe div.sk-estimator {font-family: monospace;background-color: #f0f8ff;border: 1px dotted black;border-radius: 0.25em;box-sizing: border-box;margin-bottom: 0.5em;}#sk-33969b91-009e-47e9-85e3-5ce7c28b17fe div.sk-estimator:hover {background-color: #d4ebff;}#sk-33969b91-009e-47e9-85e3-5ce7c28b17fe div.sk-parallel-item::after {content: \"\";width: 100%;border-bottom: 1px solid gray;flex-grow: 1;}#sk-33969b91-009e-47e9-85e3-5ce7c28b17fe div.sk-label:hover label.sk-toggleable__label {background-color: #d4ebff;}#sk-33969b91-009e-47e9-85e3-5ce7c28b17fe div.sk-serial::before {content: \"\";position: absolute;border-left: 1px solid gray;box-sizing: border-box;top: 2em;bottom: 0;left: 50%;}#sk-33969b91-009e-47e9-85e3-5ce7c28b17fe div.sk-serial {display: flex;flex-direction: column;align-items: center;background-color: white;padding-right: 0.2em;padding-left: 0.2em;}#sk-33969b91-009e-47e9-85e3-5ce7c28b17fe div.sk-item {z-index: 1;}#sk-33969b91-009e-47e9-85e3-5ce7c28b17fe div.sk-parallel {display: flex;align-items: stretch;justify-content: center;background-color: white;}#sk-33969b91-009e-47e9-85e3-5ce7c28b17fe div.sk-parallel::before {content: \"\";position: absolute;border-left: 1px solid gray;box-sizing: border-box;top: 2em;bottom: 0;left: 50%;}#sk-33969b91-009e-47e9-85e3-5ce7c28b17fe div.sk-parallel-item {display: flex;flex-direction: column;position: relative;background-color: white;}#sk-33969b91-009e-47e9-85e3-5ce7c28b17fe div.sk-parallel-item:first-child::after {align-self: flex-end;width: 50%;}#sk-33969b91-009e-47e9-85e3-5ce7c28b17fe div.sk-parallel-item:last-child::after {align-self: flex-start;width: 50%;}#sk-33969b91-009e-47e9-85e3-5ce7c28b17fe div.sk-parallel-item:only-child::after {width: 0;}#sk-33969b91-009e-47e9-85e3-5ce7c28b17fe div.sk-dashed-wrapped {border: 1px dashed gray;margin: 0 0.4em 0.5em 0.4em;box-sizing: border-box;padding-bottom: 0.4em;background-color: white;position: relative;}#sk-33969b91-009e-47e9-85e3-5ce7c28b17fe div.sk-label label {font-family: monospace;font-weight: bold;background-color: white;display: inline-block;line-height: 1.2em;}#sk-33969b91-009e-47e9-85e3-5ce7c28b17fe div.sk-label-container {position: relative;z-index: 2;text-align: center;}#sk-33969b91-009e-47e9-85e3-5ce7c28b17fe div.sk-container {/* jupyter's `normalize.less` sets `[hidden] { display: none; }` but bootstrap.min.css set `[hidden] { display: none !important; }` so we also need the `!important` here to be able to override the default hidden behavior on the sphinx rendered scikit-learn.org. See: https://github.com/scikit-learn/scikit-learn/issues/21755 */display: inline-block !important;position: relative;}#sk-33969b91-009e-47e9-85e3-5ce7c28b17fe div.sk-text-repr-fallback {display: none;}</style><div id=\"sk-33969b91-009e-47e9-85e3-5ce7c28b17fe\" class=\"sk-top-container\"><div class=\"sk-text-repr-fallback\"><pre>BaggingRegressor(random_state=42)</pre><b>Please rerun this cell to show the HTML repr or trust the notebook.</b></div><div class=\"sk-container\" hidden><div class=\"sk-item\"><div class=\"sk-estimator sk-toggleable\"><input class=\"sk-toggleable__control sk-hidden--visually\" id=\"17532b64-7325-4fb9-9b67-66654faa9e75\" type=\"checkbox\" checked><label for=\"17532b64-7325-4fb9-9b67-66654faa9e75\" class=\"sk-toggleable__label sk-toggleable__label-arrow\">BaggingRegressor</label><div class=\"sk-toggleable__content\"><pre>BaggingRegressor(random_state=42)</pre></div></div></div></div></div>"
            ]
          },
          "metadata": {},
          "execution_count": 62
        }
      ],
      "source": [
        "bagreg.fit(X_train_pro, y_train)"
      ]
    },
    {
      "cell_type": "code",
      "execution_count": 63,
      "metadata": {
        "colab": {
          "base_uri": "https://localhost:8080/"
        },
        "id": "Srfagt5ZuB0d",
        "outputId": "66bd6e76-12e9-4890-d87e-5533ae11ee06"
      },
      "outputs": [
        {
          "output_type": "execute_result",
          "data": {
            "text/plain": [
              "array([6.66, 6.91, 6.64, ..., 6.07, 6.99, 6.78])"
            ]
          },
          "metadata": {},
          "execution_count": 63
        }
      ],
      "source": [
        "bagreg.predict(X_test_pro)"
      ]
    },
    {
      "cell_type": "code",
      "execution_count": 64,
      "metadata": {
        "colab": {
          "base_uri": "https://localhost:8080/"
        },
        "id": "HFmtSJPD1A5S",
        "outputId": "6e071784-d049-41e2-c247-cb719e535a3e"
      },
      "outputs": [
        {
          "output_type": "stream",
          "name": "stdout",
          "text": [
            "0.9028410061852925\n",
            "0.47347207838098415\n"
          ]
        }
      ],
      "source": [
        "bagreg_train_score = bagreg.score(X_train_pro, y_train)\n",
        "bagreg_test_score = bagreg.score(X_test_pro, y_test)\n",
        "print(bagreg_train_score)\n",
        "print(bagreg_test_score)"
      ]
    },
    {
      "cell_type": "markdown",
      "metadata": {
        "id": "2JNW4vir1gsA"
      },
      "source": [
        "This model is extremly overfit, I'm going to tune it and see if I can get better results."
      ]
    },
    {
      "cell_type": "code",
      "execution_count": 65,
      "metadata": {
        "id": "uhunCUQ-1eYZ"
      },
      "outputs": [],
      "source": [
        "# List of estimator values\n",
        "estimators = [10, 20, 30, 40, 50, 100]\n",
        "# Data frame to store the scores\n",
        "scores = pd.DataFrame(index=estimators, columns=['Train Score', 'Test Score'])\n",
        "# Iterate through the values to find the best number of estimators\n",
        "for num_estimators in estimators:\n",
        "   bag_reg = BaggingRegressor(n_estimators=num_estimators, random_state=42)\n",
        "   bag_reg.fit(X_train_pro, y_train)\n",
        "   train_score = bag_reg.score(X_train_pro, y_train)\n",
        "   test_score = bag_reg.score(X_test_pro, y_test)\n",
        "   scores.loc[num_estimators, 'Train Score'] = train_score\n",
        "   scores.loc[num_estimators, 'Test Score'] = test_score"
      ]
    },
    {
      "cell_type": "code",
      "execution_count": 66,
      "metadata": {
        "colab": {
          "base_uri": "https://localhost:8080/",
          "height": 265
        },
        "id": "C7hMYAIu14Pu",
        "outputId": "6481bedd-98c1-4964-bbae-0491826aefca"
      },
      "outputs": [
        {
          "output_type": "display_data",
          "data": {
            "text/plain": [
              "<Figure size 432x288 with 1 Axes>"
            ],
            "image/png": "[encoded data removed]"
          },
          "metadata": {
            "needs_background": "light"
          }
        }
      ],
      "source": [
        "# Plot the scores\n",
        "plt.plot(scores['Test Score'])\n",
        "plt.show()"
      ]
    },
    {
      "cell_type": "markdown",
      "metadata": {
        "id": "jiRBfjyu2Bj3"
      },
      "source": [
        "Sorting my scores next."
      ]
    },
    {
      "cell_type": "code",
      "execution_count": 67,
      "metadata": {
        "colab": {
          "base_uri": "https://localhost:8080/",
          "height": 237
        },
        "id": "KWoS2MeH2Ays",
        "outputId": "b977e20e-e761-4c94-beaf-3a1834ad58a1"
      },
      "outputs": [
        {
          "output_type": "execute_result",
          "data": {
            "text/plain": [
              "    Train Score Test Score\n",
              "100    0.929747   0.516729\n",
              "40     0.925665   0.515119\n",
              "50     0.927371    0.51312\n",
              "30     0.923319   0.507033\n",
              "20     0.917032   0.500317\n",
              "10     0.902841   0.473472"
            ],
            "text/html": [
              "\n",
              "  <div id=\"df-a3be22dd-363c-4175-b337-8b486ee1623c\">\n",
              "    <div class=\"colab-df-container\">\n",
              "      <div>\n",
              "<style scoped>\n",
              "    .dataframe tbody tr th:only-of-type {\n",
              "        vertical-align: middle;\n",
              "    }\n",
              "\n",
              "    .dataframe tbody tr th {\n",
              "        vertical-align: top;\n",
              "    }\n",
              "\n",
              "    .dataframe thead th {\n",
              "        text-align: right;\n",
              "    }\n",
              "</style>\n",
              "<table border=\"1\" class=\"dataframe\">\n",
              "  <thead>\n",
              "    <tr style=\"text-align: right;\">\n",
              "      <th></th>\n",
              "      <th>Train Score</th>\n",
              "      <th>Test Score</th>\n",
              "    </tr>\n",
              "  </thead>\n",
              "  <tbody>\n",
              "    <tr>\n",
              "      <th>100</th>\n",
              "      <td>0.929747</td>\n",
              "      <td>0.516729</td>\n",
              "    </tr>\n",
              "    <tr>\n",
              "      <th>40</th>\n",
              "      <td>0.925665</td>\n",
              "      <td>0.515119</td>\n",
              "    </tr>\n",
              "    <tr>\n",
              "      <th>50</th>\n",
              "      <td>0.927371</td>\n",
              "      <td>0.51312</td>\n",
              "    </tr>\n",
              "    <tr>\n",
              "      <th>30</th>\n",
              "      <td>0.923319</td>\n",
              "      <td>0.507033</td>\n",
              "    </tr>\n",
              "    <tr>\n",
              "      <th>20</th>\n",
              "      <td>0.917032</td>\n",
              "      <td>0.500317</td>\n",
              "    </tr>\n",
              "    <tr>\n",
              "      <th>10</th>\n",
              "      <td>0.902841</td>\n",
              "      <td>0.473472</td>\n",
              "    </tr>\n",
              "  </tbody>\n",
              "</table>\n",
              "</div>\n",
              "      <button class=\"colab-df-convert\" onclick=\"convertToInteractive('df-a3be22dd-363c-4175-b337-8b486ee1623c')\"\n",
              "              title=\"Convert this dataframe to an interactive table.\"\n",
              "              style=\"display:none;\">\n",
              "        \n",
              "  <svg xmlns=\"http://www.w3.org/2000/svg\" height=\"24px\"viewBox=\"0 0 24 24\"\n",
              "       width=\"24px\">\n",
              "    <path d=\"M0 0h24v24H0V0z\" fill=\"none\"/>\n",
              "    <path d=\"M18.56 5.44l.94 2.06.94-2.06 2.06-.94-2.06-.94-.94-2.06-.94 2.06-2.06.94zm-11 1L8.5 8.5l.94-2.06 2.06-.94-2.06-.94L8.5 2.5l-.94 2.06-2.06.94zm10 10l.94 2.06.94-2.06 2.06-.94-2.06-.94-.94-2.06-.94 2.06-2.06.94z\"/><path d=\"M17.41 7.96l-1.37-1.37c-.4-.4-.92-.59-1.43-.59-.52 0-1.04.2-1.43.59L10.3 9.45l-7.72 7.72c-.78.78-.78 2.05 0 2.83L4 21.41c.39.39.9.59 1.41.59.51 0 1.02-.2 1.41-.59l7.78-7.78 2.81-2.81c.8-.78.8-2.07 0-2.86zM5.41 20L4 18.59l7.72-7.72 1.47 1.35L5.41 20z\"/>\n",
              "  </svg>\n",
              "      </button>\n",
              "      \n",
              "  <style>\n",
              "    .colab-df-container {\n",
              "      display:flex;\n",
              "      flex-wrap:wrap;\n",
              "      gap: 12px;\n",
              "    }\n",
              "\n",
              "    .colab-df-convert {\n",
              "      background-color: #E8F0FE;\n",
              "      border: none;\n",
              "      border-radius: 50%;\n",
              "      cursor: pointer;\n",
              "      display: none;\n",
              "      fill: #1967D2;\n",
              "      height: 32px;\n",
              "      padding: 0 0 0 0;\n",
              "      width: 32px;\n",
              "    }\n",
              "\n",
              "    .colab-df-convert:hover {\n",
              "      background-color: #E2EBFA;\n",
              "      box-shadow: 0px 1px 2px rgba(60, 64, 67, 0.3), 0px 1px 3px 1px rgba(60, 64, 67, 0.15);\n",
              "      fill: #174EA6;\n",
              "    }\n",
              "\n",
              "    [theme=dark] .colab-df-convert {\n",
              "      background-color: #3B4455;\n",
              "      fill: #D2E3FC;\n",
              "    }\n",
              "\n",
              "    [theme=dark] .colab-df-convert:hover {\n",
              "      background-color: #434B5C;\n",
              "      box-shadow: 0px 1px 3px 1px rgba(0, 0, 0, 0.15);\n",
              "      filter: drop-shadow(0px 1px 2px rgba(0, 0, 0, 0.3));\n",
              "      fill: #FFFFFF;\n",
              "    }\n",
              "  </style>\n",
              "\n",
              "      <script>\n",
              "        const buttonEl =\n",
              "          document.querySelector('#df-a3be22dd-363c-4175-b337-8b486ee1623c button.colab-df-convert');\n",
              "        buttonEl.style.display =\n",
              "          google.colab.kernel.accessAllowed ? 'block' : 'none';\n",
              "\n",
              "        async function convertToInteractive(key) {\n",
              "          const element = document.querySelector('#df-a3be22dd-363c-4175-b337-8b486ee1623c');\n",
              "          const dataTable =\n",
              "            await google.colab.kernel.invokeFunction('convertToInteractive',\n",
              "                                                     [key], {});\n",
              "          if (!dataTable) return;\n",
              "\n",
              "          const docLinkHtml = 'Like what you see? Visit the ' +\n",
              "            '<a target=\"_blank\" href=https://colab.research.google.com/notebooks/data_table.ipynb>data table notebook</a>'\n",
              "            + ' to learn more about interactive tables.';\n",
              "          element.innerHTML = '';\n",
              "          dataTable['output_type'] = 'display_data';\n",
              "          await google.colab.output.renderOutput(dataTable, element);\n",
              "          const docLink = document.createElement('div');\n",
              "          docLink.innerHTML = docLinkHtml;\n",
              "          element.appendChild(docLink);\n",
              "        }\n",
              "      </script>\n",
              "    </div>\n",
              "  </div>\n",
              "  "
            ]
          },
          "metadata": {},
          "execution_count": 67
        }
      ],
      "source": [
        "scores = scores.sort_values(by='Test Score', ascending=False)\n",
        "scores"
      ]
    },
    {
      "cell_type": "markdown",
      "source": [
        "With 100 being the best I'm going to retest with similar numbers."
      ],
      "metadata": {
        "id": "AjjYrWFN-Lbx"
      }
    },
    {
      "cell_type": "code",
      "execution_count": 68,
      "metadata": {
        "id": "FaUWO2582D0x"
      },
      "outputs": [],
      "source": [
        "# List of estimator values\n",
        "estimators = [100, 120, 130, 140, 150]\n",
        "# Data frame to store the scores\n",
        "scores = pd.DataFrame(index=estimators, columns=['Train Score', 'Test Score'])\n",
        "# Iterate through the values to find the best number of estimators\n",
        "for num_estimators in estimators:\n",
        "   bag_reg = BaggingRegressor(n_estimators=num_estimators, random_state=42)\n",
        "   bag_reg.fit(X_train_pro, y_train)\n",
        "   train_score = bag_reg.score(X_train_pro, y_train)\n",
        "   test_score = bag_reg.score(X_test_pro, y_test)\n",
        "   scores.loc[num_estimators, 'Train Score'] = train_score\n",
        "   scores.loc[num_estimators, 'Test Score'] = test_score"
      ]
    },
    {
      "cell_type": "code",
      "execution_count": 69,
      "metadata": {
        "colab": {
          "base_uri": "https://localhost:8080/",
          "height": 206
        },
        "id": "qVUZFpX52NRH",
        "outputId": "2cc43541-a4af-4b11-8b68-1ed3951c06f5"
      },
      "outputs": [
        {
          "output_type": "execute_result",
          "data": {
            "text/plain": [
              "    Train Score Test Score\n",
              "140    0.930821    0.51845\n",
              "150    0.931048     0.5183\n",
              "120    0.930576   0.517578\n",
              "130    0.930777   0.517549\n",
              "100    0.929747   0.516729"
            ],
            "text/html": [
              "\n",
              "  <div id=\"df-fe76a93b-38f5-4f93-92a3-8422c8aa71c7\">\n",
              "    <div class=\"colab-df-container\">\n",
              "      <div>\n",
              "<style scoped>\n",
              "    .dataframe tbody tr th:only-of-type {\n",
              "        vertical-align: middle;\n",
              "    }\n",
              "\n",
              "    .dataframe tbody tr th {\n",
              "        vertical-align: top;\n",
              "    }\n",
              "\n",
              "    .dataframe thead th {\n",
              "        text-align: right;\n",
              "    }\n",
              "</style>\n",
              "<table border=\"1\" class=\"dataframe\">\n",
              "  <thead>\n",
              "    <tr style=\"text-align: right;\">\n",
              "      <th></th>\n",
              "      <th>Train Score</th>\n",
              "      <th>Test Score</th>\n",
              "    </tr>\n",
              "  </thead>\n",
              "  <tbody>\n",
              "    <tr>\n",
              "      <th>140</th>\n",
              "      <td>0.930821</td>\n",
              "      <td>0.51845</td>\n",
              "    </tr>\n",
              "    <tr>\n",
              "      <th>150</th>\n",
              "      <td>0.931048</td>\n",
              "      <td>0.5183</td>\n",
              "    </tr>\n",
              "    <tr>\n",
              "      <th>120</th>\n",
              "      <td>0.930576</td>\n",
              "      <td>0.517578</td>\n",
              "    </tr>\n",
              "    <tr>\n",
              "      <th>130</th>\n",
              "      <td>0.930777</td>\n",
              "      <td>0.517549</td>\n",
              "    </tr>\n",
              "    <tr>\n",
              "      <th>100</th>\n",
              "      <td>0.929747</td>\n",
              "      <td>0.516729</td>\n",
              "    </tr>\n",
              "  </tbody>\n",
              "</table>\n",
              "</div>\n",
              "      <button class=\"colab-df-convert\" onclick=\"convertToInteractive('df-fe76a93b-38f5-4f93-92a3-8422c8aa71c7')\"\n",
              "              title=\"Convert this dataframe to an interactive table.\"\n",
              "              style=\"display:none;\">\n",
              "        \n",
              "  <svg xmlns=\"http://www.w3.org/2000/svg\" height=\"24px\"viewBox=\"0 0 24 24\"\n",
              "       width=\"24px\">\n",
              "    <path d=\"M0 0h24v24H0V0z\" fill=\"none\"/>\n",
              "    <path d=\"M18.56 5.44l.94 2.06.94-2.06 2.06-.94-2.06-.94-.94-2.06-.94 2.06-2.06.94zm-11 1L8.5 8.5l.94-2.06 2.06-.94-2.06-.94L8.5 2.5l-.94 2.06-2.06.94zm10 10l.94 2.06.94-2.06 2.06-.94-2.06-.94-.94-2.06-.94 2.06-2.06.94z\"/><path d=\"M17.41 7.96l-1.37-1.37c-.4-.4-.92-.59-1.43-.59-.52 0-1.04.2-1.43.59L10.3 9.45l-7.72 7.72c-.78.78-.78 2.05 0 2.83L4 21.41c.39.39.9.59 1.41.59.51 0 1.02-.2 1.41-.59l7.78-7.78 2.81-2.81c.8-.78.8-2.07 0-2.86zM5.41 20L4 18.59l7.72-7.72 1.47 1.35L5.41 20z\"/>\n",
              "  </svg>\n",
              "      </button>\n",
              "      \n",
              "  <style>\n",
              "    .colab-df-container {\n",
              "      display:flex;\n",
              "      flex-wrap:wrap;\n",
              "      gap: 12px;\n",
              "    }\n",
              "\n",
              "    .colab-df-convert {\n",
              "      background-color: #E8F0FE;\n",
              "      border: none;\n",
              "      border-radius: 50%;\n",
              "      cursor: pointer;\n",
              "      display: none;\n",
              "      fill: #1967D2;\n",
              "      height: 32px;\n",
              "      padding: 0 0 0 0;\n",
              "      width: 32px;\n",
              "    }\n",
              "\n",
              "    .colab-df-convert:hover {\n",
              "      background-color: #E2EBFA;\n",
              "      box-shadow: 0px 1px 2px rgba(60, 64, 67, 0.3), 0px 1px 3px 1px rgba(60, 64, 67, 0.15);\n",
              "      fill: #174EA6;\n",
              "    }\n",
              "\n",
              "    [theme=dark] .colab-df-convert {\n",
              "      background-color: #3B4455;\n",
              "      fill: #D2E3FC;\n",
              "    }\n",
              "\n",
              "    [theme=dark] .colab-df-convert:hover {\n",
              "      background-color: #434B5C;\n",
              "      box-shadow: 0px 1px 3px 1px rgba(0, 0, 0, 0.15);\n",
              "      filter: drop-shadow(0px 1px 2px rgba(0, 0, 0, 0.3));\n",
              "      fill: #FFFFFF;\n",
              "    }\n",
              "  </style>\n",
              "\n",
              "      <script>\n",
              "        const buttonEl =\n",
              "          document.querySelector('#df-fe76a93b-38f5-4f93-92a3-8422c8aa71c7 button.colab-df-convert');\n",
              "        buttonEl.style.display =\n",
              "          google.colab.kernel.accessAllowed ? 'block' : 'none';\n",
              "\n",
              "        async function convertToInteractive(key) {\n",
              "          const element = document.querySelector('#df-fe76a93b-38f5-4f93-92a3-8422c8aa71c7');\n",
              "          const dataTable =\n",
              "            await google.colab.kernel.invokeFunction('convertToInteractive',\n",
              "                                                     [key], {});\n",
              "          if (!dataTable) return;\n",
              "\n",
              "          const docLinkHtml = 'Like what you see? Visit the ' +\n",
              "            '<a target=\"_blank\" href=https://colab.research.google.com/notebooks/data_table.ipynb>data table notebook</a>'\n",
              "            + ' to learn more about interactive tables.';\n",
              "          element.innerHTML = '';\n",
              "          dataTable['output_type'] = 'display_data';\n",
              "          await google.colab.output.renderOutput(dataTable, element);\n",
              "          const docLink = document.createElement('div');\n",
              "          docLink.innerHTML = docLinkHtml;\n",
              "          element.appendChild(docLink);\n",
              "        }\n",
              "      </script>\n",
              "    </div>\n",
              "  </div>\n",
              "  "
            ]
          },
          "metadata": {},
          "execution_count": 69
        }
      ],
      "source": [
        "scores = scores.sort_values(by='Test Score', ascending=False)\n",
        "scores"
      ]
    },
    {
      "cell_type": "code",
      "source": [
        "bag_reg_final = BaggingRegressor(n_estimators=150, random_state=42)\n",
        "bag_reg_final.fit(X_train_pro, y_train)\n",
        "train_final = bag_reg_final.score(X_train_pro, y_train)\n",
        "test_final = bag_reg_final.score(X_test_pro, y_test)\n",
        "print(train_score)\n",
        "print(test_score)"
      ],
      "metadata": {
        "colab": {
          "base_uri": "https://localhost:8080/"
        },
        "id": "har3AsbLi_tl",
        "outputId": "1e50d363-8d0f-451f-fc77-a746e17208f2"
      },
      "execution_count": 70,
      "outputs": [
        {
          "output_type": "stream",
          "name": "stdout",
          "text": [
            "0.9310481979873222\n",
            "0.5182999667667687\n"
          ]
        }
      ]
    },
    {
      "cell_type": "markdown",
      "metadata": {
        "id": "A0kWWVLM2yWD"
      },
      "source": [
        "So even with 150 estimators we are not getting very much in the way of return on our test data (only a .004% increase.)  Lets try a different model."
      ]
    },
    {
      "cell_type": "markdown",
      "metadata": {
        "id": "BjX87OwF2yPU"
      },
      "source": [
        "##Random Forest Regressor"
      ]
    },
    {
      "cell_type": "code",
      "execution_count": null,
      "metadata": {
        "id": "i0tBAUe92wfY"
      },
      "outputs": [],
      "source": [
        "rf = RandomForestRegressor(random_state = 42)"
      ]
    },
    {
      "cell_type": "code",
      "execution_count": null,
      "metadata": {
        "colab": {
          "base_uri": "https://localhost:8080/",
          "height": 75
        },
        "id": "WZjLhoJy4Eb3",
        "outputId": "91105f05-4cad-4ac1-9447-d0c04cb82e59"
      },
      "outputs": [
        {
          "output_type": "execute_result",
          "data": {
            "text/plain": [
              "RandomForestRegressor(random_state=42)"
            ],
            "text/html": [
              "<style>#sk-3c794dcf-1e1e-428e-b7df-8ff35f44a8fa {color: black;background-color: white;}#sk-3c794dcf-1e1e-428e-b7df-8ff35f44a8fa pre{padding: 0;}#sk-3c794dcf-1e1e-428e-b7df-8ff35f44a8fa div.sk-toggleable {background-color: white;}#sk-3c794dcf-1e1e-428e-b7df-8ff35f44a8fa label.sk-toggleable__label {cursor: pointer;display: block;width: 100%;margin-bottom: 0;padding: 0.3em;box-sizing: border-box;text-align: center;}#sk-3c794dcf-1e1e-428e-b7df-8ff35f44a8fa label.sk-toggleable__label-arrow:before {content: \"▸\";float: left;margin-right: 0.25em;color: #696969;}#sk-3c794dcf-1e1e-428e-b7df-8ff35f44a8fa label.sk-toggleable__label-arrow:hover:before {color: black;}#sk-3c794dcf-1e1e-428e-b7df-8ff35f44a8fa div.sk-estimator:hover label.sk-toggleable__label-arrow:before {color: black;}#sk-3c794dcf-1e1e-428e-b7df-8ff35f44a8fa div.sk-toggleable__content {max-height: 0;max-width: 0;overflow: hidden;text-align: left;background-color: #f0f8ff;}#sk-3c794dcf-1e1e-428e-b7df-8ff35f44a8fa div.sk-toggleable__content pre {margin: 0.2em;color: black;border-radius: 0.25em;background-color: #f0f8ff;}#sk-3c794dcf-1e1e-428e-b7df-8ff35f44a8fa input.sk-toggleable__control:checked~div.sk-toggleable__content {max-height: 200px;max-width: 100%;overflow: auto;}#sk-3c794dcf-1e1e-428e-b7df-8ff35f44a8fa input.sk-toggleable__control:checked~label.sk-toggleable__label-arrow:before {content: \"▾\";}#sk-3c794dcf-1e1e-428e-b7df-8ff35f44a8fa div.sk-estimator input.sk-toggleable__control:checked~label.sk-toggleable__label {background-color: #d4ebff;}#sk-3c794dcf-1e1e-428e-b7df-8ff35f44a8fa div.sk-label input.sk-toggleable__control:checked~label.sk-toggleable__label {background-color: #d4ebff;}#sk-3c794dcf-1e1e-428e-b7df-8ff35f44a8fa input.sk-hidden--visually {border: 0;clip: rect(1px 1px 1px 1px);clip: rect(1px, 1px, 1px, 1px);height: 1px;margin: -1px;overflow: hidden;padding: 0;position: absolute;width: 1px;}#sk-3c794dcf-1e1e-428e-b7df-8ff35f44a8fa div.sk-estimator {font-family: monospace;background-color: #f0f8ff;border: 1px dotted black;border-radius: 0.25em;box-sizing: border-box;margin-bottom: 0.5em;}#sk-3c794dcf-1e1e-428e-b7df-8ff35f44a8fa div.sk-estimator:hover {background-color: #d4ebff;}#sk-3c794dcf-1e1e-428e-b7df-8ff35f44a8fa div.sk-parallel-item::after {content: \"\";width: 100%;border-bottom: 1px solid gray;flex-grow: 1;}#sk-3c794dcf-1e1e-428e-b7df-8ff35f44a8fa div.sk-label:hover label.sk-toggleable__label {background-color: #d4ebff;}#sk-3c794dcf-1e1e-428e-b7df-8ff35f44a8fa div.sk-serial::before {content: \"\";position: absolute;border-left: 1px solid gray;box-sizing: border-box;top: 2em;bottom: 0;left: 50%;}#sk-3c794dcf-1e1e-428e-b7df-8ff35f44a8fa div.sk-serial {display: flex;flex-direction: column;align-items: center;background-color: white;padding-right: 0.2em;padding-left: 0.2em;}#sk-3c794dcf-1e1e-428e-b7df-8ff35f44a8fa div.sk-item {z-index: 1;}#sk-3c794dcf-1e1e-428e-b7df-8ff35f44a8fa div.sk-parallel {display: flex;align-items: stretch;justify-content: center;background-color: white;}#sk-3c794dcf-1e1e-428e-b7df-8ff35f44a8fa div.sk-parallel::before {content: \"\";position: absolute;border-left: 1px solid gray;box-sizing: border-box;top: 2em;bottom: 0;left: 50%;}#sk-3c794dcf-1e1e-428e-b7df-8ff35f44a8fa div.sk-parallel-item {display: flex;flex-direction: column;position: relative;background-color: white;}#sk-3c794dcf-1e1e-428e-b7df-8ff35f44a8fa div.sk-parallel-item:first-child::after {align-self: flex-end;width: 50%;}#sk-3c794dcf-1e1e-428e-b7df-8ff35f44a8fa div.sk-parallel-item:last-child::after {align-self: flex-start;width: 50%;}#sk-3c794dcf-1e1e-428e-b7df-8ff35f44a8fa div.sk-parallel-item:only-child::after {width: 0;}#sk-3c794dcf-1e1e-428e-b7df-8ff35f44a8fa div.sk-dashed-wrapped {border: 1px dashed gray;margin: 0 0.4em 0.5em 0.4em;box-sizing: border-box;padding-bottom: 0.4em;background-color: white;position: relative;}#sk-3c794dcf-1e1e-428e-b7df-8ff35f44a8fa div.sk-label label {font-family: monospace;font-weight: bold;background-color: white;display: inline-block;line-height: 1.2em;}#sk-3c794dcf-1e1e-428e-b7df-8ff35f44a8fa div.sk-label-container {position: relative;z-index: 2;text-align: center;}#sk-3c794dcf-1e1e-428e-b7df-8ff35f44a8fa div.sk-container {/* jupyter's `normalize.less` sets `[hidden] { display: none; }` but bootstrap.min.css set `[hidden] { display: none !important; }` so we also need the `!important` here to be able to override the default hidden behavior on the sphinx rendered scikit-learn.org. See: https://github.com/scikit-learn/scikit-learn/issues/21755 */display: inline-block !important;position: relative;}#sk-3c794dcf-1e1e-428e-b7df-8ff35f44a8fa div.sk-text-repr-fallback {display: none;}</style><div id=\"sk-3c794dcf-1e1e-428e-b7df-8ff35f44a8fa\" class=\"sk-top-container\"><div class=\"sk-text-repr-fallback\"><pre>RandomForestRegressor(random_state=42)</pre><b>Please rerun this cell to show the HTML repr or trust the notebook.</b></div><div class=\"sk-container\" hidden><div class=\"sk-item\"><div class=\"sk-estimator sk-toggleable\"><input class=\"sk-toggleable__control sk-hidden--visually\" id=\"a11051b7-597b-4d3c-94e6-4d9537cfc13e\" type=\"checkbox\" checked><label for=\"a11051b7-597b-4d3c-94e6-4d9537cfc13e\" class=\"sk-toggleable__label sk-toggleable__label-arrow\">RandomForestRegressor</label><div class=\"sk-toggleable__content\"><pre>RandomForestRegressor(random_state=42)</pre></div></div></div></div></div>"
            ]
          },
          "metadata": {},
          "execution_count": 365
        }
      ],
      "source": [
        "rf.fit(X_train_pro, y_train)"
      ]
    },
    {
      "cell_type": "code",
      "execution_count": null,
      "metadata": {
        "colab": {
          "base_uri": "https://localhost:8080/"
        },
        "id": "_ir28MsQ4LNg",
        "outputId": "373a442b-9215-4655-89c7-22428f90f28c"
      },
      "outputs": [
        {
          "output_type": "execute_result",
          "data": {
            "text/plain": [
              "array([6.605, 6.903, 6.529, ..., 6.022, 6.994, 6.554])"
            ]
          },
          "metadata": {},
          "execution_count": 366
        }
      ],
      "source": [
        "rf.predict(X_test_pro)"
      ]
    },
    {
      "cell_type": "code",
      "execution_count": null,
      "metadata": {
        "colab": {
          "base_uri": "https://localhost:8080/"
        },
        "id": "UrCvR_wJ4P5R",
        "outputId": "9c591a69-fa79-4b05-e517-c22d2526d41c"
      },
      "outputs": [
        {
          "output_type": "stream",
          "name": "stdout",
          "text": [
            "0.9295891608576191\n",
            "0.5159871628119488\n"
          ]
        }
      ],
      "source": [
        "rf_train_score = rf.score(X_train_pro, y_train)\n",
        "rf_test_score = rf.score(X_test_pro, y_test)\n",
        "print(rf_train_score)\n",
        "print(rf_test_score)"
      ]
    },
    {
      "cell_type": "markdown",
      "metadata": {
        "id": "GT4CECn74XQU"
      },
      "source": [
        "We are still very overfit.  Lets try changing our depth."
      ]
    },
    {
      "cell_type": "code",
      "execution_count": null,
      "metadata": {
        "colab": {
          "base_uri": "https://localhost:8080/"
        },
        "id": "sj9seKJR4mGa",
        "outputId": "e53e5e00-9dae-4f0e-dac4-5cc7ea63d4a2"
      },
      "outputs": [
        {
          "output_type": "execute_result",
          "data": {
            "text/plain": [
              "44"
            ]
          },
          "metadata": {},
          "execution_count": 368
        }
      ],
      "source": [
        "est_depths = [estimator.get_depth() for estimator in rf.estimators_]\n",
        "max(est_depths)"
      ]
    },
    {
      "cell_type": "code",
      "execution_count": null,
      "metadata": {
        "id": "fdLd3Gu94T4N"
      },
      "outputs": [],
      "source": [
        "depths = range(1, max(est_depths))\n",
        "scores = pd.DataFrame(index=depths, columns=['Test Score'])\n",
        "for depth in depths:    \n",
        "   model = RandomForestRegressor(max_depth=depth)\n",
        "   model.fit(X_train_pro, y_train)\n",
        "   scores.loc[depth, 'Train Score'] = model.score(X_train_pro, y_train)\n",
        "   scores.loc[depth, 'Test Score'] = model.score(X_test_pro, y_test)\n",
        "   scores.head()"
      ]
    },
    {
      "cell_type": "code",
      "execution_count": null,
      "metadata": {
        "colab": {
          "base_uri": "https://localhost:8080/",
          "height": 265
        },
        "id": "Pa00GCXk40N7",
        "outputId": "6c9f0eac-243a-40e2-89f1-ae3107c2739f"
      },
      "outputs": [
        {
          "output_type": "display_data",
          "data": {
            "text/plain": [
              "<Figure size 432x288 with 1 Axes>"
            ],
            "image/png": "[encoded data removed]"
          },
          "metadata": {}
        }
      ],
      "source": [
        "plt.plot(scores['Test Score']);"
      ]
    },
    {
      "cell_type": "code",
      "execution_count": null,
      "metadata": {
        "colab": {
          "base_uri": "https://localhost:8080/",
          "height": 206
        },
        "id": "azmcC9PP42aR",
        "outputId": "abba6532-963b-480c-967a-4ae832de846c"
      },
      "outputs": [
        {
          "output_type": "execute_result",
          "data": {
            "text/plain": [
              "   Test Score  Train Score\n",
              "13   0.529218     0.871747\n",
              "23   0.525325     0.930488\n",
              "7    0.524918     0.641692\n",
              "29   0.524891     0.931380\n",
              "21   0.524435     0.930235"
            ],
            "text/html": [
              "\n",
              "  <div id=\"df-280e9cc8-ebfd-437e-a7f7-1af7d4b6a65c\">\n",
              "    <div class=\"colab-df-container\">\n",
              "      <div>\n",
              "<style scoped>\n",
              "    .dataframe tbody tr th:only-of-type {\n",
              "        vertical-align: middle;\n",
              "    }\n",
              "\n",
              "    .dataframe tbody tr th {\n",
              "        vertical-align: top;\n",
              "    }\n",
              "\n",
              "    .dataframe thead th {\n",
              "        text-align: right;\n",
              "    }\n",
              "</style>\n",
              "<table border=\"1\" class=\"dataframe\">\n",
              "  <thead>\n",
              "    <tr style=\"text-align: right;\">\n",
              "      <th></th>\n",
              "      <th>Test Score</th>\n",
              "      <th>Train Score</th>\n",
              "    </tr>\n",
              "  </thead>\n",
              "  <tbody>\n",
              "    <tr>\n",
              "      <th>13</th>\n",
              "      <td>0.529218</td>\n",
              "      <td>0.871747</td>\n",
              "    </tr>\n",
              "    <tr>\n",
              "      <th>23</th>\n",
              "      <td>0.525325</td>\n",
              "      <td>0.930488</td>\n",
              "    </tr>\n",
              "    <tr>\n",
              "      <th>7</th>\n",
              "      <td>0.524918</td>\n",
              "      <td>0.641692</td>\n",
              "    </tr>\n",
              "    <tr>\n",
              "      <th>29</th>\n",
              "      <td>0.524891</td>\n",
              "      <td>0.931380</td>\n",
              "    </tr>\n",
              "    <tr>\n",
              "      <th>21</th>\n",
              "      <td>0.524435</td>\n",
              "      <td>0.930235</td>\n",
              "    </tr>\n",
              "  </tbody>\n",
              "</table>\n",
              "</div>\n",
              "      <button class=\"colab-df-convert\" onclick=\"convertToInteractive('df-280e9cc8-ebfd-437e-a7f7-1af7d4b6a65c')\"\n",
              "              title=\"Convert this dataframe to an interactive table.\"\n",
              "              style=\"display:none;\">\n",
              "        \n",
              "  <svg xmlns=\"http://www.w3.org/2000/svg\" height=\"24px\"viewBox=\"0 0 24 24\"\n",
              "       width=\"24px\">\n",
              "    <path d=\"M0 0h24v24H0V0z\" fill=\"none\"/>\n",
              "    <path d=\"M18.56 5.44l.94 2.06.94-2.06 2.06-.94-2.06-.94-.94-2.06-.94 2.06-2.06.94zm-11 1L8.5 8.5l.94-2.06 2.06-.94-2.06-.94L8.5 2.5l-.94 2.06-2.06.94zm10 10l.94 2.06.94-2.06 2.06-.94-2.06-.94-.94-2.06-.94 2.06-2.06.94z\"/><path d=\"M17.41 7.96l-1.37-1.37c-.4-.4-.92-.59-1.43-.59-.52 0-1.04.2-1.43.59L10.3 9.45l-7.72 7.72c-.78.78-.78 2.05 0 2.83L4 21.41c.39.39.9.59 1.41.59.51 0 1.02-.2 1.41-.59l7.78-7.78 2.81-2.81c.8-.78.8-2.07 0-2.86zM5.41 20L4 18.59l7.72-7.72 1.47 1.35L5.41 20z\"/>\n",
              "  </svg>\n",
              "      </button>\n",
              "      \n",
              "  <style>\n",
              "    .colab-df-container {\n",
              "      display:flex;\n",
              "      flex-wrap:wrap;\n",
              "      gap: 12px;\n",
              "    }\n",
              "\n",
              "    .colab-df-convert {\n",
              "      background-color: #E8F0FE;\n",
              "      border: none;\n",
              "      border-radius: 50%;\n",
              "      cursor: pointer;\n",
              "      display: none;\n",
              "      fill: #1967D2;\n",
              "      height: 32px;\n",
              "      padding: 0 0 0 0;\n",
              "      width: 32px;\n",
              "    }\n",
              "\n",
              "    .colab-df-convert:hover {\n",
              "      background-color: #E2EBFA;\n",
              "      box-shadow: 0px 1px 2px rgba(60, 64, 67, 0.3), 0px 1px 3px 1px rgba(60, 64, 67, 0.15);\n",
              "      fill: #174EA6;\n",
              "    }\n",
              "\n",
              "    [theme=dark] .colab-df-convert {\n",
              "      background-color: #3B4455;\n",
              "      fill: #D2E3FC;\n",
              "    }\n",
              "\n",
              "    [theme=dark] .colab-df-convert:hover {\n",
              "      background-color: #434B5C;\n",
              "      box-shadow: 0px 1px 3px 1px rgba(0, 0, 0, 0.15);\n",
              "      filter: drop-shadow(0px 1px 2px rgba(0, 0, 0, 0.3));\n",
              "      fill: #FFFFFF;\n",
              "    }\n",
              "  </style>\n",
              "\n",
              "      <script>\n",
              "        const buttonEl =\n",
              "          document.querySelector('#df-280e9cc8-ebfd-437e-a7f7-1af7d4b6a65c button.colab-df-convert');\n",
              "        buttonEl.style.display =\n",
              "          google.colab.kernel.accessAllowed ? 'block' : 'none';\n",
              "\n",
              "        async function convertToInteractive(key) {\n",
              "          const element = document.querySelector('#df-280e9cc8-ebfd-437e-a7f7-1af7d4b6a65c');\n",
              "          const dataTable =\n",
              "            await google.colab.kernel.invokeFunction('convertToInteractive',\n",
              "                                                     [key], {});\n",
              "          if (!dataTable) return;\n",
              "\n",
              "          const docLinkHtml = 'Like what you see? Visit the ' +\n",
              "            '<a target=\"_blank\" href=https://colab.research.google.com/notebooks/data_table.ipynb>data table notebook</a>'\n",
              "            + ' to learn more about interactive tables.';\n",
              "          element.innerHTML = '';\n",
              "          dataTable['output_type'] = 'display_data';\n",
              "          await google.colab.output.renderOutput(dataTable, element);\n",
              "          const docLink = document.createElement('div');\n",
              "          docLink.innerHTML = docLinkHtml;\n",
              "          element.appendChild(docLink);\n",
              "        }\n",
              "      </script>\n",
              "    </div>\n",
              "  </div>\n",
              "  "
            ]
          },
          "metadata": {},
          "execution_count": 371
        }
      ],
      "source": [
        "rf_scores = scores.sort_values(by='Test Score', ascending=False)\n",
        "rf_scores.head()"
      ]
    },
    {
      "cell_type": "markdown",
      "metadata": {
        "id": "iDJLPVGV7Jb3"
      },
      "source": [
        "30 is our best depth so lets start with that and move on to tuning our number of estimators."
      ]
    },
    {
      "cell_type": "code",
      "execution_count": null,
      "metadata": {
        "colab": {
          "base_uri": "https://localhost:8080/",
          "height": 206
        },
        "id": "9oaRaV3l5Hcc",
        "outputId": "da822ca1-ae59-4c7f-9939-3a9df0776573"
      },
      "outputs": [
        {
          "output_type": "execute_result",
          "data": {
            "text/plain": [
              "    Test Score Train Score\n",
              "50    0.517461    0.869451\n",
              "100   0.527712     0.87437\n",
              "150   0.525626    0.873284\n",
              "200   0.525061    0.875074\n",
              "250   0.526114    0.875111"
            ],
            "text/html": [
              "\n",
              "  <div id=\"df-b4eada1b-25f6-4d4f-af9e-07db01b0df00\">\n",
              "    <div class=\"colab-df-container\">\n",
              "      <div>\n",
              "<style scoped>\n",
              "    .dataframe tbody tr th:only-of-type {\n",
              "        vertical-align: middle;\n",
              "    }\n",
              "\n",
              "    .dataframe tbody tr th {\n",
              "        vertical-align: top;\n",
              "    }\n",
              "\n",
              "    .dataframe thead th {\n",
              "        text-align: right;\n",
              "    }\n",
              "</style>\n",
              "<table border=\"1\" class=\"dataframe\">\n",
              "  <thead>\n",
              "    <tr style=\"text-align: right;\">\n",
              "      <th></th>\n",
              "      <th>Test Score</th>\n",
              "      <th>Train Score</th>\n",
              "    </tr>\n",
              "  </thead>\n",
              "  <tbody>\n",
              "    <tr>\n",
              "      <th>50</th>\n",
              "      <td>0.517461</td>\n",
              "      <td>0.869451</td>\n",
              "    </tr>\n",
              "    <tr>\n",
              "      <th>100</th>\n",
              "      <td>0.527712</td>\n",
              "      <td>0.87437</td>\n",
              "    </tr>\n",
              "    <tr>\n",
              "      <th>150</th>\n",
              "      <td>0.525626</td>\n",
              "      <td>0.873284</td>\n",
              "    </tr>\n",
              "    <tr>\n",
              "      <th>200</th>\n",
              "      <td>0.525061</td>\n",
              "      <td>0.875074</td>\n",
              "    </tr>\n",
              "    <tr>\n",
              "      <th>250</th>\n",
              "      <td>0.526114</td>\n",
              "      <td>0.875111</td>\n",
              "    </tr>\n",
              "  </tbody>\n",
              "</table>\n",
              "</div>\n",
              "      <button class=\"colab-df-convert\" onclick=\"convertToInteractive('df-b4eada1b-25f6-4d4f-af9e-07db01b0df00')\"\n",
              "              title=\"Convert this dataframe to an interactive table.\"\n",
              "              style=\"display:none;\">\n",
              "        \n",
              "  <svg xmlns=\"http://www.w3.org/2000/svg\" height=\"24px\"viewBox=\"0 0 24 24\"\n",
              "       width=\"24px\">\n",
              "    <path d=\"M0 0h24v24H0V0z\" fill=\"none\"/>\n",
              "    <path d=\"M18.56 5.44l.94 2.06.94-2.06 2.06-.94-2.06-.94-.94-2.06-.94 2.06-2.06.94zm-11 1L8.5 8.5l.94-2.06 2.06-.94-2.06-.94L8.5 2.5l-.94 2.06-2.06.94zm10 10l.94 2.06.94-2.06 2.06-.94-2.06-.94-.94-2.06-.94 2.06-2.06.94z\"/><path d=\"M17.41 7.96l-1.37-1.37c-.4-.4-.92-.59-1.43-.59-.52 0-1.04.2-1.43.59L10.3 9.45l-7.72 7.72c-.78.78-.78 2.05 0 2.83L4 21.41c.39.39.9.59 1.41.59.51 0 1.02-.2 1.41-.59l7.78-7.78 2.81-2.81c.8-.78.8-2.07 0-2.86zM5.41 20L4 18.59l7.72-7.72 1.47 1.35L5.41 20z\"/>\n",
              "  </svg>\n",
              "      </button>\n",
              "      \n",
              "  <style>\n",
              "    .colab-df-container {\n",
              "      display:flex;\n",
              "      flex-wrap:wrap;\n",
              "      gap: 12px;\n",
              "    }\n",
              "\n",
              "    .colab-df-convert {\n",
              "      background-color: #E8F0FE;\n",
              "      border: none;\n",
              "      border-radius: 50%;\n",
              "      cursor: pointer;\n",
              "      display: none;\n",
              "      fill: #1967D2;\n",
              "      height: 32px;\n",
              "      padding: 0 0 0 0;\n",
              "      width: 32px;\n",
              "    }\n",
              "\n",
              "    .colab-df-convert:hover {\n",
              "      background-color: #E2EBFA;\n",
              "      box-shadow: 0px 1px 2px rgba(60, 64, 67, 0.3), 0px 1px 3px 1px rgba(60, 64, 67, 0.15);\n",
              "      fill: #174EA6;\n",
              "    }\n",
              "\n",
              "    [theme=dark] .colab-df-convert {\n",
              "      background-color: #3B4455;\n",
              "      fill: #D2E3FC;\n",
              "    }\n",
              "\n",
              "    [theme=dark] .colab-df-convert:hover {\n",
              "      background-color: #434B5C;\n",
              "      box-shadow: 0px 1px 3px 1px rgba(0, 0, 0, 0.15);\n",
              "      filter: drop-shadow(0px 1px 2px rgba(0, 0, 0, 0.3));\n",
              "      fill: #FFFFFF;\n",
              "    }\n",
              "  </style>\n",
              "\n",
              "      <script>\n",
              "        const buttonEl =\n",
              "          document.querySelector('#df-b4eada1b-25f6-4d4f-af9e-07db01b0df00 button.colab-df-convert');\n",
              "        buttonEl.style.display =\n",
              "          google.colab.kernel.accessAllowed ? 'block' : 'none';\n",
              "\n",
              "        async function convertToInteractive(key) {\n",
              "          const element = document.querySelector('#df-b4eada1b-25f6-4d4f-af9e-07db01b0df00');\n",
              "          const dataTable =\n",
              "            await google.colab.kernel.invokeFunction('convertToInteractive',\n",
              "                                                     [key], {});\n",
              "          if (!dataTable) return;\n",
              "\n",
              "          const docLinkHtml = 'Like what you see? Visit the ' +\n",
              "            '<a target=\"_blank\" href=https://colab.research.google.com/notebooks/data_table.ipynb>data table notebook</a>'\n",
              "            + ' to learn more about interactive tables.';\n",
              "          element.innerHTML = '';\n",
              "          dataTable['output_type'] = 'display_data';\n",
              "          await google.colab.output.renderOutput(dataTable, element);\n",
              "          const docLink = document.createElement('div');\n",
              "          docLink.innerHTML = docLinkHtml;\n",
              "          element.appendChild(docLink);\n",
              "        }\n",
              "      </script>\n",
              "    </div>\n",
              "  </div>\n",
              "  "
            ]
          },
          "metadata": {},
          "execution_count": 390
        }
      ],
      "source": [
        "n_ests = [50, 100, 150, 200, 250]\n",
        "scores2 = pd.DataFrame(index=n_ests, columns=['Test Score', 'Train Score'])\n",
        "for n in n_ests:\n",
        "   model = RandomForestRegressor(max_depth=13, n_estimators=n)\n",
        "   model.fit(X_train_pro, y_train)\n",
        "   scores2.loc[n, 'Train Score'] = model.score(X_train_pro, y_train)\n",
        "   scores2.loc[n, 'Test Score'] = model.score(X_test_pro, y_test)\n",
        "scores2.head()"
      ]
    },
    {
      "cell_type": "code",
      "execution_count": null,
      "metadata": {
        "id": "O6K5cgT85Y5I",
        "colab": {
          "base_uri": "https://localhost:8080/",
          "height": 265
        },
        "outputId": "0c3ab316-b3be-4318-8690-13515e80ea32"
      },
      "outputs": [
        {
          "output_type": "display_data",
          "data": {
            "text/plain": [
              "<Figure size 432x288 with 1 Axes>"
            ],
            "image/png": "[encoded data removed]"
          },
          "metadata": {}
        }
      ],
      "source": [
        "plt.plot(scores2['Test Score'])\n",
        "plt.xticks(n_ests);"
      ]
    },
    {
      "cell_type": "code",
      "execution_count": null,
      "metadata": {
        "id": "izEDOaPI5Zbh",
        "colab": {
          "base_uri": "https://localhost:8080/",
          "height": 206
        },
        "outputId": "679e3d86-4e5e-445f-be61-86dcb172bb16"
      },
      "outputs": [
        {
          "output_type": "execute_result",
          "data": {
            "text/plain": [
              "    Test Score Train Score\n",
              "100   0.527712     0.87437\n",
              "250   0.526114    0.875111\n",
              "150   0.525626    0.873284\n",
              "200   0.525061    0.875074\n",
              "50    0.517461    0.869451"
            ],
            "text/html": [
              "\n",
              "  <div id=\"df-5aeb9587-dc6a-43b7-884b-1973bc7472f1\">\n",
              "    <div class=\"colab-df-container\">\n",
              "      <div>\n",
              "<style scoped>\n",
              "    .dataframe tbody tr th:only-of-type {\n",
              "        vertical-align: middle;\n",
              "    }\n",
              "\n",
              "    .dataframe tbody tr th {\n",
              "        vertical-align: top;\n",
              "    }\n",
              "\n",
              "    .dataframe thead th {\n",
              "        text-align: right;\n",
              "    }\n",
              "</style>\n",
              "<table border=\"1\" class=\"dataframe\">\n",
              "  <thead>\n",
              "    <tr style=\"text-align: right;\">\n",
              "      <th></th>\n",
              "      <th>Test Score</th>\n",
              "      <th>Train Score</th>\n",
              "    </tr>\n",
              "  </thead>\n",
              "  <tbody>\n",
              "    <tr>\n",
              "      <th>100</th>\n",
              "      <td>0.527712</td>\n",
              "      <td>0.87437</td>\n",
              "    </tr>\n",
              "    <tr>\n",
              "      <th>250</th>\n",
              "      <td>0.526114</td>\n",
              "      <td>0.875111</td>\n",
              "    </tr>\n",
              "    <tr>\n",
              "      <th>150</th>\n",
              "      <td>0.525626</td>\n",
              "      <td>0.873284</td>\n",
              "    </tr>\n",
              "    <tr>\n",
              "      <th>200</th>\n",
              "      <td>0.525061</td>\n",
              "      <td>0.875074</td>\n",
              "    </tr>\n",
              "    <tr>\n",
              "      <th>50</th>\n",
              "      <td>0.517461</td>\n",
              "      <td>0.869451</td>\n",
              "    </tr>\n",
              "  </tbody>\n",
              "</table>\n",
              "</div>\n",
              "      <button class=\"colab-df-convert\" onclick=\"convertToInteractive('df-5aeb9587-dc6a-43b7-884b-1973bc7472f1')\"\n",
              "              title=\"Convert this dataframe to an interactive table.\"\n",
              "              style=\"display:none;\">\n",
              "        \n",
              "  <svg xmlns=\"http://www.w3.org/2000/svg\" height=\"24px\"viewBox=\"0 0 24 24\"\n",
              "       width=\"24px\">\n",
              "    <path d=\"M0 0h24v24H0V0z\" fill=\"none\"/>\n",
              "    <path d=\"M18.56 5.44l.94 2.06.94-2.06 2.06-.94-2.06-.94-.94-2.06-.94 2.06-2.06.94zm-11 1L8.5 8.5l.94-2.06 2.06-.94-2.06-.94L8.5 2.5l-.94 2.06-2.06.94zm10 10l.94 2.06.94-2.06 2.06-.94-2.06-.94-.94-2.06-.94 2.06-2.06.94z\"/><path d=\"M17.41 7.96l-1.37-1.37c-.4-.4-.92-.59-1.43-.59-.52 0-1.04.2-1.43.59L10.3 9.45l-7.72 7.72c-.78.78-.78 2.05 0 2.83L4 21.41c.39.39.9.59 1.41.59.51 0 1.02-.2 1.41-.59l7.78-7.78 2.81-2.81c.8-.78.8-2.07 0-2.86zM5.41 20L4 18.59l7.72-7.72 1.47 1.35L5.41 20z\"/>\n",
              "  </svg>\n",
              "      </button>\n",
              "      \n",
              "  <style>\n",
              "    .colab-df-container {\n",
              "      display:flex;\n",
              "      flex-wrap:wrap;\n",
              "      gap: 12px;\n",
              "    }\n",
              "\n",
              "    .colab-df-convert {\n",
              "      background-color: #E8F0FE;\n",
              "      border: none;\n",
              "      border-radius: 50%;\n",
              "      cursor: pointer;\n",
              "      display: none;\n",
              "      fill: #1967D2;\n",
              "      height: 32px;\n",
              "      padding: 0 0 0 0;\n",
              "      width: 32px;\n",
              "    }\n",
              "\n",
              "    .colab-df-convert:hover {\n",
              "      background-color: #E2EBFA;\n",
              "      box-shadow: 0px 1px 2px rgba(60, 64, 67, 0.3), 0px 1px 3px 1px rgba(60, 64, 67, 0.15);\n",
              "      fill: #174EA6;\n",
              "    }\n",
              "\n",
              "    [theme=dark] .colab-df-convert {\n",
              "      background-color: #3B4455;\n",
              "      fill: #D2E3FC;\n",
              "    }\n",
              "\n",
              "    [theme=dark] .colab-df-convert:hover {\n",
              "      background-color: #434B5C;\n",
              "      box-shadow: 0px 1px 3px 1px rgba(0, 0, 0, 0.15);\n",
              "      filter: drop-shadow(0px 1px 2px rgba(0, 0, 0, 0.3));\n",
              "      fill: #FFFFFF;\n",
              "    }\n",
              "  </style>\n",
              "\n",
              "      <script>\n",
              "        const buttonEl =\n",
              "          document.querySelector('#df-5aeb9587-dc6a-43b7-884b-1973bc7472f1 button.colab-df-convert');\n",
              "        buttonEl.style.display =\n",
              "          google.colab.kernel.accessAllowed ? 'block' : 'none';\n",
              "\n",
              "        async function convertToInteractive(key) {\n",
              "          const element = document.querySelector('#df-5aeb9587-dc6a-43b7-884b-1973bc7472f1');\n",
              "          const dataTable =\n",
              "            await google.colab.kernel.invokeFunction('convertToInteractive',\n",
              "                                                     [key], {});\n",
              "          if (!dataTable) return;\n",
              "\n",
              "          const docLinkHtml = 'Like what you see? Visit the ' +\n",
              "            '<a target=\"_blank\" href=https://colab.research.google.com/notebooks/data_table.ipynb>data table notebook</a>'\n",
              "            + ' to learn more about interactive tables.';\n",
              "          element.innerHTML = '';\n",
              "          dataTable['output_type'] = 'display_data';\n",
              "          await google.colab.output.renderOutput(dataTable, element);\n",
              "          const docLink = document.createElement('div');\n",
              "          docLink.innerHTML = docLinkHtml;\n",
              "          element.appendChild(docLink);\n",
              "        }\n",
              "      </script>\n",
              "    </div>\n",
              "  </div>\n",
              "  "
            ]
          },
          "metadata": {},
          "execution_count": 392
        }
      ],
      "source": [
        "sorted_scores2 = scores2.sort_values(by='Test Score', ascending=False)\n",
        "sorted_scores2.head()"
      ]
    },
    {
      "cell_type": "code",
      "execution_count": null,
      "metadata": {
        "colab": {
          "base_uri": "https://localhost:8080/"
        },
        "id": "vQ0NygqN7oBR",
        "outputId": "fd416ae3-27bb-4cd2-a973-e9b6df6c228a"
      },
      "outputs": [
        {
          "output_type": "stream",
          "name": "stdout",
          "text": [
            "0.9284571850284876\n",
            "0.5178402433042641\n",
            "0.9295891608576191\n",
            "0.5159871628119488\n"
          ]
        }
      ],
      "source": [
        "rf_model = RandomForestRegressor(max_depth=21, n_estimators=100)\n",
        "rf_model.fit(X_train_pro, y_train)\n",
        "rf_train_final_score = rf_model.score(X_train_pro, y_train)\n",
        "rf_test_final_score = rf_model.score(X_test_pro, y_test)\n",
        "print(rf_train_final_score)\n",
        "print(rf_test_final_score)\n",
        "print(rf_train_score)\n",
        "print(rf_test_score)"
      ]
    },
    {
      "cell_type": "markdown",
      "source": [
        "Due to overfitting I am going to try using GridSearchCV."
      ],
      "metadata": {
        "id": "VJqFad6T_IpT"
      }
    },
    {
      "cell_type": "code",
      "source": [
        "model = RandomForestRegressor()\n",
        " \n",
        "param_grid = {'max_depth': [30,35,40],\n",
        "              'min_samples_leaf': [3,15,20],\n",
        "              'min_samples_split': [2, 10, 100]}"
      ],
      "metadata": {
        "id": "L5AogGlT8b7_"
      },
      "execution_count": null,
      "outputs": []
    },
    {
      "cell_type": "code",
      "source": [
        "dt_grid_search = GridSearchCV(model, param_grid)"
      ],
      "metadata": {
        "id": "ea1HnXlk9Ao-"
      },
      "execution_count": null,
      "outputs": []
    },
    {
      "cell_type": "code",
      "source": [
        "dt_grid_search.fit(X_train_pro, y_train)"
      ],
      "metadata": {
        "colab": {
          "base_uri": "https://localhost:8080/",
          "height": 93
        },
        "id": "XCf7ydrB9Ghb",
        "outputId": "539a254a-12ba-4a8a-c646-3640993c2f4c"
      },
      "execution_count": null,
      "outputs": [
        {
          "output_type": "execute_result",
          "data": {
            "text/plain": [
              "GridSearchCV(estimator=RandomForestRegressor(),\n",
              "             param_grid={'max_depth': [30, 35, 40],\n",
              "                         'min_samples_leaf': [3, 15, 20],\n",
              "                         'min_samples_split': [2, 10, 100]})"
            ],
            "text/html": [
              "<style>#sk-5917eff6-7b90-4208-a459-435a9c06c8b7 {color: black;background-color: white;}#sk-5917eff6-7b90-4208-a459-435a9c06c8b7 pre{padding: 0;}#sk-5917eff6-7b90-4208-a459-435a9c06c8b7 div.sk-toggleable {background-color: white;}#sk-5917eff6-7b90-4208-a459-435a9c06c8b7 label.sk-toggleable__label {cursor: pointer;display: block;width: 100%;margin-bottom: 0;padding: 0.3em;box-sizing: border-box;text-align: center;}#sk-5917eff6-7b90-4208-a459-435a9c06c8b7 label.sk-toggleable__label-arrow:before {content: \"▸\";float: left;margin-right: 0.25em;color: #696969;}#sk-5917eff6-7b90-4208-a459-435a9c06c8b7 label.sk-toggleable__label-arrow:hover:before {color: black;}#sk-5917eff6-7b90-4208-a459-435a9c06c8b7 div.sk-estimator:hover label.sk-toggleable__label-arrow:before {color: black;}#sk-5917eff6-7b90-4208-a459-435a9c06c8b7 div.sk-toggleable__content {max-height: 0;max-width: 0;overflow: hidden;text-align: left;background-color: #f0f8ff;}#sk-5917eff6-7b90-4208-a459-435a9c06c8b7 div.sk-toggleable__content pre {margin: 0.2em;color: black;border-radius: 0.25em;background-color: #f0f8ff;}#sk-5917eff6-7b90-4208-a459-435a9c06c8b7 input.sk-toggleable__control:checked~div.sk-toggleable__content {max-height: 200px;max-width: 100%;overflow: auto;}#sk-5917eff6-7b90-4208-a459-435a9c06c8b7 input.sk-toggleable__control:checked~label.sk-toggleable__label-arrow:before {content: \"▾\";}#sk-5917eff6-7b90-4208-a459-435a9c06c8b7 div.sk-estimator input.sk-toggleable__control:checked~label.sk-toggleable__label {background-color: #d4ebff;}#sk-5917eff6-7b90-4208-a459-435a9c06c8b7 div.sk-label input.sk-toggleable__control:checked~label.sk-toggleable__label {background-color: #d4ebff;}#sk-5917eff6-7b90-4208-a459-435a9c06c8b7 input.sk-hidden--visually {border: 0;clip: rect(1px 1px 1px 1px);clip: rect(1px, 1px, 1px, 1px);height: 1px;margin: -1px;overflow: hidden;padding: 0;position: absolute;width: 1px;}#sk-5917eff6-7b90-4208-a459-435a9c06c8b7 div.sk-estimator {font-family: monospace;background-color: #f0f8ff;border: 1px dotted black;border-radius: 0.25em;box-sizing: border-box;margin-bottom: 0.5em;}#sk-5917eff6-7b90-4208-a459-435a9c06c8b7 div.sk-estimator:hover {background-color: #d4ebff;}#sk-5917eff6-7b90-4208-a459-435a9c06c8b7 div.sk-parallel-item::after {content: \"\";width: 100%;border-bottom: 1px solid gray;flex-grow: 1;}#sk-5917eff6-7b90-4208-a459-435a9c06c8b7 div.sk-label:hover label.sk-toggleable__label {background-color: #d4ebff;}#sk-5917eff6-7b90-4208-a459-435a9c06c8b7 div.sk-serial::before {content: \"\";position: absolute;border-left: 1px solid gray;box-sizing: border-box;top: 2em;bottom: 0;left: 50%;}#sk-5917eff6-7b90-4208-a459-435a9c06c8b7 div.sk-serial {display: flex;flex-direction: column;align-items: center;background-color: white;padding-right: 0.2em;padding-left: 0.2em;}#sk-5917eff6-7b90-4208-a459-435a9c06c8b7 div.sk-item {z-index: 1;}#sk-5917eff6-7b90-4208-a459-435a9c06c8b7 div.sk-parallel {display: flex;align-items: stretch;justify-content: center;background-color: white;}#sk-5917eff6-7b90-4208-a459-435a9c06c8b7 div.sk-parallel::before {content: \"\";position: absolute;border-left: 1px solid gray;box-sizing: border-box;top: 2em;bottom: 0;left: 50%;}#sk-5917eff6-7b90-4208-a459-435a9c06c8b7 div.sk-parallel-item {display: flex;flex-direction: column;position: relative;background-color: white;}#sk-5917eff6-7b90-4208-a459-435a9c06c8b7 div.sk-parallel-item:first-child::after {align-self: flex-end;width: 50%;}#sk-5917eff6-7b90-4208-a459-435a9c06c8b7 div.sk-parallel-item:last-child::after {align-self: flex-start;width: 50%;}#sk-5917eff6-7b90-4208-a459-435a9c06c8b7 div.sk-parallel-item:only-child::after {width: 0;}#sk-5917eff6-7b90-4208-a459-435a9c06c8b7 div.sk-dashed-wrapped {border: 1px dashed gray;margin: 0 0.4em 0.5em 0.4em;box-sizing: border-box;padding-bottom: 0.4em;background-color: white;position: relative;}#sk-5917eff6-7b90-4208-a459-435a9c06c8b7 div.sk-label label {font-family: monospace;font-weight: bold;background-color: white;display: inline-block;line-height: 1.2em;}#sk-5917eff6-7b90-4208-a459-435a9c06c8b7 div.sk-label-container {position: relative;z-index: 2;text-align: center;}#sk-5917eff6-7b90-4208-a459-435a9c06c8b7 div.sk-container {/* jupyter's `normalize.less` sets `[hidden] { display: none; }` but bootstrap.min.css set `[hidden] { display: none !important; }` so we also need the `!important` here to be able to override the default hidden behavior on the sphinx rendered scikit-learn.org. See: https://github.com/scikit-learn/scikit-learn/issues/21755 */display: inline-block !important;position: relative;}#sk-5917eff6-7b90-4208-a459-435a9c06c8b7 div.sk-text-repr-fallback {display: none;}</style><div id=\"sk-5917eff6-7b90-4208-a459-435a9c06c8b7\" class=\"sk-top-container\"><div class=\"sk-text-repr-fallback\"><pre>GridSearchCV(estimator=RandomForestRegressor(),\n",
              "             param_grid={&#x27;max_depth&#x27;: [30, 35, 40],\n",
              "                         &#x27;min_samples_leaf&#x27;: [3, 15, 20],\n",
              "                         &#x27;min_samples_split&#x27;: [2, 10, 100]})</pre><b>Please rerun this cell to show the HTML repr or trust the notebook.</b></div><div class=\"sk-container\" hidden><div class=\"sk-item sk-dashed-wrapped\"><div class=\"sk-label-container\"><div class=\"sk-label sk-toggleable\"><input class=\"sk-toggleable__control sk-hidden--visually\" id=\"6332f45d-40b2-4efd-be01-202bfee485c1\" type=\"checkbox\" ><label for=\"6332f45d-40b2-4efd-be01-202bfee485c1\" class=\"sk-toggleable__label sk-toggleable__label-arrow\">GridSearchCV</label><div class=\"sk-toggleable__content\"><pre>GridSearchCV(estimator=RandomForestRegressor(),\n",
              "             param_grid={&#x27;max_depth&#x27;: [30, 35, 40],\n",
              "                         &#x27;min_samples_leaf&#x27;: [3, 15, 20],\n",
              "                         &#x27;min_samples_split&#x27;: [2, 10, 100]})</pre></div></div></div><div class=\"sk-parallel\"><div class=\"sk-parallel-item\"><div class=\"sk-item\"><div class=\"sk-serial\"><div class=\"sk-item\"><div class=\"sk-estimator sk-toggleable\"><input class=\"sk-toggleable__control sk-hidden--visually\" id=\"0cdd2ed9-d463-49cd-b624-172d0e9aa667\" type=\"checkbox\" ><label for=\"0cdd2ed9-d463-49cd-b624-172d0e9aa667\" class=\"sk-toggleable__label sk-toggleable__label-arrow\">RandomForestRegressor</label><div class=\"sk-toggleable__content\"><pre>RandomForestRegressor()</pre></div></div></div></div></div></div></div></div></div></div>"
            ]
          },
          "metadata": {},
          "execution_count": 396
        }
      ]
    },
    {
      "cell_type": "code",
      "source": [
        "dt_grid_search.best_params_"
      ],
      "metadata": {
        "colab": {
          "base_uri": "https://localhost:8080/"
        },
        "id": "lFot0W7P9ifa",
        "outputId": "4ceb9ae2-a5c9-4bd4-8369-aef0eea4f3e9"
      },
      "execution_count": null,
      "outputs": [
        {
          "output_type": "execute_result",
          "data": {
            "text/plain": [
              "{'max_depth': 30, 'min_samples_leaf': 3, 'min_samples_split': 10}"
            ]
          },
          "metadata": {},
          "execution_count": 397
        }
      ]
    },
    {
      "cell_type": "code",
      "source": [
        "param_grid2 = {'max_depth': [30, 40, 50],\n",
        "              'min_samples_leaf': [3, 4, 5],\n",
        "              'min_samples_split': [10,15,20]}\n",
        " \n",
        "dt_grid_search2 = GridSearchCV(model, param_grid2)\n",
        "dt_grid_search2.fit(X_train_pro, y_train)\n",
        "dt_grid_search2.best_params_"
      ],
      "metadata": {
        "colab": {
          "base_uri": "https://localhost:8080/"
        },
        "id": "y5CXezfi-2vv",
        "outputId": "7730627c-476d-4198-e2d3-6c3ecb3da266"
      },
      "execution_count": null,
      "outputs": [
        {
          "output_type": "execute_result",
          "data": {
            "text/plain": [
              "{'max_depth': 50, 'min_samples_leaf': 5, 'min_samples_split': 15}"
            ]
          },
          "metadata": {},
          "execution_count": 398
        }
      ]
    },
    {
      "cell_type": "code",
      "source": [
        "best_model = dt_grid_search2.best_estimator_\n",
        "best_model.fit(X_train_pro, y_train)\n",
        "\n",
        "best_model.score(X_test_pro, y_test)"
      ],
      "metadata": {
        "colab": {
          "base_uri": "https://localhost:8080/"
        },
        "id": "1ge3SnLD-svt",
        "outputId": "0d1a75d6-a326-4413-d70e-d41b0eb12c68"
      },
      "execution_count": null,
      "outputs": [
        {
          "output_type": "execute_result",
          "data": {
            "text/plain": [
              "0.5365803186175382"
            ]
          },
          "metadata": {},
          "execution_count": 399
        }
      ]
    },
    {
      "cell_type": "markdown",
      "metadata": {
        "id": "DsU23nOA5oeC"
      },
      "source": [
        "So here we can see that our basic model is very close to our tuned model in terms of prediction."
      ]
    },
    {
      "cell_type": "markdown",
      "metadata": {
        "id": "8PzDMkdQPmdB"
      },
      "source": [
        "Perhaps some PCA feature extraction can help us. The X_train_pro is already scaled so we can just run PCA and our model."
      ]
    },
    {
      "cell_type": "code",
      "execution_count": null,
      "metadata": {
        "id": "uPF3XJa8Pl8c"
      },
      "outputs": [],
      "source": [
        "pca = PCA(n_components=.80)"
      ]
    },
    {
      "cell_type": "code",
      "execution_count": null,
      "metadata": {
        "colab": {
          "base_uri": "https://localhost:8080/"
        },
        "id": "eR3eB8gtQ_8d",
        "outputId": "8f9d579b-775d-4df1-8924-4eddf01746e2"
      },
      "outputs": [
        {
          "output_type": "stream",
          "name": "stdout",
          "text": [
            "CPU times: user 3.08 s, sys: 124 ms, total: 3.2 s\n",
            "Wall time: 3.08 s\n"
          ]
        }
      ],
      "source": [
        "%%time\n",
        "pca_pipe = make_pipeline(pca, rf_model)\n",
        "pca_pipe.fit(X_train_pro, y_train)"
      ]
    },
    {
      "cell_type": "code",
      "execution_count": null,
      "metadata": {
        "id": "EPUHuN3wQhW2"
      },
      "outputs": [],
      "source": [
        "pca_preds = pca_pipe.predict(X_test_pro)"
      ]
    },
    {
      "cell_type": "code",
      "source": [
        "print('Training accuracy:', pca_pipe.score(X_train_pro, y_train))\n",
        "print('Testing accuracy:', pca_pipe.score(X_test_pro, y_test))"
      ],
      "metadata": {
        "colab": {
          "base_uri": "https://localhost:8080/"
        },
        "id": "4yq-eczXdiIa",
        "outputId": "34aeef07-1edb-41af-bbc6-c855d7b59ad7"
      },
      "execution_count": null,
      "outputs": [
        {
          "output_type": "stream",
          "name": "stdout",
          "text": [
            "Training accuracy: 0.9176934079631582\n",
            "Testing accuracy: 0.459048443571752\n"
          ]
        }
      ]
    },
    {
      "cell_type": "markdown",
      "source": [
        "So here we see that our model has done even worse now with the addition of PCA."
      ],
      "metadata": {
        "id": "Do6dmB_Tf7Nf"
      }
    },
    {
      "cell_type": "markdown",
      "source": [
        "## Metrics"
      ],
      "metadata": {
        "id": "Wqs7nxWqmoso"
      }
    },
    {
      "cell_type": "markdown",
      "source": [
        "### Bag metrics"
      ],
      "metadata": {
        "id": "yjLOFZ1pprXj"
      }
    },
    {
      "cell_type": "code",
      "source": [
        "bag_train_pred = bag_reg_final.predict(X_train_pro)\n",
        "bag_test_pred = bag_reg_final.predict(X_test_pro)"
      ],
      "metadata": {
        "id": "YPEFJo3endaE"
      },
      "execution_count": 71,
      "outputs": []
    },
    {
      "cell_type": "code",
      "source": [
        "train_r2 = np.corrcoef(y_train, bag_train_pred)[0][1]**2\n",
        "test_r2 = np.corrcoef(y_test, bag_test_pred)[0][1]**2\n",
        "print(f'Model Trainging R2: {train_r2}')\n",
        "print(f'Model Testing R2: {test_r2}')"
      ],
      "metadata": {
        "colab": {
          "base_uri": "https://localhost:8080/"
        },
        "id": "uyXqZ96nnbMw",
        "outputId": "189e4e3a-2e91-46a7-ba18-95210ea87001"
      },
      "execution_count": 72,
      "outputs": [
        {
          "output_type": "stream",
          "name": "stdout",
          "text": [
            "Model Trainging R2: 0.9450437669226899\n",
            "Model Testing R2: 0.521891721943893\n"
          ]
        }
      ]
    },
    {
      "cell_type": "markdown",
      "source": [
        "So this is ok news the model can account for almost 95% of the variance in the y_test."
      ],
      "metadata": {
        "id": "bWaXUzHQo1mB"
      }
    },
    {
      "cell_type": "code",
      "source": [
        "bag_train_MSE = mean_squared_error(y_train, bag_train_pred)\n",
        "bag_test_MSE = mean_squared_error(y_test, bag_test_pred)\n",
        "print(f'Model Training MSE: {bag_train_MSE}')\n",
        "print(f'Model Testing MSE: {bag_test_MSE}')"
      ],
      "metadata": {
        "colab": {
          "base_uri": "https://localhost:8080/"
        },
        "id": "YOhyCTxfo973",
        "outputId": "ae7d8264-a1c6-491e-ca94-62cd4da2c6cf"
      },
      "execution_count": 73,
      "outputs": [
        {
          "output_type": "stream",
          "name": "stdout",
          "text": [
            "Model Training MSE: 0.09233627393572276\n",
            "Model Testing MSE: 0.6608002506518632\n"
          ]
        }
      ]
    },
    {
      "cell_type": "markdown",
      "source": [
        "Our model is a bit overfit but on the testing set we can see we are only off by about .61 points. "
      ],
      "metadata": {
        "id": "b-i8sVdgpYGo"
      }
    },
    {
      "cell_type": "code",
      "source": [
        "train_MAE = mean_absolute_error(y_train, bag_train_pred)\n",
        "test_MAE = mean_absolute_error(y_test, bag_test_pred)\n",
        "print(f'Model Training MAE: {train_MAE}')\n",
        "print(f'Model Testing MAE: {test_MAE}')"
      ],
      "metadata": {
        "colab": {
          "base_uri": "https://localhost:8080/"
        },
        "id": "4ae50WZg0pe8",
        "outputId": "a290ab4b-fda4-4a74-827b-be72d883901c"
      },
      "execution_count": 75,
      "outputs": [
        {
          "output_type": "stream",
          "name": "stdout",
          "text": [
            "Model Training MAE: 0.21642840316338569\n",
            "Model Testing MAE: 0.5747832450164019\n"
          ]
        }
      ]
    },
    {
      "cell_type": "code",
      "source": [
        "bag_train_RMSE = np.sqrt(bag_train_MSE)\n",
        "bag_test_RMSE = np.sqrt(bag_test_MSE)\n",
        "print(f'Model Training RMSE: {bag_train_RMSE}')\n",
        "print(f'Model Testing RMSE: {bag_test_RMSE}')"
      ],
      "metadata": {
        "colab": {
          "base_uri": "https://localhost:8080/"
        },
        "id": "w5ukTcD6pJYP",
        "outputId": "a336ff08-3051-40a0-e66c-65af2f2e0bc3"
      },
      "execution_count": 74,
      "outputs": [
        {
          "output_type": "stream",
          "name": "stdout",
          "text": [
            "Model Training RMSE: 0.30386884331191766\n",
            "Model Testing RMSE: 0.8128962114881968\n"
          ]
        }
      ]
    },
    {
      "cell_type": "markdown",
      "source": [
        "RMSE again shows us we are overfit but a little bit less so then MSE told us.  The predictions  are  off by only .81 points so we are close."
      ],
      "metadata": {
        "id": "esLq18L2qRER"
      }
    },
    {
      "cell_type": "markdown",
      "source": [
        "## Deep Learning\n",
        "### Due to my constant overfitting I am going to try some deep modeling."
      ],
      "metadata": {
        "id": "aY5H2uJa7tvH"
      }
    },
    {
      "cell_type": "code",
      "source": [
        "def plot_history(history):\n",
        "  \"\"\"Takes a keras model learning history and plots each metric\"\"\"\n",
        "  \n",
        "  metrics = history.history.keys()\n",
        "  \n",
        "  for metric in metrics:\n",
        "      if not 'val' in metric:\n",
        "        plt.plot(history.history[f'{metric}'], label=f'{metric}')\n",
        "        if f'val_{metric}' in metrics:\n",
        "          plt.plot(history.history[f'val_{metric}'], label=f'val_{metric}')\n",
        "        plt.legend()\n",
        "        plt.title(f'{metric}')\n",
        "        plt.show()"
      ],
      "metadata": {
        "id": "Texyr4Q88shy"
      },
      "execution_count": null,
      "outputs": []
    },
    {
      "cell_type": "code",
      "source": [
        "X_train_pro.shape"
      ],
      "metadata": {
        "colab": {
          "base_uri": "https://localhost:8080/"
        },
        "id": "UYS4ekfI8ASL",
        "outputId": "8681d0a0-5170-4091-fcdb-4be9a16f063f"
      },
      "execution_count": null,
      "outputs": [
        {
          "output_type": "execute_result",
          "data": {
            "text/plain": [
              "(3962, 25)"
            ]
          },
          "metadata": {},
          "execution_count": 58
        }
      ]
    },
    {
      "cell_type": "code",
      "source": [
        "input_dim = X_train_pro.shape[1]\n",
        " \n",
        "model_1 = Sequential()\n",
        " \n",
        "model_1.add(Dense(25, input_dim=input_dim, activation='relu'))\n",
        "model_1.add(Dense(18, activation='relu'))\n",
        "model_1.add(Dense(1, activation='linear'))\n",
        " \n",
        "model_1.summary()"
      ],
      "metadata": {
        "colab": {
          "base_uri": "https://localhost:8080/"
        },
        "id": "2WlNXE99LXVW",
        "outputId": "ac9c0401-a731-4658-f3d0-f854fef5a88e"
      },
      "execution_count": null,
      "outputs": [
        {
          "output_type": "stream",
          "name": "stdout",
          "text": [
            "Model: \"sequential_6\"\n",
            "_________________________________________________________________\n",
            " Layer (type)                Output Shape              Param #   \n",
            "=================================================================\n",
            " dense_20 (Dense)            (None, 25)                650       \n",
            "                                                                 \n",
            " dense_21 (Dense)            (None, 18)                468       \n",
            "                                                                 \n",
            " dense_22 (Dense)            (None, 1)                 19        \n",
            "                                                                 \n",
            "=================================================================\n",
            "Total params: 1,137\n",
            "Trainable params: 1,137\n",
            "Non-trainable params: 0\n",
            "_________________________________________________________________\n"
          ]
        }
      ]
    },
    {
      "cell_type": "code",
      "source": [
        "model_1.compile(loss='mse',\n",
        "                  optimizer='adam',\n",
        "                  metrics=[metrics.MeanAbsoluteError(),\n",
        "                           metrics.RootMeanSquaredError()])"
      ],
      "metadata": {
        "id": "SsUjHdmaLd_V"
      },
      "execution_count": null,
      "outputs": []
    },
    {
      "cell_type": "code",
      "source": [
        "history = model.fit(X_train_pro, y_train,\n",
        "                        validation_data = (X_test_pro, y_test),\n",
        "                        epochs=100,\n",
        "                        verbose=0)"
      ],
      "metadata": {
        "id": "jCnoOOzCLoue"
      },
      "execution_count": null,
      "outputs": []
    },
    {
      "cell_type": "code",
      "source": [
        "plot_history(history)"
      ],
      "metadata": {
        "colab": {
          "base_uri": "https://localhost:8080/",
          "height": 809
        },
        "id": "8QOzrFJkLuq8",
        "outputId": "662d8cc9-2cc1-403d-c2f0-0144fa86daf3"
      },
      "execution_count": null,
      "outputs": [
        {
          "output_type": "display_data",
          "data": {
            "text/plain": [
              "<Figure size 432x288 with 1 Axes>"
            ],
            "image/png": "[encoded data removed]"
          },
          "metadata": {
            "needs_background": "light"
          }
        },
        {
          "output_type": "display_data",
          "data": {
            "text/plain": [
              "<Figure size 432x288 with 1 Axes>"
            ],
            "image/png": "[encoded data removed]"
          },
          "metadata": {
            "needs_background": "light"
          }
        },
        {
          "output_type": "display_data",
          "data": {
            "text/plain": [
              "<Figure size 432x288 with 1 Axes>"
            ],
            "image/png": "[encoded data removed]"
          },
          "metadata": {
            "needs_background": "light"
          }
        }
      ]
    },
    {
      "cell_type": "code",
      "source": [
        "y_pred = model_1.predict(X_test_pro)\n",
        " \n",
        "print(f'final RMSE: {np.sqrt(mean_squared_error(y_test, y_pred))}')\n",
        "print(f'final MAE: {mean_absolute_error(y_test, y_pred)}')\n",
        "print(f'final R2: {r2_score(y_test, y_pred)}')"
      ],
      "metadata": {
        "colab": {
          "base_uri": "https://localhost:8080/"
        },
        "id": "DnVijyvkMBeQ",
        "outputId": "ede61d58-d049-4aa5-ee40-4de5f60d049a"
      },
      "execution_count": null,
      "outputs": [
        {
          "output_type": "stream",
          "name": "stdout",
          "text": [
            "final RMSE: 6.513948501578932\n",
            "final MAE: 6.4123233318285635\n",
            "final R2: -29.931082458880255\n"
          ]
        }
      ]
    },
    {
      "cell_type": "markdown",
      "source": [
        "Lets tune it, I'm going to introduce early stopping and dropout."
      ],
      "metadata": {
        "id": "L32ueSAML0vt"
      }
    },
    {
      "cell_type": "code",
      "source": [
        "input_dim = X_train_pro.shape[1]\n",
        " \n",
        "model = Sequential()\n",
        " \n",
        "model.add(Dense(25, input_dim=input_dim, activation='relu'))\n",
        "model.add(Dense(18, activation='relu'))\n",
        "model.add(Dropout(0.2))\n",
        "model.add(Dense(1, activation='linear'))\n",
        " \n",
        "model.summary()"
      ],
      "metadata": {
        "colab": {
          "base_uri": "https://localhost:8080/"
        },
        "id": "tTqmbTLL70XY",
        "outputId": "1ac39a54-2e11-4ca2-a121-6d6b60478e3d"
      },
      "execution_count": null,
      "outputs": [
        {
          "output_type": "stream",
          "name": "stdout",
          "text": [
            "Model: \"sequential_7\"\n",
            "_________________________________________________________________\n",
            " Layer (type)                Output Shape              Param #   \n",
            "=================================================================\n",
            " dense_23 (Dense)            (None, 25)                650       \n",
            "                                                                 \n",
            " dense_24 (Dense)            (None, 18)                468       \n",
            "                                                                 \n",
            " dropout_7 (Dropout)         (None, 18)                0         \n",
            "                                                                 \n",
            " dense_25 (Dense)            (None, 1)                 19        \n",
            "                                                                 \n",
            "=================================================================\n",
            "Total params: 1,137\n",
            "Trainable params: 1,137\n",
            "Non-trainable params: 0\n",
            "_________________________________________________________________\n"
          ]
        }
      ]
    },
    {
      "cell_type": "code",
      "source": [
        "model.compile(loss='mse',\n",
        "                  optimizer='adam',\n",
        "                  metrics=[metrics.MeanAbsoluteError(),\n",
        "                           metrics.RootMeanSquaredError()])"
      ],
      "metadata": {
        "id": "zrCkvqoG70Uq"
      },
      "execution_count": null,
      "outputs": []
    },
    {
      "cell_type": "code",
      "source": [
        "early_stopping = EarlyStopping(patience = 3)"
      ],
      "metadata": {
        "id": "61zXVoItJdtY"
      },
      "execution_count": null,
      "outputs": []
    },
    {
      "cell_type": "code",
      "source": [
        "history_final = model.fit(X_train_pro, y_train,\n",
        "                        validation_data = (X_test_pro, y_test),\n",
        "                        epochs=30,\n",
        "                        verbose=0,\n",
        "                        callbacks = early_stopping)"
      ],
      "metadata": {
        "id": "MBTj6QDk70Rn"
      },
      "execution_count": null,
      "outputs": []
    },
    {
      "cell_type": "code",
      "source": [
        "plot_history(history_final)"
      ],
      "metadata": {
        "colab": {
          "base_uri": "https://localhost:8080/",
          "height": 809
        },
        "id": "yQP1jX4d70PV",
        "outputId": "940e7531-297c-4b7d-b15f-1a787c956108"
      },
      "execution_count": null,
      "outputs": [
        {
          "output_type": "display_data",
          "data": {
            "text/plain": [
              "<Figure size 432x288 with 1 Axes>"
            ],
            "image/png": "[encoded data removed]"
          },
          "metadata": {
            "needs_background": "light"
          }
        },
        {
          "output_type": "display_data",
          "data": {
            "text/plain": [
              "<Figure size 432x288 with 1 Axes>"
            ],
            "image/png": "[encoded data removed]"
          },
          "metadata": {
            "needs_background": "light"
          }
        },
        {
          "output_type": "display_data",
          "data": {
            "text/plain": [
              "<Figure size 432x288 with 1 Axes>"
            ],
            "image/png": "[encoded data removed]"
          },
          "metadata": {
            "needs_background": "light"
          }
        }
      ]
    },
    {
      "cell_type": "code",
      "source": [
        "y_pred = model.predict(X_test_pro)\n",
        " \n",
        "print(f'final RMSE: {np.sqrt(mean_squared_error(y_test, y_pred))}')\n",
        "print(f'final MAE: {mean_absolute_error(y_test, y_pred)}')\n",
        "print(f'final R2: {r2_score(y_test, y_pred)}')"
      ],
      "metadata": {
        "colab": {
          "base_uri": "https://localhost:8080/"
        },
        "id": "CA6BY8EEGD0W",
        "outputId": "d69fdfcd-6625-40bc-8acd-4f85530a67a8"
      },
      "execution_count": null,
      "outputs": [
        {
          "output_type": "stream",
          "name": "stdout",
          "text": [
            "final RMSE: 0.8675603065739499\n",
            "final MAE: 0.6437068094546645\n",
            "final R2: 0.45133680984289626\n"
          ]
        }
      ]
    },
    {
      "cell_type": "markdown",
      "source": [
        "So our tuned model performs alot better then the untuned iteration.  I've substantially lowered RMSE and MAE. However even tuned the bagging model did just a bit better."
      ],
      "metadata": {
        "id": "C20osJ4HLEX7"
      }
    },
    {
      "cell_type": "markdown",
      "source": [
        "## Conclusion\n",
        "Based off of the tuned RMSE score of the bagging model I would conclude we can use this model to predict future IMDB scores of new movies or shows.  Being only off by .8 points on a base 10 scale means we have good confidance this model will tell us how we can expect IMDB users to vote upcoming films and shows.\n"
      ],
      "metadata": {
        "id": "dIxCyH9AxoLY"
      }
    }
  ],
  "metadata": {
    "colab": {
      "collapsed_sections": [],
      "name": "8/11/22 Project 2 Mike Fiddler.ipynb",
      "provenance": [],
      "mount_file_id": "1sAP6ZtStJtWbgad0tLUgUBuN-PbhAHX9",
      "authorship_tag": "ABX9TyMtomBKu4K12QaXnJ1p5zST",
      "include_colab_link": true
    },
    "kernelspec": {
      "display_name": "Python 3",
      "name": "python3"
    },
    "language_info": {
      "name": "python"
    }
  },
  "nbformat": 4,
  "nbformat_minor": 0
}